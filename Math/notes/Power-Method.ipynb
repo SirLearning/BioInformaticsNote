{
 "cells": [
  {
   "cell_type": "code",
   "execution_count": 1,
   "metadata": {},
   "outputs": [
    {
     "data": {
      "application/vnd.webio.node+json": {
       "children": [],
       "instanceArgs": {
        "namespace": "html",
        "tag": "div"
       },
       "nodeType": "DOM",
       "props": {},
       "type": "node"
      },
      "text/html": [
       "<div style=\"padding: 1em; background-color: #f8d6da; border: 1px solid #f5c6cb; font-weight: bold;\">\n",
       "<p>The WebIO Jupyter extension was not detected. See the\n",
       "<a href=\"https://juliagizmos.github.io/WebIO.jl/latest/providers/ijulia/\" target=\"_blank\">\n",
       "    WebIO Jupyter integration documentation\n",
       "</a>\n",
       "for more information.\n",
       "</div>\n"
      ],
      "text/plain": [
       "WebIO._IJuliaInit()"
      ]
     },
     "metadata": {
      "application/vnd.webio.node+json": {
       "kernelId": "3c7d7052-bde9-4a18-a0c5-24a636d36fd8"
      }
     },
     "output_type": "display_data"
    }
   ],
   "source": [
    "using LinearAlgebra, PyPlot, Interact"
   ]
  },
  {
   "cell_type": "markdown",
   "metadata": {},
   "source": [
    "# The power method\n",
    "\n",
    "We know that multiplying by a matrix $A$ repeatedly will exponentially amplify the largest-|λ| eigenvalue.  This is the basis for many algorithms to compute eigenvectors and eigenvalues, the most basic of which is known as the [power method](https://en.wikipedia.org/wiki/Power_iteration).\n",
    "\n",
    "The simplest version of this is to just start with a random vector $x$ and multiply it by $A$ repeatedly. (This is the procedure by which a Markov process approaches its steady state!)  This works, but has the practical problem that the vector quickly becomes very large or very small, and eventually becomes too big/small for the computer to represent (this is known as \"overflow/underflow\").  The fix is easy: *normalize the vector after each multiplication by A*.  That is:\n",
    "\n",
    "* Starting with a random $x$, repeatedly compute $x \\leftarrow Ax / \\Vert Ax \\Vert $.\n",
    "\n",
    "For example, let's try it on a random matrix with eigenvalues 1 to 5:"
   ]
  },
  {
   "cell_type": "code",
   "execution_count": 2,
   "metadata": {},
   "outputs": [
    {
     "data": {
      "text/plain": [
       "5×5 Matrix{Float64}:\n",
       "  4.27661   1.1409      0.216216   2.8477    -2.26094\n",
       " -0.77939   1.01093     0.542869  -3.46742    2.19621\n",
       " -0.325662  0.57507     2.23157    0.54375    1.83044\n",
       "  0.825317  0.693926    0.482976   4.41696   -0.892176\n",
       "  0.302161  0.00126964  0.898394  -0.428578   3.06394"
      ]
     },
     "execution_count": 2,
     "metadata": {},
     "output_type": "execute_result"
    }
   ],
   "source": [
    "A = randn(5,5)\n",
    "A = A * Diagonal(1:5) / A"
   ]
  },
  {
   "cell_type": "code",
   "execution_count": 3,
   "metadata": {},
   "outputs": [
    {
     "data": {
      "text/plain": [
       "5-element Vector{Float64}:\n",
       " 0.9999999999999998\n",
       " 2.0\n",
       " 3.000000000000002\n",
       " 4.0000000000000036\n",
       " 4.999999999999995"
      ]
     },
     "execution_count": 3,
     "metadata": {},
     "output_type": "execute_result"
    }
   ],
   "source": [
    "eigvals(A)"
   ]
  },
  {
   "cell_type": "code",
   "execution_count": 4,
   "metadata": {},
   "outputs": [
    {
     "data": {
      "text/plain": [
       "5-element Vector{Float64}:\n",
       " 4.999999999999995\n",
       " 4.0000000000000036\n",
       " 3.000000000000002\n",
       " 2.0\n",
       " 0.9999999999999998"
      ]
     },
     "execution_count": 4,
     "metadata": {},
     "output_type": "execute_result"
    }
   ],
   "source": [
    "λ, X = eigen(A, sortby=λ->-abs(λ)) # sort eigenvals by -|λ|\n",
    "λ"
   ]
  },
  {
   "cell_type": "markdown",
   "metadata": {},
   "source": [
    "Let's look at the result of $n$ steps of the power method side-by-side with the eigenvector $x_1$ (which is normalized to unit length by Julia) for $\\lambda = 5$:"
   ]
  },
  {
   "cell_type": "code",
   "execution_count": 5,
   "metadata": {},
   "outputs": [
    {
     "data": {
      "application/vnd.webio.node+json": {
       "children": [
        {
         "children": [
          {
           "children": [],
           "instanceArgs": {
            "namespace": "html",
            "tag": "div"
           },
           "nodeType": "DOM",
           "props": {
            "setInnerHtml": "<b>power iteration 1</b>"
           },
           "type": "node"
          },
          {
           "children": [],
           "instanceArgs": {
            "namespace": "html",
            "tag": "div"
           },
           "nodeType": "DOM",
           "props": {
            "setInnerHtml": "<pre>5-element Vector{Float64}:\n  0.8256072799048821\n -0.08146902471050843\n  0.2827545769388959\n  0.44794212550415574\n  0.17644579564190693</pre>"
           },
           "type": "node"
          }
         ],
         "instanceArgs": {
          "namespace": "html",
          "tag": "div"
         },
         "nodeType": "DOM",
         "props": {
          "style": {
           "display": "flex",
           "flex-direction": "column"
          }
         },
         "type": "node"
        },
        {
         "children": [],
         "instanceArgs": {
          "namespace": "html",
          "tag": "div"
         },
         "nodeType": "DOM",
         "props": {
          "style": {
           "align-self": "stretch",
           "borderLeft": "solid 1.0px #DEDEDE"
          }
         },
         "type": "node"
        },
        {
         "children": [
          {
           "children": [],
           "instanceArgs": {
            "namespace": "html",
            "tag": "div"
           },
           "nodeType": "DOM",
           "props": {
            "setInnerHtml": "<b>eigenvector</b>"
           },
           "type": "node"
          },
          {
           "children": [],
           "instanceArgs": {
            "namespace": "html",
            "tag": "div"
           },
           "nodeType": "DOM",
           "props": {
            "setInnerHtml": "<pre>5-element Vector{Float64}:\n  0.7516527258032667\n -0.5171338396934146\n -0.14337587333973284\n  0.38193050353655744\n -0.03410602657662457</pre>"
           },
           "type": "node"
          }
         ],
         "instanceArgs": {
          "namespace": "html",
          "tag": "div"
         },
         "nodeType": "DOM",
         "props": {
          "style": {
           "display": "flex",
           "flex-direction": "column"
          }
         },
         "type": "node"
        }
       ],
       "instanceArgs": {
        "namespace": "html",
        "tag": "div"
       },
       "nodeType": "DOM",
       "props": {
        "style": {
         "display": "flex",
         "flex-direction": "row"
        }
       },
       "type": "node"
      },
      "text/html": [
       "<div\n",
       "    class=\"webio-mountpoint\"\n",
       "    data-webio-mountpoint=\"7972351904593476966\"\n",
       ">\n",
       "    <script>\n",
       "    (function(){\n",
       "    // Some integrations (namely, IJulia/Jupyter) use an alternate render pathway than\n",
       "    // just putting the html on the page. If WebIO isn't defined, then it's pretty likely\n",
       "    // that we're in one of those situations and the integration just isn't installed\n",
       "    // correctly.\n",
       "    if (typeof window.WebIO === \"undefined\") {\n",
       "        document\n",
       "            .querySelector('[data-webio-mountpoint=\"7972351904593476966\"]')\n",
       "            .innerHTML = (\n",
       "                '<div style=\"padding: 1em; background-color: #f8d6da; border: 1px solid #f5c6cb; font-weight: bold;\">' +\n",
       "                '<p><strong>WebIO not detected.</strong></p>' +\n",
       "                '<p>Please read ' +\n",
       "                '<a href=\"https://juliagizmos.github.io/WebIO.jl/latest/troubleshooting/not-detected/\" target=\"_blank\">the troubleshooting guide</a> ' +\n",
       "                'for more information on how to resolve this issue.</p>' +\n",
       "                '<p><a href=\"https://juliagizmos.github.io/WebIO.jl/latest/troubleshooting/not-detected/\" target=\"_blank\">https://juliagizmos.github.io/WebIO.jl/latest/troubleshooting/not-detected/</a></p>' +\n",
       "                '</div>'\n",
       "            );\n",
       "        return;\n",
       "    }\n",
       "    WebIO.mount(\n",
       "        document.querySelector('[data-webio-mountpoint=\"7972351904593476966\"]'),\n",
       "        {\"props\":{\"style\":{\"display\":\"flex\",\"flex-direction\":\"row\"}},\"nodeType\":\"DOM\",\"type\":\"node\",\"instanceArgs\":{\"namespace\":\"html\",\"tag\":\"div\"},\"children\":[{\"props\":{\"style\":{\"display\":\"flex\",\"flex-direction\":\"column\"}},\"nodeType\":\"DOM\",\"type\":\"node\",\"instanceArgs\":{\"namespace\":\"html\",\"tag\":\"div\"},\"children\":[{\"props\":{\"setInnerHtml\":\"<b>power iteration 1<\\/b>\"},\"nodeType\":\"DOM\",\"type\":\"node\",\"instanceArgs\":{\"namespace\":\"html\",\"tag\":\"div\"},\"children\":[]},{\"props\":{\"setInnerHtml\":\"<pre>5-element Vector{Float64}:\\n  0.8256072799048821\\n -0.08146902471050843\\n  0.2827545769388959\\n  0.44794212550415574\\n  0.17644579564190693<\\/pre>\"},\"nodeType\":\"DOM\",\"type\":\"node\",\"instanceArgs\":{\"namespace\":\"html\",\"tag\":\"div\"},\"children\":[]}]},{\"props\":{\"style\":{\"align-self\":\"stretch\",\"borderLeft\":\"solid 1.0px #DEDEDE\"}},\"nodeType\":\"DOM\",\"type\":\"node\",\"instanceArgs\":{\"namespace\":\"html\",\"tag\":\"div\"},\"children\":[]},{\"props\":{\"style\":{\"display\":\"flex\",\"flex-direction\":\"column\"}},\"nodeType\":\"DOM\",\"type\":\"node\",\"instanceArgs\":{\"namespace\":\"html\",\"tag\":\"div\"},\"children\":[{\"props\":{\"setInnerHtml\":\"<b>eigenvector<\\/b>\"},\"nodeType\":\"DOM\",\"type\":\"node\",\"instanceArgs\":{\"namespace\":\"html\",\"tag\":\"div\"},\"children\":[]},{\"props\":{\"setInnerHtml\":\"<pre>5-element Vector{Float64}:\\n  0.7516527258032667\\n -0.5171338396934146\\n -0.14337587333973284\\n  0.38193050353655744\\n -0.03410602657662457<\\/pre>\"},\"nodeType\":\"DOM\",\"type\":\"node\",\"instanceArgs\":{\"namespace\":\"html\",\"tag\":\"div\"},\"children\":[]}]}]},\n",
       "        window,\n",
       "    );\n",
       "    })()\n",
       "    </script>\n",
       "</div>\n"
      ],
      "text/plain": [
       "(div { style=Dict(\"display\" => \"flex\", \"flex-direction\" => \"row\") }\n",
       "  (div { style=Dict(\"display\" => \"flex\", \"flex-direction\" => \"column\") }\n",
       "    HTML{String}(\"<b>power iteration 1</b>\")\n",
       "    [0.8256072799048821, -0.08146902471050843, 0.2827545769388959, 0.44794212550415574, 0.17644579564190693])\n",
       "  (div { style=Dict{Any, Any}(\"align-self\" => \"stretch\", \"borderLeft\" => \"solid 1.0px #DEDEDE\") })\n",
       "  (div { style=Dict(\"display\" => \"flex\", \"flex-direction\" => \"column\") }\n",
       "    HTML{String}(\"<b>eigenvector</b>\")\n",
       "    [0.7516527258032667, -0.5171338396934146, -0.14337587333973284, 0.38193050353655744, -0.03410602657662457]))"
      ]
     },
     "metadata": {
      "application/vnd.webio.node+json": {
       "kernelId": "3c7d7052-bde9-4a18-a0c5-24a636d36fd8"
      }
     },
     "output_type": "display_data"
    },
    {
     "data": {
      "application/vnd.webio.node+json": {
       "children": [
        {
         "children": [
          {
           "children": [],
           "instanceArgs": {
            "namespace": "html",
            "tag": "div"
           },
           "nodeType": "DOM",
           "props": {
            "setInnerHtml": "<b>power iteration 2</b>"
           },
           "type": "node"
          },
          {
           "children": [],
           "instanceArgs": {
            "namespace": "html",
            "tag": "div"
           },
           "nodeType": "DOM",
           "props": {
            "setInnerHtml": "<pre>5-element Vector{Float64}:\n  0.7943912825124728\n -0.31553441134669485\n  0.16009043175172383\n  0.46885440544802165\n  0.15468395417047048</pre>"
           },
           "type": "node"
          }
         ],
         "instanceArgs": {
          "namespace": "html",
          "tag": "div"
         },
         "nodeType": "DOM",
         "props": {
          "style": {
           "display": "flex",
           "flex-direction": "column"
          }
         },
         "type": "node"
        },
        {
         "children": [],
         "instanceArgs": {
          "namespace": "html",
          "tag": "div"
         },
         "nodeType": "DOM",
         "props": {
          "style": {
           "align-self": "stretch",
           "borderLeft": "solid 1.0px #DEDEDE"
          }
         },
         "type": "node"
        },
        {
         "children": [
          {
           "children": [],
           "instanceArgs": {
            "namespace": "html",
            "tag": "div"
           },
           "nodeType": "DOM",
           "props": {
            "setInnerHtml": "<b>eigenvector</b>"
           },
           "type": "node"
          },
          {
           "children": [],
           "instanceArgs": {
            "namespace": "html",
            "tag": "div"
           },
           "nodeType": "DOM",
           "props": {
            "setInnerHtml": "<pre>5-element Vector{Float64}:\n  0.7516527258032667\n -0.5171338396934146\n -0.14337587333973284\n  0.38193050353655744\n -0.03410602657662457</pre>"
           },
           "type": "node"
          }
         ],
         "instanceArgs": {
          "namespace": "html",
          "tag": "div"
         },
         "nodeType": "DOM",
         "props": {
          "style": {
           "display": "flex",
           "flex-direction": "column"
          }
         },
         "type": "node"
        }
       ],
       "instanceArgs": {
        "namespace": "html",
        "tag": "div"
       },
       "nodeType": "DOM",
       "props": {
        "style": {
         "display": "flex",
         "flex-direction": "row"
        }
       },
       "type": "node"
      },
      "text/html": [
       "<div\n",
       "    class=\"webio-mountpoint\"\n",
       "    data-webio-mountpoint=\"11148524997515865871\"\n",
       ">\n",
       "    <script>\n",
       "    (function(){\n",
       "    // Some integrations (namely, IJulia/Jupyter) use an alternate render pathway than\n",
       "    // just putting the html on the page. If WebIO isn't defined, then it's pretty likely\n",
       "    // that we're in one of those situations and the integration just isn't installed\n",
       "    // correctly.\n",
       "    if (typeof window.WebIO === \"undefined\") {\n",
       "        document\n",
       "            .querySelector('[data-webio-mountpoint=\"11148524997515865871\"]')\n",
       "            .innerHTML = (\n",
       "                '<div style=\"padding: 1em; background-color: #f8d6da; border: 1px solid #f5c6cb; font-weight: bold;\">' +\n",
       "                '<p><strong>WebIO not detected.</strong></p>' +\n",
       "                '<p>Please read ' +\n",
       "                '<a href=\"https://juliagizmos.github.io/WebIO.jl/latest/troubleshooting/not-detected/\" target=\"_blank\">the troubleshooting guide</a> ' +\n",
       "                'for more information on how to resolve this issue.</p>' +\n",
       "                '<p><a href=\"https://juliagizmos.github.io/WebIO.jl/latest/troubleshooting/not-detected/\" target=\"_blank\">https://juliagizmos.github.io/WebIO.jl/latest/troubleshooting/not-detected/</a></p>' +\n",
       "                '</div>'\n",
       "            );\n",
       "        return;\n",
       "    }\n",
       "    WebIO.mount(\n",
       "        document.querySelector('[data-webio-mountpoint=\"11148524997515865871\"]'),\n",
       "        {\"props\":{\"style\":{\"display\":\"flex\",\"flex-direction\":\"row\"}},\"nodeType\":\"DOM\",\"type\":\"node\",\"instanceArgs\":{\"namespace\":\"html\",\"tag\":\"div\"},\"children\":[{\"props\":{\"style\":{\"display\":\"flex\",\"flex-direction\":\"column\"}},\"nodeType\":\"DOM\",\"type\":\"node\",\"instanceArgs\":{\"namespace\":\"html\",\"tag\":\"div\"},\"children\":[{\"props\":{\"setInnerHtml\":\"<b>power iteration 2<\\/b>\"},\"nodeType\":\"DOM\",\"type\":\"node\",\"instanceArgs\":{\"namespace\":\"html\",\"tag\":\"div\"},\"children\":[]},{\"props\":{\"setInnerHtml\":\"<pre>5-element Vector{Float64}:\\n  0.7943912825124728\\n -0.31553441134669485\\n  0.16009043175172383\\n  0.46885440544802165\\n  0.15468395417047048<\\/pre>\"},\"nodeType\":\"DOM\",\"type\":\"node\",\"instanceArgs\":{\"namespace\":\"html\",\"tag\":\"div\"},\"children\":[]}]},{\"props\":{\"style\":{\"align-self\":\"stretch\",\"borderLeft\":\"solid 1.0px #DEDEDE\"}},\"nodeType\":\"DOM\",\"type\":\"node\",\"instanceArgs\":{\"namespace\":\"html\",\"tag\":\"div\"},\"children\":[]},{\"props\":{\"style\":{\"display\":\"flex\",\"flex-direction\":\"column\"}},\"nodeType\":\"DOM\",\"type\":\"node\",\"instanceArgs\":{\"namespace\":\"html\",\"tag\":\"div\"},\"children\":[{\"props\":{\"setInnerHtml\":\"<b>eigenvector<\\/b>\"},\"nodeType\":\"DOM\",\"type\":\"node\",\"instanceArgs\":{\"namespace\":\"html\",\"tag\":\"div\"},\"children\":[]},{\"props\":{\"setInnerHtml\":\"<pre>5-element Vector{Float64}:\\n  0.7516527258032667\\n -0.5171338396934146\\n -0.14337587333973284\\n  0.38193050353655744\\n -0.03410602657662457<\\/pre>\"},\"nodeType\":\"DOM\",\"type\":\"node\",\"instanceArgs\":{\"namespace\":\"html\",\"tag\":\"div\"},\"children\":[]}]}]},\n",
       "        window,\n",
       "    );\n",
       "    })()\n",
       "    </script>\n",
       "</div>\n"
      ],
      "text/plain": [
       "(div { style=Dict(\"display\" => \"flex\", \"flex-direction\" => \"row\") }\n",
       "  (div { style=Dict(\"display\" => \"flex\", \"flex-direction\" => \"column\") }\n",
       "    HTML{String}(\"<b>power iteration 2</b>\")\n",
       "    [0.7943912825124728, -0.31553441134669485, 0.16009043175172383, 0.46885440544802165, 0.15468395417047048])\n",
       "  (div { style=Dict{Any, Any}(\"align-self\" => \"stretch\", \"borderLeft\" => \"solid 1.0px #DEDEDE\") })\n",
       "  (div { style=Dict(\"display\" => \"flex\", \"flex-direction\" => \"column\") }\n",
       "    HTML{String}(\"<b>eigenvector</b>\")\n",
       "    [0.7516527258032667, -0.5171338396934146, -0.14337587333973284, 0.38193050353655744, -0.03410602657662457]))"
      ]
     },
     "metadata": {
      "application/vnd.webio.node+json": {
       "kernelId": "3c7d7052-bde9-4a18-a0c5-24a636d36fd8"
      }
     },
     "output_type": "display_data"
    },
    {
     "data": {
      "application/vnd.webio.node+json": {
       "children": [
        {
         "children": [
          {
           "children": [],
           "instanceArgs": {
            "namespace": "html",
            "tag": "div"
           },
           "nodeType": "DOM",
           "props": {
            "setInnerHtml": "<b>power iteration 3</b>"
           },
           "type": "node"
          },
          {
           "children": [],
           "instanceArgs": {
            "namespace": "html",
            "tag": "div"
           },
           "nodeType": "DOM",
           "props": {
            "setInnerHtml": "<pre>5-element Vector{Float64}:\n  0.7715323748801386\n -0.4064057371538176\n  0.08655461208728565\n  0.46529334420609486\n  0.1248301817839077</pre>"
           },
           "type": "node"
          }
         ],
         "instanceArgs": {
          "namespace": "html",
          "tag": "div"
         },
         "nodeType": "DOM",
         "props": {
          "style": {
           "display": "flex",
           "flex-direction": "column"
          }
         },
         "type": "node"
        },
        {
         "children": [],
         "instanceArgs": {
          "namespace": "html",
          "tag": "div"
         },
         "nodeType": "DOM",
         "props": {
          "style": {
           "align-self": "stretch",
           "borderLeft": "solid 1.0px #DEDEDE"
          }
         },
         "type": "node"
        },
        {
         "children": [
          {
           "children": [],
           "instanceArgs": {
            "namespace": "html",
            "tag": "div"
           },
           "nodeType": "DOM",
           "props": {
            "setInnerHtml": "<b>eigenvector</b>"
           },
           "type": "node"
          },
          {
           "children": [],
           "instanceArgs": {
            "namespace": "html",
            "tag": "div"
           },
           "nodeType": "DOM",
           "props": {
            "setInnerHtml": "<pre>5-element Vector{Float64}:\n  0.7516527258032667\n -0.5171338396934146\n -0.14337587333973284\n  0.38193050353655744\n -0.03410602657662457</pre>"
           },
           "type": "node"
          }
         ],
         "instanceArgs": {
          "namespace": "html",
          "tag": "div"
         },
         "nodeType": "DOM",
         "props": {
          "style": {
           "display": "flex",
           "flex-direction": "column"
          }
         },
         "type": "node"
        }
       ],
       "instanceArgs": {
        "namespace": "html",
        "tag": "div"
       },
       "nodeType": "DOM",
       "props": {
        "style": {
         "display": "flex",
         "flex-direction": "row"
        }
       },
       "type": "node"
      },
      "text/html": [
       "<div\n",
       "    class=\"webio-mountpoint\"\n",
       "    data-webio-mountpoint=\"6572971834562196580\"\n",
       ">\n",
       "    <script>\n",
       "    (function(){\n",
       "    // Some integrations (namely, IJulia/Jupyter) use an alternate render pathway than\n",
       "    // just putting the html on the page. If WebIO isn't defined, then it's pretty likely\n",
       "    // that we're in one of those situations and the integration just isn't installed\n",
       "    // correctly.\n",
       "    if (typeof window.WebIO === \"undefined\") {\n",
       "        document\n",
       "            .querySelector('[data-webio-mountpoint=\"6572971834562196580\"]')\n",
       "            .innerHTML = (\n",
       "                '<div style=\"padding: 1em; background-color: #f8d6da; border: 1px solid #f5c6cb; font-weight: bold;\">' +\n",
       "                '<p><strong>WebIO not detected.</strong></p>' +\n",
       "                '<p>Please read ' +\n",
       "                '<a href=\"https://juliagizmos.github.io/WebIO.jl/latest/troubleshooting/not-detected/\" target=\"_blank\">the troubleshooting guide</a> ' +\n",
       "                'for more information on how to resolve this issue.</p>' +\n",
       "                '<p><a href=\"https://juliagizmos.github.io/WebIO.jl/latest/troubleshooting/not-detected/\" target=\"_blank\">https://juliagizmos.github.io/WebIO.jl/latest/troubleshooting/not-detected/</a></p>' +\n",
       "                '</div>'\n",
       "            );\n",
       "        return;\n",
       "    }\n",
       "    WebIO.mount(\n",
       "        document.querySelector('[data-webio-mountpoint=\"6572971834562196580\"]'),\n",
       "        {\"props\":{\"style\":{\"display\":\"flex\",\"flex-direction\":\"row\"}},\"nodeType\":\"DOM\",\"type\":\"node\",\"instanceArgs\":{\"namespace\":\"html\",\"tag\":\"div\"},\"children\":[{\"props\":{\"style\":{\"display\":\"flex\",\"flex-direction\":\"column\"}},\"nodeType\":\"DOM\",\"type\":\"node\",\"instanceArgs\":{\"namespace\":\"html\",\"tag\":\"div\"},\"children\":[{\"props\":{\"setInnerHtml\":\"<b>power iteration 3<\\/b>\"},\"nodeType\":\"DOM\",\"type\":\"node\",\"instanceArgs\":{\"namespace\":\"html\",\"tag\":\"div\"},\"children\":[]},{\"props\":{\"setInnerHtml\":\"<pre>5-element Vector{Float64}:\\n  0.7715323748801386\\n -0.4064057371538176\\n  0.08655461208728565\\n  0.46529334420609486\\n  0.1248301817839077<\\/pre>\"},\"nodeType\":\"DOM\",\"type\":\"node\",\"instanceArgs\":{\"namespace\":\"html\",\"tag\":\"div\"},\"children\":[]}]},{\"props\":{\"style\":{\"align-self\":\"stretch\",\"borderLeft\":\"solid 1.0px #DEDEDE\"}},\"nodeType\":\"DOM\",\"type\":\"node\",\"instanceArgs\":{\"namespace\":\"html\",\"tag\":\"div\"},\"children\":[]},{\"props\":{\"style\":{\"display\":\"flex\",\"flex-direction\":\"column\"}},\"nodeType\":\"DOM\",\"type\":\"node\",\"instanceArgs\":{\"namespace\":\"html\",\"tag\":\"div\"},\"children\":[{\"props\":{\"setInnerHtml\":\"<b>eigenvector<\\/b>\"},\"nodeType\":\"DOM\",\"type\":\"node\",\"instanceArgs\":{\"namespace\":\"html\",\"tag\":\"div\"},\"children\":[]},{\"props\":{\"setInnerHtml\":\"<pre>5-element Vector{Float64}:\\n  0.7516527258032667\\n -0.5171338396934146\\n -0.14337587333973284\\n  0.38193050353655744\\n -0.03410602657662457<\\/pre>\"},\"nodeType\":\"DOM\",\"type\":\"node\",\"instanceArgs\":{\"namespace\":\"html\",\"tag\":\"div\"},\"children\":[]}]}]},\n",
       "        window,\n",
       "    );\n",
       "    })()\n",
       "    </script>\n",
       "</div>\n"
      ],
      "text/plain": [
       "(div { style=Dict(\"display\" => \"flex\", \"flex-direction\" => \"row\") }\n",
       "  (div { style=Dict(\"display\" => \"flex\", \"flex-direction\" => \"column\") }\n",
       "    HTML{String}(\"<b>power iteration 3</b>\")\n",
       "    [0.7715323748801386, -0.4064057371538176, 0.08655461208728565, 0.46529334420609486, 0.1248301817839077])\n",
       "  (div { style=Dict{Any, Any}(\"align-self\" => \"stretch\", \"borderLeft\" => \"solid 1.0px #DEDEDE\") })\n",
       "  (div { style=Dict(\"display\" => \"flex\", \"flex-direction\" => \"column\") }\n",
       "    HTML{String}(\"<b>eigenvector</b>\")\n",
       "    [0.7516527258032667, -0.5171338396934146, -0.14337587333973284, 0.38193050353655744, -0.03410602657662457]))"
      ]
     },
     "metadata": {
      "application/vnd.webio.node+json": {
       "kernelId": "3c7d7052-bde9-4a18-a0c5-24a636d36fd8"
      }
     },
     "output_type": "display_data"
    },
    {
     "data": {
      "application/vnd.webio.node+json": {
       "children": [
        {
         "children": [
          {
           "children": [],
           "instanceArgs": {
            "namespace": "html",
            "tag": "div"
           },
           "nodeType": "DOM",
           "props": {
            "setInnerHtml": "<b>power iteration 4</b>"
           },
           "type": "node"
          },
          {
           "children": [],
           "instanceArgs": {
            "namespace": "html",
            "tag": "div"
           },
           "nodeType": "DOM",
           "props": {
            "setInnerHtml": "<pre>5-element Vector{Float64}:\n  0.7605949964424256\n -0.4497171569732749\n  0.03701715709084387\n  0.4567347548613731\n  0.09629550297523977</pre>"
           },
           "type": "node"
          }
         ],
         "instanceArgs": {
          "namespace": "html",
          "tag": "div"
         },
         "nodeType": "DOM",
         "props": {
          "style": {
           "display": "flex",
           "flex-direction": "column"
          }
         },
         "type": "node"
        },
        {
         "children": [],
         "instanceArgs": {
          "namespace": "html",
          "tag": "div"
         },
         "nodeType": "DOM",
         "props": {
          "style": {
           "align-self": "stretch",
           "borderLeft": "solid 1.0px #DEDEDE"
          }
         },
         "type": "node"
        },
        {
         "children": [
          {
           "children": [],
           "instanceArgs": {
            "namespace": "html",
            "tag": "div"
           },
           "nodeType": "DOM",
           "props": {
            "setInnerHtml": "<b>eigenvector</b>"
           },
           "type": "node"
          },
          {
           "children": [],
           "instanceArgs": {
            "namespace": "html",
            "tag": "div"
           },
           "nodeType": "DOM",
           "props": {
            "setInnerHtml": "<pre>5-element Vector{Float64}:\n  0.7516527258032667\n -0.5171338396934146\n -0.14337587333973284\n  0.38193050353655744\n -0.03410602657662457</pre>"
           },
           "type": "node"
          }
         ],
         "instanceArgs": {
          "namespace": "html",
          "tag": "div"
         },
         "nodeType": "DOM",
         "props": {
          "style": {
           "display": "flex",
           "flex-direction": "column"
          }
         },
         "type": "node"
        }
       ],
       "instanceArgs": {
        "namespace": "html",
        "tag": "div"
       },
       "nodeType": "DOM",
       "props": {
        "style": {
         "display": "flex",
         "flex-direction": "row"
        }
       },
       "type": "node"
      },
      "text/html": [
       "<div\n",
       "    class=\"webio-mountpoint\"\n",
       "    data-webio-mountpoint=\"13523583281545837747\"\n",
       ">\n",
       "    <script>\n",
       "    (function(){\n",
       "    // Some integrations (namely, IJulia/Jupyter) use an alternate render pathway than\n",
       "    // just putting the html on the page. If WebIO isn't defined, then it's pretty likely\n",
       "    // that we're in one of those situations and the integration just isn't installed\n",
       "    // correctly.\n",
       "    if (typeof window.WebIO === \"undefined\") {\n",
       "        document\n",
       "            .querySelector('[data-webio-mountpoint=\"13523583281545837747\"]')\n",
       "            .innerHTML = (\n",
       "                '<div style=\"padding: 1em; background-color: #f8d6da; border: 1px solid #f5c6cb; font-weight: bold;\">' +\n",
       "                '<p><strong>WebIO not detected.</strong></p>' +\n",
       "                '<p>Please read ' +\n",
       "                '<a href=\"https://juliagizmos.github.io/WebIO.jl/latest/troubleshooting/not-detected/\" target=\"_blank\">the troubleshooting guide</a> ' +\n",
       "                'for more information on how to resolve this issue.</p>' +\n",
       "                '<p><a href=\"https://juliagizmos.github.io/WebIO.jl/latest/troubleshooting/not-detected/\" target=\"_blank\">https://juliagizmos.github.io/WebIO.jl/latest/troubleshooting/not-detected/</a></p>' +\n",
       "                '</div>'\n",
       "            );\n",
       "        return;\n",
       "    }\n",
       "    WebIO.mount(\n",
       "        document.querySelector('[data-webio-mountpoint=\"13523583281545837747\"]'),\n",
       "        {\"props\":{\"style\":{\"display\":\"flex\",\"flex-direction\":\"row\"}},\"nodeType\":\"DOM\",\"type\":\"node\",\"instanceArgs\":{\"namespace\":\"html\",\"tag\":\"div\"},\"children\":[{\"props\":{\"style\":{\"display\":\"flex\",\"flex-direction\":\"column\"}},\"nodeType\":\"DOM\",\"type\":\"node\",\"instanceArgs\":{\"namespace\":\"html\",\"tag\":\"div\"},\"children\":[{\"props\":{\"setInnerHtml\":\"<b>power iteration 4<\\/b>\"},\"nodeType\":\"DOM\",\"type\":\"node\",\"instanceArgs\":{\"namespace\":\"html\",\"tag\":\"div\"},\"children\":[]},{\"props\":{\"setInnerHtml\":\"<pre>5-element Vector{Float64}:\\n  0.7605949964424256\\n -0.4497171569732749\\n  0.03701715709084387\\n  0.4567347548613731\\n  0.09629550297523977<\\/pre>\"},\"nodeType\":\"DOM\",\"type\":\"node\",\"instanceArgs\":{\"namespace\":\"html\",\"tag\":\"div\"},\"children\":[]}]},{\"props\":{\"style\":{\"align-self\":\"stretch\",\"borderLeft\":\"solid 1.0px #DEDEDE\"}},\"nodeType\":\"DOM\",\"type\":\"node\",\"instanceArgs\":{\"namespace\":\"html\",\"tag\":\"div\"},\"children\":[]},{\"props\":{\"style\":{\"display\":\"flex\",\"flex-direction\":\"column\"}},\"nodeType\":\"DOM\",\"type\":\"node\",\"instanceArgs\":{\"namespace\":\"html\",\"tag\":\"div\"},\"children\":[{\"props\":{\"setInnerHtml\":\"<b>eigenvector<\\/b>\"},\"nodeType\":\"DOM\",\"type\":\"node\",\"instanceArgs\":{\"namespace\":\"html\",\"tag\":\"div\"},\"children\":[]},{\"props\":{\"setInnerHtml\":\"<pre>5-element Vector{Float64}:\\n  0.7516527258032667\\n -0.5171338396934146\\n -0.14337587333973284\\n  0.38193050353655744\\n -0.03410602657662457<\\/pre>\"},\"nodeType\":\"DOM\",\"type\":\"node\",\"instanceArgs\":{\"namespace\":\"html\",\"tag\":\"div\"},\"children\":[]}]}]},\n",
       "        window,\n",
       "    );\n",
       "    })()\n",
       "    </script>\n",
       "</div>\n"
      ],
      "text/plain": [
       "(div { style=Dict(\"display\" => \"flex\", \"flex-direction\" => \"row\") }\n",
       "  (div { style=Dict(\"display\" => \"flex\", \"flex-direction\" => \"column\") }\n",
       "    HTML{String}(\"<b>power iteration 4</b>\")\n",
       "    [0.7605949964424256, -0.4497171569732749, 0.03701715709084387, 0.4567347548613731, 0.09629550297523977])\n",
       "  (div { style=Dict{Any, Any}(\"align-self\" => \"stretch\", \"borderLeft\" => \"solid 1.0px #DEDEDE\") })\n",
       "  (div { style=Dict(\"display\" => \"flex\", \"flex-direction\" => \"column\") }\n",
       "    HTML{String}(\"<b>eigenvector</b>\")\n",
       "    [0.7516527258032667, -0.5171338396934146, -0.14337587333973284, 0.38193050353655744, -0.03410602657662457]))"
      ]
     },
     "metadata": {
      "application/vnd.webio.node+json": {
       "kernelId": "3c7d7052-bde9-4a18-a0c5-24a636d36fd8"
      }
     },
     "output_type": "display_data"
    },
    {
     "data": {
      "application/vnd.webio.node+json": {
       "children": [
        {
         "children": [
          {
           "children": [],
           "instanceArgs": {
            "namespace": "html",
            "tag": "div"
           },
           "nodeType": "DOM",
           "props": {
            "setInnerHtml": "<b>power iteration 5</b>"
           },
           "type": "node"
          },
          {
           "children": [],
           "instanceArgs": {
            "namespace": "html",
            "tag": "div"
           },
           "nodeType": "DOM",
           "props": {
            "setInnerHtml": "<pre>5-element Vector{Float64}:\n  0.7557264753154274\n -0.4733963237531922\n  0.00017832405522310188\n  0.44685393436966053\n  0.07137888135275113</pre>"
           },
           "type": "node"
          }
         ],
         "instanceArgs": {
          "namespace": "html",
          "tag": "div"
         },
         "nodeType": "DOM",
         "props": {
          "style": {
           "display": "flex",
           "flex-direction": "column"
          }
         },
         "type": "node"
        },
        {
         "children": [],
         "instanceArgs": {
          "namespace": "html",
          "tag": "div"
         },
         "nodeType": "DOM",
         "props": {
          "style": {
           "align-self": "stretch",
           "borderLeft": "solid 1.0px #DEDEDE"
          }
         },
         "type": "node"
        },
        {
         "children": [
          {
           "children": [],
           "instanceArgs": {
            "namespace": "html",
            "tag": "div"
           },
           "nodeType": "DOM",
           "props": {
            "setInnerHtml": "<b>eigenvector</b>"
           },
           "type": "node"
          },
          {
           "children": [],
           "instanceArgs": {
            "namespace": "html",
            "tag": "div"
           },
           "nodeType": "DOM",
           "props": {
            "setInnerHtml": "<pre>5-element Vector{Float64}:\n  0.7516527258032667\n -0.5171338396934146\n -0.14337587333973284\n  0.38193050353655744\n -0.03410602657662457</pre>"
           },
           "type": "node"
          }
         ],
         "instanceArgs": {
          "namespace": "html",
          "tag": "div"
         },
         "nodeType": "DOM",
         "props": {
          "style": {
           "display": "flex",
           "flex-direction": "column"
          }
         },
         "type": "node"
        }
       ],
       "instanceArgs": {
        "namespace": "html",
        "tag": "div"
       },
       "nodeType": "DOM",
       "props": {
        "style": {
         "display": "flex",
         "flex-direction": "row"
        }
       },
       "type": "node"
      },
      "text/html": [
       "<div\n",
       "    class=\"webio-mountpoint\"\n",
       "    data-webio-mountpoint=\"1816554539582644744\"\n",
       ">\n",
       "    <script>\n",
       "    (function(){\n",
       "    // Some integrations (namely, IJulia/Jupyter) use an alternate render pathway than\n",
       "    // just putting the html on the page. If WebIO isn't defined, then it's pretty likely\n",
       "    // that we're in one of those situations and the integration just isn't installed\n",
       "    // correctly.\n",
       "    if (typeof window.WebIO === \"undefined\") {\n",
       "        document\n",
       "            .querySelector('[data-webio-mountpoint=\"1816554539582644744\"]')\n",
       "            .innerHTML = (\n",
       "                '<div style=\"padding: 1em; background-color: #f8d6da; border: 1px solid #f5c6cb; font-weight: bold;\">' +\n",
       "                '<p><strong>WebIO not detected.</strong></p>' +\n",
       "                '<p>Please read ' +\n",
       "                '<a href=\"https://juliagizmos.github.io/WebIO.jl/latest/troubleshooting/not-detected/\" target=\"_blank\">the troubleshooting guide</a> ' +\n",
       "                'for more information on how to resolve this issue.</p>' +\n",
       "                '<p><a href=\"https://juliagizmos.github.io/WebIO.jl/latest/troubleshooting/not-detected/\" target=\"_blank\">https://juliagizmos.github.io/WebIO.jl/latest/troubleshooting/not-detected/</a></p>' +\n",
       "                '</div>'\n",
       "            );\n",
       "        return;\n",
       "    }\n",
       "    WebIO.mount(\n",
       "        document.querySelector('[data-webio-mountpoint=\"1816554539582644744\"]'),\n",
       "        {\"props\":{\"style\":{\"display\":\"flex\",\"flex-direction\":\"row\"}},\"nodeType\":\"DOM\",\"type\":\"node\",\"instanceArgs\":{\"namespace\":\"html\",\"tag\":\"div\"},\"children\":[{\"props\":{\"style\":{\"display\":\"flex\",\"flex-direction\":\"column\"}},\"nodeType\":\"DOM\",\"type\":\"node\",\"instanceArgs\":{\"namespace\":\"html\",\"tag\":\"div\"},\"children\":[{\"props\":{\"setInnerHtml\":\"<b>power iteration 5<\\/b>\"},\"nodeType\":\"DOM\",\"type\":\"node\",\"instanceArgs\":{\"namespace\":\"html\",\"tag\":\"div\"},\"children\":[]},{\"props\":{\"setInnerHtml\":\"<pre>5-element Vector{Float64}:\\n  0.7557264753154274\\n -0.4733963237531922\\n  0.00017832405522310188\\n  0.44685393436966053\\n  0.07137888135275113<\\/pre>\"},\"nodeType\":\"DOM\",\"type\":\"node\",\"instanceArgs\":{\"namespace\":\"html\",\"tag\":\"div\"},\"children\":[]}]},{\"props\":{\"style\":{\"align-self\":\"stretch\",\"borderLeft\":\"solid 1.0px #DEDEDE\"}},\"nodeType\":\"DOM\",\"type\":\"node\",\"instanceArgs\":{\"namespace\":\"html\",\"tag\":\"div\"},\"children\":[]},{\"props\":{\"style\":{\"display\":\"flex\",\"flex-direction\":\"column\"}},\"nodeType\":\"DOM\",\"type\":\"node\",\"instanceArgs\":{\"namespace\":\"html\",\"tag\":\"div\"},\"children\":[{\"props\":{\"setInnerHtml\":\"<b>eigenvector<\\/b>\"},\"nodeType\":\"DOM\",\"type\":\"node\",\"instanceArgs\":{\"namespace\":\"html\",\"tag\":\"div\"},\"children\":[]},{\"props\":{\"setInnerHtml\":\"<pre>5-element Vector{Float64}:\\n  0.7516527258032667\\n -0.5171338396934146\\n -0.14337587333973284\\n  0.38193050353655744\\n -0.03410602657662457<\\/pre>\"},\"nodeType\":\"DOM\",\"type\":\"node\",\"instanceArgs\":{\"namespace\":\"html\",\"tag\":\"div\"},\"children\":[]}]}]},\n",
       "        window,\n",
       "    );\n",
       "    })()\n",
       "    </script>\n",
       "</div>\n"
      ],
      "text/plain": [
       "(div { style=Dict(\"display\" => \"flex\", \"flex-direction\" => \"row\") }\n",
       "  (div { style=Dict(\"display\" => \"flex\", \"flex-direction\" => \"column\") }\n",
       "    HTML{String}(\"<b>power iteration 5</b>\")\n",
       "    [0.7557264753154274, -0.4733963237531922, 0.00017832405522310188, 0.44685393436966053, 0.07137888135275113])\n",
       "  (div { style=Dict{Any, Any}(\"align-self\" => \"stretch\", \"borderLeft\" => \"solid 1.0px #DEDEDE\") })\n",
       "  (div { style=Dict(\"display\" => \"flex\", \"flex-direction\" => \"column\") }\n",
       "    HTML{String}(\"<b>eigenvector</b>\")\n",
       "    [0.7516527258032667, -0.5171338396934146, -0.14337587333973284, 0.38193050353655744, -0.03410602657662457]))"
      ]
     },
     "metadata": {
      "application/vnd.webio.node+json": {
       "kernelId": "3c7d7052-bde9-4a18-a0c5-24a636d36fd8"
      }
     },
     "output_type": "display_data"
    },
    {
     "data": {
      "application/vnd.webio.node+json": {
       "children": [
        {
         "children": [
          {
           "children": [],
           "instanceArgs": {
            "namespace": "html",
            "tag": "div"
           },
           "nodeType": "DOM",
           "props": {
            "setInnerHtml": "<b>power iteration 6</b>"
           },
           "type": "node"
          },
          {
           "children": [],
           "instanceArgs": {
            "namespace": "html",
            "tag": "div"
           },
           "nodeType": "DOM",
           "props": {
            "setInnerHtml": "<pre>5-element Vector{Float64}:\n  0.7536302758648975\n -0.4875193814022369\n -0.028598863108686323\n  0.4370272836234865\n  0.05055213600379533</pre>"
           },
           "type": "node"
          }
         ],
         "instanceArgs": {
          "namespace": "html",
          "tag": "div"
         },
         "nodeType": "DOM",
         "props": {
          "style": {
           "display": "flex",
           "flex-direction": "column"
          }
         },
         "type": "node"
        },
        {
         "children": [],
         "instanceArgs": {
          "namespace": "html",
          "tag": "div"
         },
         "nodeType": "DOM",
         "props": {
          "style": {
           "align-self": "stretch",
           "borderLeft": "solid 1.0px #DEDEDE"
          }
         },
         "type": "node"
        },
        {
         "children": [
          {
           "children": [],
           "instanceArgs": {
            "namespace": "html",
            "tag": "div"
           },
           "nodeType": "DOM",
           "props": {
            "setInnerHtml": "<b>eigenvector</b>"
           },
           "type": "node"
          },
          {
           "children": [],
           "instanceArgs": {
            "namespace": "html",
            "tag": "div"
           },
           "nodeType": "DOM",
           "props": {
            "setInnerHtml": "<pre>5-element Vector{Float64}:\n  0.7516527258032667\n -0.5171338396934146\n -0.14337587333973284\n  0.38193050353655744\n -0.03410602657662457</pre>"
           },
           "type": "node"
          }
         ],
         "instanceArgs": {
          "namespace": "html",
          "tag": "div"
         },
         "nodeType": "DOM",
         "props": {
          "style": {
           "display": "flex",
           "flex-direction": "column"
          }
         },
         "type": "node"
        }
       ],
       "instanceArgs": {
        "namespace": "html",
        "tag": "div"
       },
       "nodeType": "DOM",
       "props": {
        "style": {
         "display": "flex",
         "flex-direction": "row"
        }
       },
       "type": "node"
      },
      "text/html": [
       "<div\n",
       "    class=\"webio-mountpoint\"\n",
       "    data-webio-mountpoint=\"9019975637906461884\"\n",
       ">\n",
       "    <script>\n",
       "    (function(){\n",
       "    // Some integrations (namely, IJulia/Jupyter) use an alternate render pathway than\n",
       "    // just putting the html on the page. If WebIO isn't defined, then it's pretty likely\n",
       "    // that we're in one of those situations and the integration just isn't installed\n",
       "    // correctly.\n",
       "    if (typeof window.WebIO === \"undefined\") {\n",
       "        document\n",
       "            .querySelector('[data-webio-mountpoint=\"9019975637906461884\"]')\n",
       "            .innerHTML = (\n",
       "                '<div style=\"padding: 1em; background-color: #f8d6da; border: 1px solid #f5c6cb; font-weight: bold;\">' +\n",
       "                '<p><strong>WebIO not detected.</strong></p>' +\n",
       "                '<p>Please read ' +\n",
       "                '<a href=\"https://juliagizmos.github.io/WebIO.jl/latest/troubleshooting/not-detected/\" target=\"_blank\">the troubleshooting guide</a> ' +\n",
       "                'for more information on how to resolve this issue.</p>' +\n",
       "                '<p><a href=\"https://juliagizmos.github.io/WebIO.jl/latest/troubleshooting/not-detected/\" target=\"_blank\">https://juliagizmos.github.io/WebIO.jl/latest/troubleshooting/not-detected/</a></p>' +\n",
       "                '</div>'\n",
       "            );\n",
       "        return;\n",
       "    }\n",
       "    WebIO.mount(\n",
       "        document.querySelector('[data-webio-mountpoint=\"9019975637906461884\"]'),\n",
       "        {\"props\":{\"style\":{\"display\":\"flex\",\"flex-direction\":\"row\"}},\"nodeType\":\"DOM\",\"type\":\"node\",\"instanceArgs\":{\"namespace\":\"html\",\"tag\":\"div\"},\"children\":[{\"props\":{\"style\":{\"display\":\"flex\",\"flex-direction\":\"column\"}},\"nodeType\":\"DOM\",\"type\":\"node\",\"instanceArgs\":{\"namespace\":\"html\",\"tag\":\"div\"},\"children\":[{\"props\":{\"setInnerHtml\":\"<b>power iteration 6<\\/b>\"},\"nodeType\":\"DOM\",\"type\":\"node\",\"instanceArgs\":{\"namespace\":\"html\",\"tag\":\"div\"},\"children\":[]},{\"props\":{\"setInnerHtml\":\"<pre>5-element Vector{Float64}:\\n  0.7536302758648975\\n -0.4875193814022369\\n -0.028598863108686323\\n  0.4370272836234865\\n  0.05055213600379533<\\/pre>\"},\"nodeType\":\"DOM\",\"type\":\"node\",\"instanceArgs\":{\"namespace\":\"html\",\"tag\":\"div\"},\"children\":[]}]},{\"props\":{\"style\":{\"align-self\":\"stretch\",\"borderLeft\":\"solid 1.0px #DEDEDE\"}},\"nodeType\":\"DOM\",\"type\":\"node\",\"instanceArgs\":{\"namespace\":\"html\",\"tag\":\"div\"},\"children\":[]},{\"props\":{\"style\":{\"display\":\"flex\",\"flex-direction\":\"column\"}},\"nodeType\":\"DOM\",\"type\":\"node\",\"instanceArgs\":{\"namespace\":\"html\",\"tag\":\"div\"},\"children\":[{\"props\":{\"setInnerHtml\":\"<b>eigenvector<\\/b>\"},\"nodeType\":\"DOM\",\"type\":\"node\",\"instanceArgs\":{\"namespace\":\"html\",\"tag\":\"div\"},\"children\":[]},{\"props\":{\"setInnerHtml\":\"<pre>5-element Vector{Float64}:\\n  0.7516527258032667\\n -0.5171338396934146\\n -0.14337587333973284\\n  0.38193050353655744\\n -0.03410602657662457<\\/pre>\"},\"nodeType\":\"DOM\",\"type\":\"node\",\"instanceArgs\":{\"namespace\":\"html\",\"tag\":\"div\"},\"children\":[]}]}]},\n",
       "        window,\n",
       "    );\n",
       "    })()\n",
       "    </script>\n",
       "</div>\n"
      ],
      "text/plain": [
       "(div { style=Dict(\"display\" => \"flex\", \"flex-direction\" => \"row\") }\n",
       "  (div { style=Dict(\"display\" => \"flex\", \"flex-direction\" => \"column\") }\n",
       "    HTML{String}(\"<b>power iteration 6</b>\")\n",
       "    [0.7536302758648975, -0.4875193814022369, -0.028598863108686323, 0.4370272836234865, 0.05055213600379533])\n",
       "  (div { style=Dict{Any, Any}(\"align-self\" => \"stretch\", \"borderLeft\" => \"solid 1.0px #DEDEDE\") })\n",
       "  (div { style=Dict(\"display\" => \"flex\", \"flex-direction\" => \"column\") }\n",
       "    HTML{String}(\"<b>eigenvector</b>\")\n",
       "    [0.7516527258032667, -0.5171338396934146, -0.14337587333973284, 0.38193050353655744, -0.03410602657662457]))"
      ]
     },
     "metadata": {
      "application/vnd.webio.node+json": {
       "kernelId": "3c7d7052-bde9-4a18-a0c5-24a636d36fd8"
      }
     },
     "output_type": "display_data"
    },
    {
     "data": {
      "application/vnd.webio.node+json": {
       "children": [
        {
         "children": [
          {
           "children": [],
           "instanceArgs": {
            "namespace": "html",
            "tag": "div"
           },
           "nodeType": "DOM",
           "props": {
            "setInnerHtml": "<b>power iteration 7</b>"
           },
           "type": "node"
          },
          {
           "children": [],
           "instanceArgs": {
            "namespace": "html",
            "tag": "div"
           },
           "nodeType": "DOM",
           "props": {
            "setInnerHtml": "<pre>5-element Vector{Float64}:\n  0.7527477253330508\n -0.496444442317198\n -0.051517333677548384\n  0.4279411682872238\n  0.03355739134685802</pre>"
           },
           "type": "node"
          }
         ],
         "instanceArgs": {
          "namespace": "html",
          "tag": "div"
         },
         "nodeType": "DOM",
         "props": {
          "style": {
           "display": "flex",
           "flex-direction": "column"
          }
         },
         "type": "node"
        },
        {
         "children": [],
         "instanceArgs": {
          "namespace": "html",
          "tag": "div"
         },
         "nodeType": "DOM",
         "props": {
          "style": {
           "align-self": "stretch",
           "borderLeft": "solid 1.0px #DEDEDE"
          }
         },
         "type": "node"
        },
        {
         "children": [
          {
           "children": [],
           "instanceArgs": {
            "namespace": "html",
            "tag": "div"
           },
           "nodeType": "DOM",
           "props": {
            "setInnerHtml": "<b>eigenvector</b>"
           },
           "type": "node"
          },
          {
           "children": [],
           "instanceArgs": {
            "namespace": "html",
            "tag": "div"
           },
           "nodeType": "DOM",
           "props": {
            "setInnerHtml": "<pre>5-element Vector{Float64}:\n  0.7516527258032667\n -0.5171338396934146\n -0.14337587333973284\n  0.38193050353655744\n -0.03410602657662457</pre>"
           },
           "type": "node"
          }
         ],
         "instanceArgs": {
          "namespace": "html",
          "tag": "div"
         },
         "nodeType": "DOM",
         "props": {
          "style": {
           "display": "flex",
           "flex-direction": "column"
          }
         },
         "type": "node"
        }
       ],
       "instanceArgs": {
        "namespace": "html",
        "tag": "div"
       },
       "nodeType": "DOM",
       "props": {
        "style": {
         "display": "flex",
         "flex-direction": "row"
        }
       },
       "type": "node"
      },
      "text/html": [
       "<div\n",
       "    class=\"webio-mountpoint\"\n",
       "    data-webio-mountpoint=\"783657619943073270\"\n",
       ">\n",
       "    <script>\n",
       "    (function(){\n",
       "    // Some integrations (namely, IJulia/Jupyter) use an alternate render pathway than\n",
       "    // just putting the html on the page. If WebIO isn't defined, then it's pretty likely\n",
       "    // that we're in one of those situations and the integration just isn't installed\n",
       "    // correctly.\n",
       "    if (typeof window.WebIO === \"undefined\") {\n",
       "        document\n",
       "            .querySelector('[data-webio-mountpoint=\"783657619943073270\"]')\n",
       "            .innerHTML = (\n",
       "                '<div style=\"padding: 1em; background-color: #f8d6da; border: 1px solid #f5c6cb; font-weight: bold;\">' +\n",
       "                '<p><strong>WebIO not detected.</strong></p>' +\n",
       "                '<p>Please read ' +\n",
       "                '<a href=\"https://juliagizmos.github.io/WebIO.jl/latest/troubleshooting/not-detected/\" target=\"_blank\">the troubleshooting guide</a> ' +\n",
       "                'for more information on how to resolve this issue.</p>' +\n",
       "                '<p><a href=\"https://juliagizmos.github.io/WebIO.jl/latest/troubleshooting/not-detected/\" target=\"_blank\">https://juliagizmos.github.io/WebIO.jl/latest/troubleshooting/not-detected/</a></p>' +\n",
       "                '</div>'\n",
       "            );\n",
       "        return;\n",
       "    }\n",
       "    WebIO.mount(\n",
       "        document.querySelector('[data-webio-mountpoint=\"783657619943073270\"]'),\n",
       "        {\"props\":{\"style\":{\"display\":\"flex\",\"flex-direction\":\"row\"}},\"nodeType\":\"DOM\",\"type\":\"node\",\"instanceArgs\":{\"namespace\":\"html\",\"tag\":\"div\"},\"children\":[{\"props\":{\"style\":{\"display\":\"flex\",\"flex-direction\":\"column\"}},\"nodeType\":\"DOM\",\"type\":\"node\",\"instanceArgs\":{\"namespace\":\"html\",\"tag\":\"div\"},\"children\":[{\"props\":{\"setInnerHtml\":\"<b>power iteration 7<\\/b>\"},\"nodeType\":\"DOM\",\"type\":\"node\",\"instanceArgs\":{\"namespace\":\"html\",\"tag\":\"div\"},\"children\":[]},{\"props\":{\"setInnerHtml\":\"<pre>5-element Vector{Float64}:\\n  0.7527477253330508\\n -0.496444442317198\\n -0.051517333677548384\\n  0.4279411682872238\\n  0.03355739134685802<\\/pre>\"},\"nodeType\":\"DOM\",\"type\":\"node\",\"instanceArgs\":{\"namespace\":\"html\",\"tag\":\"div\"},\"children\":[]}]},{\"props\":{\"style\":{\"align-self\":\"stretch\",\"borderLeft\":\"solid 1.0px #DEDEDE\"}},\"nodeType\":\"DOM\",\"type\":\"node\",\"instanceArgs\":{\"namespace\":\"html\",\"tag\":\"div\"},\"children\":[]},{\"props\":{\"style\":{\"display\":\"flex\",\"flex-direction\":\"column\"}},\"nodeType\":\"DOM\",\"type\":\"node\",\"instanceArgs\":{\"namespace\":\"html\",\"tag\":\"div\"},\"children\":[{\"props\":{\"setInnerHtml\":\"<b>eigenvector<\\/b>\"},\"nodeType\":\"DOM\",\"type\":\"node\",\"instanceArgs\":{\"namespace\":\"html\",\"tag\":\"div\"},\"children\":[]},{\"props\":{\"setInnerHtml\":\"<pre>5-element Vector{Float64}:\\n  0.7516527258032667\\n -0.5171338396934146\\n -0.14337587333973284\\n  0.38193050353655744\\n -0.03410602657662457<\\/pre>\"},\"nodeType\":\"DOM\",\"type\":\"node\",\"instanceArgs\":{\"namespace\":\"html\",\"tag\":\"div\"},\"children\":[]}]}]},\n",
       "        window,\n",
       "    );\n",
       "    })()\n",
       "    </script>\n",
       "</div>\n"
      ],
      "text/plain": [
       "(div { style=Dict(\"display\" => \"flex\", \"flex-direction\" => \"row\") }\n",
       "  (div { style=Dict(\"display\" => \"flex\", \"flex-direction\" => \"column\") }\n",
       "    HTML{String}(\"<b>power iteration 7</b>\")\n",
       "    [0.7527477253330508, -0.496444442317198, -0.051517333677548384, 0.4279411682872238, 0.03355739134685802])\n",
       "  (div { style=Dict{Any, Any}(\"align-self\" => \"stretch\", \"borderLeft\" => \"solid 1.0px #DEDEDE\") })\n",
       "  (div { style=Dict(\"display\" => \"flex\", \"flex-direction\" => \"column\") }\n",
       "    HTML{String}(\"<b>eigenvector</b>\")\n",
       "    [0.7516527258032667, -0.5171338396934146, -0.14337587333973284, 0.38193050353655744, -0.03410602657662457]))"
      ]
     },
     "metadata": {
      "application/vnd.webio.node+json": {
       "kernelId": "3c7d7052-bde9-4a18-a0c5-24a636d36fd8"
      }
     },
     "output_type": "display_data"
    },
    {
     "data": {
      "application/vnd.webio.node+json": {
       "children": [
        {
         "children": [
          {
           "children": [],
           "instanceArgs": {
            "namespace": "html",
            "tag": "div"
           },
           "nodeType": "DOM",
           "props": {
            "setInnerHtml": "<b>power iteration 8</b>"
           },
           "type": "node"
          },
          {
           "children": [],
           "instanceArgs": {
            "namespace": "html",
            "tag": "div"
           },
           "nodeType": "DOM",
           "props": {
            "setInnerHtml": "<pre>5-element Vector{Float64}:\n  0.7523774930751926\n -0.5023218113100897\n -0.06987633584596087\n  0.4199087501783914\n  0.019870707294981325</pre>"
           },
           "type": "node"
          }
         ],
         "instanceArgs": {
          "namespace": "html",
          "tag": "div"
         },
         "nodeType": "DOM",
         "props": {
          "style": {
           "display": "flex",
           "flex-direction": "column"
          }
         },
         "type": "node"
        },
        {
         "children": [],
         "instanceArgs": {
          "namespace": "html",
          "tag": "div"
         },
         "nodeType": "DOM",
         "props": {
          "style": {
           "align-self": "stretch",
           "borderLeft": "solid 1.0px #DEDEDE"
          }
         },
         "type": "node"
        },
        {
         "children": [
          {
           "children": [],
           "instanceArgs": {
            "namespace": "html",
            "tag": "div"
           },
           "nodeType": "DOM",
           "props": {
            "setInnerHtml": "<b>eigenvector</b>"
           },
           "type": "node"
          },
          {
           "children": [],
           "instanceArgs": {
            "namespace": "html",
            "tag": "div"
           },
           "nodeType": "DOM",
           "props": {
            "setInnerHtml": "<pre>5-element Vector{Float64}:\n  0.7516527258032667\n -0.5171338396934146\n -0.14337587333973284\n  0.38193050353655744\n -0.03410602657662457</pre>"
           },
           "type": "node"
          }
         ],
         "instanceArgs": {
          "namespace": "html",
          "tag": "div"
         },
         "nodeType": "DOM",
         "props": {
          "style": {
           "display": "flex",
           "flex-direction": "column"
          }
         },
         "type": "node"
        }
       ],
       "instanceArgs": {
        "namespace": "html",
        "tag": "div"
       },
       "nodeType": "DOM",
       "props": {
        "style": {
         "display": "flex",
         "flex-direction": "row"
        }
       },
       "type": "node"
      },
      "text/html": [
       "<div\n",
       "    class=\"webio-mountpoint\"\n",
       "    data-webio-mountpoint=\"17228669854876459922\"\n",
       ">\n",
       "    <script>\n",
       "    (function(){\n",
       "    // Some integrations (namely, IJulia/Jupyter) use an alternate render pathway than\n",
       "    // just putting the html on the page. If WebIO isn't defined, then it's pretty likely\n",
       "    // that we're in one of those situations and the integration just isn't installed\n",
       "    // correctly.\n",
       "    if (typeof window.WebIO === \"undefined\") {\n",
       "        document\n",
       "            .querySelector('[data-webio-mountpoint=\"17228669854876459922\"]')\n",
       "            .innerHTML = (\n",
       "                '<div style=\"padding: 1em; background-color: #f8d6da; border: 1px solid #f5c6cb; font-weight: bold;\">' +\n",
       "                '<p><strong>WebIO not detected.</strong></p>' +\n",
       "                '<p>Please read ' +\n",
       "                '<a href=\"https://juliagizmos.github.io/WebIO.jl/latest/troubleshooting/not-detected/\" target=\"_blank\">the troubleshooting guide</a> ' +\n",
       "                'for more information on how to resolve this issue.</p>' +\n",
       "                '<p><a href=\"https://juliagizmos.github.io/WebIO.jl/latest/troubleshooting/not-detected/\" target=\"_blank\">https://juliagizmos.github.io/WebIO.jl/latest/troubleshooting/not-detected/</a></p>' +\n",
       "                '</div>'\n",
       "            );\n",
       "        return;\n",
       "    }\n",
       "    WebIO.mount(\n",
       "        document.querySelector('[data-webio-mountpoint=\"17228669854876459922\"]'),\n",
       "        {\"props\":{\"style\":{\"display\":\"flex\",\"flex-direction\":\"row\"}},\"nodeType\":\"DOM\",\"type\":\"node\",\"instanceArgs\":{\"namespace\":\"html\",\"tag\":\"div\"},\"children\":[{\"props\":{\"style\":{\"display\":\"flex\",\"flex-direction\":\"column\"}},\"nodeType\":\"DOM\",\"type\":\"node\",\"instanceArgs\":{\"namespace\":\"html\",\"tag\":\"div\"},\"children\":[{\"props\":{\"setInnerHtml\":\"<b>power iteration 8<\\/b>\"},\"nodeType\":\"DOM\",\"type\":\"node\",\"instanceArgs\":{\"namespace\":\"html\",\"tag\":\"div\"},\"children\":[]},{\"props\":{\"setInnerHtml\":\"<pre>5-element Vector{Float64}:\\n  0.7523774930751926\\n -0.5023218113100897\\n -0.06987633584596087\\n  0.4199087501783914\\n  0.019870707294981325<\\/pre>\"},\"nodeType\":\"DOM\",\"type\":\"node\",\"instanceArgs\":{\"namespace\":\"html\",\"tag\":\"div\"},\"children\":[]}]},{\"props\":{\"style\":{\"align-self\":\"stretch\",\"borderLeft\":\"solid 1.0px #DEDEDE\"}},\"nodeType\":\"DOM\",\"type\":\"node\",\"instanceArgs\":{\"namespace\":\"html\",\"tag\":\"div\"},\"children\":[]},{\"props\":{\"style\":{\"display\":\"flex\",\"flex-direction\":\"column\"}},\"nodeType\":\"DOM\",\"type\":\"node\",\"instanceArgs\":{\"namespace\":\"html\",\"tag\":\"div\"},\"children\":[{\"props\":{\"setInnerHtml\":\"<b>eigenvector<\\/b>\"},\"nodeType\":\"DOM\",\"type\":\"node\",\"instanceArgs\":{\"namespace\":\"html\",\"tag\":\"div\"},\"children\":[]},{\"props\":{\"setInnerHtml\":\"<pre>5-element Vector{Float64}:\\n  0.7516527258032667\\n -0.5171338396934146\\n -0.14337587333973284\\n  0.38193050353655744\\n -0.03410602657662457<\\/pre>\"},\"nodeType\":\"DOM\",\"type\":\"node\",\"instanceArgs\":{\"namespace\":\"html\",\"tag\":\"div\"},\"children\":[]}]}]},\n",
       "        window,\n",
       "    );\n",
       "    })()\n",
       "    </script>\n",
       "</div>\n"
      ],
      "text/plain": [
       "(div { style=Dict(\"display\" => \"flex\", \"flex-direction\" => \"row\") }\n",
       "  (div { style=Dict(\"display\" => \"flex\", \"flex-direction\" => \"column\") }\n",
       "    HTML{String}(\"<b>power iteration 8</b>\")\n",
       "    [0.7523774930751926, -0.5023218113100897, -0.06987633584596087, 0.4199087501783914, 0.019870707294981325])\n",
       "  (div { style=Dict{Any, Any}(\"align-self\" => \"stretch\", \"borderLeft\" => \"solid 1.0px #DEDEDE\") })\n",
       "  (div { style=Dict(\"display\" => \"flex\", \"flex-direction\" => \"column\") }\n",
       "    HTML{String}(\"<b>eigenvector</b>\")\n",
       "    [0.7516527258032667, -0.5171338396934146, -0.14337587333973284, 0.38193050353655744, -0.03410602657662457]))"
      ]
     },
     "metadata": {
      "application/vnd.webio.node+json": {
       "kernelId": "3c7d7052-bde9-4a18-a0c5-24a636d36fd8"
      }
     },
     "output_type": "display_data"
    },
    {
     "data": {
      "application/vnd.webio.node+json": {
       "children": [
        {
         "children": [
          {
           "children": [],
           "instanceArgs": {
            "namespace": "html",
            "tag": "div"
           },
           "nodeType": "DOM",
           "props": {
            "setInnerHtml": "<b>power iteration 9</b>"
           },
           "type": "node"
          },
          {
           "children": [],
           "instanceArgs": {
            "namespace": "html",
            "tag": "div"
           },
           "nodeType": "DOM",
           "props": {
            "setInnerHtml": "<pre>5-element Vector{Float64}:\n  0.7522140929020339\n -0.5063162419421631\n -0.08459353982978109\n  0.4130158959308184\n  0.008923245635202061</pre>"
           },
           "type": "node"
          }
         ],
         "instanceArgs": {
          "namespace": "html",
          "tag": "div"
         },
         "nodeType": "DOM",
         "props": {
          "style": {
           "display": "flex",
           "flex-direction": "column"
          }
         },
         "type": "node"
        },
        {
         "children": [],
         "instanceArgs": {
          "namespace": "html",
          "tag": "div"
         },
         "nodeType": "DOM",
         "props": {
          "style": {
           "align-self": "stretch",
           "borderLeft": "solid 1.0px #DEDEDE"
          }
         },
         "type": "node"
        },
        {
         "children": [
          {
           "children": [],
           "instanceArgs": {
            "namespace": "html",
            "tag": "div"
           },
           "nodeType": "DOM",
           "props": {
            "setInnerHtml": "<b>eigenvector</b>"
           },
           "type": "node"
          },
          {
           "children": [],
           "instanceArgs": {
            "namespace": "html",
            "tag": "div"
           },
           "nodeType": "DOM",
           "props": {
            "setInnerHtml": "<pre>5-element Vector{Float64}:\n  0.7516527258032667\n -0.5171338396934146\n -0.14337587333973284\n  0.38193050353655744\n -0.03410602657662457</pre>"
           },
           "type": "node"
          }
         ],
         "instanceArgs": {
          "namespace": "html",
          "tag": "div"
         },
         "nodeType": "DOM",
         "props": {
          "style": {
           "display": "flex",
           "flex-direction": "column"
          }
         },
         "type": "node"
        }
       ],
       "instanceArgs": {
        "namespace": "html",
        "tag": "div"
       },
       "nodeType": "DOM",
       "props": {
        "style": {
         "display": "flex",
         "flex-direction": "row"
        }
       },
       "type": "node"
      },
      "text/html": [
       "<div\n",
       "    class=\"webio-mountpoint\"\n",
       "    data-webio-mountpoint=\"17764813028214404055\"\n",
       ">\n",
       "    <script>\n",
       "    (function(){\n",
       "    // Some integrations (namely, IJulia/Jupyter) use an alternate render pathway than\n",
       "    // just putting the html on the page. If WebIO isn't defined, then it's pretty likely\n",
       "    // that we're in one of those situations and the integration just isn't installed\n",
       "    // correctly.\n",
       "    if (typeof window.WebIO === \"undefined\") {\n",
       "        document\n",
       "            .querySelector('[data-webio-mountpoint=\"17764813028214404055\"]')\n",
       "            .innerHTML = (\n",
       "                '<div style=\"padding: 1em; background-color: #f8d6da; border: 1px solid #f5c6cb; font-weight: bold;\">' +\n",
       "                '<p><strong>WebIO not detected.</strong></p>' +\n",
       "                '<p>Please read ' +\n",
       "                '<a href=\"https://juliagizmos.github.io/WebIO.jl/latest/troubleshooting/not-detected/\" target=\"_blank\">the troubleshooting guide</a> ' +\n",
       "                'for more information on how to resolve this issue.</p>' +\n",
       "                '<p><a href=\"https://juliagizmos.github.io/WebIO.jl/latest/troubleshooting/not-detected/\" target=\"_blank\">https://juliagizmos.github.io/WebIO.jl/latest/troubleshooting/not-detected/</a></p>' +\n",
       "                '</div>'\n",
       "            );\n",
       "        return;\n",
       "    }\n",
       "    WebIO.mount(\n",
       "        document.querySelector('[data-webio-mountpoint=\"17764813028214404055\"]'),\n",
       "        {\"props\":{\"style\":{\"display\":\"flex\",\"flex-direction\":\"row\"}},\"nodeType\":\"DOM\",\"type\":\"node\",\"instanceArgs\":{\"namespace\":\"html\",\"tag\":\"div\"},\"children\":[{\"props\":{\"style\":{\"display\":\"flex\",\"flex-direction\":\"column\"}},\"nodeType\":\"DOM\",\"type\":\"node\",\"instanceArgs\":{\"namespace\":\"html\",\"tag\":\"div\"},\"children\":[{\"props\":{\"setInnerHtml\":\"<b>power iteration 9<\\/b>\"},\"nodeType\":\"DOM\",\"type\":\"node\",\"instanceArgs\":{\"namespace\":\"html\",\"tag\":\"div\"},\"children\":[]},{\"props\":{\"setInnerHtml\":\"<pre>5-element Vector{Float64}:\\n  0.7522140929020339\\n -0.5063162419421631\\n -0.08459353982978109\\n  0.4130158959308184\\n  0.008923245635202061<\\/pre>\"},\"nodeType\":\"DOM\",\"type\":\"node\",\"instanceArgs\":{\"namespace\":\"html\",\"tag\":\"div\"},\"children\":[]}]},{\"props\":{\"style\":{\"align-self\":\"stretch\",\"borderLeft\":\"solid 1.0px #DEDEDE\"}},\"nodeType\":\"DOM\",\"type\":\"node\",\"instanceArgs\":{\"namespace\":\"html\",\"tag\":\"div\"},\"children\":[]},{\"props\":{\"style\":{\"display\":\"flex\",\"flex-direction\":\"column\"}},\"nodeType\":\"DOM\",\"type\":\"node\",\"instanceArgs\":{\"namespace\":\"html\",\"tag\":\"div\"},\"children\":[{\"props\":{\"setInnerHtml\":\"<b>eigenvector<\\/b>\"},\"nodeType\":\"DOM\",\"type\":\"node\",\"instanceArgs\":{\"namespace\":\"html\",\"tag\":\"div\"},\"children\":[]},{\"props\":{\"setInnerHtml\":\"<pre>5-element Vector{Float64}:\\n  0.7516527258032667\\n -0.5171338396934146\\n -0.14337587333973284\\n  0.38193050353655744\\n -0.03410602657662457<\\/pre>\"},\"nodeType\":\"DOM\",\"type\":\"node\",\"instanceArgs\":{\"namespace\":\"html\",\"tag\":\"div\"},\"children\":[]}]}]},\n",
       "        window,\n",
       "    );\n",
       "    })()\n",
       "    </script>\n",
       "</div>\n"
      ],
      "text/plain": [
       "(div { style=Dict(\"display\" => \"flex\", \"flex-direction\" => \"row\") }\n",
       "  (div { style=Dict(\"display\" => \"flex\", \"flex-direction\" => \"column\") }\n",
       "    HTML{String}(\"<b>power iteration 9</b>\")\n",
       "    [0.7522140929020339, -0.5063162419421631, -0.08459353982978109, 0.4130158959308184, 0.008923245635202061])\n",
       "  (div { style=Dict{Any, Any}(\"align-self\" => \"stretch\", \"borderLeft\" => \"solid 1.0px #DEDEDE\") })\n",
       "  (div { style=Dict(\"display\" => \"flex\", \"flex-direction\" => \"column\") }\n",
       "    HTML{String}(\"<b>eigenvector</b>\")\n",
       "    [0.7516527258032667, -0.5171338396934146, -0.14337587333973284, 0.38193050353655744, -0.03410602657662457]))"
      ]
     },
     "metadata": {
      "application/vnd.webio.node+json": {
       "kernelId": "3c7d7052-bde9-4a18-a0c5-24a636d36fd8"
      }
     },
     "output_type": "display_data"
    },
    {
     "data": {
      "application/vnd.webio.node+json": {
       "children": [
        {
         "children": [
          {
           "children": [],
           "instanceArgs": {
            "namespace": "html",
            "tag": "div"
           },
           "nodeType": "DOM",
           "props": {
            "setInnerHtml": "<b>power iteration 10</b>"
           },
           "type": "node"
          },
          {
           "children": [],
           "instanceArgs": {
            "namespace": "html",
            "tag": "div"
           },
           "nodeType": "DOM",
           "props": {
            "setInnerHtml": "<pre>5-element Vector{Float64}:\n  0.7521291338313594\n -0.50910158691695\n -0.09638199018399124\n  0.4072196141740886\n  0.00019504053876687904</pre>"
           },
           "type": "node"
          }
         ],
         "instanceArgs": {
          "namespace": "html",
          "tag": "div"
         },
         "nodeType": "DOM",
         "props": {
          "style": {
           "display": "flex",
           "flex-direction": "column"
          }
         },
         "type": "node"
        },
        {
         "children": [],
         "instanceArgs": {
          "namespace": "html",
          "tag": "div"
         },
         "nodeType": "DOM",
         "props": {
          "style": {
           "align-self": "stretch",
           "borderLeft": "solid 1.0px #DEDEDE"
          }
         },
         "type": "node"
        },
        {
         "children": [
          {
           "children": [],
           "instanceArgs": {
            "namespace": "html",
            "tag": "div"
           },
           "nodeType": "DOM",
           "props": {
            "setInnerHtml": "<b>eigenvector</b>"
           },
           "type": "node"
          },
          {
           "children": [],
           "instanceArgs": {
            "namespace": "html",
            "tag": "div"
           },
           "nodeType": "DOM",
           "props": {
            "setInnerHtml": "<pre>5-element Vector{Float64}:\n  0.7516527258032667\n -0.5171338396934146\n -0.14337587333973284\n  0.38193050353655744\n -0.03410602657662457</pre>"
           },
           "type": "node"
          }
         ],
         "instanceArgs": {
          "namespace": "html",
          "tag": "div"
         },
         "nodeType": "DOM",
         "props": {
          "style": {
           "display": "flex",
           "flex-direction": "column"
          }
         },
         "type": "node"
        }
       ],
       "instanceArgs": {
        "namespace": "html",
        "tag": "div"
       },
       "nodeType": "DOM",
       "props": {
        "style": {
         "display": "flex",
         "flex-direction": "row"
        }
       },
       "type": "node"
      },
      "text/html": [
       "<div\n",
       "    class=\"webio-mountpoint\"\n",
       "    data-webio-mountpoint=\"3415725719748683694\"\n",
       ">\n",
       "    <script>\n",
       "    (function(){\n",
       "    // Some integrations (namely, IJulia/Jupyter) use an alternate render pathway than\n",
       "    // just putting the html on the page. If WebIO isn't defined, then it's pretty likely\n",
       "    // that we're in one of those situations and the integration just isn't installed\n",
       "    // correctly.\n",
       "    if (typeof window.WebIO === \"undefined\") {\n",
       "        document\n",
       "            .querySelector('[data-webio-mountpoint=\"3415725719748683694\"]')\n",
       "            .innerHTML = (\n",
       "                '<div style=\"padding: 1em; background-color: #f8d6da; border: 1px solid #f5c6cb; font-weight: bold;\">' +\n",
       "                '<p><strong>WebIO not detected.</strong></p>' +\n",
       "                '<p>Please read ' +\n",
       "                '<a href=\"https://juliagizmos.github.io/WebIO.jl/latest/troubleshooting/not-detected/\" target=\"_blank\">the troubleshooting guide</a> ' +\n",
       "                'for more information on how to resolve this issue.</p>' +\n",
       "                '<p><a href=\"https://juliagizmos.github.io/WebIO.jl/latest/troubleshooting/not-detected/\" target=\"_blank\">https://juliagizmos.github.io/WebIO.jl/latest/troubleshooting/not-detected/</a></p>' +\n",
       "                '</div>'\n",
       "            );\n",
       "        return;\n",
       "    }\n",
       "    WebIO.mount(\n",
       "        document.querySelector('[data-webio-mountpoint=\"3415725719748683694\"]'),\n",
       "        {\"props\":{\"style\":{\"display\":\"flex\",\"flex-direction\":\"row\"}},\"nodeType\":\"DOM\",\"type\":\"node\",\"instanceArgs\":{\"namespace\":\"html\",\"tag\":\"div\"},\"children\":[{\"props\":{\"style\":{\"display\":\"flex\",\"flex-direction\":\"column\"}},\"nodeType\":\"DOM\",\"type\":\"node\",\"instanceArgs\":{\"namespace\":\"html\",\"tag\":\"div\"},\"children\":[{\"props\":{\"setInnerHtml\":\"<b>power iteration 10<\\/b>\"},\"nodeType\":\"DOM\",\"type\":\"node\",\"instanceArgs\":{\"namespace\":\"html\",\"tag\":\"div\"},\"children\":[]},{\"props\":{\"setInnerHtml\":\"<pre>5-element Vector{Float64}:\\n  0.7521291338313594\\n -0.50910158691695\\n -0.09638199018399124\\n  0.4072196141740886\\n  0.00019504053876687904<\\/pre>\"},\"nodeType\":\"DOM\",\"type\":\"node\",\"instanceArgs\":{\"namespace\":\"html\",\"tag\":\"div\"},\"children\":[]}]},{\"props\":{\"style\":{\"align-self\":\"stretch\",\"borderLeft\":\"solid 1.0px #DEDEDE\"}},\"nodeType\":\"DOM\",\"type\":\"node\",\"instanceArgs\":{\"namespace\":\"html\",\"tag\":\"div\"},\"children\":[]},{\"props\":{\"style\":{\"display\":\"flex\",\"flex-direction\":\"column\"}},\"nodeType\":\"DOM\",\"type\":\"node\",\"instanceArgs\":{\"namespace\":\"html\",\"tag\":\"div\"},\"children\":[{\"props\":{\"setInnerHtml\":\"<b>eigenvector<\\/b>\"},\"nodeType\":\"DOM\",\"type\":\"node\",\"instanceArgs\":{\"namespace\":\"html\",\"tag\":\"div\"},\"children\":[]},{\"props\":{\"setInnerHtml\":\"<pre>5-element Vector{Float64}:\\n  0.7516527258032667\\n -0.5171338396934146\\n -0.14337587333973284\\n  0.38193050353655744\\n -0.03410602657662457<\\/pre>\"},\"nodeType\":\"DOM\",\"type\":\"node\",\"instanceArgs\":{\"namespace\":\"html\",\"tag\":\"div\"},\"children\":[]}]}]},\n",
       "        window,\n",
       "    );\n",
       "    })()\n",
       "    </script>\n",
       "</div>\n"
      ],
      "text/plain": [
       "(div { style=Dict(\"display\" => \"flex\", \"flex-direction\" => \"row\") }\n",
       "  (div { style=Dict(\"display\" => \"flex\", \"flex-direction\" => \"column\") }\n",
       "    HTML{String}(\"<b>power iteration 10</b>\")\n",
       "    [0.7521291338313594, -0.50910158691695, -0.09638199018399124, 0.4072196141740886, 0.00019504053876687904])\n",
       "  (div { style=Dict{Any, Any}(\"align-self\" => \"stretch\", \"borderLeft\" => \"solid 1.0px #DEDEDE\") })\n",
       "  (div { style=Dict(\"display\" => \"flex\", \"flex-direction\" => \"column\") }\n",
       "    HTML{String}(\"<b>eigenvector</b>\")\n",
       "    [0.7516527258032667, -0.5171338396934146, -0.14337587333973284, 0.38193050353655744, -0.03410602657662457]))"
      ]
     },
     "metadata": {
      "application/vnd.webio.node+json": {
       "kernelId": "3c7d7052-bde9-4a18-a0c5-24a636d36fd8"
      }
     },
     "output_type": "display_data"
    },
    {
     "data": {
      "application/vnd.webio.node+json": {
       "children": [
        {
         "children": [
          {
           "children": [],
           "instanceArgs": {
            "namespace": "html",
            "tag": "div"
           },
           "nodeType": "DOM",
           "props": {
            "setInnerHtml": "<b>power iteration 11</b>"
           },
           "type": "node"
          },
          {
           "children": [],
           "instanceArgs": {
            "namespace": "html",
            "tag": "div"
           },
           "nodeType": "DOM",
           "props": {
            "setInnerHtml": "<pre>5-element Vector{Float64}:\n  0.752071417351545\n -0.5110865784339829\n -0.10581527211634305\n  0.4024134552974101\n -0.006755126203545295</pre>"
           },
           "type": "node"
          }
         ],
         "instanceArgs": {
          "namespace": "html",
          "tag": "div"
         },
         "nodeType": "DOM",
         "props": {
          "style": {
           "display": "flex",
           "flex-direction": "column"
          }
         },
         "type": "node"
        },
        {
         "children": [],
         "instanceArgs": {
          "namespace": "html",
          "tag": "div"
         },
         "nodeType": "DOM",
         "props": {
          "style": {
           "align-self": "stretch",
           "borderLeft": "solid 1.0px #DEDEDE"
          }
         },
         "type": "node"
        },
        {
         "children": [
          {
           "children": [],
           "instanceArgs": {
            "namespace": "html",
            "tag": "div"
           },
           "nodeType": "DOM",
           "props": {
            "setInnerHtml": "<b>eigenvector</b>"
           },
           "type": "node"
          },
          {
           "children": [],
           "instanceArgs": {
            "namespace": "html",
            "tag": "div"
           },
           "nodeType": "DOM",
           "props": {
            "setInnerHtml": "<pre>5-element Vector{Float64}:\n  0.7516527258032667\n -0.5171338396934146\n -0.14337587333973284\n  0.38193050353655744\n -0.03410602657662457</pre>"
           },
           "type": "node"
          }
         ],
         "instanceArgs": {
          "namespace": "html",
          "tag": "div"
         },
         "nodeType": "DOM",
         "props": {
          "style": {
           "display": "flex",
           "flex-direction": "column"
          }
         },
         "type": "node"
        }
       ],
       "instanceArgs": {
        "namespace": "html",
        "tag": "div"
       },
       "nodeType": "DOM",
       "props": {
        "style": {
         "display": "flex",
         "flex-direction": "row"
        }
       },
       "type": "node"
      },
      "text/html": [
       "<div\n",
       "    class=\"webio-mountpoint\"\n",
       "    data-webio-mountpoint=\"6778473416910091921\"\n",
       ">\n",
       "    <script>\n",
       "    (function(){\n",
       "    // Some integrations (namely, IJulia/Jupyter) use an alternate render pathway than\n",
       "    // just putting the html on the page. If WebIO isn't defined, then it's pretty likely\n",
       "    // that we're in one of those situations and the integration just isn't installed\n",
       "    // correctly.\n",
       "    if (typeof window.WebIO === \"undefined\") {\n",
       "        document\n",
       "            .querySelector('[data-webio-mountpoint=\"6778473416910091921\"]')\n",
       "            .innerHTML = (\n",
       "                '<div style=\"padding: 1em; background-color: #f8d6da; border: 1px solid #f5c6cb; font-weight: bold;\">' +\n",
       "                '<p><strong>WebIO not detected.</strong></p>' +\n",
       "                '<p>Please read ' +\n",
       "                '<a href=\"https://juliagizmos.github.io/WebIO.jl/latest/troubleshooting/not-detected/\" target=\"_blank\">the troubleshooting guide</a> ' +\n",
       "                'for more information on how to resolve this issue.</p>' +\n",
       "                '<p><a href=\"https://juliagizmos.github.io/WebIO.jl/latest/troubleshooting/not-detected/\" target=\"_blank\">https://juliagizmos.github.io/WebIO.jl/latest/troubleshooting/not-detected/</a></p>' +\n",
       "                '</div>'\n",
       "            );\n",
       "        return;\n",
       "    }\n",
       "    WebIO.mount(\n",
       "        document.querySelector('[data-webio-mountpoint=\"6778473416910091921\"]'),\n",
       "        {\"props\":{\"style\":{\"display\":\"flex\",\"flex-direction\":\"row\"}},\"nodeType\":\"DOM\",\"type\":\"node\",\"instanceArgs\":{\"namespace\":\"html\",\"tag\":\"div\"},\"children\":[{\"props\":{\"style\":{\"display\":\"flex\",\"flex-direction\":\"column\"}},\"nodeType\":\"DOM\",\"type\":\"node\",\"instanceArgs\":{\"namespace\":\"html\",\"tag\":\"div\"},\"children\":[{\"props\":{\"setInnerHtml\":\"<b>power iteration 11<\\/b>\"},\"nodeType\":\"DOM\",\"type\":\"node\",\"instanceArgs\":{\"namespace\":\"html\",\"tag\":\"div\"},\"children\":[]},{\"props\":{\"setInnerHtml\":\"<pre>5-element Vector{Float64}:\\n  0.752071417351545\\n -0.5110865784339829\\n -0.10581527211634305\\n  0.4024134552974101\\n -0.006755126203545295<\\/pre>\"},\"nodeType\":\"DOM\",\"type\":\"node\",\"instanceArgs\":{\"namespace\":\"html\",\"tag\":\"div\"},\"children\":[]}]},{\"props\":{\"style\":{\"align-self\":\"stretch\",\"borderLeft\":\"solid 1.0px #DEDEDE\"}},\"nodeType\":\"DOM\",\"type\":\"node\",\"instanceArgs\":{\"namespace\":\"html\",\"tag\":\"div\"},\"children\":[]},{\"props\":{\"style\":{\"display\":\"flex\",\"flex-direction\":\"column\"}},\"nodeType\":\"DOM\",\"type\":\"node\",\"instanceArgs\":{\"namespace\":\"html\",\"tag\":\"div\"},\"children\":[{\"props\":{\"setInnerHtml\":\"<b>eigenvector<\\/b>\"},\"nodeType\":\"DOM\",\"type\":\"node\",\"instanceArgs\":{\"namespace\":\"html\",\"tag\":\"div\"},\"children\":[]},{\"props\":{\"setInnerHtml\":\"<pre>5-element Vector{Float64}:\\n  0.7516527258032667\\n -0.5171338396934146\\n -0.14337587333973284\\n  0.38193050353655744\\n -0.03410602657662457<\\/pre>\"},\"nodeType\":\"DOM\",\"type\":\"node\",\"instanceArgs\":{\"namespace\":\"html\",\"tag\":\"div\"},\"children\":[]}]}]},\n",
       "        window,\n",
       "    );\n",
       "    })()\n",
       "    </script>\n",
       "</div>\n"
      ],
      "text/plain": [
       "(div { style=Dict(\"display\" => \"flex\", \"flex-direction\" => \"row\") }\n",
       "  (div { style=Dict(\"display\" => \"flex\", \"flex-direction\" => \"column\") }\n",
       "    HTML{String}(\"<b>power iteration 11</b>\")\n",
       "    [0.752071417351545, -0.5110865784339829, -0.10581527211634305, 0.4024134552974101, -0.006755126203545295])\n",
       "  (div { style=Dict{Any, Any}(\"align-self\" => \"stretch\", \"borderLeft\" => \"solid 1.0px #DEDEDE\") })\n",
       "  (div { style=Dict(\"display\" => \"flex\", \"flex-direction\" => \"column\") }\n",
       "    HTML{String}(\"<b>eigenvector</b>\")\n",
       "    [0.7516527258032667, -0.5171338396934146, -0.14337587333973284, 0.38193050353655744, -0.03410602657662457]))"
      ]
     },
     "metadata": {
      "application/vnd.webio.node+json": {
       "kernelId": "3c7d7052-bde9-4a18-a0c5-24a636d36fd8"
      }
     },
     "output_type": "display_data"
    },
    {
     "data": {
      "application/vnd.webio.node+json": {
       "children": [
        {
         "children": [
          {
           "children": [],
           "instanceArgs": {
            "namespace": "html",
            "tag": "div"
           },
           "nodeType": "DOM",
           "props": {
            "setInnerHtml": "<b>power iteration 12</b>"
           },
           "type": "node"
          },
          {
           "children": [],
           "instanceArgs": {
            "namespace": "html",
            "tag": "div"
           },
           "nodeType": "DOM",
           "props": {
            "setInnerHtml": "<pre>5-element Vector{Float64}:\n  0.7520223363700542\n -0.5125280942056814\n -0.11335817069064183\n  0.3984674144193489\n -0.012288329180469347</pre>"
           },
           "type": "node"
          }
         ],
         "instanceArgs": {
          "namespace": "html",
          "tag": "div"
         },
         "nodeType": "DOM",
         "props": {
          "style": {
           "display": "flex",
           "flex-direction": "column"
          }
         },
         "type": "node"
        },
        {
         "children": [],
         "instanceArgs": {
          "namespace": "html",
          "tag": "div"
         },
         "nodeType": "DOM",
         "props": {
          "style": {
           "align-self": "stretch",
           "borderLeft": "solid 1.0px #DEDEDE"
          }
         },
         "type": "node"
        },
        {
         "children": [
          {
           "children": [],
           "instanceArgs": {
            "namespace": "html",
            "tag": "div"
           },
           "nodeType": "DOM",
           "props": {
            "setInnerHtml": "<b>eigenvector</b>"
           },
           "type": "node"
          },
          {
           "children": [],
           "instanceArgs": {
            "namespace": "html",
            "tag": "div"
           },
           "nodeType": "DOM",
           "props": {
            "setInnerHtml": "<pre>5-element Vector{Float64}:\n  0.7516527258032667\n -0.5171338396934146\n -0.14337587333973284\n  0.38193050353655744\n -0.03410602657662457</pre>"
           },
           "type": "node"
          }
         ],
         "instanceArgs": {
          "namespace": "html",
          "tag": "div"
         },
         "nodeType": "DOM",
         "props": {
          "style": {
           "display": "flex",
           "flex-direction": "column"
          }
         },
         "type": "node"
        }
       ],
       "instanceArgs": {
        "namespace": "html",
        "tag": "div"
       },
       "nodeType": "DOM",
       "props": {
        "style": {
         "display": "flex",
         "flex-direction": "row"
        }
       },
       "type": "node"
      },
      "text/html": [
       "<div\n",
       "    class=\"webio-mountpoint\"\n",
       "    data-webio-mountpoint=\"1757291142718300177\"\n",
       ">\n",
       "    <script>\n",
       "    (function(){\n",
       "    // Some integrations (namely, IJulia/Jupyter) use an alternate render pathway than\n",
       "    // just putting the html on the page. If WebIO isn't defined, then it's pretty likely\n",
       "    // that we're in one of those situations and the integration just isn't installed\n",
       "    // correctly.\n",
       "    if (typeof window.WebIO === \"undefined\") {\n",
       "        document\n",
       "            .querySelector('[data-webio-mountpoint=\"1757291142718300177\"]')\n",
       "            .innerHTML = (\n",
       "                '<div style=\"padding: 1em; background-color: #f8d6da; border: 1px solid #f5c6cb; font-weight: bold;\">' +\n",
       "                '<p><strong>WebIO not detected.</strong></p>' +\n",
       "                '<p>Please read ' +\n",
       "                '<a href=\"https://juliagizmos.github.io/WebIO.jl/latest/troubleshooting/not-detected/\" target=\"_blank\">the troubleshooting guide</a> ' +\n",
       "                'for more information on how to resolve this issue.</p>' +\n",
       "                '<p><a href=\"https://juliagizmos.github.io/WebIO.jl/latest/troubleshooting/not-detected/\" target=\"_blank\">https://juliagizmos.github.io/WebIO.jl/latest/troubleshooting/not-detected/</a></p>' +\n",
       "                '</div>'\n",
       "            );\n",
       "        return;\n",
       "    }\n",
       "    WebIO.mount(\n",
       "        document.querySelector('[data-webio-mountpoint=\"1757291142718300177\"]'),\n",
       "        {\"props\":{\"style\":{\"display\":\"flex\",\"flex-direction\":\"row\"}},\"nodeType\":\"DOM\",\"type\":\"node\",\"instanceArgs\":{\"namespace\":\"html\",\"tag\":\"div\"},\"children\":[{\"props\":{\"style\":{\"display\":\"flex\",\"flex-direction\":\"column\"}},\"nodeType\":\"DOM\",\"type\":\"node\",\"instanceArgs\":{\"namespace\":\"html\",\"tag\":\"div\"},\"children\":[{\"props\":{\"setInnerHtml\":\"<b>power iteration 12<\\/b>\"},\"nodeType\":\"DOM\",\"type\":\"node\",\"instanceArgs\":{\"namespace\":\"html\",\"tag\":\"div\"},\"children\":[]},{\"props\":{\"setInnerHtml\":\"<pre>5-element Vector{Float64}:\\n  0.7520223363700542\\n -0.5125280942056814\\n -0.11335817069064183\\n  0.3984674144193489\\n -0.012288329180469347<\\/pre>\"},\"nodeType\":\"DOM\",\"type\":\"node\",\"instanceArgs\":{\"namespace\":\"html\",\"tag\":\"div\"},\"children\":[]}]},{\"props\":{\"style\":{\"align-self\":\"stretch\",\"borderLeft\":\"solid 1.0px #DEDEDE\"}},\"nodeType\":\"DOM\",\"type\":\"node\",\"instanceArgs\":{\"namespace\":\"html\",\"tag\":\"div\"},\"children\":[]},{\"props\":{\"style\":{\"display\":\"flex\",\"flex-direction\":\"column\"}},\"nodeType\":\"DOM\",\"type\":\"node\",\"instanceArgs\":{\"namespace\":\"html\",\"tag\":\"div\"},\"children\":[{\"props\":{\"setInnerHtml\":\"<b>eigenvector<\\/b>\"},\"nodeType\":\"DOM\",\"type\":\"node\",\"instanceArgs\":{\"namespace\":\"html\",\"tag\":\"div\"},\"children\":[]},{\"props\":{\"setInnerHtml\":\"<pre>5-element Vector{Float64}:\\n  0.7516527258032667\\n -0.5171338396934146\\n -0.14337587333973284\\n  0.38193050353655744\\n -0.03410602657662457<\\/pre>\"},\"nodeType\":\"DOM\",\"type\":\"node\",\"instanceArgs\":{\"namespace\":\"html\",\"tag\":\"div\"},\"children\":[]}]}]},\n",
       "        window,\n",
       "    );\n",
       "    })()\n",
       "    </script>\n",
       "</div>\n"
      ],
      "text/plain": [
       "(div { style=Dict(\"display\" => \"flex\", \"flex-direction\" => \"row\") }\n",
       "  (div { style=Dict(\"display\" => \"flex\", \"flex-direction\" => \"column\") }\n",
       "    HTML{String}(\"<b>power iteration 12</b>\")\n",
       "    [0.7520223363700542, -0.5125280942056814, -0.11335817069064183, 0.3984674144193489, -0.012288329180469347])\n",
       "  (div { style=Dict{Any, Any}(\"align-self\" => \"stretch\", \"borderLeft\" => \"solid 1.0px #DEDEDE\") })\n",
       "  (div { style=Dict(\"display\" => \"flex\", \"flex-direction\" => \"column\") }\n",
       "    HTML{String}(\"<b>eigenvector</b>\")\n",
       "    [0.7516527258032667, -0.5171338396934146, -0.14337587333973284, 0.38193050353655744, -0.03410602657662457]))"
      ]
     },
     "metadata": {
      "application/vnd.webio.node+json": {
       "kernelId": "3c7d7052-bde9-4a18-a0c5-24a636d36fd8"
      }
     },
     "output_type": "display_data"
    },
    {
     "data": {
      "application/vnd.webio.node+json": {
       "children": [
        {
         "children": [
          {
           "children": [],
           "instanceArgs": {
            "namespace": "html",
            "tag": "div"
           },
           "nodeType": "DOM",
           "props": {
            "setInnerHtml": "<b>power iteration 13</b>"
           },
           "type": "node"
          },
          {
           "children": [],
           "instanceArgs": {
            "namespace": "html",
            "tag": "div"
           },
           "nodeType": "DOM",
           "props": {
            "setInnerHtml": "<pre>5-element Vector{Float64}:\n  0.7519763629519373\n -0.5135922148810071\n -0.11938659900114366\n  0.39525018751501867\n -0.01669477832978176</pre>"
           },
           "type": "node"
          }
         ],
         "instanceArgs": {
          "namespace": "html",
          "tag": "div"
         },
         "nodeType": "DOM",
         "props": {
          "style": {
           "display": "flex",
           "flex-direction": "column"
          }
         },
         "type": "node"
        },
        {
         "children": [],
         "instanceArgs": {
          "namespace": "html",
          "tag": "div"
         },
         "nodeType": "DOM",
         "props": {
          "style": {
           "align-self": "stretch",
           "borderLeft": "solid 1.0px #DEDEDE"
          }
         },
         "type": "node"
        },
        {
         "children": [
          {
           "children": [],
           "instanceArgs": {
            "namespace": "html",
            "tag": "div"
           },
           "nodeType": "DOM",
           "props": {
            "setInnerHtml": "<b>eigenvector</b>"
           },
           "type": "node"
          },
          {
           "children": [],
           "instanceArgs": {
            "namespace": "html",
            "tag": "div"
           },
           "nodeType": "DOM",
           "props": {
            "setInnerHtml": "<pre>5-element Vector{Float64}:\n  0.7516527258032667\n -0.5171338396934146\n -0.14337587333973284\n  0.38193050353655744\n -0.03410602657662457</pre>"
           },
           "type": "node"
          }
         ],
         "instanceArgs": {
          "namespace": "html",
          "tag": "div"
         },
         "nodeType": "DOM",
         "props": {
          "style": {
           "display": "flex",
           "flex-direction": "column"
          }
         },
         "type": "node"
        }
       ],
       "instanceArgs": {
        "namespace": "html",
        "tag": "div"
       },
       "nodeType": "DOM",
       "props": {
        "style": {
         "display": "flex",
         "flex-direction": "row"
        }
       },
       "type": "node"
      },
      "text/html": [
       "<div\n",
       "    class=\"webio-mountpoint\"\n",
       "    data-webio-mountpoint=\"1914713396616563925\"\n",
       ">\n",
       "    <script>\n",
       "    (function(){\n",
       "    // Some integrations (namely, IJulia/Jupyter) use an alternate render pathway than\n",
       "    // just putting the html on the page. If WebIO isn't defined, then it's pretty likely\n",
       "    // that we're in one of those situations and the integration just isn't installed\n",
       "    // correctly.\n",
       "    if (typeof window.WebIO === \"undefined\") {\n",
       "        document\n",
       "            .querySelector('[data-webio-mountpoint=\"1914713396616563925\"]')\n",
       "            .innerHTML = (\n",
       "                '<div style=\"padding: 1em; background-color: #f8d6da; border: 1px solid #f5c6cb; font-weight: bold;\">' +\n",
       "                '<p><strong>WebIO not detected.</strong></p>' +\n",
       "                '<p>Please read ' +\n",
       "                '<a href=\"https://juliagizmos.github.io/WebIO.jl/latest/troubleshooting/not-detected/\" target=\"_blank\">the troubleshooting guide</a> ' +\n",
       "                'for more information on how to resolve this issue.</p>' +\n",
       "                '<p><a href=\"https://juliagizmos.github.io/WebIO.jl/latest/troubleshooting/not-detected/\" target=\"_blank\">https://juliagizmos.github.io/WebIO.jl/latest/troubleshooting/not-detected/</a></p>' +\n",
       "                '</div>'\n",
       "            );\n",
       "        return;\n",
       "    }\n",
       "    WebIO.mount(\n",
       "        document.querySelector('[data-webio-mountpoint=\"1914713396616563925\"]'),\n",
       "        {\"props\":{\"style\":{\"display\":\"flex\",\"flex-direction\":\"row\"}},\"nodeType\":\"DOM\",\"type\":\"node\",\"instanceArgs\":{\"namespace\":\"html\",\"tag\":\"div\"},\"children\":[{\"props\":{\"style\":{\"display\":\"flex\",\"flex-direction\":\"column\"}},\"nodeType\":\"DOM\",\"type\":\"node\",\"instanceArgs\":{\"namespace\":\"html\",\"tag\":\"div\"},\"children\":[{\"props\":{\"setInnerHtml\":\"<b>power iteration 13<\\/b>\"},\"nodeType\":\"DOM\",\"type\":\"node\",\"instanceArgs\":{\"namespace\":\"html\",\"tag\":\"div\"},\"children\":[]},{\"props\":{\"setInnerHtml\":\"<pre>5-element Vector{Float64}:\\n  0.7519763629519373\\n -0.5135922148810071\\n -0.11938659900114366\\n  0.39525018751501867\\n -0.01669477832978176<\\/pre>\"},\"nodeType\":\"DOM\",\"type\":\"node\",\"instanceArgs\":{\"namespace\":\"html\",\"tag\":\"div\"},\"children\":[]}]},{\"props\":{\"style\":{\"align-self\":\"stretch\",\"borderLeft\":\"solid 1.0px #DEDEDE\"}},\"nodeType\":\"DOM\",\"type\":\"node\",\"instanceArgs\":{\"namespace\":\"html\",\"tag\":\"div\"},\"children\":[]},{\"props\":{\"style\":{\"display\":\"flex\",\"flex-direction\":\"column\"}},\"nodeType\":\"DOM\",\"type\":\"node\",\"instanceArgs\":{\"namespace\":\"html\",\"tag\":\"div\"},\"children\":[{\"props\":{\"setInnerHtml\":\"<b>eigenvector<\\/b>\"},\"nodeType\":\"DOM\",\"type\":\"node\",\"instanceArgs\":{\"namespace\":\"html\",\"tag\":\"div\"},\"children\":[]},{\"props\":{\"setInnerHtml\":\"<pre>5-element Vector{Float64}:\\n  0.7516527258032667\\n -0.5171338396934146\\n -0.14337587333973284\\n  0.38193050353655744\\n -0.03410602657662457<\\/pre>\"},\"nodeType\":\"DOM\",\"type\":\"node\",\"instanceArgs\":{\"namespace\":\"html\",\"tag\":\"div\"},\"children\":[]}]}]},\n",
       "        window,\n",
       "    );\n",
       "    })()\n",
       "    </script>\n",
       "</div>\n"
      ],
      "text/plain": [
       "(div { style=Dict(\"display\" => \"flex\", \"flex-direction\" => \"row\") }\n",
       "  (div { style=Dict(\"display\" => \"flex\", \"flex-direction\" => \"column\") }\n",
       "    HTML{String}(\"<b>power iteration 13</b>\")\n",
       "    [0.7519763629519373, -0.5135922148810071, -0.11938659900114366, 0.39525018751501867, -0.01669477832978176])\n",
       "  (div { style=Dict{Any, Any}(\"align-self\" => \"stretch\", \"borderLeft\" => \"solid 1.0px #DEDEDE\") })\n",
       "  (div { style=Dict(\"display\" => \"flex\", \"flex-direction\" => \"column\") }\n",
       "    HTML{String}(\"<b>eigenvector</b>\")\n",
       "    [0.7516527258032667, -0.5171338396934146, -0.14337587333973284, 0.38193050353655744, -0.03410602657662457]))"
      ]
     },
     "metadata": {
      "application/vnd.webio.node+json": {
       "kernelId": "3c7d7052-bde9-4a18-a0c5-24a636d36fd8"
      }
     },
     "output_type": "display_data"
    },
    {
     "data": {
      "application/vnd.webio.node+json": {
       "children": [
        {
         "children": [
          {
           "children": [],
           "instanceArgs": {
            "namespace": "html",
            "tag": "div"
           },
           "nodeType": "DOM",
           "props": {
            "setInnerHtml": "<b>power iteration 14</b>"
           },
           "type": "node"
          },
          {
           "children": [],
           "instanceArgs": {
            "namespace": "html",
            "tag": "div"
           },
           "nodeType": "DOM",
           "props": {
            "setInnerHtml": "<pre>5-element Vector{Float64}:\n  0.7519327333918133\n -0.5143889421667326\n -0.12420342496131533\n  0.3926403172250944\n -0.0202057206692113</pre>"
           },
           "type": "node"
          }
         ],
         "instanceArgs": {
          "namespace": "html",
          "tag": "div"
         },
         "nodeType": "DOM",
         "props": {
          "style": {
           "display": "flex",
           "flex-direction": "column"
          }
         },
         "type": "node"
        },
        {
         "children": [],
         "instanceArgs": {
          "namespace": "html",
          "tag": "div"
         },
         "nodeType": "DOM",
         "props": {
          "style": {
           "align-self": "stretch",
           "borderLeft": "solid 1.0px #DEDEDE"
          }
         },
         "type": "node"
        },
        {
         "children": [
          {
           "children": [],
           "instanceArgs": {
            "namespace": "html",
            "tag": "div"
           },
           "nodeType": "DOM",
           "props": {
            "setInnerHtml": "<b>eigenvector</b>"
           },
           "type": "node"
          },
          {
           "children": [],
           "instanceArgs": {
            "namespace": "html",
            "tag": "div"
           },
           "nodeType": "DOM",
           "props": {
            "setInnerHtml": "<pre>5-element Vector{Float64}:\n  0.7516527258032667\n -0.5171338396934146\n -0.14337587333973284\n  0.38193050353655744\n -0.03410602657662457</pre>"
           },
           "type": "node"
          }
         ],
         "instanceArgs": {
          "namespace": "html",
          "tag": "div"
         },
         "nodeType": "DOM",
         "props": {
          "style": {
           "display": "flex",
           "flex-direction": "column"
          }
         },
         "type": "node"
        }
       ],
       "instanceArgs": {
        "namespace": "html",
        "tag": "div"
       },
       "nodeType": "DOM",
       "props": {
        "style": {
         "display": "flex",
         "flex-direction": "row"
        }
       },
       "type": "node"
      },
      "text/html": [
       "<div\n",
       "    class=\"webio-mountpoint\"\n",
       "    data-webio-mountpoint=\"14871999664836116618\"\n",
       ">\n",
       "    <script>\n",
       "    (function(){\n",
       "    // Some integrations (namely, IJulia/Jupyter) use an alternate render pathway than\n",
       "    // just putting the html on the page. If WebIO isn't defined, then it's pretty likely\n",
       "    // that we're in one of those situations and the integration just isn't installed\n",
       "    // correctly.\n",
       "    if (typeof window.WebIO === \"undefined\") {\n",
       "        document\n",
       "            .querySelector('[data-webio-mountpoint=\"14871999664836116618\"]')\n",
       "            .innerHTML = (\n",
       "                '<div style=\"padding: 1em; background-color: #f8d6da; border: 1px solid #f5c6cb; font-weight: bold;\">' +\n",
       "                '<p><strong>WebIO not detected.</strong></p>' +\n",
       "                '<p>Please read ' +\n",
       "                '<a href=\"https://juliagizmos.github.io/WebIO.jl/latest/troubleshooting/not-detected/\" target=\"_blank\">the troubleshooting guide</a> ' +\n",
       "                'for more information on how to resolve this issue.</p>' +\n",
       "                '<p><a href=\"https://juliagizmos.github.io/WebIO.jl/latest/troubleshooting/not-detected/\" target=\"_blank\">https://juliagizmos.github.io/WebIO.jl/latest/troubleshooting/not-detected/</a></p>' +\n",
       "                '</div>'\n",
       "            );\n",
       "        return;\n",
       "    }\n",
       "    WebIO.mount(\n",
       "        document.querySelector('[data-webio-mountpoint=\"14871999664836116618\"]'),\n",
       "        {\"props\":{\"style\":{\"display\":\"flex\",\"flex-direction\":\"row\"}},\"nodeType\":\"DOM\",\"type\":\"node\",\"instanceArgs\":{\"namespace\":\"html\",\"tag\":\"div\"},\"children\":[{\"props\":{\"style\":{\"display\":\"flex\",\"flex-direction\":\"column\"}},\"nodeType\":\"DOM\",\"type\":\"node\",\"instanceArgs\":{\"namespace\":\"html\",\"tag\":\"div\"},\"children\":[{\"props\":{\"setInnerHtml\":\"<b>power iteration 14<\\/b>\"},\"nodeType\":\"DOM\",\"type\":\"node\",\"instanceArgs\":{\"namespace\":\"html\",\"tag\":\"div\"},\"children\":[]},{\"props\":{\"setInnerHtml\":\"<pre>5-element Vector{Float64}:\\n  0.7519327333918133\\n -0.5143889421667326\\n -0.12420342496131533\\n  0.3926403172250944\\n -0.0202057206692113<\\/pre>\"},\"nodeType\":\"DOM\",\"type\":\"node\",\"instanceArgs\":{\"namespace\":\"html\",\"tag\":\"div\"},\"children\":[]}]},{\"props\":{\"style\":{\"align-self\":\"stretch\",\"borderLeft\":\"solid 1.0px #DEDEDE\"}},\"nodeType\":\"DOM\",\"type\":\"node\",\"instanceArgs\":{\"namespace\":\"html\",\"tag\":\"div\"},\"children\":[]},{\"props\":{\"style\":{\"display\":\"flex\",\"flex-direction\":\"column\"}},\"nodeType\":\"DOM\",\"type\":\"node\",\"instanceArgs\":{\"namespace\":\"html\",\"tag\":\"div\"},\"children\":[{\"props\":{\"setInnerHtml\":\"<b>eigenvector<\\/b>\"},\"nodeType\":\"DOM\",\"type\":\"node\",\"instanceArgs\":{\"namespace\":\"html\",\"tag\":\"div\"},\"children\":[]},{\"props\":{\"setInnerHtml\":\"<pre>5-element Vector{Float64}:\\n  0.7516527258032667\\n -0.5171338396934146\\n -0.14337587333973284\\n  0.38193050353655744\\n -0.03410602657662457<\\/pre>\"},\"nodeType\":\"DOM\",\"type\":\"node\",\"instanceArgs\":{\"namespace\":\"html\",\"tag\":\"div\"},\"children\":[]}]}]},\n",
       "        window,\n",
       "    );\n",
       "    })()\n",
       "    </script>\n",
       "</div>\n"
      ],
      "text/plain": [
       "(div { style=Dict(\"display\" => \"flex\", \"flex-direction\" => \"row\") }\n",
       "  (div { style=Dict(\"display\" => \"flex\", \"flex-direction\" => \"column\") }\n",
       "    HTML{String}(\"<b>power iteration 14</b>\")\n",
       "    [0.7519327333918133, -0.5143889421667326, -0.12420342496131533, 0.3926403172250944, -0.0202057206692113])\n",
       "  (div { style=Dict{Any, Any}(\"align-self\" => \"stretch\", \"borderLeft\" => \"solid 1.0px #DEDEDE\") })\n",
       "  (div { style=Dict(\"display\" => \"flex\", \"flex-direction\" => \"column\") }\n",
       "    HTML{String}(\"<b>eigenvector</b>\")\n",
       "    [0.7516527258032667, -0.5171338396934146, -0.14337587333973284, 0.38193050353655744, -0.03410602657662457]))"
      ]
     },
     "metadata": {
      "application/vnd.webio.node+json": {
       "kernelId": "3c7d7052-bde9-4a18-a0c5-24a636d36fd8"
      }
     },
     "output_type": "display_data"
    },
    {
     "data": {
      "application/vnd.webio.node+json": {
       "children": [
        {
         "children": [
          {
           "children": [],
           "instanceArgs": {
            "namespace": "html",
            "tag": "div"
           },
           "nodeType": "DOM",
           "props": {
            "setInnerHtml": "<b>power iteration 15</b>"
           },
           "type": "node"
          },
          {
           "children": [],
           "instanceArgs": {
            "namespace": "html",
            "tag": "div"
           },
           "nodeType": "DOM",
           "props": {
            "setInnerHtml": "<pre>5-element Vector{Float64}:\n  0.7518920576853981\n -0.5149927335308243\n -0.1280518264340346\n  0.3905308305651388\n -0.023004741360820972</pre>"
           },
           "type": "node"
          }
         ],
         "instanceArgs": {
          "namespace": "html",
          "tag": "div"
         },
         "nodeType": "DOM",
         "props": {
          "style": {
           "display": "flex",
           "flex-direction": "column"
          }
         },
         "type": "node"
        },
        {
         "children": [],
         "instanceArgs": {
          "namespace": "html",
          "tag": "div"
         },
         "nodeType": "DOM",
         "props": {
          "style": {
           "align-self": "stretch",
           "borderLeft": "solid 1.0px #DEDEDE"
          }
         },
         "type": "node"
        },
        {
         "children": [
          {
           "children": [],
           "instanceArgs": {
            "namespace": "html",
            "tag": "div"
           },
           "nodeType": "DOM",
           "props": {
            "setInnerHtml": "<b>eigenvector</b>"
           },
           "type": "node"
          },
          {
           "children": [],
           "instanceArgs": {
            "namespace": "html",
            "tag": "div"
           },
           "nodeType": "DOM",
           "props": {
            "setInnerHtml": "<pre>5-element Vector{Float64}:\n  0.7516527258032667\n -0.5171338396934146\n -0.14337587333973284\n  0.38193050353655744\n -0.03410602657662457</pre>"
           },
           "type": "node"
          }
         ],
         "instanceArgs": {
          "namespace": "html",
          "tag": "div"
         },
         "nodeType": "DOM",
         "props": {
          "style": {
           "display": "flex",
           "flex-direction": "column"
          }
         },
         "type": "node"
        }
       ],
       "instanceArgs": {
        "namespace": "html",
        "tag": "div"
       },
       "nodeType": "DOM",
       "props": {
        "style": {
         "display": "flex",
         "flex-direction": "row"
        }
       },
       "type": "node"
      },
      "text/html": [
       "<div\n",
       "    class=\"webio-mountpoint\"\n",
       "    data-webio-mountpoint=\"14453078736587194731\"\n",
       ">\n",
       "    <script>\n",
       "    (function(){\n",
       "    // Some integrations (namely, IJulia/Jupyter) use an alternate render pathway than\n",
       "    // just putting the html on the page. If WebIO isn't defined, then it's pretty likely\n",
       "    // that we're in one of those situations and the integration just isn't installed\n",
       "    // correctly.\n",
       "    if (typeof window.WebIO === \"undefined\") {\n",
       "        document\n",
       "            .querySelector('[data-webio-mountpoint=\"14453078736587194731\"]')\n",
       "            .innerHTML = (\n",
       "                '<div style=\"padding: 1em; background-color: #f8d6da; border: 1px solid #f5c6cb; font-weight: bold;\">' +\n",
       "                '<p><strong>WebIO not detected.</strong></p>' +\n",
       "                '<p>Please read ' +\n",
       "                '<a href=\"https://juliagizmos.github.io/WebIO.jl/latest/troubleshooting/not-detected/\" target=\"_blank\">the troubleshooting guide</a> ' +\n",
       "                'for more information on how to resolve this issue.</p>' +\n",
       "                '<p><a href=\"https://juliagizmos.github.io/WebIO.jl/latest/troubleshooting/not-detected/\" target=\"_blank\">https://juliagizmos.github.io/WebIO.jl/latest/troubleshooting/not-detected/</a></p>' +\n",
       "                '</div>'\n",
       "            );\n",
       "        return;\n",
       "    }\n",
       "    WebIO.mount(\n",
       "        document.querySelector('[data-webio-mountpoint=\"14453078736587194731\"]'),\n",
       "        {\"props\":{\"style\":{\"display\":\"flex\",\"flex-direction\":\"row\"}},\"nodeType\":\"DOM\",\"type\":\"node\",\"instanceArgs\":{\"namespace\":\"html\",\"tag\":\"div\"},\"children\":[{\"props\":{\"style\":{\"display\":\"flex\",\"flex-direction\":\"column\"}},\"nodeType\":\"DOM\",\"type\":\"node\",\"instanceArgs\":{\"namespace\":\"html\",\"tag\":\"div\"},\"children\":[{\"props\":{\"setInnerHtml\":\"<b>power iteration 15<\\/b>\"},\"nodeType\":\"DOM\",\"type\":\"node\",\"instanceArgs\":{\"namespace\":\"html\",\"tag\":\"div\"},\"children\":[]},{\"props\":{\"setInnerHtml\":\"<pre>5-element Vector{Float64}:\\n  0.7518920576853981\\n -0.5149927335308243\\n -0.1280518264340346\\n  0.3905308305651388\\n -0.023004741360820972<\\/pre>\"},\"nodeType\":\"DOM\",\"type\":\"node\",\"instanceArgs\":{\"namespace\":\"html\",\"tag\":\"div\"},\"children\":[]}]},{\"props\":{\"style\":{\"align-self\":\"stretch\",\"borderLeft\":\"solid 1.0px #DEDEDE\"}},\"nodeType\":\"DOM\",\"type\":\"node\",\"instanceArgs\":{\"namespace\":\"html\",\"tag\":\"div\"},\"children\":[]},{\"props\":{\"style\":{\"display\":\"flex\",\"flex-direction\":\"column\"}},\"nodeType\":\"DOM\",\"type\":\"node\",\"instanceArgs\":{\"namespace\":\"html\",\"tag\":\"div\"},\"children\":[{\"props\":{\"setInnerHtml\":\"<b>eigenvector<\\/b>\"},\"nodeType\":\"DOM\",\"type\":\"node\",\"instanceArgs\":{\"namespace\":\"html\",\"tag\":\"div\"},\"children\":[]},{\"props\":{\"setInnerHtml\":\"<pre>5-element Vector{Float64}:\\n  0.7516527258032667\\n -0.5171338396934146\\n -0.14337587333973284\\n  0.38193050353655744\\n -0.03410602657662457<\\/pre>\"},\"nodeType\":\"DOM\",\"type\":\"node\",\"instanceArgs\":{\"namespace\":\"html\",\"tag\":\"div\"},\"children\":[]}]}]},\n",
       "        window,\n",
       "    );\n",
       "    })()\n",
       "    </script>\n",
       "</div>\n"
      ],
      "text/plain": [
       "(div { style=Dict(\"display\" => \"flex\", \"flex-direction\" => \"row\") }\n",
       "  (div { style=Dict(\"display\" => \"flex\", \"flex-direction\" => \"column\") }\n",
       "    HTML{String}(\"<b>power iteration 15</b>\")\n",
       "    [0.7518920576853981, -0.5149927335308243, -0.1280518264340346, 0.3905308305651388, -0.023004741360820972])\n",
       "  (div { style=Dict{Any, Any}(\"align-self\" => \"stretch\", \"borderLeft\" => \"solid 1.0px #DEDEDE\") })\n",
       "  (div { style=Dict(\"display\" => \"flex\", \"flex-direction\" => \"column\") }\n",
       "    HTML{String}(\"<b>eigenvector</b>\")\n",
       "    [0.7516527258032667, -0.5171338396934146, -0.14337587333973284, 0.38193050353655744, -0.03410602657662457]))"
      ]
     },
     "metadata": {
      "application/vnd.webio.node+json": {
       "kernelId": "3c7d7052-bde9-4a18-a0c5-24a636d36fd8"
      }
     },
     "output_type": "display_data"
    },
    {
     "data": {
      "application/vnd.webio.node+json": {
       "children": [
        {
         "children": [
          {
           "children": [],
           "instanceArgs": {
            "namespace": "html",
            "tag": "div"
           },
           "nodeType": "DOM",
           "props": {
            "setInnerHtml": "<b>power iteration 16</b>"
           },
           "type": "node"
          },
          {
           "children": [],
           "instanceArgs": {
            "namespace": "html",
            "tag": "div"
           },
           "nodeType": "DOM",
           "props": {
            "setInnerHtml": "<pre>5-element Vector{Float64}:\n  0.7518550514609499\n -0.5154550141540767\n -0.13112656679221216\n  0.38883030463339663\n -0.025237425701930712</pre>"
           },
           "type": "node"
          }
         ],
         "instanceArgs": {
          "namespace": "html",
          "tag": "div"
         },
         "nodeType": "DOM",
         "props": {
          "style": {
           "display": "flex",
           "flex-direction": "column"
          }
         },
         "type": "node"
        },
        {
         "children": [],
         "instanceArgs": {
          "namespace": "html",
          "tag": "div"
         },
         "nodeType": "DOM",
         "props": {
          "style": {
           "align-self": "stretch",
           "borderLeft": "solid 1.0px #DEDEDE"
          }
         },
         "type": "node"
        },
        {
         "children": [
          {
           "children": [],
           "instanceArgs": {
            "namespace": "html",
            "tag": "div"
           },
           "nodeType": "DOM",
           "props": {
            "setInnerHtml": "<b>eigenvector</b>"
           },
           "type": "node"
          },
          {
           "children": [],
           "instanceArgs": {
            "namespace": "html",
            "tag": "div"
           },
           "nodeType": "DOM",
           "props": {
            "setInnerHtml": "<pre>5-element Vector{Float64}:\n  0.7516527258032667\n -0.5171338396934146\n -0.14337587333973284\n  0.38193050353655744\n -0.03410602657662457</pre>"
           },
           "type": "node"
          }
         ],
         "instanceArgs": {
          "namespace": "html",
          "tag": "div"
         },
         "nodeType": "DOM",
         "props": {
          "style": {
           "display": "flex",
           "flex-direction": "column"
          }
         },
         "type": "node"
        }
       ],
       "instanceArgs": {
        "namespace": "html",
        "tag": "div"
       },
       "nodeType": "DOM",
       "props": {
        "style": {
         "display": "flex",
         "flex-direction": "row"
        }
       },
       "type": "node"
      },
      "text/html": [
       "<div\n",
       "    class=\"webio-mountpoint\"\n",
       "    data-webio-mountpoint=\"12669876060418202529\"\n",
       ">\n",
       "    <script>\n",
       "    (function(){\n",
       "    // Some integrations (namely, IJulia/Jupyter) use an alternate render pathway than\n",
       "    // just putting the html on the page. If WebIO isn't defined, then it's pretty likely\n",
       "    // that we're in one of those situations and the integration just isn't installed\n",
       "    // correctly.\n",
       "    if (typeof window.WebIO === \"undefined\") {\n",
       "        document\n",
       "            .querySelector('[data-webio-mountpoint=\"12669876060418202529\"]')\n",
       "            .innerHTML = (\n",
       "                '<div style=\"padding: 1em; background-color: #f8d6da; border: 1px solid #f5c6cb; font-weight: bold;\">' +\n",
       "                '<p><strong>WebIO not detected.</strong></p>' +\n",
       "                '<p>Please read ' +\n",
       "                '<a href=\"https://juliagizmos.github.io/WebIO.jl/latest/troubleshooting/not-detected/\" target=\"_blank\">the troubleshooting guide</a> ' +\n",
       "                'for more information on how to resolve this issue.</p>' +\n",
       "                '<p><a href=\"https://juliagizmos.github.io/WebIO.jl/latest/troubleshooting/not-detected/\" target=\"_blank\">https://juliagizmos.github.io/WebIO.jl/latest/troubleshooting/not-detected/</a></p>' +\n",
       "                '</div>'\n",
       "            );\n",
       "        return;\n",
       "    }\n",
       "    WebIO.mount(\n",
       "        document.querySelector('[data-webio-mountpoint=\"12669876060418202529\"]'),\n",
       "        {\"props\":{\"style\":{\"display\":\"flex\",\"flex-direction\":\"row\"}},\"nodeType\":\"DOM\",\"type\":\"node\",\"instanceArgs\":{\"namespace\":\"html\",\"tag\":\"div\"},\"children\":[{\"props\":{\"style\":{\"display\":\"flex\",\"flex-direction\":\"column\"}},\"nodeType\":\"DOM\",\"type\":\"node\",\"instanceArgs\":{\"namespace\":\"html\",\"tag\":\"div\"},\"children\":[{\"props\":{\"setInnerHtml\":\"<b>power iteration 16<\\/b>\"},\"nodeType\":\"DOM\",\"type\":\"node\",\"instanceArgs\":{\"namespace\":\"html\",\"tag\":\"div\"},\"children\":[]},{\"props\":{\"setInnerHtml\":\"<pre>5-element Vector{Float64}:\\n  0.7518550514609499\\n -0.5154550141540767\\n -0.13112656679221216\\n  0.38883030463339663\\n -0.025237425701930712<\\/pre>\"},\"nodeType\":\"DOM\",\"type\":\"node\",\"instanceArgs\":{\"namespace\":\"html\",\"tag\":\"div\"},\"children\":[]}]},{\"props\":{\"style\":{\"align-self\":\"stretch\",\"borderLeft\":\"solid 1.0px #DEDEDE\"}},\"nodeType\":\"DOM\",\"type\":\"node\",\"instanceArgs\":{\"namespace\":\"html\",\"tag\":\"div\"},\"children\":[]},{\"props\":{\"style\":{\"display\":\"flex\",\"flex-direction\":\"column\"}},\"nodeType\":\"DOM\",\"type\":\"node\",\"instanceArgs\":{\"namespace\":\"html\",\"tag\":\"div\"},\"children\":[{\"props\":{\"setInnerHtml\":\"<b>eigenvector<\\/b>\"},\"nodeType\":\"DOM\",\"type\":\"node\",\"instanceArgs\":{\"namespace\":\"html\",\"tag\":\"div\"},\"children\":[]},{\"props\":{\"setInnerHtml\":\"<pre>5-element Vector{Float64}:\\n  0.7516527258032667\\n -0.5171338396934146\\n -0.14337587333973284\\n  0.38193050353655744\\n -0.03410602657662457<\\/pre>\"},\"nodeType\":\"DOM\",\"type\":\"node\",\"instanceArgs\":{\"namespace\":\"html\",\"tag\":\"div\"},\"children\":[]}]}]},\n",
       "        window,\n",
       "    );\n",
       "    })()\n",
       "    </script>\n",
       "</div>\n"
      ],
      "text/plain": [
       "(div { style=Dict(\"display\" => \"flex\", \"flex-direction\" => \"row\") }\n",
       "  (div { style=Dict(\"display\" => \"flex\", \"flex-direction\" => \"column\") }\n",
       "    HTML{String}(\"<b>power iteration 16</b>\")\n",
       "    [0.7518550514609499, -0.5154550141540767, -0.13112656679221216, 0.38883030463339663, -0.025237425701930712])\n",
       "  (div { style=Dict{Any, Any}(\"align-self\" => \"stretch\", \"borderLeft\" => \"solid 1.0px #DEDEDE\") })\n",
       "  (div { style=Dict(\"display\" => \"flex\", \"flex-direction\" => \"column\") }\n",
       "    HTML{String}(\"<b>eigenvector</b>\")\n",
       "    [0.7516527258032667, -0.5171338396934146, -0.14337587333973284, 0.38193050353655744, -0.03410602657662457]))"
      ]
     },
     "metadata": {
      "application/vnd.webio.node+json": {
       "kernelId": "3c7d7052-bde9-4a18-a0c5-24a636d36fd8"
      }
     },
     "output_type": "display_data"
    },
    {
     "data": {
      "application/vnd.webio.node+json": {
       "children": [
        {
         "children": [
          {
           "children": [],
           "instanceArgs": {
            "namespace": "html",
            "tag": "div"
           },
           "nodeType": "DOM",
           "props": {
            "setInnerHtml": "<b>power iteration 17</b>"
           },
           "type": "node"
          },
          {
           "children": [],
           "instanceArgs": {
            "namespace": "html",
            "tag": "div"
           },
           "nodeType": "DOM",
           "props": {
            "setInnerHtml": "<pre>5-element Vector{Float64}:\n  0.7518221506842239\n -0.5158119817762924\n -0.13358338052866245\n  0.3874621194383501\n -0.027019245796988122</pre>"
           },
           "type": "node"
          }
         ],
         "instanceArgs": {
          "namespace": "html",
          "tag": "div"
         },
         "nodeType": "DOM",
         "props": {
          "style": {
           "display": "flex",
           "flex-direction": "column"
          }
         },
         "type": "node"
        },
        {
         "children": [],
         "instanceArgs": {
          "namespace": "html",
          "tag": "div"
         },
         "nodeType": "DOM",
         "props": {
          "style": {
           "align-self": "stretch",
           "borderLeft": "solid 1.0px #DEDEDE"
          }
         },
         "type": "node"
        },
        {
         "children": [
          {
           "children": [],
           "instanceArgs": {
            "namespace": "html",
            "tag": "div"
           },
           "nodeType": "DOM",
           "props": {
            "setInnerHtml": "<b>eigenvector</b>"
           },
           "type": "node"
          },
          {
           "children": [],
           "instanceArgs": {
            "namespace": "html",
            "tag": "div"
           },
           "nodeType": "DOM",
           "props": {
            "setInnerHtml": "<pre>5-element Vector{Float64}:\n  0.7516527258032667\n -0.5171338396934146\n -0.14337587333973284\n  0.38193050353655744\n -0.03410602657662457</pre>"
           },
           "type": "node"
          }
         ],
         "instanceArgs": {
          "namespace": "html",
          "tag": "div"
         },
         "nodeType": "DOM",
         "props": {
          "style": {
           "display": "flex",
           "flex-direction": "column"
          }
         },
         "type": "node"
        }
       ],
       "instanceArgs": {
        "namespace": "html",
        "tag": "div"
       },
       "nodeType": "DOM",
       "props": {
        "style": {
         "display": "flex",
         "flex-direction": "row"
        }
       },
       "type": "node"
      },
      "text/html": [
       "<div\n",
       "    class=\"webio-mountpoint\"\n",
       "    data-webio-mountpoint=\"2193326174651465553\"\n",
       ">\n",
       "    <script>\n",
       "    (function(){\n",
       "    // Some integrations (namely, IJulia/Jupyter) use an alternate render pathway than\n",
       "    // just putting the html on the page. If WebIO isn't defined, then it's pretty likely\n",
       "    // that we're in one of those situations and the integration just isn't installed\n",
       "    // correctly.\n",
       "    if (typeof window.WebIO === \"undefined\") {\n",
       "        document\n",
       "            .querySelector('[data-webio-mountpoint=\"2193326174651465553\"]')\n",
       "            .innerHTML = (\n",
       "                '<div style=\"padding: 1em; background-color: #f8d6da; border: 1px solid #f5c6cb; font-weight: bold;\">' +\n",
       "                '<p><strong>WebIO not detected.</strong></p>' +\n",
       "                '<p>Please read ' +\n",
       "                '<a href=\"https://juliagizmos.github.io/WebIO.jl/latest/troubleshooting/not-detected/\" target=\"_blank\">the troubleshooting guide</a> ' +\n",
       "                'for more information on how to resolve this issue.</p>' +\n",
       "                '<p><a href=\"https://juliagizmos.github.io/WebIO.jl/latest/troubleshooting/not-detected/\" target=\"_blank\">https://juliagizmos.github.io/WebIO.jl/latest/troubleshooting/not-detected/</a></p>' +\n",
       "                '</div>'\n",
       "            );\n",
       "        return;\n",
       "    }\n",
       "    WebIO.mount(\n",
       "        document.querySelector('[data-webio-mountpoint=\"2193326174651465553\"]'),\n",
       "        {\"props\":{\"style\":{\"display\":\"flex\",\"flex-direction\":\"row\"}},\"nodeType\":\"DOM\",\"type\":\"node\",\"instanceArgs\":{\"namespace\":\"html\",\"tag\":\"div\"},\"children\":[{\"props\":{\"style\":{\"display\":\"flex\",\"flex-direction\":\"column\"}},\"nodeType\":\"DOM\",\"type\":\"node\",\"instanceArgs\":{\"namespace\":\"html\",\"tag\":\"div\"},\"children\":[{\"props\":{\"setInnerHtml\":\"<b>power iteration 17<\\/b>\"},\"nodeType\":\"DOM\",\"type\":\"node\",\"instanceArgs\":{\"namespace\":\"html\",\"tag\":\"div\"},\"children\":[]},{\"props\":{\"setInnerHtml\":\"<pre>5-element Vector{Float64}:\\n  0.7518221506842239\\n -0.5158119817762924\\n -0.13358338052866245\\n  0.3874621194383501\\n -0.027019245796988122<\\/pre>\"},\"nodeType\":\"DOM\",\"type\":\"node\",\"instanceArgs\":{\"namespace\":\"html\",\"tag\":\"div\"},\"children\":[]}]},{\"props\":{\"style\":{\"align-self\":\"stretch\",\"borderLeft\":\"solid 1.0px #DEDEDE\"}},\"nodeType\":\"DOM\",\"type\":\"node\",\"instanceArgs\":{\"namespace\":\"html\",\"tag\":\"div\"},\"children\":[]},{\"props\":{\"style\":{\"display\":\"flex\",\"flex-direction\":\"column\"}},\"nodeType\":\"DOM\",\"type\":\"node\",\"instanceArgs\":{\"namespace\":\"html\",\"tag\":\"div\"},\"children\":[{\"props\":{\"setInnerHtml\":\"<b>eigenvector<\\/b>\"},\"nodeType\":\"DOM\",\"type\":\"node\",\"instanceArgs\":{\"namespace\":\"html\",\"tag\":\"div\"},\"children\":[]},{\"props\":{\"setInnerHtml\":\"<pre>5-element Vector{Float64}:\\n  0.7516527258032667\\n -0.5171338396934146\\n -0.14337587333973284\\n  0.38193050353655744\\n -0.03410602657662457<\\/pre>\"},\"nodeType\":\"DOM\",\"type\":\"node\",\"instanceArgs\":{\"namespace\":\"html\",\"tag\":\"div\"},\"children\":[]}]}]},\n",
       "        window,\n",
       "    );\n",
       "    })()\n",
       "    </script>\n",
       "</div>\n"
      ],
      "text/plain": [
       "(div { style=Dict(\"display\" => \"flex\", \"flex-direction\" => \"row\") }\n",
       "  (div { style=Dict(\"display\" => \"flex\", \"flex-direction\" => \"column\") }\n",
       "    HTML{String}(\"<b>power iteration 17</b>\")\n",
       "    [0.7518221506842239, -0.5158119817762924, -0.13358338052866245, 0.3874621194383501, -0.027019245796988122])\n",
       "  (div { style=Dict{Any, Any}(\"align-self\" => \"stretch\", \"borderLeft\" => \"solid 1.0px #DEDEDE\") })\n",
       "  (div { style=Dict(\"display\" => \"flex\", \"flex-direction\" => \"column\") }\n",
       "    HTML{String}(\"<b>eigenvector</b>\")\n",
       "    [0.7516527258032667, -0.5171338396934146, -0.14337587333973284, 0.38193050353655744, -0.03410602657662457]))"
      ]
     },
     "metadata": {
      "application/vnd.webio.node+json": {
       "kernelId": "3c7d7052-bde9-4a18-a0c5-24a636d36fd8"
      }
     },
     "output_type": "display_data"
    },
    {
     "data": {
      "application/vnd.webio.node+json": {
       "children": [
        {
         "children": [
          {
           "children": [],
           "instanceArgs": {
            "namespace": "html",
            "tag": "div"
           },
           "nodeType": "DOM",
           "props": {
            "setInnerHtml": "<b>power iteration 18</b>"
           },
           "type": "node"
          },
          {
           "children": [],
           "instanceArgs": {
            "namespace": "html",
            "tag": "div"
           },
           "nodeType": "DOM",
           "props": {
            "setInnerHtml": "<pre>5-element Vector{Float64}:\n  0.7517934683783734\n -0.5160895728629241\n -0.1355466757996753\n  0.38636290318113226\n -0.02844186018678891</pre>"
           },
           "type": "node"
          }
         ],
         "instanceArgs": {
          "namespace": "html",
          "tag": "div"
         },
         "nodeType": "DOM",
         "props": {
          "style": {
           "display": "flex",
           "flex-direction": "column"
          }
         },
         "type": "node"
        },
        {
         "children": [],
         "instanceArgs": {
          "namespace": "html",
          "tag": "div"
         },
         "nodeType": "DOM",
         "props": {
          "style": {
           "align-self": "stretch",
           "borderLeft": "solid 1.0px #DEDEDE"
          }
         },
         "type": "node"
        },
        {
         "children": [
          {
           "children": [],
           "instanceArgs": {
            "namespace": "html",
            "tag": "div"
           },
           "nodeType": "DOM",
           "props": {
            "setInnerHtml": "<b>eigenvector</b>"
           },
           "type": "node"
          },
          {
           "children": [],
           "instanceArgs": {
            "namespace": "html",
            "tag": "div"
           },
           "nodeType": "DOM",
           "props": {
            "setInnerHtml": "<pre>5-element Vector{Float64}:\n  0.7516527258032667\n -0.5171338396934146\n -0.14337587333973284\n  0.38193050353655744\n -0.03410602657662457</pre>"
           },
           "type": "node"
          }
         ],
         "instanceArgs": {
          "namespace": "html",
          "tag": "div"
         },
         "nodeType": "DOM",
         "props": {
          "style": {
           "display": "flex",
           "flex-direction": "column"
          }
         },
         "type": "node"
        }
       ],
       "instanceArgs": {
        "namespace": "html",
        "tag": "div"
       },
       "nodeType": "DOM",
       "props": {
        "style": {
         "display": "flex",
         "flex-direction": "row"
        }
       },
       "type": "node"
      },
      "text/html": [
       "<div\n",
       "    class=\"webio-mountpoint\"\n",
       "    data-webio-mountpoint=\"12951819198645512422\"\n",
       ">\n",
       "    <script>\n",
       "    (function(){\n",
       "    // Some integrations (namely, IJulia/Jupyter) use an alternate render pathway than\n",
       "    // just putting the html on the page. If WebIO isn't defined, then it's pretty likely\n",
       "    // that we're in one of those situations and the integration just isn't installed\n",
       "    // correctly.\n",
       "    if (typeof window.WebIO === \"undefined\") {\n",
       "        document\n",
       "            .querySelector('[data-webio-mountpoint=\"12951819198645512422\"]')\n",
       "            .innerHTML = (\n",
       "                '<div style=\"padding: 1em; background-color: #f8d6da; border: 1px solid #f5c6cb; font-weight: bold;\">' +\n",
       "                '<p><strong>WebIO not detected.</strong></p>' +\n",
       "                '<p>Please read ' +\n",
       "                '<a href=\"https://juliagizmos.github.io/WebIO.jl/latest/troubleshooting/not-detected/\" target=\"_blank\">the troubleshooting guide</a> ' +\n",
       "                'for more information on how to resolve this issue.</p>' +\n",
       "                '<p><a href=\"https://juliagizmos.github.io/WebIO.jl/latest/troubleshooting/not-detected/\" target=\"_blank\">https://juliagizmos.github.io/WebIO.jl/latest/troubleshooting/not-detected/</a></p>' +\n",
       "                '</div>'\n",
       "            );\n",
       "        return;\n",
       "    }\n",
       "    WebIO.mount(\n",
       "        document.querySelector('[data-webio-mountpoint=\"12951819198645512422\"]'),\n",
       "        {\"props\":{\"style\":{\"display\":\"flex\",\"flex-direction\":\"row\"}},\"nodeType\":\"DOM\",\"type\":\"node\",\"instanceArgs\":{\"namespace\":\"html\",\"tag\":\"div\"},\"children\":[{\"props\":{\"style\":{\"display\":\"flex\",\"flex-direction\":\"column\"}},\"nodeType\":\"DOM\",\"type\":\"node\",\"instanceArgs\":{\"namespace\":\"html\",\"tag\":\"div\"},\"children\":[{\"props\":{\"setInnerHtml\":\"<b>power iteration 18<\\/b>\"},\"nodeType\":\"DOM\",\"type\":\"node\",\"instanceArgs\":{\"namespace\":\"html\",\"tag\":\"div\"},\"children\":[]},{\"props\":{\"setInnerHtml\":\"<pre>5-element Vector{Float64}:\\n  0.7517934683783734\\n -0.5160895728629241\\n -0.1355466757996753\\n  0.38636290318113226\\n -0.02844186018678891<\\/pre>\"},\"nodeType\":\"DOM\",\"type\":\"node\",\"instanceArgs\":{\"namespace\":\"html\",\"tag\":\"div\"},\"children\":[]}]},{\"props\":{\"style\":{\"align-self\":\"stretch\",\"borderLeft\":\"solid 1.0px #DEDEDE\"}},\"nodeType\":\"DOM\",\"type\":\"node\",\"instanceArgs\":{\"namespace\":\"html\",\"tag\":\"div\"},\"children\":[]},{\"props\":{\"style\":{\"display\":\"flex\",\"flex-direction\":\"column\"}},\"nodeType\":\"DOM\",\"type\":\"node\",\"instanceArgs\":{\"namespace\":\"html\",\"tag\":\"div\"},\"children\":[{\"props\":{\"setInnerHtml\":\"<b>eigenvector<\\/b>\"},\"nodeType\":\"DOM\",\"type\":\"node\",\"instanceArgs\":{\"namespace\":\"html\",\"tag\":\"div\"},\"children\":[]},{\"props\":{\"setInnerHtml\":\"<pre>5-element Vector{Float64}:\\n  0.7516527258032667\\n -0.5171338396934146\\n -0.14337587333973284\\n  0.38193050353655744\\n -0.03410602657662457<\\/pre>\"},\"nodeType\":\"DOM\",\"type\":\"node\",\"instanceArgs\":{\"namespace\":\"html\",\"tag\":\"div\"},\"children\":[]}]}]},\n",
       "        window,\n",
       "    );\n",
       "    })()\n",
       "    </script>\n",
       "</div>\n"
      ],
      "text/plain": [
       "(div { style=Dict(\"display\" => \"flex\", \"flex-direction\" => \"row\") }\n",
       "  (div { style=Dict(\"display\" => \"flex\", \"flex-direction\" => \"column\") }\n",
       "    HTML{String}(\"<b>power iteration 18</b>\")\n",
       "    [0.7517934683783734, -0.5160895728629241, -0.1355466757996753, 0.38636290318113226, -0.02844186018678891])\n",
       "  (div { style=Dict{Any, Any}(\"align-self\" => \"stretch\", \"borderLeft\" => \"solid 1.0px #DEDEDE\") })\n",
       "  (div { style=Dict(\"display\" => \"flex\", \"flex-direction\" => \"column\") }\n",
       "    HTML{String}(\"<b>eigenvector</b>\")\n",
       "    [0.7516527258032667, -0.5171338396934146, -0.14337587333973284, 0.38193050353655744, -0.03410602657662457]))"
      ]
     },
     "metadata": {
      "application/vnd.webio.node+json": {
       "kernelId": "3c7d7052-bde9-4a18-a0c5-24a636d36fd8"
      }
     },
     "output_type": "display_data"
    },
    {
     "data": {
      "application/vnd.webio.node+json": {
       "children": [
        {
         "children": [
          {
           "children": [],
           "instanceArgs": {
            "namespace": "html",
            "tag": "div"
           },
           "nodeType": "DOM",
           "props": {
            "setInnerHtml": "<b>power iteration 19</b>"
           },
           "type": "node"
          },
          {
           "children": [],
           "instanceArgs": {
            "namespace": "html",
            "tag": "div"
           },
           "nodeType": "DOM",
           "props": {
            "setInnerHtml": "<pre>5-element Vector{Float64}:\n  0.7517688637969465\n -0.516306679821705\n -0.1371157877795076\n  0.38548071899534136\n -0.029578096987045565</pre>"
           },
           "type": "node"
          }
         ],
         "instanceArgs": {
          "namespace": "html",
          "tag": "div"
         },
         "nodeType": "DOM",
         "props": {
          "style": {
           "display": "flex",
           "flex-direction": "column"
          }
         },
         "type": "node"
        },
        {
         "children": [],
         "instanceArgs": {
          "namespace": "html",
          "tag": "div"
         },
         "nodeType": "DOM",
         "props": {
          "style": {
           "align-self": "stretch",
           "borderLeft": "solid 1.0px #DEDEDE"
          }
         },
         "type": "node"
        },
        {
         "children": [
          {
           "children": [],
           "instanceArgs": {
            "namespace": "html",
            "tag": "div"
           },
           "nodeType": "DOM",
           "props": {
            "setInnerHtml": "<b>eigenvector</b>"
           },
           "type": "node"
          },
          {
           "children": [],
           "instanceArgs": {
            "namespace": "html",
            "tag": "div"
           },
           "nodeType": "DOM",
           "props": {
            "setInnerHtml": "<pre>5-element Vector{Float64}:\n  0.7516527258032667\n -0.5171338396934146\n -0.14337587333973284\n  0.38193050353655744\n -0.03410602657662457</pre>"
           },
           "type": "node"
          }
         ],
         "instanceArgs": {
          "namespace": "html",
          "tag": "div"
         },
         "nodeType": "DOM",
         "props": {
          "style": {
           "display": "flex",
           "flex-direction": "column"
          }
         },
         "type": "node"
        }
       ],
       "instanceArgs": {
        "namespace": "html",
        "tag": "div"
       },
       "nodeType": "DOM",
       "props": {
        "style": {
         "display": "flex",
         "flex-direction": "row"
        }
       },
       "type": "node"
      },
      "text/html": [
       "<div\n",
       "    class=\"webio-mountpoint\"\n",
       "    data-webio-mountpoint=\"14206426061233010963\"\n",
       ">\n",
       "    <script>\n",
       "    (function(){\n",
       "    // Some integrations (namely, IJulia/Jupyter) use an alternate render pathway than\n",
       "    // just putting the html on the page. If WebIO isn't defined, then it's pretty likely\n",
       "    // that we're in one of those situations and the integration just isn't installed\n",
       "    // correctly.\n",
       "    if (typeof window.WebIO === \"undefined\") {\n",
       "        document\n",
       "            .querySelector('[data-webio-mountpoint=\"14206426061233010963\"]')\n",
       "            .innerHTML = (\n",
       "                '<div style=\"padding: 1em; background-color: #f8d6da; border: 1px solid #f5c6cb; font-weight: bold;\">' +\n",
       "                '<p><strong>WebIO not detected.</strong></p>' +\n",
       "                '<p>Please read ' +\n",
       "                '<a href=\"https://juliagizmos.github.io/WebIO.jl/latest/troubleshooting/not-detected/\" target=\"_blank\">the troubleshooting guide</a> ' +\n",
       "                'for more information on how to resolve this issue.</p>' +\n",
       "                '<p><a href=\"https://juliagizmos.github.io/WebIO.jl/latest/troubleshooting/not-detected/\" target=\"_blank\">https://juliagizmos.github.io/WebIO.jl/latest/troubleshooting/not-detected/</a></p>' +\n",
       "                '</div>'\n",
       "            );\n",
       "        return;\n",
       "    }\n",
       "    WebIO.mount(\n",
       "        document.querySelector('[data-webio-mountpoint=\"14206426061233010963\"]'),\n",
       "        {\"props\":{\"style\":{\"display\":\"flex\",\"flex-direction\":\"row\"}},\"nodeType\":\"DOM\",\"type\":\"node\",\"instanceArgs\":{\"namespace\":\"html\",\"tag\":\"div\"},\"children\":[{\"props\":{\"style\":{\"display\":\"flex\",\"flex-direction\":\"column\"}},\"nodeType\":\"DOM\",\"type\":\"node\",\"instanceArgs\":{\"namespace\":\"html\",\"tag\":\"div\"},\"children\":[{\"props\":{\"setInnerHtml\":\"<b>power iteration 19<\\/b>\"},\"nodeType\":\"DOM\",\"type\":\"node\",\"instanceArgs\":{\"namespace\":\"html\",\"tag\":\"div\"},\"children\":[]},{\"props\":{\"setInnerHtml\":\"<pre>5-element Vector{Float64}:\\n  0.7517688637969465\\n -0.516306679821705\\n -0.1371157877795076\\n  0.38548071899534136\\n -0.029578096987045565<\\/pre>\"},\"nodeType\":\"DOM\",\"type\":\"node\",\"instanceArgs\":{\"namespace\":\"html\",\"tag\":\"div\"},\"children\":[]}]},{\"props\":{\"style\":{\"align-self\":\"stretch\",\"borderLeft\":\"solid 1.0px #DEDEDE\"}},\"nodeType\":\"DOM\",\"type\":\"node\",\"instanceArgs\":{\"namespace\":\"html\",\"tag\":\"div\"},\"children\":[]},{\"props\":{\"style\":{\"display\":\"flex\",\"flex-direction\":\"column\"}},\"nodeType\":\"DOM\",\"type\":\"node\",\"instanceArgs\":{\"namespace\":\"html\",\"tag\":\"div\"},\"children\":[{\"props\":{\"setInnerHtml\":\"<b>eigenvector<\\/b>\"},\"nodeType\":\"DOM\",\"type\":\"node\",\"instanceArgs\":{\"namespace\":\"html\",\"tag\":\"div\"},\"children\":[]},{\"props\":{\"setInnerHtml\":\"<pre>5-element Vector{Float64}:\\n  0.7516527258032667\\n -0.5171338396934146\\n -0.14337587333973284\\n  0.38193050353655744\\n -0.03410602657662457<\\/pre>\"},\"nodeType\":\"DOM\",\"type\":\"node\",\"instanceArgs\":{\"namespace\":\"html\",\"tag\":\"div\"},\"children\":[]}]}]},\n",
       "        window,\n",
       "    );\n",
       "    })()\n",
       "    </script>\n",
       "</div>\n"
      ],
      "text/plain": [
       "(div { style=Dict(\"display\" => \"flex\", \"flex-direction\" => \"row\") }\n",
       "  (div { style=Dict(\"display\" => \"flex\", \"flex-direction\" => \"column\") }\n",
       "    HTML{String}(\"<b>power iteration 19</b>\")\n",
       "    [0.7517688637969465, -0.516306679821705, -0.1371157877795076, 0.38548071899534136, -0.029578096987045565])\n",
       "  (div { style=Dict{Any, Any}(\"align-self\" => \"stretch\", \"borderLeft\" => \"solid 1.0px #DEDEDE\") })\n",
       "  (div { style=Dict(\"display\" => \"flex\", \"flex-direction\" => \"column\") }\n",
       "    HTML{String}(\"<b>eigenvector</b>\")\n",
       "    [0.7516527258032667, -0.5171338396934146, -0.14337587333973284, 0.38193050353655744, -0.03410602657662457]))"
      ]
     },
     "metadata": {
      "application/vnd.webio.node+json": {
       "kernelId": "3c7d7052-bde9-4a18-a0c5-24a636d36fd8"
      }
     },
     "output_type": "display_data"
    },
    {
     "data": {
      "application/vnd.webio.node+json": {
       "children": [
        {
         "children": [
          {
           "children": [],
           "instanceArgs": {
            "namespace": "html",
            "tag": "div"
           },
           "nodeType": "DOM",
           "props": {
            "setInnerHtml": "<b>power iteration 20</b>"
           },
           "type": "node"
          },
          {
           "children": [],
           "instanceArgs": {
            "namespace": "html",
            "tag": "div"
           },
           "nodeType": "DOM",
           "props": {
            "setInnerHtml": "<pre>5-element Vector{Float64}:\n  0.7517480318458141\n -0.5164772713917627\n -0.13837001785125266\n  0.38477327605017153\n -0.030485881144019924</pre>"
           },
           "type": "node"
          }
         ],
         "instanceArgs": {
          "namespace": "html",
          "tag": "div"
         },
         "nodeType": "DOM",
         "props": {
          "style": {
           "display": "flex",
           "flex-direction": "column"
          }
         },
         "type": "node"
        },
        {
         "children": [],
         "instanceArgs": {
          "namespace": "html",
          "tag": "div"
         },
         "nodeType": "DOM",
         "props": {
          "style": {
           "align-self": "stretch",
           "borderLeft": "solid 1.0px #DEDEDE"
          }
         },
         "type": "node"
        },
        {
         "children": [
          {
           "children": [],
           "instanceArgs": {
            "namespace": "html",
            "tag": "div"
           },
           "nodeType": "DOM",
           "props": {
            "setInnerHtml": "<b>eigenvector</b>"
           },
           "type": "node"
          },
          {
           "children": [],
           "instanceArgs": {
            "namespace": "html",
            "tag": "div"
           },
           "nodeType": "DOM",
           "props": {
            "setInnerHtml": "<pre>5-element Vector{Float64}:\n  0.7516527258032667\n -0.5171338396934146\n -0.14337587333973284\n  0.38193050353655744\n -0.03410602657662457</pre>"
           },
           "type": "node"
          }
         ],
         "instanceArgs": {
          "namespace": "html",
          "tag": "div"
         },
         "nodeType": "DOM",
         "props": {
          "style": {
           "display": "flex",
           "flex-direction": "column"
          }
         },
         "type": "node"
        }
       ],
       "instanceArgs": {
        "namespace": "html",
        "tag": "div"
       },
       "nodeType": "DOM",
       "props": {
        "style": {
         "display": "flex",
         "flex-direction": "row"
        }
       },
       "type": "node"
      },
      "text/html": [
       "<div\n",
       "    class=\"webio-mountpoint\"\n",
       "    data-webio-mountpoint=\"1825003565552723108\"\n",
       ">\n",
       "    <script>\n",
       "    (function(){\n",
       "    // Some integrations (namely, IJulia/Jupyter) use an alternate render pathway than\n",
       "    // just putting the html on the page. If WebIO isn't defined, then it's pretty likely\n",
       "    // that we're in one of those situations and the integration just isn't installed\n",
       "    // correctly.\n",
       "    if (typeof window.WebIO === \"undefined\") {\n",
       "        document\n",
       "            .querySelector('[data-webio-mountpoint=\"1825003565552723108\"]')\n",
       "            .innerHTML = (\n",
       "                '<div style=\"padding: 1em; background-color: #f8d6da; border: 1px solid #f5c6cb; font-weight: bold;\">' +\n",
       "                '<p><strong>WebIO not detected.</strong></p>' +\n",
       "                '<p>Please read ' +\n",
       "                '<a href=\"https://juliagizmos.github.io/WebIO.jl/latest/troubleshooting/not-detected/\" target=\"_blank\">the troubleshooting guide</a> ' +\n",
       "                'for more information on how to resolve this issue.</p>' +\n",
       "                '<p><a href=\"https://juliagizmos.github.io/WebIO.jl/latest/troubleshooting/not-detected/\" target=\"_blank\">https://juliagizmos.github.io/WebIO.jl/latest/troubleshooting/not-detected/</a></p>' +\n",
       "                '</div>'\n",
       "            );\n",
       "        return;\n",
       "    }\n",
       "    WebIO.mount(\n",
       "        document.querySelector('[data-webio-mountpoint=\"1825003565552723108\"]'),\n",
       "        {\"props\":{\"style\":{\"display\":\"flex\",\"flex-direction\":\"row\"}},\"nodeType\":\"DOM\",\"type\":\"node\",\"instanceArgs\":{\"namespace\":\"html\",\"tag\":\"div\"},\"children\":[{\"props\":{\"style\":{\"display\":\"flex\",\"flex-direction\":\"column\"}},\"nodeType\":\"DOM\",\"type\":\"node\",\"instanceArgs\":{\"namespace\":\"html\",\"tag\":\"div\"},\"children\":[{\"props\":{\"setInnerHtml\":\"<b>power iteration 20<\\/b>\"},\"nodeType\":\"DOM\",\"type\":\"node\",\"instanceArgs\":{\"namespace\":\"html\",\"tag\":\"div\"},\"children\":[]},{\"props\":{\"setInnerHtml\":\"<pre>5-element Vector{Float64}:\\n  0.7517480318458141\\n -0.5164772713917627\\n -0.13837001785125266\\n  0.38477327605017153\\n -0.030485881144019924<\\/pre>\"},\"nodeType\":\"DOM\",\"type\":\"node\",\"instanceArgs\":{\"namespace\":\"html\",\"tag\":\"div\"},\"children\":[]}]},{\"props\":{\"style\":{\"align-self\":\"stretch\",\"borderLeft\":\"solid 1.0px #DEDEDE\"}},\"nodeType\":\"DOM\",\"type\":\"node\",\"instanceArgs\":{\"namespace\":\"html\",\"tag\":\"div\"},\"children\":[]},{\"props\":{\"style\":{\"display\":\"flex\",\"flex-direction\":\"column\"}},\"nodeType\":\"DOM\",\"type\":\"node\",\"instanceArgs\":{\"namespace\":\"html\",\"tag\":\"div\"},\"children\":[{\"props\":{\"setInnerHtml\":\"<b>eigenvector<\\/b>\"},\"nodeType\":\"DOM\",\"type\":\"node\",\"instanceArgs\":{\"namespace\":\"html\",\"tag\":\"div\"},\"children\":[]},{\"props\":{\"setInnerHtml\":\"<pre>5-element Vector{Float64}:\\n  0.7516527258032667\\n -0.5171338396934146\\n -0.14337587333973284\\n  0.38193050353655744\\n -0.03410602657662457<\\/pre>\"},\"nodeType\":\"DOM\",\"type\":\"node\",\"instanceArgs\":{\"namespace\":\"html\",\"tag\":\"div\"},\"children\":[]}]}]},\n",
       "        window,\n",
       "    );\n",
       "    })()\n",
       "    </script>\n",
       "</div>\n"
      ],
      "text/plain": [
       "(div { style=Dict(\"display\" => \"flex\", \"flex-direction\" => \"row\") }\n",
       "  (div { style=Dict(\"display\" => \"flex\", \"flex-direction\" => \"column\") }\n",
       "    HTML{String}(\"<b>power iteration 20</b>\")\n",
       "    [0.7517480318458141, -0.5164772713917627, -0.13837001785125266, 0.38477327605017153, -0.030485881144019924])\n",
       "  (div { style=Dict{Any, Any}(\"align-self\" => \"stretch\", \"borderLeft\" => \"solid 1.0px #DEDEDE\") })\n",
       "  (div { style=Dict(\"display\" => \"flex\", \"flex-direction\" => \"column\") }\n",
       "    HTML{String}(\"<b>eigenvector</b>\")\n",
       "    [0.7516527258032667, -0.5171338396934146, -0.14337587333973284, 0.38193050353655744, -0.03410602657662457]))"
      ]
     },
     "metadata": {
      "application/vnd.webio.node+json": {
       "kernelId": "3c7d7052-bde9-4a18-a0c5-24a636d36fd8"
      }
     },
     "output_type": "display_data"
    },
    {
     "data": {
      "application/vnd.webio.node+json": {
       "children": [
        {
         "children": [
          {
           "children": [],
           "instanceArgs": {
            "namespace": "html",
            "tag": "div"
           },
           "nodeType": "DOM",
           "props": {
            "setInnerHtml": "<b>power iteration 21</b>"
           },
           "type": "node"
          },
          {
           "children": [],
           "instanceArgs": {
            "namespace": "html",
            "tag": "div"
           },
           "nodeType": "DOM",
           "props": {
            "setInnerHtml": "<pre>5-element Vector{Float64}:\n  0.7517305800122787\n -0.5166118142286112\n -0.1393726748651477\n  0.3842062974479904\n -0.031211327688293718</pre>"
           },
           "type": "node"
          }
         ],
         "instanceArgs": {
          "namespace": "html",
          "tag": "div"
         },
         "nodeType": "DOM",
         "props": {
          "style": {
           "display": "flex",
           "flex-direction": "column"
          }
         },
         "type": "node"
        },
        {
         "children": [],
         "instanceArgs": {
          "namespace": "html",
          "tag": "div"
         },
         "nodeType": "DOM",
         "props": {
          "style": {
           "align-self": "stretch",
           "borderLeft": "solid 1.0px #DEDEDE"
          }
         },
         "type": "node"
        },
        {
         "children": [
          {
           "children": [],
           "instanceArgs": {
            "namespace": "html",
            "tag": "div"
           },
           "nodeType": "DOM",
           "props": {
            "setInnerHtml": "<b>eigenvector</b>"
           },
           "type": "node"
          },
          {
           "children": [],
           "instanceArgs": {
            "namespace": "html",
            "tag": "div"
           },
           "nodeType": "DOM",
           "props": {
            "setInnerHtml": "<pre>5-element Vector{Float64}:\n  0.7516527258032667\n -0.5171338396934146\n -0.14337587333973284\n  0.38193050353655744\n -0.03410602657662457</pre>"
           },
           "type": "node"
          }
         ],
         "instanceArgs": {
          "namespace": "html",
          "tag": "div"
         },
         "nodeType": "DOM",
         "props": {
          "style": {
           "display": "flex",
           "flex-direction": "column"
          }
         },
         "type": "node"
        }
       ],
       "instanceArgs": {
        "namespace": "html",
        "tag": "div"
       },
       "nodeType": "DOM",
       "props": {
        "style": {
         "display": "flex",
         "flex-direction": "row"
        }
       },
       "type": "node"
      },
      "text/html": [
       "<div\n",
       "    class=\"webio-mountpoint\"\n",
       "    data-webio-mountpoint=\"9760837989920101766\"\n",
       ">\n",
       "    <script>\n",
       "    (function(){\n",
       "    // Some integrations (namely, IJulia/Jupyter) use an alternate render pathway than\n",
       "    // just putting the html on the page. If WebIO isn't defined, then it's pretty likely\n",
       "    // that we're in one of those situations and the integration just isn't installed\n",
       "    // correctly.\n",
       "    if (typeof window.WebIO === \"undefined\") {\n",
       "        document\n",
       "            .querySelector('[data-webio-mountpoint=\"9760837989920101766\"]')\n",
       "            .innerHTML = (\n",
       "                '<div style=\"padding: 1em; background-color: #f8d6da; border: 1px solid #f5c6cb; font-weight: bold;\">' +\n",
       "                '<p><strong>WebIO not detected.</strong></p>' +\n",
       "                '<p>Please read ' +\n",
       "                '<a href=\"https://juliagizmos.github.io/WebIO.jl/latest/troubleshooting/not-detected/\" target=\"_blank\">the troubleshooting guide</a> ' +\n",
       "                'for more information on how to resolve this issue.</p>' +\n",
       "                '<p><a href=\"https://juliagizmos.github.io/WebIO.jl/latest/troubleshooting/not-detected/\" target=\"_blank\">https://juliagizmos.github.io/WebIO.jl/latest/troubleshooting/not-detected/</a></p>' +\n",
       "                '</div>'\n",
       "            );\n",
       "        return;\n",
       "    }\n",
       "    WebIO.mount(\n",
       "        document.querySelector('[data-webio-mountpoint=\"9760837989920101766\"]'),\n",
       "        {\"props\":{\"style\":{\"display\":\"flex\",\"flex-direction\":\"row\"}},\"nodeType\":\"DOM\",\"type\":\"node\",\"instanceArgs\":{\"namespace\":\"html\",\"tag\":\"div\"},\"children\":[{\"props\":{\"style\":{\"display\":\"flex\",\"flex-direction\":\"column\"}},\"nodeType\":\"DOM\",\"type\":\"node\",\"instanceArgs\":{\"namespace\":\"html\",\"tag\":\"div\"},\"children\":[{\"props\":{\"setInnerHtml\":\"<b>power iteration 21<\\/b>\"},\"nodeType\":\"DOM\",\"type\":\"node\",\"instanceArgs\":{\"namespace\":\"html\",\"tag\":\"div\"},\"children\":[]},{\"props\":{\"setInnerHtml\":\"<pre>5-element Vector{Float64}:\\n  0.7517305800122787\\n -0.5166118142286112\\n -0.1393726748651477\\n  0.3842062974479904\\n -0.031211327688293718<\\/pre>\"},\"nodeType\":\"DOM\",\"type\":\"node\",\"instanceArgs\":{\"namespace\":\"html\",\"tag\":\"div\"},\"children\":[]}]},{\"props\":{\"style\":{\"align-self\":\"stretch\",\"borderLeft\":\"solid 1.0px #DEDEDE\"}},\"nodeType\":\"DOM\",\"type\":\"node\",\"instanceArgs\":{\"namespace\":\"html\",\"tag\":\"div\"},\"children\":[]},{\"props\":{\"style\":{\"display\":\"flex\",\"flex-direction\":\"column\"}},\"nodeType\":\"DOM\",\"type\":\"node\",\"instanceArgs\":{\"namespace\":\"html\",\"tag\":\"div\"},\"children\":[{\"props\":{\"setInnerHtml\":\"<b>eigenvector<\\/b>\"},\"nodeType\":\"DOM\",\"type\":\"node\",\"instanceArgs\":{\"namespace\":\"html\",\"tag\":\"div\"},\"children\":[]},{\"props\":{\"setInnerHtml\":\"<pre>5-element Vector{Float64}:\\n  0.7516527258032667\\n -0.5171338396934146\\n -0.14337587333973284\\n  0.38193050353655744\\n -0.03410602657662457<\\/pre>\"},\"nodeType\":\"DOM\",\"type\":\"node\",\"instanceArgs\":{\"namespace\":\"html\",\"tag\":\"div\"},\"children\":[]}]}]},\n",
       "        window,\n",
       "    );\n",
       "    })()\n",
       "    </script>\n",
       "</div>\n"
      ],
      "text/plain": [
       "(div { style=Dict(\"display\" => \"flex\", \"flex-direction\" => \"row\") }\n",
       "  (div { style=Dict(\"display\" => \"flex\", \"flex-direction\" => \"column\") }\n",
       "    HTML{String}(\"<b>power iteration 21</b>\")\n",
       "    [0.7517305800122787, -0.5166118142286112, -0.1393726748651477, 0.3842062974479904, -0.031211327688293718])\n",
       "  (div { style=Dict{Any, Any}(\"align-self\" => \"stretch\", \"borderLeft\" => \"solid 1.0px #DEDEDE\") })\n",
       "  (div { style=Dict(\"display\" => \"flex\", \"flex-direction\" => \"column\") }\n",
       "    HTML{String}(\"<b>eigenvector</b>\")\n",
       "    [0.7516527258032667, -0.5171338396934146, -0.14337587333973284, 0.38193050353655744, -0.03410602657662457]))"
      ]
     },
     "metadata": {
      "application/vnd.webio.node+json": {
       "kernelId": "3c7d7052-bde9-4a18-a0c5-24a636d36fd8"
      }
     },
     "output_type": "display_data"
    },
    {
     "data": {
      "application/vnd.webio.node+json": {
       "children": [
        {
         "children": [
          {
           "children": [],
           "instanceArgs": {
            "namespace": "html",
            "tag": "div"
           },
           "nodeType": "DOM",
           "props": {
            "setInnerHtml": "<b>power iteration 22</b>"
           },
           "type": "node"
          },
          {
           "children": [],
           "instanceArgs": {
            "namespace": "html",
            "tag": "div"
           },
           "nodeType": "DOM",
           "props": {
            "setInnerHtml": "<pre>5-element Vector{Float64}:\n  0.7517160847525116\n -0.5167182425238506\n -0.14017430654282412\n  0.38375209498670426\n -0.03179118031737525</pre>"
           },
           "type": "node"
          }
         ],
         "instanceArgs": {
          "namespace": "html",
          "tag": "div"
         },
         "nodeType": "DOM",
         "props": {
          "style": {
           "display": "flex",
           "flex-direction": "column"
          }
         },
         "type": "node"
        },
        {
         "children": [],
         "instanceArgs": {
          "namespace": "html",
          "tag": "div"
         },
         "nodeType": "DOM",
         "props": {
          "style": {
           "align-self": "stretch",
           "borderLeft": "solid 1.0px #DEDEDE"
          }
         },
         "type": "node"
        },
        {
         "children": [
          {
           "children": [],
           "instanceArgs": {
            "namespace": "html",
            "tag": "div"
           },
           "nodeType": "DOM",
           "props": {
            "setInnerHtml": "<b>eigenvector</b>"
           },
           "type": "node"
          },
          {
           "children": [],
           "instanceArgs": {
            "namespace": "html",
            "tag": "div"
           },
           "nodeType": "DOM",
           "props": {
            "setInnerHtml": "<pre>5-element Vector{Float64}:\n  0.7516527258032667\n -0.5171338396934146\n -0.14337587333973284\n  0.38193050353655744\n -0.03410602657662457</pre>"
           },
           "type": "node"
          }
         ],
         "instanceArgs": {
          "namespace": "html",
          "tag": "div"
         },
         "nodeType": "DOM",
         "props": {
          "style": {
           "display": "flex",
           "flex-direction": "column"
          }
         },
         "type": "node"
        }
       ],
       "instanceArgs": {
        "namespace": "html",
        "tag": "div"
       },
       "nodeType": "DOM",
       "props": {
        "style": {
         "display": "flex",
         "flex-direction": "row"
        }
       },
       "type": "node"
      },
      "text/html": [
       "<div\n",
       "    class=\"webio-mountpoint\"\n",
       "    data-webio-mountpoint=\"1165204741565681571\"\n",
       ">\n",
       "    <script>\n",
       "    (function(){\n",
       "    // Some integrations (namely, IJulia/Jupyter) use an alternate render pathway than\n",
       "    // just putting the html on the page. If WebIO isn't defined, then it's pretty likely\n",
       "    // that we're in one of those situations and the integration just isn't installed\n",
       "    // correctly.\n",
       "    if (typeof window.WebIO === \"undefined\") {\n",
       "        document\n",
       "            .querySelector('[data-webio-mountpoint=\"1165204741565681571\"]')\n",
       "            .innerHTML = (\n",
       "                '<div style=\"padding: 1em; background-color: #f8d6da; border: 1px solid #f5c6cb; font-weight: bold;\">' +\n",
       "                '<p><strong>WebIO not detected.</strong></p>' +\n",
       "                '<p>Please read ' +\n",
       "                '<a href=\"https://juliagizmos.github.io/WebIO.jl/latest/troubleshooting/not-detected/\" target=\"_blank\">the troubleshooting guide</a> ' +\n",
       "                'for more information on how to resolve this issue.</p>' +\n",
       "                '<p><a href=\"https://juliagizmos.github.io/WebIO.jl/latest/troubleshooting/not-detected/\" target=\"_blank\">https://juliagizmos.github.io/WebIO.jl/latest/troubleshooting/not-detected/</a></p>' +\n",
       "                '</div>'\n",
       "            );\n",
       "        return;\n",
       "    }\n",
       "    WebIO.mount(\n",
       "        document.querySelector('[data-webio-mountpoint=\"1165204741565681571\"]'),\n",
       "        {\"props\":{\"style\":{\"display\":\"flex\",\"flex-direction\":\"row\"}},\"nodeType\":\"DOM\",\"type\":\"node\",\"instanceArgs\":{\"namespace\":\"html\",\"tag\":\"div\"},\"children\":[{\"props\":{\"style\":{\"display\":\"flex\",\"flex-direction\":\"column\"}},\"nodeType\":\"DOM\",\"type\":\"node\",\"instanceArgs\":{\"namespace\":\"html\",\"tag\":\"div\"},\"children\":[{\"props\":{\"setInnerHtml\":\"<b>power iteration 22<\\/b>\"},\"nodeType\":\"DOM\",\"type\":\"node\",\"instanceArgs\":{\"namespace\":\"html\",\"tag\":\"div\"},\"children\":[]},{\"props\":{\"setInnerHtml\":\"<pre>5-element Vector{Float64}:\\n  0.7517160847525116\\n -0.5167182425238506\\n -0.14017430654282412\\n  0.38375209498670426\\n -0.03179118031737525<\\/pre>\"},\"nodeType\":\"DOM\",\"type\":\"node\",\"instanceArgs\":{\"namespace\":\"html\",\"tag\":\"div\"},\"children\":[]}]},{\"props\":{\"style\":{\"align-self\":\"stretch\",\"borderLeft\":\"solid 1.0px #DEDEDE\"}},\"nodeType\":\"DOM\",\"type\":\"node\",\"instanceArgs\":{\"namespace\":\"html\",\"tag\":\"div\"},\"children\":[]},{\"props\":{\"style\":{\"display\":\"flex\",\"flex-direction\":\"column\"}},\"nodeType\":\"DOM\",\"type\":\"node\",\"instanceArgs\":{\"namespace\":\"html\",\"tag\":\"div\"},\"children\":[{\"props\":{\"setInnerHtml\":\"<b>eigenvector<\\/b>\"},\"nodeType\":\"DOM\",\"type\":\"node\",\"instanceArgs\":{\"namespace\":\"html\",\"tag\":\"div\"},\"children\":[]},{\"props\":{\"setInnerHtml\":\"<pre>5-element Vector{Float64}:\\n  0.7516527258032667\\n -0.5171338396934146\\n -0.14337587333973284\\n  0.38193050353655744\\n -0.03410602657662457<\\/pre>\"},\"nodeType\":\"DOM\",\"type\":\"node\",\"instanceArgs\":{\"namespace\":\"html\",\"tag\":\"div\"},\"children\":[]}]}]},\n",
       "        window,\n",
       "    );\n",
       "    })()\n",
       "    </script>\n",
       "</div>\n"
      ],
      "text/plain": [
       "(div { style=Dict(\"display\" => \"flex\", \"flex-direction\" => \"row\") }\n",
       "  (div { style=Dict(\"display\" => \"flex\", \"flex-direction\" => \"column\") }\n",
       "    HTML{String}(\"<b>power iteration 22</b>\")\n",
       "    [0.7517160847525116, -0.5167182425238506, -0.14017430654282412, 0.38375209498670426, -0.03179118031737525])\n",
       "  (div { style=Dict{Any, Any}(\"align-self\" => \"stretch\", \"borderLeft\" => \"solid 1.0px #DEDEDE\") })\n",
       "  (div { style=Dict(\"display\" => \"flex\", \"flex-direction\" => \"column\") }\n",
       "    HTML{String}(\"<b>eigenvector</b>\")\n",
       "    [0.7516527258032667, -0.5171338396934146, -0.14337587333973284, 0.38193050353655744, -0.03410602657662457]))"
      ]
     },
     "metadata": {
      "application/vnd.webio.node+json": {
       "kernelId": "3c7d7052-bde9-4a18-a0c5-24a636d36fd8"
      }
     },
     "output_type": "display_data"
    },
    {
     "data": {
      "application/vnd.webio.node+json": {
       "children": [
        {
         "children": [
          {
           "children": [],
           "instanceArgs": {
            "namespace": "html",
            "tag": "div"
           },
           "nodeType": "DOM",
           "props": {
            "setInnerHtml": "<b>power iteration 23</b>"
           },
           "type": "node"
          },
          {
           "children": [],
           "instanceArgs": {
            "namespace": "html",
            "tag": "div"
           },
           "nodeType": "DOM",
           "props": {
            "setInnerHtml": "<pre>5-element Vector{Float64}:\n  0.7517041286563255\n -0.5168026308718542\n -0.14081527897531487\n  0.3833883577275971\n -0.0322547368770004</pre>"
           },
           "type": "node"
          }
         ],
         "instanceArgs": {
          "namespace": "html",
          "tag": "div"
         },
         "nodeType": "DOM",
         "props": {
          "style": {
           "display": "flex",
           "flex-direction": "column"
          }
         },
         "type": "node"
        },
        {
         "children": [],
         "instanceArgs": {
          "namespace": "html",
          "tag": "div"
         },
         "nodeType": "DOM",
         "props": {
          "style": {
           "align-self": "stretch",
           "borderLeft": "solid 1.0px #DEDEDE"
          }
         },
         "type": "node"
        },
        {
         "children": [
          {
           "children": [],
           "instanceArgs": {
            "namespace": "html",
            "tag": "div"
           },
           "nodeType": "DOM",
           "props": {
            "setInnerHtml": "<b>eigenvector</b>"
           },
           "type": "node"
          },
          {
           "children": [],
           "instanceArgs": {
            "namespace": "html",
            "tag": "div"
           },
           "nodeType": "DOM",
           "props": {
            "setInnerHtml": "<pre>5-element Vector{Float64}:\n  0.7516527258032667\n -0.5171338396934146\n -0.14337587333973284\n  0.38193050353655744\n -0.03410602657662457</pre>"
           },
           "type": "node"
          }
         ],
         "instanceArgs": {
          "namespace": "html",
          "tag": "div"
         },
         "nodeType": "DOM",
         "props": {
          "style": {
           "display": "flex",
           "flex-direction": "column"
          }
         },
         "type": "node"
        }
       ],
       "instanceArgs": {
        "namespace": "html",
        "tag": "div"
       },
       "nodeType": "DOM",
       "props": {
        "style": {
         "display": "flex",
         "flex-direction": "row"
        }
       },
       "type": "node"
      },
      "text/html": [
       "<div\n",
       "    class=\"webio-mountpoint\"\n",
       "    data-webio-mountpoint=\"15283745928779127124\"\n",
       ">\n",
       "    <script>\n",
       "    (function(){\n",
       "    // Some integrations (namely, IJulia/Jupyter) use an alternate render pathway than\n",
       "    // just putting the html on the page. If WebIO isn't defined, then it's pretty likely\n",
       "    // that we're in one of those situations and the integration just isn't installed\n",
       "    // correctly.\n",
       "    if (typeof window.WebIO === \"undefined\") {\n",
       "        document\n",
       "            .querySelector('[data-webio-mountpoint=\"15283745928779127124\"]')\n",
       "            .innerHTML = (\n",
       "                '<div style=\"padding: 1em; background-color: #f8d6da; border: 1px solid #f5c6cb; font-weight: bold;\">' +\n",
       "                '<p><strong>WebIO not detected.</strong></p>' +\n",
       "                '<p>Please read ' +\n",
       "                '<a href=\"https://juliagizmos.github.io/WebIO.jl/latest/troubleshooting/not-detected/\" target=\"_blank\">the troubleshooting guide</a> ' +\n",
       "                'for more information on how to resolve this issue.</p>' +\n",
       "                '<p><a href=\"https://juliagizmos.github.io/WebIO.jl/latest/troubleshooting/not-detected/\" target=\"_blank\">https://juliagizmos.github.io/WebIO.jl/latest/troubleshooting/not-detected/</a></p>' +\n",
       "                '</div>'\n",
       "            );\n",
       "        return;\n",
       "    }\n",
       "    WebIO.mount(\n",
       "        document.querySelector('[data-webio-mountpoint=\"15283745928779127124\"]'),\n",
       "        {\"props\":{\"style\":{\"display\":\"flex\",\"flex-direction\":\"row\"}},\"nodeType\":\"DOM\",\"type\":\"node\",\"instanceArgs\":{\"namespace\":\"html\",\"tag\":\"div\"},\"children\":[{\"props\":{\"style\":{\"display\":\"flex\",\"flex-direction\":\"column\"}},\"nodeType\":\"DOM\",\"type\":\"node\",\"instanceArgs\":{\"namespace\":\"html\",\"tag\":\"div\"},\"children\":[{\"props\":{\"setInnerHtml\":\"<b>power iteration 23<\\/b>\"},\"nodeType\":\"DOM\",\"type\":\"node\",\"instanceArgs\":{\"namespace\":\"html\",\"tag\":\"div\"},\"children\":[]},{\"props\":{\"setInnerHtml\":\"<pre>5-element Vector{Float64}:\\n  0.7517041286563255\\n -0.5168026308718542\\n -0.14081527897531487\\n  0.3833883577275971\\n -0.0322547368770004<\\/pre>\"},\"nodeType\":\"DOM\",\"type\":\"node\",\"instanceArgs\":{\"namespace\":\"html\",\"tag\":\"div\"},\"children\":[]}]},{\"props\":{\"style\":{\"align-self\":\"stretch\",\"borderLeft\":\"solid 1.0px #DEDEDE\"}},\"nodeType\":\"DOM\",\"type\":\"node\",\"instanceArgs\":{\"namespace\":\"html\",\"tag\":\"div\"},\"children\":[]},{\"props\":{\"style\":{\"display\":\"flex\",\"flex-direction\":\"column\"}},\"nodeType\":\"DOM\",\"type\":\"node\",\"instanceArgs\":{\"namespace\":\"html\",\"tag\":\"div\"},\"children\":[{\"props\":{\"setInnerHtml\":\"<b>eigenvector<\\/b>\"},\"nodeType\":\"DOM\",\"type\":\"node\",\"instanceArgs\":{\"namespace\":\"html\",\"tag\":\"div\"},\"children\":[]},{\"props\":{\"setInnerHtml\":\"<pre>5-element Vector{Float64}:\\n  0.7516527258032667\\n -0.5171338396934146\\n -0.14337587333973284\\n  0.38193050353655744\\n -0.03410602657662457<\\/pre>\"},\"nodeType\":\"DOM\",\"type\":\"node\",\"instanceArgs\":{\"namespace\":\"html\",\"tag\":\"div\"},\"children\":[]}]}]},\n",
       "        window,\n",
       "    );\n",
       "    })()\n",
       "    </script>\n",
       "</div>\n"
      ],
      "text/plain": [
       "(div { style=Dict(\"display\" => \"flex\", \"flex-direction\" => \"row\") }\n",
       "  (div { style=Dict(\"display\" => \"flex\", \"flex-direction\" => \"column\") }\n",
       "    HTML{String}(\"<b>power iteration 23</b>\")\n",
       "    [0.7517041286563255, -0.5168026308718542, -0.14081527897531487, 0.3833883577275971, -0.0322547368770004])\n",
       "  (div { style=Dict{Any, Any}(\"align-self\" => \"stretch\", \"borderLeft\" => \"solid 1.0px #DEDEDE\") })\n",
       "  (div { style=Dict(\"display\" => \"flex\", \"flex-direction\" => \"column\") }\n",
       "    HTML{String}(\"<b>eigenvector</b>\")\n",
       "    [0.7516527258032667, -0.5171338396934146, -0.14337587333973284, 0.38193050353655744, -0.03410602657662457]))"
      ]
     },
     "metadata": {
      "application/vnd.webio.node+json": {
       "kernelId": "3c7d7052-bde9-4a18-a0c5-24a636d36fd8"
      }
     },
     "output_type": "display_data"
    },
    {
     "data": {
      "application/vnd.webio.node+json": {
       "children": [
        {
         "children": [
          {
           "children": [],
           "instanceArgs": {
            "namespace": "html",
            "tag": "div"
           },
           "nodeType": "DOM",
           "props": {
            "setInnerHtml": "<b>power iteration 24</b>"
           },
           "type": "node"
          },
          {
           "children": [],
           "instanceArgs": {
            "namespace": "html",
            "tag": "div"
           },
           "nodeType": "DOM",
           "props": {
            "setInnerHtml": "<pre>5-element Vector{Float64}:\n  0.751694322521539\n -0.5168696692512652\n -0.14132783397865784\n  0.3830971403137061\n -0.03262537238613207</pre>"
           },
           "type": "node"
          }
         ],
         "instanceArgs": {
          "namespace": "html",
          "tag": "div"
         },
         "nodeType": "DOM",
         "props": {
          "style": {
           "display": "flex",
           "flex-direction": "column"
          }
         },
         "type": "node"
        },
        {
         "children": [],
         "instanceArgs": {
          "namespace": "html",
          "tag": "div"
         },
         "nodeType": "DOM",
         "props": {
          "style": {
           "align-self": "stretch",
           "borderLeft": "solid 1.0px #DEDEDE"
          }
         },
         "type": "node"
        },
        {
         "children": [
          {
           "children": [],
           "instanceArgs": {
            "namespace": "html",
            "tag": "div"
           },
           "nodeType": "DOM",
           "props": {
            "setInnerHtml": "<b>eigenvector</b>"
           },
           "type": "node"
          },
          {
           "children": [],
           "instanceArgs": {
            "namespace": "html",
            "tag": "div"
           },
           "nodeType": "DOM",
           "props": {
            "setInnerHtml": "<pre>5-element Vector{Float64}:\n  0.7516527258032667\n -0.5171338396934146\n -0.14337587333973284\n  0.38193050353655744\n -0.03410602657662457</pre>"
           },
           "type": "node"
          }
         ],
         "instanceArgs": {
          "namespace": "html",
          "tag": "div"
         },
         "nodeType": "DOM",
         "props": {
          "style": {
           "display": "flex",
           "flex-direction": "column"
          }
         },
         "type": "node"
        }
       ],
       "instanceArgs": {
        "namespace": "html",
        "tag": "div"
       },
       "nodeType": "DOM",
       "props": {
        "style": {
         "display": "flex",
         "flex-direction": "row"
        }
       },
       "type": "node"
      },
      "text/html": [
       "<div\n",
       "    class=\"webio-mountpoint\"\n",
       "    data-webio-mountpoint=\"14969413157810919999\"\n",
       ">\n",
       "    <script>\n",
       "    (function(){\n",
       "    // Some integrations (namely, IJulia/Jupyter) use an alternate render pathway than\n",
       "    // just putting the html on the page. If WebIO isn't defined, then it's pretty likely\n",
       "    // that we're in one of those situations and the integration just isn't installed\n",
       "    // correctly.\n",
       "    if (typeof window.WebIO === \"undefined\") {\n",
       "        document\n",
       "            .querySelector('[data-webio-mountpoint=\"14969413157810919999\"]')\n",
       "            .innerHTML = (\n",
       "                '<div style=\"padding: 1em; background-color: #f8d6da; border: 1px solid #f5c6cb; font-weight: bold;\">' +\n",
       "                '<p><strong>WebIO not detected.</strong></p>' +\n",
       "                '<p>Please read ' +\n",
       "                '<a href=\"https://juliagizmos.github.io/WebIO.jl/latest/troubleshooting/not-detected/\" target=\"_blank\">the troubleshooting guide</a> ' +\n",
       "                'for more information on how to resolve this issue.</p>' +\n",
       "                '<p><a href=\"https://juliagizmos.github.io/WebIO.jl/latest/troubleshooting/not-detected/\" target=\"_blank\">https://juliagizmos.github.io/WebIO.jl/latest/troubleshooting/not-detected/</a></p>' +\n",
       "                '</div>'\n",
       "            );\n",
       "        return;\n",
       "    }\n",
       "    WebIO.mount(\n",
       "        document.querySelector('[data-webio-mountpoint=\"14969413157810919999\"]'),\n",
       "        {\"props\":{\"style\":{\"display\":\"flex\",\"flex-direction\":\"row\"}},\"nodeType\":\"DOM\",\"type\":\"node\",\"instanceArgs\":{\"namespace\":\"html\",\"tag\":\"div\"},\"children\":[{\"props\":{\"style\":{\"display\":\"flex\",\"flex-direction\":\"column\"}},\"nodeType\":\"DOM\",\"type\":\"node\",\"instanceArgs\":{\"namespace\":\"html\",\"tag\":\"div\"},\"children\":[{\"props\":{\"setInnerHtml\":\"<b>power iteration 24<\\/b>\"},\"nodeType\":\"DOM\",\"type\":\"node\",\"instanceArgs\":{\"namespace\":\"html\",\"tag\":\"div\"},\"children\":[]},{\"props\":{\"setInnerHtml\":\"<pre>5-element Vector{Float64}:\\n  0.751694322521539\\n -0.5168696692512652\\n -0.14132783397865784\\n  0.3830971403137061\\n -0.03262537238613207<\\/pre>\"},\"nodeType\":\"DOM\",\"type\":\"node\",\"instanceArgs\":{\"namespace\":\"html\",\"tag\":\"div\"},\"children\":[]}]},{\"props\":{\"style\":{\"align-self\":\"stretch\",\"borderLeft\":\"solid 1.0px #DEDEDE\"}},\"nodeType\":\"DOM\",\"type\":\"node\",\"instanceArgs\":{\"namespace\":\"html\",\"tag\":\"div\"},\"children\":[]},{\"props\":{\"style\":{\"display\":\"flex\",\"flex-direction\":\"column\"}},\"nodeType\":\"DOM\",\"type\":\"node\",\"instanceArgs\":{\"namespace\":\"html\",\"tag\":\"div\"},\"children\":[{\"props\":{\"setInnerHtml\":\"<b>eigenvector<\\/b>\"},\"nodeType\":\"DOM\",\"type\":\"node\",\"instanceArgs\":{\"namespace\":\"html\",\"tag\":\"div\"},\"children\":[]},{\"props\":{\"setInnerHtml\":\"<pre>5-element Vector{Float64}:\\n  0.7516527258032667\\n -0.5171338396934146\\n -0.14337587333973284\\n  0.38193050353655744\\n -0.03410602657662457<\\/pre>\"},\"nodeType\":\"DOM\",\"type\":\"node\",\"instanceArgs\":{\"namespace\":\"html\",\"tag\":\"div\"},\"children\":[]}]}]},\n",
       "        window,\n",
       "    );\n",
       "    })()\n",
       "    </script>\n",
       "</div>\n"
      ],
      "text/plain": [
       "(div { style=Dict(\"display\" => \"flex\", \"flex-direction\" => \"row\") }\n",
       "  (div { style=Dict(\"display\" => \"flex\", \"flex-direction\" => \"column\") }\n",
       "    HTML{String}(\"<b>power iteration 24</b>\")\n",
       "    [0.751694322521539, -0.5168696692512652, -0.14132783397865784, 0.3830971403137061, -0.03262537238613207])\n",
       "  (div { style=Dict{Any, Any}(\"align-self\" => \"stretch\", \"borderLeft\" => \"solid 1.0px #DEDEDE\") })\n",
       "  (div { style=Dict(\"display\" => \"flex\", \"flex-direction\" => \"column\") }\n",
       "    HTML{String}(\"<b>eigenvector</b>\")\n",
       "    [0.7516527258032667, -0.5171338396934146, -0.14337587333973284, 0.38193050353655744, -0.03410602657662457]))"
      ]
     },
     "metadata": {
      "application/vnd.webio.node+json": {
       "kernelId": "3c7d7052-bde9-4a18-a0c5-24a636d36fd8"
      }
     },
     "output_type": "display_data"
    },
    {
     "data": {
      "application/vnd.webio.node+json": {
       "children": [
        {
         "children": [
          {
           "children": [],
           "instanceArgs": {
            "namespace": "html",
            "tag": "div"
           },
           "nodeType": "DOM",
           "props": {
            "setInnerHtml": "<b>power iteration 25</b>"
           },
           "type": "node"
          },
          {
           "children": [],
           "instanceArgs": {
            "namespace": "html",
            "tag": "div"
           },
           "nodeType": "DOM",
           "props": {
            "setInnerHtml": "<pre>5-element Vector{Float64}:\n  0.7516863166576098\n -0.5169230039144592\n -0.14173772946840457\n  0.382864028177026\n -0.032921745806843615</pre>"
           },
           "type": "node"
          }
         ],
         "instanceArgs": {
          "namespace": "html",
          "tag": "div"
         },
         "nodeType": "DOM",
         "props": {
          "style": {
           "display": "flex",
           "flex-direction": "column"
          }
         },
         "type": "node"
        },
        {
         "children": [],
         "instanceArgs": {
          "namespace": "html",
          "tag": "div"
         },
         "nodeType": "DOM",
         "props": {
          "style": {
           "align-self": "stretch",
           "borderLeft": "solid 1.0px #DEDEDE"
          }
         },
         "type": "node"
        },
        {
         "children": [
          {
           "children": [],
           "instanceArgs": {
            "namespace": "html",
            "tag": "div"
           },
           "nodeType": "DOM",
           "props": {
            "setInnerHtml": "<b>eigenvector</b>"
           },
           "type": "node"
          },
          {
           "children": [],
           "instanceArgs": {
            "namespace": "html",
            "tag": "div"
           },
           "nodeType": "DOM",
           "props": {
            "setInnerHtml": "<pre>5-element Vector{Float64}:\n  0.7516527258032667\n -0.5171338396934146\n -0.14337587333973284\n  0.38193050353655744\n -0.03410602657662457</pre>"
           },
           "type": "node"
          }
         ],
         "instanceArgs": {
          "namespace": "html",
          "tag": "div"
         },
         "nodeType": "DOM",
         "props": {
          "style": {
           "display": "flex",
           "flex-direction": "column"
          }
         },
         "type": "node"
        }
       ],
       "instanceArgs": {
        "namespace": "html",
        "tag": "div"
       },
       "nodeType": "DOM",
       "props": {
        "style": {
         "display": "flex",
         "flex-direction": "row"
        }
       },
       "type": "node"
      },
      "text/html": [
       "<div\n",
       "    class=\"webio-mountpoint\"\n",
       "    data-webio-mountpoint=\"13702292161609241495\"\n",
       ">\n",
       "    <script>\n",
       "    (function(){\n",
       "    // Some integrations (namely, IJulia/Jupyter) use an alternate render pathway than\n",
       "    // just putting the html on the page. If WebIO isn't defined, then it's pretty likely\n",
       "    // that we're in one of those situations and the integration just isn't installed\n",
       "    // correctly.\n",
       "    if (typeof window.WebIO === \"undefined\") {\n",
       "        document\n",
       "            .querySelector('[data-webio-mountpoint=\"13702292161609241495\"]')\n",
       "            .innerHTML = (\n",
       "                '<div style=\"padding: 1em; background-color: #f8d6da; border: 1px solid #f5c6cb; font-weight: bold;\">' +\n",
       "                '<p><strong>WebIO not detected.</strong></p>' +\n",
       "                '<p>Please read ' +\n",
       "                '<a href=\"https://juliagizmos.github.io/WebIO.jl/latest/troubleshooting/not-detected/\" target=\"_blank\">the troubleshooting guide</a> ' +\n",
       "                'for more information on how to resolve this issue.</p>' +\n",
       "                '<p><a href=\"https://juliagizmos.github.io/WebIO.jl/latest/troubleshooting/not-detected/\" target=\"_blank\">https://juliagizmos.github.io/WebIO.jl/latest/troubleshooting/not-detected/</a></p>' +\n",
       "                '</div>'\n",
       "            );\n",
       "        return;\n",
       "    }\n",
       "    WebIO.mount(\n",
       "        document.querySelector('[data-webio-mountpoint=\"13702292161609241495\"]'),\n",
       "        {\"props\":{\"style\":{\"display\":\"flex\",\"flex-direction\":\"row\"}},\"nodeType\":\"DOM\",\"type\":\"node\",\"instanceArgs\":{\"namespace\":\"html\",\"tag\":\"div\"},\"children\":[{\"props\":{\"style\":{\"display\":\"flex\",\"flex-direction\":\"column\"}},\"nodeType\":\"DOM\",\"type\":\"node\",\"instanceArgs\":{\"namespace\":\"html\",\"tag\":\"div\"},\"children\":[{\"props\":{\"setInnerHtml\":\"<b>power iteration 25<\\/b>\"},\"nodeType\":\"DOM\",\"type\":\"node\",\"instanceArgs\":{\"namespace\":\"html\",\"tag\":\"div\"},\"children\":[]},{\"props\":{\"setInnerHtml\":\"<pre>5-element Vector{Float64}:\\n  0.7516863166576098\\n -0.5169230039144592\\n -0.14173772946840457\\n  0.382864028177026\\n -0.032921745806843615<\\/pre>\"},\"nodeType\":\"DOM\",\"type\":\"node\",\"instanceArgs\":{\"namespace\":\"html\",\"tag\":\"div\"},\"children\":[]}]},{\"props\":{\"style\":{\"align-self\":\"stretch\",\"borderLeft\":\"solid 1.0px #DEDEDE\"}},\"nodeType\":\"DOM\",\"type\":\"node\",\"instanceArgs\":{\"namespace\":\"html\",\"tag\":\"div\"},\"children\":[]},{\"props\":{\"style\":{\"display\":\"flex\",\"flex-direction\":\"column\"}},\"nodeType\":\"DOM\",\"type\":\"node\",\"instanceArgs\":{\"namespace\":\"html\",\"tag\":\"div\"},\"children\":[{\"props\":{\"setInnerHtml\":\"<b>eigenvector<\\/b>\"},\"nodeType\":\"DOM\",\"type\":\"node\",\"instanceArgs\":{\"namespace\":\"html\",\"tag\":\"div\"},\"children\":[]},{\"props\":{\"setInnerHtml\":\"<pre>5-element Vector{Float64}:\\n  0.7516527258032667\\n -0.5171338396934146\\n -0.14337587333973284\\n  0.38193050353655744\\n -0.03410602657662457<\\/pre>\"},\"nodeType\":\"DOM\",\"type\":\"node\",\"instanceArgs\":{\"namespace\":\"html\",\"tag\":\"div\"},\"children\":[]}]}]},\n",
       "        window,\n",
       "    );\n",
       "    })()\n",
       "    </script>\n",
       "</div>\n"
      ],
      "text/plain": [
       "(div { style=Dict(\"display\" => \"flex\", \"flex-direction\" => \"row\") }\n",
       "  (div { style=Dict(\"display\" => \"flex\", \"flex-direction\" => \"column\") }\n",
       "    HTML{String}(\"<b>power iteration 25</b>\")\n",
       "    [0.7516863166576098, -0.5169230039144592, -0.14173772946840457, 0.382864028177026, -0.032921745806843615])\n",
       "  (div { style=Dict{Any, Any}(\"align-self\" => \"stretch\", \"borderLeft\" => \"solid 1.0px #DEDEDE\") })\n",
       "  (div { style=Dict(\"display\" => \"flex\", \"flex-direction\" => \"column\") }\n",
       "    HTML{String}(\"<b>eigenvector</b>\")\n",
       "    [0.7516527258032667, -0.5171338396934146, -0.14337587333973284, 0.38193050353655744, -0.03410602657662457]))"
      ]
     },
     "metadata": {
      "application/vnd.webio.node+json": {
       "kernelId": "3c7d7052-bde9-4a18-a0c5-24a636d36fd8"
      }
     },
     "output_type": "display_data"
    },
    {
     "data": {
      "application/vnd.webio.node+json": {
       "children": [
        {
         "children": [
          {
           "children": [],
           "instanceArgs": {
            "namespace": "html",
            "tag": "div"
           },
           "nodeType": "DOM",
           "props": {
            "setInnerHtml": "<b>power iteration 26</b>"
           },
           "type": "node"
          },
          {
           "children": [],
           "instanceArgs": {
            "namespace": "html",
            "tag": "div"
           },
           "nodeType": "DOM",
           "props": {
            "setInnerHtml": "<pre>5-element Vector{Float64}:\n  0.7516798050238978\n -0.5169654859001924\n -0.14206554736392793\n  0.3826774544503785\n -0.033158757738779465</pre>"
           },
           "type": "node"
          }
         ],
         "instanceArgs": {
          "namespace": "html",
          "tag": "div"
         },
         "nodeType": "DOM",
         "props": {
          "style": {
           "display": "flex",
           "flex-direction": "column"
          }
         },
         "type": "node"
        },
        {
         "children": [],
         "instanceArgs": {
          "namespace": "html",
          "tag": "div"
         },
         "nodeType": "DOM",
         "props": {
          "style": {
           "align-self": "stretch",
           "borderLeft": "solid 1.0px #DEDEDE"
          }
         },
         "type": "node"
        },
        {
         "children": [
          {
           "children": [],
           "instanceArgs": {
            "namespace": "html",
            "tag": "div"
           },
           "nodeType": "DOM",
           "props": {
            "setInnerHtml": "<b>eigenvector</b>"
           },
           "type": "node"
          },
          {
           "children": [],
           "instanceArgs": {
            "namespace": "html",
            "tag": "div"
           },
           "nodeType": "DOM",
           "props": {
            "setInnerHtml": "<pre>5-element Vector{Float64}:\n  0.7516527258032667\n -0.5171338396934146\n -0.14337587333973284\n  0.38193050353655744\n -0.03410602657662457</pre>"
           },
           "type": "node"
          }
         ],
         "instanceArgs": {
          "namespace": "html",
          "tag": "div"
         },
         "nodeType": "DOM",
         "props": {
          "style": {
           "display": "flex",
           "flex-direction": "column"
          }
         },
         "type": "node"
        }
       ],
       "instanceArgs": {
        "namespace": "html",
        "tag": "div"
       },
       "nodeType": "DOM",
       "props": {
        "style": {
         "display": "flex",
         "flex-direction": "row"
        }
       },
       "type": "node"
      },
      "text/html": [
       "<div\n",
       "    class=\"webio-mountpoint\"\n",
       "    data-webio-mountpoint=\"16504746492814914927\"\n",
       ">\n",
       "    <script>\n",
       "    (function(){\n",
       "    // Some integrations (namely, IJulia/Jupyter) use an alternate render pathway than\n",
       "    // just putting the html on the page. If WebIO isn't defined, then it's pretty likely\n",
       "    // that we're in one of those situations and the integration just isn't installed\n",
       "    // correctly.\n",
       "    if (typeof window.WebIO === \"undefined\") {\n",
       "        document\n",
       "            .querySelector('[data-webio-mountpoint=\"16504746492814914927\"]')\n",
       "            .innerHTML = (\n",
       "                '<div style=\"padding: 1em; background-color: #f8d6da; border: 1px solid #f5c6cb; font-weight: bold;\">' +\n",
       "                '<p><strong>WebIO not detected.</strong></p>' +\n",
       "                '<p>Please read ' +\n",
       "                '<a href=\"https://juliagizmos.github.io/WebIO.jl/latest/troubleshooting/not-detected/\" target=\"_blank\">the troubleshooting guide</a> ' +\n",
       "                'for more information on how to resolve this issue.</p>' +\n",
       "                '<p><a href=\"https://juliagizmos.github.io/WebIO.jl/latest/troubleshooting/not-detected/\" target=\"_blank\">https://juliagizmos.github.io/WebIO.jl/latest/troubleshooting/not-detected/</a></p>' +\n",
       "                '</div>'\n",
       "            );\n",
       "        return;\n",
       "    }\n",
       "    WebIO.mount(\n",
       "        document.querySelector('[data-webio-mountpoint=\"16504746492814914927\"]'),\n",
       "        {\"props\":{\"style\":{\"display\":\"flex\",\"flex-direction\":\"row\"}},\"nodeType\":\"DOM\",\"type\":\"node\",\"instanceArgs\":{\"namespace\":\"html\",\"tag\":\"div\"},\"children\":[{\"props\":{\"style\":{\"display\":\"flex\",\"flex-direction\":\"column\"}},\"nodeType\":\"DOM\",\"type\":\"node\",\"instanceArgs\":{\"namespace\":\"html\",\"tag\":\"div\"},\"children\":[{\"props\":{\"setInnerHtml\":\"<b>power iteration 26<\\/b>\"},\"nodeType\":\"DOM\",\"type\":\"node\",\"instanceArgs\":{\"namespace\":\"html\",\"tag\":\"div\"},\"children\":[]},{\"props\":{\"setInnerHtml\":\"<pre>5-element Vector{Float64}:\\n  0.7516798050238978\\n -0.5169654859001924\\n -0.14206554736392793\\n  0.3826774544503785\\n -0.033158757738779465<\\/pre>\"},\"nodeType\":\"DOM\",\"type\":\"node\",\"instanceArgs\":{\"namespace\":\"html\",\"tag\":\"div\"},\"children\":[]}]},{\"props\":{\"style\":{\"align-self\":\"stretch\",\"borderLeft\":\"solid 1.0px #DEDEDE\"}},\"nodeType\":\"DOM\",\"type\":\"node\",\"instanceArgs\":{\"namespace\":\"html\",\"tag\":\"div\"},\"children\":[]},{\"props\":{\"style\":{\"display\":\"flex\",\"flex-direction\":\"column\"}},\"nodeType\":\"DOM\",\"type\":\"node\",\"instanceArgs\":{\"namespace\":\"html\",\"tag\":\"div\"},\"children\":[{\"props\":{\"setInnerHtml\":\"<b>eigenvector<\\/b>\"},\"nodeType\":\"DOM\",\"type\":\"node\",\"instanceArgs\":{\"namespace\":\"html\",\"tag\":\"div\"},\"children\":[]},{\"props\":{\"setInnerHtml\":\"<pre>5-element Vector{Float64}:\\n  0.7516527258032667\\n -0.5171338396934146\\n -0.14337587333973284\\n  0.38193050353655744\\n -0.03410602657662457<\\/pre>\"},\"nodeType\":\"DOM\",\"type\":\"node\",\"instanceArgs\":{\"namespace\":\"html\",\"tag\":\"div\"},\"children\":[]}]}]},\n",
       "        window,\n",
       "    );\n",
       "    })()\n",
       "    </script>\n",
       "</div>\n"
      ],
      "text/plain": [
       "(div { style=Dict(\"display\" => \"flex\", \"flex-direction\" => \"row\") }\n",
       "  (div { style=Dict(\"display\" => \"flex\", \"flex-direction\" => \"column\") }\n",
       "    HTML{String}(\"<b>power iteration 26</b>\")\n",
       "    [0.7516798050238978, -0.5169654859001924, -0.14206554736392793, 0.3826774544503785, -0.033158757738779465])\n",
       "  (div { style=Dict{Any, Any}(\"align-self\" => \"stretch\", \"borderLeft\" => \"solid 1.0px #DEDEDE\") })\n",
       "  (div { style=Dict(\"display\" => \"flex\", \"flex-direction\" => \"column\") }\n",
       "    HTML{String}(\"<b>eigenvector</b>\")\n",
       "    [0.7516527258032667, -0.5171338396934146, -0.14337587333973284, 0.38193050353655744, -0.03410602657662457]))"
      ]
     },
     "metadata": {
      "application/vnd.webio.node+json": {
       "kernelId": "3c7d7052-bde9-4a18-a0c5-24a636d36fd8"
      }
     },
     "output_type": "display_data"
    },
    {
     "data": {
      "application/vnd.webio.node+json": {
       "children": [
        {
         "children": [
          {
           "children": [],
           "instanceArgs": {
            "namespace": "html",
            "tag": "div"
           },
           "nodeType": "DOM",
           "props": {
            "setInnerHtml": "<b>power iteration 27</b>"
           },
           "type": "node"
          },
          {
           "children": [],
           "instanceArgs": {
            "namespace": "html",
            "tag": "div"
           },
           "nodeType": "DOM",
           "props": {
            "setInnerHtml": "<pre>5-element Vector{Float64}:\n  0.7516745249137794\n -0.516999354836007\n -0.14232773659899456\n  0.38252814433641824\n -0.033348311500589124</pre>"
           },
           "type": "node"
          }
         ],
         "instanceArgs": {
          "namespace": "html",
          "tag": "div"
         },
         "nodeType": "DOM",
         "props": {
          "style": {
           "display": "flex",
           "flex-direction": "column"
          }
         },
         "type": "node"
        },
        {
         "children": [],
         "instanceArgs": {
          "namespace": "html",
          "tag": "div"
         },
         "nodeType": "DOM",
         "props": {
          "style": {
           "align-self": "stretch",
           "borderLeft": "solid 1.0px #DEDEDE"
          }
         },
         "type": "node"
        },
        {
         "children": [
          {
           "children": [],
           "instanceArgs": {
            "namespace": "html",
            "tag": "div"
           },
           "nodeType": "DOM",
           "props": {
            "setInnerHtml": "<b>eigenvector</b>"
           },
           "type": "node"
          },
          {
           "children": [],
           "instanceArgs": {
            "namespace": "html",
            "tag": "div"
           },
           "nodeType": "DOM",
           "props": {
            "setInnerHtml": "<pre>5-element Vector{Float64}:\n  0.7516527258032667\n -0.5171338396934146\n -0.14337587333973284\n  0.38193050353655744\n -0.03410602657662457</pre>"
           },
           "type": "node"
          }
         ],
         "instanceArgs": {
          "namespace": "html",
          "tag": "div"
         },
         "nodeType": "DOM",
         "props": {
          "style": {
           "display": "flex",
           "flex-direction": "column"
          }
         },
         "type": "node"
        }
       ],
       "instanceArgs": {
        "namespace": "html",
        "tag": "div"
       },
       "nodeType": "DOM",
       "props": {
        "style": {
         "display": "flex",
         "flex-direction": "row"
        }
       },
       "type": "node"
      },
      "text/html": [
       "<div\n",
       "    class=\"webio-mountpoint\"\n",
       "    data-webio-mountpoint=\"14354499537594296708\"\n",
       ">\n",
       "    <script>\n",
       "    (function(){\n",
       "    // Some integrations (namely, IJulia/Jupyter) use an alternate render pathway than\n",
       "    // just putting the html on the page. If WebIO isn't defined, then it's pretty likely\n",
       "    // that we're in one of those situations and the integration just isn't installed\n",
       "    // correctly.\n",
       "    if (typeof window.WebIO === \"undefined\") {\n",
       "        document\n",
       "            .querySelector('[data-webio-mountpoint=\"14354499537594296708\"]')\n",
       "            .innerHTML = (\n",
       "                '<div style=\"padding: 1em; background-color: #f8d6da; border: 1px solid #f5c6cb; font-weight: bold;\">' +\n",
       "                '<p><strong>WebIO not detected.</strong></p>' +\n",
       "                '<p>Please read ' +\n",
       "                '<a href=\"https://juliagizmos.github.io/WebIO.jl/latest/troubleshooting/not-detected/\" target=\"_blank\">the troubleshooting guide</a> ' +\n",
       "                'for more information on how to resolve this issue.</p>' +\n",
       "                '<p><a href=\"https://juliagizmos.github.io/WebIO.jl/latest/troubleshooting/not-detected/\" target=\"_blank\">https://juliagizmos.github.io/WebIO.jl/latest/troubleshooting/not-detected/</a></p>' +\n",
       "                '</div>'\n",
       "            );\n",
       "        return;\n",
       "    }\n",
       "    WebIO.mount(\n",
       "        document.querySelector('[data-webio-mountpoint=\"14354499537594296708\"]'),\n",
       "        {\"props\":{\"style\":{\"display\":\"flex\",\"flex-direction\":\"row\"}},\"nodeType\":\"DOM\",\"type\":\"node\",\"instanceArgs\":{\"namespace\":\"html\",\"tag\":\"div\"},\"children\":[{\"props\":{\"style\":{\"display\":\"flex\",\"flex-direction\":\"column\"}},\"nodeType\":\"DOM\",\"type\":\"node\",\"instanceArgs\":{\"namespace\":\"html\",\"tag\":\"div\"},\"children\":[{\"props\":{\"setInnerHtml\":\"<b>power iteration 27<\\/b>\"},\"nodeType\":\"DOM\",\"type\":\"node\",\"instanceArgs\":{\"namespace\":\"html\",\"tag\":\"div\"},\"children\":[]},{\"props\":{\"setInnerHtml\":\"<pre>5-element Vector{Float64}:\\n  0.7516745249137794\\n -0.516999354836007\\n -0.14232773659899456\\n  0.38252814433641824\\n -0.033348311500589124<\\/pre>\"},\"nodeType\":\"DOM\",\"type\":\"node\",\"instanceArgs\":{\"namespace\":\"html\",\"tag\":\"div\"},\"children\":[]}]},{\"props\":{\"style\":{\"align-self\":\"stretch\",\"borderLeft\":\"solid 1.0px #DEDEDE\"}},\"nodeType\":\"DOM\",\"type\":\"node\",\"instanceArgs\":{\"namespace\":\"html\",\"tag\":\"div\"},\"children\":[]},{\"props\":{\"style\":{\"display\":\"flex\",\"flex-direction\":\"column\"}},\"nodeType\":\"DOM\",\"type\":\"node\",\"instanceArgs\":{\"namespace\":\"html\",\"tag\":\"div\"},\"children\":[{\"props\":{\"setInnerHtml\":\"<b>eigenvector<\\/b>\"},\"nodeType\":\"DOM\",\"type\":\"node\",\"instanceArgs\":{\"namespace\":\"html\",\"tag\":\"div\"},\"children\":[]},{\"props\":{\"setInnerHtml\":\"<pre>5-element Vector{Float64}:\\n  0.7516527258032667\\n -0.5171338396934146\\n -0.14337587333973284\\n  0.38193050353655744\\n -0.03410602657662457<\\/pre>\"},\"nodeType\":\"DOM\",\"type\":\"node\",\"instanceArgs\":{\"namespace\":\"html\",\"tag\":\"div\"},\"children\":[]}]}]},\n",
       "        window,\n",
       "    );\n",
       "    })()\n",
       "    </script>\n",
       "</div>\n"
      ],
      "text/plain": [
       "(div { style=Dict(\"display\" => \"flex\", \"flex-direction\" => \"row\") }\n",
       "  (div { style=Dict(\"display\" => \"flex\", \"flex-direction\" => \"column\") }\n",
       "    HTML{String}(\"<b>power iteration 27</b>\")\n",
       "    [0.7516745249137794, -0.516999354836007, -0.14232773659899456, 0.38252814433641824, -0.033348311500589124])\n",
       "  (div { style=Dict{Any, Any}(\"align-self\" => \"stretch\", \"borderLeft\" => \"solid 1.0px #DEDEDE\") })\n",
       "  (div { style=Dict(\"display\" => \"flex\", \"flex-direction\" => \"column\") }\n",
       "    HTML{String}(\"<b>eigenvector</b>\")\n",
       "    [0.7516527258032667, -0.5171338396934146, -0.14337587333973284, 0.38193050353655744, -0.03410602657662457]))"
      ]
     },
     "metadata": {
      "application/vnd.webio.node+json": {
       "kernelId": "3c7d7052-bde9-4a18-a0c5-24a636d36fd8"
      }
     },
     "output_type": "display_data"
    },
    {
     "data": {
      "application/vnd.webio.node+json": {
       "children": [
        {
         "children": [
          {
           "children": [],
           "instanceArgs": {
            "namespace": "html",
            "tag": "div"
           },
           "nodeType": "DOM",
           "props": {
            "setInnerHtml": "<b>power iteration 28</b>"
           },
           "type": "node"
          },
          {
           "children": [],
           "instanceArgs": {
            "namespace": "html",
            "tag": "div"
           },
           "nodeType": "DOM",
           "props": {
            "setInnerHtml": "<pre>5-element Vector{Float64}:\n  0.7516702540942762\n -0.5170263766569079\n -0.14253744512134275\n  0.38240866509213434\n -0.033499918680609087</pre>"
           },
           "type": "node"
          }
         ],
         "instanceArgs": {
          "namespace": "html",
          "tag": "div"
         },
         "nodeType": "DOM",
         "props": {
          "style": {
           "display": "flex",
           "flex-direction": "column"
          }
         },
         "type": "node"
        },
        {
         "children": [],
         "instanceArgs": {
          "namespace": "html",
          "tag": "div"
         },
         "nodeType": "DOM",
         "props": {
          "style": {
           "align-self": "stretch",
           "borderLeft": "solid 1.0px #DEDEDE"
          }
         },
         "type": "node"
        },
        {
         "children": [
          {
           "children": [],
           "instanceArgs": {
            "namespace": "html",
            "tag": "div"
           },
           "nodeType": "DOM",
           "props": {
            "setInnerHtml": "<b>eigenvector</b>"
           },
           "type": "node"
          },
          {
           "children": [],
           "instanceArgs": {
            "namespace": "html",
            "tag": "div"
           },
           "nodeType": "DOM",
           "props": {
            "setInnerHtml": "<pre>5-element Vector{Float64}:\n  0.7516527258032667\n -0.5171338396934146\n -0.14337587333973284\n  0.38193050353655744\n -0.03410602657662457</pre>"
           },
           "type": "node"
          }
         ],
         "instanceArgs": {
          "namespace": "html",
          "tag": "div"
         },
         "nodeType": "DOM",
         "props": {
          "style": {
           "display": "flex",
           "flex-direction": "column"
          }
         },
         "type": "node"
        }
       ],
       "instanceArgs": {
        "namespace": "html",
        "tag": "div"
       },
       "nodeType": "DOM",
       "props": {
        "style": {
         "display": "flex",
         "flex-direction": "row"
        }
       },
       "type": "node"
      },
      "text/html": [
       "<div\n",
       "    class=\"webio-mountpoint\"\n",
       "    data-webio-mountpoint=\"2599736708311450765\"\n",
       ">\n",
       "    <script>\n",
       "    (function(){\n",
       "    // Some integrations (namely, IJulia/Jupyter) use an alternate render pathway than\n",
       "    // just putting the html on the page. If WebIO isn't defined, then it's pretty likely\n",
       "    // that we're in one of those situations and the integration just isn't installed\n",
       "    // correctly.\n",
       "    if (typeof window.WebIO === \"undefined\") {\n",
       "        document\n",
       "            .querySelector('[data-webio-mountpoint=\"2599736708311450765\"]')\n",
       "            .innerHTML = (\n",
       "                '<div style=\"padding: 1em; background-color: #f8d6da; border: 1px solid #f5c6cb; font-weight: bold;\">' +\n",
       "                '<p><strong>WebIO not detected.</strong></p>' +\n",
       "                '<p>Please read ' +\n",
       "                '<a href=\"https://juliagizmos.github.io/WebIO.jl/latest/troubleshooting/not-detected/\" target=\"_blank\">the troubleshooting guide</a> ' +\n",
       "                'for more information on how to resolve this issue.</p>' +\n",
       "                '<p><a href=\"https://juliagizmos.github.io/WebIO.jl/latest/troubleshooting/not-detected/\" target=\"_blank\">https://juliagizmos.github.io/WebIO.jl/latest/troubleshooting/not-detected/</a></p>' +\n",
       "                '</div>'\n",
       "            );\n",
       "        return;\n",
       "    }\n",
       "    WebIO.mount(\n",
       "        document.querySelector('[data-webio-mountpoint=\"2599736708311450765\"]'),\n",
       "        {\"props\":{\"style\":{\"display\":\"flex\",\"flex-direction\":\"row\"}},\"nodeType\":\"DOM\",\"type\":\"node\",\"instanceArgs\":{\"namespace\":\"html\",\"tag\":\"div\"},\"children\":[{\"props\":{\"style\":{\"display\":\"flex\",\"flex-direction\":\"column\"}},\"nodeType\":\"DOM\",\"type\":\"node\",\"instanceArgs\":{\"namespace\":\"html\",\"tag\":\"div\"},\"children\":[{\"props\":{\"setInnerHtml\":\"<b>power iteration 28<\\/b>\"},\"nodeType\":\"DOM\",\"type\":\"node\",\"instanceArgs\":{\"namespace\":\"html\",\"tag\":\"div\"},\"children\":[]},{\"props\":{\"setInnerHtml\":\"<pre>5-element Vector{Float64}:\\n  0.7516702540942762\\n -0.5170263766569079\\n -0.14253744512134275\\n  0.38240866509213434\\n -0.033499918680609087<\\/pre>\"},\"nodeType\":\"DOM\",\"type\":\"node\",\"instanceArgs\":{\"namespace\":\"html\",\"tag\":\"div\"},\"children\":[]}]},{\"props\":{\"style\":{\"align-self\":\"stretch\",\"borderLeft\":\"solid 1.0px #DEDEDE\"}},\"nodeType\":\"DOM\",\"type\":\"node\",\"instanceArgs\":{\"namespace\":\"html\",\"tag\":\"div\"},\"children\":[]},{\"props\":{\"style\":{\"display\":\"flex\",\"flex-direction\":\"column\"}},\"nodeType\":\"DOM\",\"type\":\"node\",\"instanceArgs\":{\"namespace\":\"html\",\"tag\":\"div\"},\"children\":[{\"props\":{\"setInnerHtml\":\"<b>eigenvector<\\/b>\"},\"nodeType\":\"DOM\",\"type\":\"node\",\"instanceArgs\":{\"namespace\":\"html\",\"tag\":\"div\"},\"children\":[]},{\"props\":{\"setInnerHtml\":\"<pre>5-element Vector{Float64}:\\n  0.7516527258032667\\n -0.5171338396934146\\n -0.14337587333973284\\n  0.38193050353655744\\n -0.03410602657662457<\\/pre>\"},\"nodeType\":\"DOM\",\"type\":\"node\",\"instanceArgs\":{\"namespace\":\"html\",\"tag\":\"div\"},\"children\":[]}]}]},\n",
       "        window,\n",
       "    );\n",
       "    })()\n",
       "    </script>\n",
       "</div>\n"
      ],
      "text/plain": [
       "(div { style=Dict(\"display\" => \"flex\", \"flex-direction\" => \"row\") }\n",
       "  (div { style=Dict(\"display\" => \"flex\", \"flex-direction\" => \"column\") }\n",
       "    HTML{String}(\"<b>power iteration 28</b>\")\n",
       "    [0.7516702540942762, -0.5170263766569079, -0.14253744512134275, 0.38240866509213434, -0.033499918680609087])\n",
       "  (div { style=Dict{Any, Any}(\"align-self\" => \"stretch\", \"borderLeft\" => \"solid 1.0px #DEDEDE\") })\n",
       "  (div { style=Dict(\"display\" => \"flex\", \"flex-direction\" => \"column\") }\n",
       "    HTML{String}(\"<b>eigenvector</b>\")\n",
       "    [0.7516527258032667, -0.5171338396934146, -0.14337587333973284, 0.38193050353655744, -0.03410602657662457]))"
      ]
     },
     "metadata": {
      "application/vnd.webio.node+json": {
       "kernelId": "3c7d7052-bde9-4a18-a0c5-24a636d36fd8"
      }
     },
     "output_type": "display_data"
    },
    {
     "data": {
      "application/vnd.webio.node+json": {
       "children": [
        {
         "children": [
          {
           "children": [],
           "instanceArgs": {
            "namespace": "html",
            "tag": "div"
           },
           "nodeType": "DOM",
           "props": {
            "setInnerHtml": "<b>power iteration 29</b>"
           },
           "type": "node"
          },
          {
           "children": [],
           "instanceArgs": {
            "namespace": "html",
            "tag": "div"
           },
           "nodeType": "DOM",
           "props": {
            "setInnerHtml": "<pre>5-element Vector{Float64}:\n  0.7516668066790847\n -0.5170479479797078\n -0.14270518378331745\n  0.3823130626960266\n -0.033621181421755554</pre>"
           },
           "type": "node"
          }
         ],
         "instanceArgs": {
          "namespace": "html",
          "tag": "div"
         },
         "nodeType": "DOM",
         "props": {
          "style": {
           "display": "flex",
           "flex-direction": "column"
          }
         },
         "type": "node"
        },
        {
         "children": [],
         "instanceArgs": {
          "namespace": "html",
          "tag": "div"
         },
         "nodeType": "DOM",
         "props": {
          "style": {
           "align-self": "stretch",
           "borderLeft": "solid 1.0px #DEDEDE"
          }
         },
         "type": "node"
        },
        {
         "children": [
          {
           "children": [],
           "instanceArgs": {
            "namespace": "html",
            "tag": "div"
           },
           "nodeType": "DOM",
           "props": {
            "setInnerHtml": "<b>eigenvector</b>"
           },
           "type": "node"
          },
          {
           "children": [],
           "instanceArgs": {
            "namespace": "html",
            "tag": "div"
           },
           "nodeType": "DOM",
           "props": {
            "setInnerHtml": "<pre>5-element Vector{Float64}:\n  0.7516527258032667\n -0.5171338396934146\n -0.14337587333973284\n  0.38193050353655744\n -0.03410602657662457</pre>"
           },
           "type": "node"
          }
         ],
         "instanceArgs": {
          "namespace": "html",
          "tag": "div"
         },
         "nodeType": "DOM",
         "props": {
          "style": {
           "display": "flex",
           "flex-direction": "column"
          }
         },
         "type": "node"
        }
       ],
       "instanceArgs": {
        "namespace": "html",
        "tag": "div"
       },
       "nodeType": "DOM",
       "props": {
        "style": {
         "display": "flex",
         "flex-direction": "row"
        }
       },
       "type": "node"
      },
      "text/html": [
       "<div\n",
       "    class=\"webio-mountpoint\"\n",
       "    data-webio-mountpoint=\"13698036116700356412\"\n",
       ">\n",
       "    <script>\n",
       "    (function(){\n",
       "    // Some integrations (namely, IJulia/Jupyter) use an alternate render pathway than\n",
       "    // just putting the html on the page. If WebIO isn't defined, then it's pretty likely\n",
       "    // that we're in one of those situations and the integration just isn't installed\n",
       "    // correctly.\n",
       "    if (typeof window.WebIO === \"undefined\") {\n",
       "        document\n",
       "            .querySelector('[data-webio-mountpoint=\"13698036116700356412\"]')\n",
       "            .innerHTML = (\n",
       "                '<div style=\"padding: 1em; background-color: #f8d6da; border: 1px solid #f5c6cb; font-weight: bold;\">' +\n",
       "                '<p><strong>WebIO not detected.</strong></p>' +\n",
       "                '<p>Please read ' +\n",
       "                '<a href=\"https://juliagizmos.github.io/WebIO.jl/latest/troubleshooting/not-detected/\" target=\"_blank\">the troubleshooting guide</a> ' +\n",
       "                'for more information on how to resolve this issue.</p>' +\n",
       "                '<p><a href=\"https://juliagizmos.github.io/WebIO.jl/latest/troubleshooting/not-detected/\" target=\"_blank\">https://juliagizmos.github.io/WebIO.jl/latest/troubleshooting/not-detected/</a></p>' +\n",
       "                '</div>'\n",
       "            );\n",
       "        return;\n",
       "    }\n",
       "    WebIO.mount(\n",
       "        document.querySelector('[data-webio-mountpoint=\"13698036116700356412\"]'),\n",
       "        {\"props\":{\"style\":{\"display\":\"flex\",\"flex-direction\":\"row\"}},\"nodeType\":\"DOM\",\"type\":\"node\",\"instanceArgs\":{\"namespace\":\"html\",\"tag\":\"div\"},\"children\":[{\"props\":{\"style\":{\"display\":\"flex\",\"flex-direction\":\"column\"}},\"nodeType\":\"DOM\",\"type\":\"node\",\"instanceArgs\":{\"namespace\":\"html\",\"tag\":\"div\"},\"children\":[{\"props\":{\"setInnerHtml\":\"<b>power iteration 29<\\/b>\"},\"nodeType\":\"DOM\",\"type\":\"node\",\"instanceArgs\":{\"namespace\":\"html\",\"tag\":\"div\"},\"children\":[]},{\"props\":{\"setInnerHtml\":\"<pre>5-element Vector{Float64}:\\n  0.7516668066790847\\n -0.5170479479797078\\n -0.14270518378331745\\n  0.3823130626960266\\n -0.033621181421755554<\\/pre>\"},\"nodeType\":\"DOM\",\"type\":\"node\",\"instanceArgs\":{\"namespace\":\"html\",\"tag\":\"div\"},\"children\":[]}]},{\"props\":{\"style\":{\"align-self\":\"stretch\",\"borderLeft\":\"solid 1.0px #DEDEDE\"}},\"nodeType\":\"DOM\",\"type\":\"node\",\"instanceArgs\":{\"namespace\":\"html\",\"tag\":\"div\"},\"children\":[]},{\"props\":{\"style\":{\"display\":\"flex\",\"flex-direction\":\"column\"}},\"nodeType\":\"DOM\",\"type\":\"node\",\"instanceArgs\":{\"namespace\":\"html\",\"tag\":\"div\"},\"children\":[{\"props\":{\"setInnerHtml\":\"<b>eigenvector<\\/b>\"},\"nodeType\":\"DOM\",\"type\":\"node\",\"instanceArgs\":{\"namespace\":\"html\",\"tag\":\"div\"},\"children\":[]},{\"props\":{\"setInnerHtml\":\"<pre>5-element Vector{Float64}:\\n  0.7516527258032667\\n -0.5171338396934146\\n -0.14337587333973284\\n  0.38193050353655744\\n -0.03410602657662457<\\/pre>\"},\"nodeType\":\"DOM\",\"type\":\"node\",\"instanceArgs\":{\"namespace\":\"html\",\"tag\":\"div\"},\"children\":[]}]}]},\n",
       "        window,\n",
       "    );\n",
       "    })()\n",
       "    </script>\n",
       "</div>\n"
      ],
      "text/plain": [
       "(div { style=Dict(\"display\" => \"flex\", \"flex-direction\" => \"row\") }\n",
       "  (div { style=Dict(\"display\" => \"flex\", \"flex-direction\" => \"column\") }\n",
       "    HTML{String}(\"<b>power iteration 29</b>\")\n",
       "    [0.7516668066790847, -0.5170479479797078, -0.14270518378331745, 0.3823130626960266, -0.033621181421755554])\n",
       "  (div { style=Dict{Any, Any}(\"align-self\" => \"stretch\", \"borderLeft\" => \"solid 1.0px #DEDEDE\") })\n",
       "  (div { style=Dict(\"display\" => \"flex\", \"flex-direction\" => \"column\") }\n",
       "    HTML{String}(\"<b>eigenvector</b>\")\n",
       "    [0.7516527258032667, -0.5171338396934146, -0.14337587333973284, 0.38193050353655744, -0.03410602657662457]))"
      ]
     },
     "metadata": {
      "application/vnd.webio.node+json": {
       "kernelId": "3c7d7052-bde9-4a18-a0c5-24a636d36fd8"
      }
     },
     "output_type": "display_data"
    },
    {
     "data": {
      "application/vnd.webio.node+json": {
       "children": [
        {
         "children": [
          {
           "children": [],
           "instanceArgs": {
            "namespace": "html",
            "tag": "div"
           },
           "nodeType": "DOM",
           "props": {
            "setInnerHtml": "<b>power iteration 30</b>"
           },
           "type": "node"
          },
          {
           "children": [],
           "instanceArgs": {
            "namespace": "html",
            "tag": "div"
           },
           "nodeType": "DOM",
           "props": {
            "setInnerHtml": "<pre>5-element Vector{Float64}:\n  0.751664028549221\n -0.517065175988641\n -0.14283935626318672\n  0.38223656917816207\n -0.03371817685193268</pre>"
           },
           "type": "node"
          }
         ],
         "instanceArgs": {
          "namespace": "html",
          "tag": "div"
         },
         "nodeType": "DOM",
         "props": {
          "style": {
           "display": "flex",
           "flex-direction": "column"
          }
         },
         "type": "node"
        },
        {
         "children": [],
         "instanceArgs": {
          "namespace": "html",
          "tag": "div"
         },
         "nodeType": "DOM",
         "props": {
          "style": {
           "align-self": "stretch",
           "borderLeft": "solid 1.0px #DEDEDE"
          }
         },
         "type": "node"
        },
        {
         "children": [
          {
           "children": [],
           "instanceArgs": {
            "namespace": "html",
            "tag": "div"
           },
           "nodeType": "DOM",
           "props": {
            "setInnerHtml": "<b>eigenvector</b>"
           },
           "type": "node"
          },
          {
           "children": [],
           "instanceArgs": {
            "namespace": "html",
            "tag": "div"
           },
           "nodeType": "DOM",
           "props": {
            "setInnerHtml": "<pre>5-element Vector{Float64}:\n  0.7516527258032667\n -0.5171338396934146\n -0.14337587333973284\n  0.38193050353655744\n -0.03410602657662457</pre>"
           },
           "type": "node"
          }
         ],
         "instanceArgs": {
          "namespace": "html",
          "tag": "div"
         },
         "nodeType": "DOM",
         "props": {
          "style": {
           "display": "flex",
           "flex-direction": "column"
          }
         },
         "type": "node"
        }
       ],
       "instanceArgs": {
        "namespace": "html",
        "tag": "div"
       },
       "nodeType": "DOM",
       "props": {
        "style": {
         "display": "flex",
         "flex-direction": "row"
        }
       },
       "type": "node"
      },
      "text/html": [
       "<div\n",
       "    class=\"webio-mountpoint\"\n",
       "    data-webio-mountpoint=\"11799377839518657484\"\n",
       ">\n",
       "    <script>\n",
       "    (function(){\n",
       "    // Some integrations (namely, IJulia/Jupyter) use an alternate render pathway than\n",
       "    // just putting the html on the page. If WebIO isn't defined, then it's pretty likely\n",
       "    // that we're in one of those situations and the integration just isn't installed\n",
       "    // correctly.\n",
       "    if (typeof window.WebIO === \"undefined\") {\n",
       "        document\n",
       "            .querySelector('[data-webio-mountpoint=\"11799377839518657484\"]')\n",
       "            .innerHTML = (\n",
       "                '<div style=\"padding: 1em; background-color: #f8d6da; border: 1px solid #f5c6cb; font-weight: bold;\">' +\n",
       "                '<p><strong>WebIO not detected.</strong></p>' +\n",
       "                '<p>Please read ' +\n",
       "                '<a href=\"https://juliagizmos.github.io/WebIO.jl/latest/troubleshooting/not-detected/\" target=\"_blank\">the troubleshooting guide</a> ' +\n",
       "                'for more information on how to resolve this issue.</p>' +\n",
       "                '<p><a href=\"https://juliagizmos.github.io/WebIO.jl/latest/troubleshooting/not-detected/\" target=\"_blank\">https://juliagizmos.github.io/WebIO.jl/latest/troubleshooting/not-detected/</a></p>' +\n",
       "                '</div>'\n",
       "            );\n",
       "        return;\n",
       "    }\n",
       "    WebIO.mount(\n",
       "        document.querySelector('[data-webio-mountpoint=\"11799377839518657484\"]'),\n",
       "        {\"props\":{\"style\":{\"display\":\"flex\",\"flex-direction\":\"row\"}},\"nodeType\":\"DOM\",\"type\":\"node\",\"instanceArgs\":{\"namespace\":\"html\",\"tag\":\"div\"},\"children\":[{\"props\":{\"style\":{\"display\":\"flex\",\"flex-direction\":\"column\"}},\"nodeType\":\"DOM\",\"type\":\"node\",\"instanceArgs\":{\"namespace\":\"html\",\"tag\":\"div\"},\"children\":[{\"props\":{\"setInnerHtml\":\"<b>power iteration 30<\\/b>\"},\"nodeType\":\"DOM\",\"type\":\"node\",\"instanceArgs\":{\"namespace\":\"html\",\"tag\":\"div\"},\"children\":[]},{\"props\":{\"setInnerHtml\":\"<pre>5-element Vector{Float64}:\\n  0.751664028549221\\n -0.517065175988641\\n -0.14283935626318672\\n  0.38223656917816207\\n -0.03371817685193268<\\/pre>\"},\"nodeType\":\"DOM\",\"type\":\"node\",\"instanceArgs\":{\"namespace\":\"html\",\"tag\":\"div\"},\"children\":[]}]},{\"props\":{\"style\":{\"align-self\":\"stretch\",\"borderLeft\":\"solid 1.0px #DEDEDE\"}},\"nodeType\":\"DOM\",\"type\":\"node\",\"instanceArgs\":{\"namespace\":\"html\",\"tag\":\"div\"},\"children\":[]},{\"props\":{\"style\":{\"display\":\"flex\",\"flex-direction\":\"column\"}},\"nodeType\":\"DOM\",\"type\":\"node\",\"instanceArgs\":{\"namespace\":\"html\",\"tag\":\"div\"},\"children\":[{\"props\":{\"setInnerHtml\":\"<b>eigenvector<\\/b>\"},\"nodeType\":\"DOM\",\"type\":\"node\",\"instanceArgs\":{\"namespace\":\"html\",\"tag\":\"div\"},\"children\":[]},{\"props\":{\"setInnerHtml\":\"<pre>5-element Vector{Float64}:\\n  0.7516527258032667\\n -0.5171338396934146\\n -0.14337587333973284\\n  0.38193050353655744\\n -0.03410602657662457<\\/pre>\"},\"nodeType\":\"DOM\",\"type\":\"node\",\"instanceArgs\":{\"namespace\":\"html\",\"tag\":\"div\"},\"children\":[]}]}]},\n",
       "        window,\n",
       "    );\n",
       "    })()\n",
       "    </script>\n",
       "</div>\n"
      ],
      "text/plain": [
       "(div { style=Dict(\"display\" => \"flex\", \"flex-direction\" => \"row\") }\n",
       "  (div { style=Dict(\"display\" => \"flex\", \"flex-direction\" => \"column\") }\n",
       "    HTML{String}(\"<b>power iteration 30</b>\")\n",
       "    [0.751664028549221, -0.517065175988641, -0.14283935626318672, 0.38223656917816207, -0.03371817685193268])\n",
       "  (div { style=Dict{Any, Any}(\"align-self\" => \"stretch\", \"borderLeft\" => \"solid 1.0px #DEDEDE\") })\n",
       "  (div { style=Dict(\"display\" => \"flex\", \"flex-direction\" => \"column\") }\n",
       "    HTML{String}(\"<b>eigenvector</b>\")\n",
       "    [0.7516527258032667, -0.5171338396934146, -0.14337587333973284, 0.38193050353655744, -0.03410602657662457]))"
      ]
     },
     "metadata": {
      "application/vnd.webio.node+json": {
       "kernelId": "3c7d7052-bde9-4a18-a0c5-24a636d36fd8"
      }
     },
     "output_type": "display_data"
    },
    {
     "data": {
      "application/vnd.webio.node+json": {
       "children": [
        {
         "children": [
          {
           "children": [],
           "instanceArgs": {
            "namespace": "html",
            "tag": "div"
           },
           "nodeType": "DOM",
           "props": {
            "setInnerHtml": "<b>power iteration 31</b>"
           },
           "type": "node"
          },
          {
           "children": [],
           "instanceArgs": {
            "namespace": "html",
            "tag": "div"
           },
           "nodeType": "DOM",
           "props": {
            "setInnerHtml": "<pre>5-element Vector{Float64}:\n  0.7516617928114376\n -0.5170789400895118\n -0.14294668218290482\n  0.3821753672734254\n -0.033795763724534515</pre>"
           },
           "type": "node"
          }
         ],
         "instanceArgs": {
          "namespace": "html",
          "tag": "div"
         },
         "nodeType": "DOM",
         "props": {
          "style": {
           "display": "flex",
           "flex-direction": "column"
          }
         },
         "type": "node"
        },
        {
         "children": [],
         "instanceArgs": {
          "namespace": "html",
          "tag": "div"
         },
         "nodeType": "DOM",
         "props": {
          "style": {
           "align-self": "stretch",
           "borderLeft": "solid 1.0px #DEDEDE"
          }
         },
         "type": "node"
        },
        {
         "children": [
          {
           "children": [],
           "instanceArgs": {
            "namespace": "html",
            "tag": "div"
           },
           "nodeType": "DOM",
           "props": {
            "setInnerHtml": "<b>eigenvector</b>"
           },
           "type": "node"
          },
          {
           "children": [],
           "instanceArgs": {
            "namespace": "html",
            "tag": "div"
           },
           "nodeType": "DOM",
           "props": {
            "setInnerHtml": "<pre>5-element Vector{Float64}:\n  0.7516527258032667\n -0.5171338396934146\n -0.14337587333973284\n  0.38193050353655744\n -0.03410602657662457</pre>"
           },
           "type": "node"
          }
         ],
         "instanceArgs": {
          "namespace": "html",
          "tag": "div"
         },
         "nodeType": "DOM",
         "props": {
          "style": {
           "display": "flex",
           "flex-direction": "column"
          }
         },
         "type": "node"
        }
       ],
       "instanceArgs": {
        "namespace": "html",
        "tag": "div"
       },
       "nodeType": "DOM",
       "props": {
        "style": {
         "display": "flex",
         "flex-direction": "row"
        }
       },
       "type": "node"
      },
      "text/html": [
       "<div\n",
       "    class=\"webio-mountpoint\"\n",
       "    data-webio-mountpoint=\"1494037193178902558\"\n",
       ">\n",
       "    <script>\n",
       "    (function(){\n",
       "    // Some integrations (namely, IJulia/Jupyter) use an alternate render pathway than\n",
       "    // just putting the html on the page. If WebIO isn't defined, then it's pretty likely\n",
       "    // that we're in one of those situations and the integration just isn't installed\n",
       "    // correctly.\n",
       "    if (typeof window.WebIO === \"undefined\") {\n",
       "        document\n",
       "            .querySelector('[data-webio-mountpoint=\"1494037193178902558\"]')\n",
       "            .innerHTML = (\n",
       "                '<div style=\"padding: 1em; background-color: #f8d6da; border: 1px solid #f5c6cb; font-weight: bold;\">' +\n",
       "                '<p><strong>WebIO not detected.</strong></p>' +\n",
       "                '<p>Please read ' +\n",
       "                '<a href=\"https://juliagizmos.github.io/WebIO.jl/latest/troubleshooting/not-detected/\" target=\"_blank\">the troubleshooting guide</a> ' +\n",
       "                'for more information on how to resolve this issue.</p>' +\n",
       "                '<p><a href=\"https://juliagizmos.github.io/WebIO.jl/latest/troubleshooting/not-detected/\" target=\"_blank\">https://juliagizmos.github.io/WebIO.jl/latest/troubleshooting/not-detected/</a></p>' +\n",
       "                '</div>'\n",
       "            );\n",
       "        return;\n",
       "    }\n",
       "    WebIO.mount(\n",
       "        document.querySelector('[data-webio-mountpoint=\"1494037193178902558\"]'),\n",
       "        {\"props\":{\"style\":{\"display\":\"flex\",\"flex-direction\":\"row\"}},\"nodeType\":\"DOM\",\"type\":\"node\",\"instanceArgs\":{\"namespace\":\"html\",\"tag\":\"div\"},\"children\":[{\"props\":{\"style\":{\"display\":\"flex\",\"flex-direction\":\"column\"}},\"nodeType\":\"DOM\",\"type\":\"node\",\"instanceArgs\":{\"namespace\":\"html\",\"tag\":\"div\"},\"children\":[{\"props\":{\"setInnerHtml\":\"<b>power iteration 31<\\/b>\"},\"nodeType\":\"DOM\",\"type\":\"node\",\"instanceArgs\":{\"namespace\":\"html\",\"tag\":\"div\"},\"children\":[]},{\"props\":{\"setInnerHtml\":\"<pre>5-element Vector{Float64}:\\n  0.7516617928114376\\n -0.5170789400895118\\n -0.14294668218290482\\n  0.3821753672734254\\n -0.033795763724534515<\\/pre>\"},\"nodeType\":\"DOM\",\"type\":\"node\",\"instanceArgs\":{\"namespace\":\"html\",\"tag\":\"div\"},\"children\":[]}]},{\"props\":{\"style\":{\"align-self\":\"stretch\",\"borderLeft\":\"solid 1.0px #DEDEDE\"}},\"nodeType\":\"DOM\",\"type\":\"node\",\"instanceArgs\":{\"namespace\":\"html\",\"tag\":\"div\"},\"children\":[]},{\"props\":{\"style\":{\"display\":\"flex\",\"flex-direction\":\"column\"}},\"nodeType\":\"DOM\",\"type\":\"node\",\"instanceArgs\":{\"namespace\":\"html\",\"tag\":\"div\"},\"children\":[{\"props\":{\"setInnerHtml\":\"<b>eigenvector<\\/b>\"},\"nodeType\":\"DOM\",\"type\":\"node\",\"instanceArgs\":{\"namespace\":\"html\",\"tag\":\"div\"},\"children\":[]},{\"props\":{\"setInnerHtml\":\"<pre>5-element Vector{Float64}:\\n  0.7516527258032667\\n -0.5171338396934146\\n -0.14337587333973284\\n  0.38193050353655744\\n -0.03410602657662457<\\/pre>\"},\"nodeType\":\"DOM\",\"type\":\"node\",\"instanceArgs\":{\"namespace\":\"html\",\"tag\":\"div\"},\"children\":[]}]}]},\n",
       "        window,\n",
       "    );\n",
       "    })()\n",
       "    </script>\n",
       "</div>\n"
      ],
      "text/plain": [
       "(div { style=Dict(\"display\" => \"flex\", \"flex-direction\" => \"row\") }\n",
       "  (div { style=Dict(\"display\" => \"flex\", \"flex-direction\" => \"column\") }\n",
       "    HTML{String}(\"<b>power iteration 31</b>\")\n",
       "    [0.7516617928114376, -0.5170789400895118, -0.14294668218290482, 0.3821753672734254, -0.033795763724534515])\n",
       "  (div { style=Dict{Any, Any}(\"align-self\" => \"stretch\", \"borderLeft\" => \"solid 1.0px #DEDEDE\") })\n",
       "  (div { style=Dict(\"display\" => \"flex\", \"flex-direction\" => \"column\") }\n",
       "    HTML{String}(\"<b>eigenvector</b>\")\n",
       "    [0.7516527258032667, -0.5171338396934146, -0.14337587333973284, 0.38193050353655744, -0.03410602657662457]))"
      ]
     },
     "metadata": {
      "application/vnd.webio.node+json": {
       "kernelId": "3c7d7052-bde9-4a18-a0c5-24a636d36fd8"
      }
     },
     "output_type": "display_data"
    },
    {
     "data": {
      "application/vnd.webio.node+json": {
       "children": [
        {
         "children": [
          {
           "children": [],
           "instanceArgs": {
            "namespace": "html",
            "tag": "div"
           },
           "nodeType": "DOM",
           "props": {
            "setInnerHtml": "<b>power iteration 32</b>"
           },
           "type": "node"
          },
          {
           "children": [],
           "instanceArgs": {
            "namespace": "html",
            "tag": "div"
           },
           "nodeType": "DOM",
           "props": {
            "setInnerHtml": "<pre>5-element Vector{Float64}:\n  0.7516599955668624\n -0.5170899398250739\n -0.1430325350445901\n  0.3821264014114993\n -0.03385782714737693</pre>"
           },
           "type": "node"
          }
         ],
         "instanceArgs": {
          "namespace": "html",
          "tag": "div"
         },
         "nodeType": "DOM",
         "props": {
          "style": {
           "display": "flex",
           "flex-direction": "column"
          }
         },
         "type": "node"
        },
        {
         "children": [],
         "instanceArgs": {
          "namespace": "html",
          "tag": "div"
         },
         "nodeType": "DOM",
         "props": {
          "style": {
           "align-self": "stretch",
           "borderLeft": "solid 1.0px #DEDEDE"
          }
         },
         "type": "node"
        },
        {
         "children": [
          {
           "children": [],
           "instanceArgs": {
            "namespace": "html",
            "tag": "div"
           },
           "nodeType": "DOM",
           "props": {
            "setInnerHtml": "<b>eigenvector</b>"
           },
           "type": "node"
          },
          {
           "children": [],
           "instanceArgs": {
            "namespace": "html",
            "tag": "div"
           },
           "nodeType": "DOM",
           "props": {
            "setInnerHtml": "<pre>5-element Vector{Float64}:\n  0.7516527258032667\n -0.5171338396934146\n -0.14337587333973284\n  0.38193050353655744\n -0.03410602657662457</pre>"
           },
           "type": "node"
          }
         ],
         "instanceArgs": {
          "namespace": "html",
          "tag": "div"
         },
         "nodeType": "DOM",
         "props": {
          "style": {
           "display": "flex",
           "flex-direction": "column"
          }
         },
         "type": "node"
        }
       ],
       "instanceArgs": {
        "namespace": "html",
        "tag": "div"
       },
       "nodeType": "DOM",
       "props": {
        "style": {
         "display": "flex",
         "flex-direction": "row"
        }
       },
       "type": "node"
      },
      "text/html": [
       "<div\n",
       "    class=\"webio-mountpoint\"\n",
       "    data-webio-mountpoint=\"6837823659553067407\"\n",
       ">\n",
       "    <script>\n",
       "    (function(){\n",
       "    // Some integrations (namely, IJulia/Jupyter) use an alternate render pathway than\n",
       "    // just putting the html on the page. If WebIO isn't defined, then it's pretty likely\n",
       "    // that we're in one of those situations and the integration just isn't installed\n",
       "    // correctly.\n",
       "    if (typeof window.WebIO === \"undefined\") {\n",
       "        document\n",
       "            .querySelector('[data-webio-mountpoint=\"6837823659553067407\"]')\n",
       "            .innerHTML = (\n",
       "                '<div style=\"padding: 1em; background-color: #f8d6da; border: 1px solid #f5c6cb; font-weight: bold;\">' +\n",
       "                '<p><strong>WebIO not detected.</strong></p>' +\n",
       "                '<p>Please read ' +\n",
       "                '<a href=\"https://juliagizmos.github.io/WebIO.jl/latest/troubleshooting/not-detected/\" target=\"_blank\">the troubleshooting guide</a> ' +\n",
       "                'for more information on how to resolve this issue.</p>' +\n",
       "                '<p><a href=\"https://juliagizmos.github.io/WebIO.jl/latest/troubleshooting/not-detected/\" target=\"_blank\">https://juliagizmos.github.io/WebIO.jl/latest/troubleshooting/not-detected/</a></p>' +\n",
       "                '</div>'\n",
       "            );\n",
       "        return;\n",
       "    }\n",
       "    WebIO.mount(\n",
       "        document.querySelector('[data-webio-mountpoint=\"6837823659553067407\"]'),\n",
       "        {\"props\":{\"style\":{\"display\":\"flex\",\"flex-direction\":\"row\"}},\"nodeType\":\"DOM\",\"type\":\"node\",\"instanceArgs\":{\"namespace\":\"html\",\"tag\":\"div\"},\"children\":[{\"props\":{\"style\":{\"display\":\"flex\",\"flex-direction\":\"column\"}},\"nodeType\":\"DOM\",\"type\":\"node\",\"instanceArgs\":{\"namespace\":\"html\",\"tag\":\"div\"},\"children\":[{\"props\":{\"setInnerHtml\":\"<b>power iteration 32<\\/b>\"},\"nodeType\":\"DOM\",\"type\":\"node\",\"instanceArgs\":{\"namespace\":\"html\",\"tag\":\"div\"},\"children\":[]},{\"props\":{\"setInnerHtml\":\"<pre>5-element Vector{Float64}:\\n  0.7516599955668624\\n -0.5170899398250739\\n -0.1430325350445901\\n  0.3821264014114993\\n -0.03385782714737693<\\/pre>\"},\"nodeType\":\"DOM\",\"type\":\"node\",\"instanceArgs\":{\"namespace\":\"html\",\"tag\":\"div\"},\"children\":[]}]},{\"props\":{\"style\":{\"align-self\":\"stretch\",\"borderLeft\":\"solid 1.0px #DEDEDE\"}},\"nodeType\":\"DOM\",\"type\":\"node\",\"instanceArgs\":{\"namespace\":\"html\",\"tag\":\"div\"},\"children\":[]},{\"props\":{\"style\":{\"display\":\"flex\",\"flex-direction\":\"column\"}},\"nodeType\":\"DOM\",\"type\":\"node\",\"instanceArgs\":{\"namespace\":\"html\",\"tag\":\"div\"},\"children\":[{\"props\":{\"setInnerHtml\":\"<b>eigenvector<\\/b>\"},\"nodeType\":\"DOM\",\"type\":\"node\",\"instanceArgs\":{\"namespace\":\"html\",\"tag\":\"div\"},\"children\":[]},{\"props\":{\"setInnerHtml\":\"<pre>5-element Vector{Float64}:\\n  0.7516527258032667\\n -0.5171338396934146\\n -0.14337587333973284\\n  0.38193050353655744\\n -0.03410602657662457<\\/pre>\"},\"nodeType\":\"DOM\",\"type\":\"node\",\"instanceArgs\":{\"namespace\":\"html\",\"tag\":\"div\"},\"children\":[]}]}]},\n",
       "        window,\n",
       "    );\n",
       "    })()\n",
       "    </script>\n",
       "</div>\n"
      ],
      "text/plain": [
       "(div { style=Dict(\"display\" => \"flex\", \"flex-direction\" => \"row\") }\n",
       "  (div { style=Dict(\"display\" => \"flex\", \"flex-direction\" => \"column\") }\n",
       "    HTML{String}(\"<b>power iteration 32</b>\")\n",
       "    [0.7516599955668624, -0.5170899398250739, -0.1430325350445901, 0.3821264014114993, -0.03385782714737693])\n",
       "  (div { style=Dict{Any, Any}(\"align-self\" => \"stretch\", \"borderLeft\" => \"solid 1.0px #DEDEDE\") })\n",
       "  (div { style=Dict(\"display\" => \"flex\", \"flex-direction\" => \"column\") }\n",
       "    HTML{String}(\"<b>eigenvector</b>\")\n",
       "    [0.7516527258032667, -0.5171338396934146, -0.14337587333973284, 0.38193050353655744, -0.03410602657662457]))"
      ]
     },
     "metadata": {
      "application/vnd.webio.node+json": {
       "kernelId": "3c7d7052-bde9-4a18-a0c5-24a636d36fd8"
      }
     },
     "output_type": "display_data"
    },
    {
     "data": {
      "application/vnd.webio.node+json": {
       "children": [
        {
         "children": [
          {
           "children": [],
           "instanceArgs": {
            "namespace": "html",
            "tag": "div"
           },
           "nodeType": "DOM",
           "props": {
            "setInnerHtml": "<b>power iteration 33</b>"
           },
           "type": "node"
          },
          {
           "children": [],
           "instanceArgs": {
            "namespace": "html",
            "tag": "div"
           },
           "nodeType": "DOM",
           "props": {
            "setInnerHtml": "<pre>5-element Vector{Float64}:\n  0.7516585521214868\n -0.5170987323270193\n -0.1431012122031146\n  0.3820872260650122\n -0.03390747398971578</pre>"
           },
           "type": "node"
          }
         ],
         "instanceArgs": {
          "namespace": "html",
          "tag": "div"
         },
         "nodeType": "DOM",
         "props": {
          "style": {
           "display": "flex",
           "flex-direction": "column"
          }
         },
         "type": "node"
        },
        {
         "children": [],
         "instanceArgs": {
          "namespace": "html",
          "tag": "div"
         },
         "nodeType": "DOM",
         "props": {
          "style": {
           "align-self": "stretch",
           "borderLeft": "solid 1.0px #DEDEDE"
          }
         },
         "type": "node"
        },
        {
         "children": [
          {
           "children": [],
           "instanceArgs": {
            "namespace": "html",
            "tag": "div"
           },
           "nodeType": "DOM",
           "props": {
            "setInnerHtml": "<b>eigenvector</b>"
           },
           "type": "node"
          },
          {
           "children": [],
           "instanceArgs": {
            "namespace": "html",
            "tag": "div"
           },
           "nodeType": "DOM",
           "props": {
            "setInnerHtml": "<pre>5-element Vector{Float64}:\n  0.7516527258032667\n -0.5171338396934146\n -0.14337587333973284\n  0.38193050353655744\n -0.03410602657662457</pre>"
           },
           "type": "node"
          }
         ],
         "instanceArgs": {
          "namespace": "html",
          "tag": "div"
         },
         "nodeType": "DOM",
         "props": {
          "style": {
           "display": "flex",
           "flex-direction": "column"
          }
         },
         "type": "node"
        }
       ],
       "instanceArgs": {
        "namespace": "html",
        "tag": "div"
       },
       "nodeType": "DOM",
       "props": {
        "style": {
         "display": "flex",
         "flex-direction": "row"
        }
       },
       "type": "node"
      },
      "text/html": [
       "<div\n",
       "    class=\"webio-mountpoint\"\n",
       "    data-webio-mountpoint=\"1752232253043568681\"\n",
       ">\n",
       "    <script>\n",
       "    (function(){\n",
       "    // Some integrations (namely, IJulia/Jupyter) use an alternate render pathway than\n",
       "    // just putting the html on the page. If WebIO isn't defined, then it's pretty likely\n",
       "    // that we're in one of those situations and the integration just isn't installed\n",
       "    // correctly.\n",
       "    if (typeof window.WebIO === \"undefined\") {\n",
       "        document\n",
       "            .querySelector('[data-webio-mountpoint=\"1752232253043568681\"]')\n",
       "            .innerHTML = (\n",
       "                '<div style=\"padding: 1em; background-color: #f8d6da; border: 1px solid #f5c6cb; font-weight: bold;\">' +\n",
       "                '<p><strong>WebIO not detected.</strong></p>' +\n",
       "                '<p>Please read ' +\n",
       "                '<a href=\"https://juliagizmos.github.io/WebIO.jl/latest/troubleshooting/not-detected/\" target=\"_blank\">the troubleshooting guide</a> ' +\n",
       "                'for more information on how to resolve this issue.</p>' +\n",
       "                '<p><a href=\"https://juliagizmos.github.io/WebIO.jl/latest/troubleshooting/not-detected/\" target=\"_blank\">https://juliagizmos.github.io/WebIO.jl/latest/troubleshooting/not-detected/</a></p>' +\n",
       "                '</div>'\n",
       "            );\n",
       "        return;\n",
       "    }\n",
       "    WebIO.mount(\n",
       "        document.querySelector('[data-webio-mountpoint=\"1752232253043568681\"]'),\n",
       "        {\"props\":{\"style\":{\"display\":\"flex\",\"flex-direction\":\"row\"}},\"nodeType\":\"DOM\",\"type\":\"node\",\"instanceArgs\":{\"namespace\":\"html\",\"tag\":\"div\"},\"children\":[{\"props\":{\"style\":{\"display\":\"flex\",\"flex-direction\":\"column\"}},\"nodeType\":\"DOM\",\"type\":\"node\",\"instanceArgs\":{\"namespace\":\"html\",\"tag\":\"div\"},\"children\":[{\"props\":{\"setInnerHtml\":\"<b>power iteration 33<\\/b>\"},\"nodeType\":\"DOM\",\"type\":\"node\",\"instanceArgs\":{\"namespace\":\"html\",\"tag\":\"div\"},\"children\":[]},{\"props\":{\"setInnerHtml\":\"<pre>5-element Vector{Float64}:\\n  0.7516585521214868\\n -0.5170987323270193\\n -0.1431012122031146\\n  0.3820872260650122\\n -0.03390747398971578<\\/pre>\"},\"nodeType\":\"DOM\",\"type\":\"node\",\"instanceArgs\":{\"namespace\":\"html\",\"tag\":\"div\"},\"children\":[]}]},{\"props\":{\"style\":{\"align-self\":\"stretch\",\"borderLeft\":\"solid 1.0px #DEDEDE\"}},\"nodeType\":\"DOM\",\"type\":\"node\",\"instanceArgs\":{\"namespace\":\"html\",\"tag\":\"div\"},\"children\":[]},{\"props\":{\"style\":{\"display\":\"flex\",\"flex-direction\":\"column\"}},\"nodeType\":\"DOM\",\"type\":\"node\",\"instanceArgs\":{\"namespace\":\"html\",\"tag\":\"div\"},\"children\":[{\"props\":{\"setInnerHtml\":\"<b>eigenvector<\\/b>\"},\"nodeType\":\"DOM\",\"type\":\"node\",\"instanceArgs\":{\"namespace\":\"html\",\"tag\":\"div\"},\"children\":[]},{\"props\":{\"setInnerHtml\":\"<pre>5-element Vector{Float64}:\\n  0.7516527258032667\\n -0.5171338396934146\\n -0.14337587333973284\\n  0.38193050353655744\\n -0.03410602657662457<\\/pre>\"},\"nodeType\":\"DOM\",\"type\":\"node\",\"instanceArgs\":{\"namespace\":\"html\",\"tag\":\"div\"},\"children\":[]}]}]},\n",
       "        window,\n",
       "    );\n",
       "    })()\n",
       "    </script>\n",
       "</div>\n"
      ],
      "text/plain": [
       "(div { style=Dict(\"display\" => \"flex\", \"flex-direction\" => \"row\") }\n",
       "  (div { style=Dict(\"display\" => \"flex\", \"flex-direction\" => \"column\") }\n",
       "    HTML{String}(\"<b>power iteration 33</b>\")\n",
       "    [0.7516585521214868, -0.5170987323270193, -0.1431012122031146, 0.3820872260650122, -0.03390747398971578])\n",
       "  (div { style=Dict{Any, Any}(\"align-self\" => \"stretch\", \"borderLeft\" => \"solid 1.0px #DEDEDE\") })\n",
       "  (div { style=Dict(\"display\" => \"flex\", \"flex-direction\" => \"column\") }\n",
       "    HTML{String}(\"<b>eigenvector</b>\")\n",
       "    [0.7516527258032667, -0.5171338396934146, -0.14337587333973284, 0.38193050353655744, -0.03410602657662457]))"
      ]
     },
     "metadata": {
      "application/vnd.webio.node+json": {
       "kernelId": "3c7d7052-bde9-4a18-a0c5-24a636d36fd8"
      }
     },
     "output_type": "display_data"
    },
    {
     "data": {
      "application/vnd.webio.node+json": {
       "children": [
        {
         "children": [
          {
           "children": [],
           "instanceArgs": {
            "namespace": "html",
            "tag": "div"
           },
           "nodeType": "DOM",
           "props": {
            "setInnerHtml": "<b>power iteration 34</b>"
           },
           "type": "node"
          },
          {
           "children": [],
           "instanceArgs": {
            "namespace": "html",
            "tag": "div"
           },
           "nodeType": "DOM",
           "props": {
            "setInnerHtml": "<pre>5-element Vector{Float64}:\n  0.7516573936827312\n -0.5171057617265665\n -0.14315615059156545\n  0.3820558841588563\n -0.033947188965664926</pre>"
           },
           "type": "node"
          }
         ],
         "instanceArgs": {
          "namespace": "html",
          "tag": "div"
         },
         "nodeType": "DOM",
         "props": {
          "style": {
           "display": "flex",
           "flex-direction": "column"
          }
         },
         "type": "node"
        },
        {
         "children": [],
         "instanceArgs": {
          "namespace": "html",
          "tag": "div"
         },
         "nodeType": "DOM",
         "props": {
          "style": {
           "align-self": "stretch",
           "borderLeft": "solid 1.0px #DEDEDE"
          }
         },
         "type": "node"
        },
        {
         "children": [
          {
           "children": [],
           "instanceArgs": {
            "namespace": "html",
            "tag": "div"
           },
           "nodeType": "DOM",
           "props": {
            "setInnerHtml": "<b>eigenvector</b>"
           },
           "type": "node"
          },
          {
           "children": [],
           "instanceArgs": {
            "namespace": "html",
            "tag": "div"
           },
           "nodeType": "DOM",
           "props": {
            "setInnerHtml": "<pre>5-element Vector{Float64}:\n  0.7516527258032667\n -0.5171338396934146\n -0.14337587333973284\n  0.38193050353655744\n -0.03410602657662457</pre>"
           },
           "type": "node"
          }
         ],
         "instanceArgs": {
          "namespace": "html",
          "tag": "div"
         },
         "nodeType": "DOM",
         "props": {
          "style": {
           "display": "flex",
           "flex-direction": "column"
          }
         },
         "type": "node"
        }
       ],
       "instanceArgs": {
        "namespace": "html",
        "tag": "div"
       },
       "nodeType": "DOM",
       "props": {
        "style": {
         "display": "flex",
         "flex-direction": "row"
        }
       },
       "type": "node"
      },
      "text/html": [
       "<div\n",
       "    class=\"webio-mountpoint\"\n",
       "    data-webio-mountpoint=\"2277688479982472205\"\n",
       ">\n",
       "    <script>\n",
       "    (function(){\n",
       "    // Some integrations (namely, IJulia/Jupyter) use an alternate render pathway than\n",
       "    // just putting the html on the page. If WebIO isn't defined, then it's pretty likely\n",
       "    // that we're in one of those situations and the integration just isn't installed\n",
       "    // correctly.\n",
       "    if (typeof window.WebIO === \"undefined\") {\n",
       "        document\n",
       "            .querySelector('[data-webio-mountpoint=\"2277688479982472205\"]')\n",
       "            .innerHTML = (\n",
       "                '<div style=\"padding: 1em; background-color: #f8d6da; border: 1px solid #f5c6cb; font-weight: bold;\">' +\n",
       "                '<p><strong>WebIO not detected.</strong></p>' +\n",
       "                '<p>Please read ' +\n",
       "                '<a href=\"https://juliagizmos.github.io/WebIO.jl/latest/troubleshooting/not-detected/\" target=\"_blank\">the troubleshooting guide</a> ' +\n",
       "                'for more information on how to resolve this issue.</p>' +\n",
       "                '<p><a href=\"https://juliagizmos.github.io/WebIO.jl/latest/troubleshooting/not-detected/\" target=\"_blank\">https://juliagizmos.github.io/WebIO.jl/latest/troubleshooting/not-detected/</a></p>' +\n",
       "                '</div>'\n",
       "            );\n",
       "        return;\n",
       "    }\n",
       "    WebIO.mount(\n",
       "        document.querySelector('[data-webio-mountpoint=\"2277688479982472205\"]'),\n",
       "        {\"props\":{\"style\":{\"display\":\"flex\",\"flex-direction\":\"row\"}},\"nodeType\":\"DOM\",\"type\":\"node\",\"instanceArgs\":{\"namespace\":\"html\",\"tag\":\"div\"},\"children\":[{\"props\":{\"style\":{\"display\":\"flex\",\"flex-direction\":\"column\"}},\"nodeType\":\"DOM\",\"type\":\"node\",\"instanceArgs\":{\"namespace\":\"html\",\"tag\":\"div\"},\"children\":[{\"props\":{\"setInnerHtml\":\"<b>power iteration 34<\\/b>\"},\"nodeType\":\"DOM\",\"type\":\"node\",\"instanceArgs\":{\"namespace\":\"html\",\"tag\":\"div\"},\"children\":[]},{\"props\":{\"setInnerHtml\":\"<pre>5-element Vector{Float64}:\\n  0.7516573936827312\\n -0.5171057617265665\\n -0.14315615059156545\\n  0.3820558841588563\\n -0.033947188965664926<\\/pre>\"},\"nodeType\":\"DOM\",\"type\":\"node\",\"instanceArgs\":{\"namespace\":\"html\",\"tag\":\"div\"},\"children\":[]}]},{\"props\":{\"style\":{\"align-self\":\"stretch\",\"borderLeft\":\"solid 1.0px #DEDEDE\"}},\"nodeType\":\"DOM\",\"type\":\"node\",\"instanceArgs\":{\"namespace\":\"html\",\"tag\":\"div\"},\"children\":[]},{\"props\":{\"style\":{\"display\":\"flex\",\"flex-direction\":\"column\"}},\"nodeType\":\"DOM\",\"type\":\"node\",\"instanceArgs\":{\"namespace\":\"html\",\"tag\":\"div\"},\"children\":[{\"props\":{\"setInnerHtml\":\"<b>eigenvector<\\/b>\"},\"nodeType\":\"DOM\",\"type\":\"node\",\"instanceArgs\":{\"namespace\":\"html\",\"tag\":\"div\"},\"children\":[]},{\"props\":{\"setInnerHtml\":\"<pre>5-element Vector{Float64}:\\n  0.7516527258032667\\n -0.5171338396934146\\n -0.14337587333973284\\n  0.38193050353655744\\n -0.03410602657662457<\\/pre>\"},\"nodeType\":\"DOM\",\"type\":\"node\",\"instanceArgs\":{\"namespace\":\"html\",\"tag\":\"div\"},\"children\":[]}]}]},\n",
       "        window,\n",
       "    );\n",
       "    })()\n",
       "    </script>\n",
       "</div>\n"
      ],
      "text/plain": [
       "(div { style=Dict(\"display\" => \"flex\", \"flex-direction\" => \"row\") }\n",
       "  (div { style=Dict(\"display\" => \"flex\", \"flex-direction\" => \"column\") }\n",
       "    HTML{String}(\"<b>power iteration 34</b>\")\n",
       "    [0.7516573936827312, -0.5171057617265665, -0.14315615059156545, 0.3820558841588563, -0.033947188965664926])\n",
       "  (div { style=Dict{Any, Any}(\"align-self\" => \"stretch\", \"borderLeft\" => \"solid 1.0px #DEDEDE\") })\n",
       "  (div { style=Dict(\"display\" => \"flex\", \"flex-direction\" => \"column\") }\n",
       "    HTML{String}(\"<b>eigenvector</b>\")\n",
       "    [0.7516527258032667, -0.5171338396934146, -0.14337587333973284, 0.38193050353655744, -0.03410602657662457]))"
      ]
     },
     "metadata": {
      "application/vnd.webio.node+json": {
       "kernelId": "3c7d7052-bde9-4a18-a0c5-24a636d36fd8"
      }
     },
     "output_type": "display_data"
    },
    {
     "data": {
      "application/vnd.webio.node+json": {
       "children": [
        {
         "children": [
          {
           "children": [],
           "instanceArgs": {
            "namespace": "html",
            "tag": "div"
           },
           "nodeType": "DOM",
           "props": {
            "setInnerHtml": "<b>power iteration 35</b>"
           },
           "type": "node"
          },
          {
           "children": [],
           "instanceArgs": {
            "namespace": "html",
            "tag": "div"
           },
           "nodeType": "DOM",
           "props": {
            "setInnerHtml": "<pre>5-element Vector{Float64}:\n  0.751656464534931\n -0.5171113823376916\n -0.14320009913308707\n  0.3820308096341801\n -0.033978959345113566</pre>"
           },
           "type": "node"
          }
         ],
         "instanceArgs": {
          "namespace": "html",
          "tag": "div"
         },
         "nodeType": "DOM",
         "props": {
          "style": {
           "display": "flex",
           "flex-direction": "column"
          }
         },
         "type": "node"
        },
        {
         "children": [],
         "instanceArgs": {
          "namespace": "html",
          "tag": "div"
         },
         "nodeType": "DOM",
         "props": {
          "style": {
           "align-self": "stretch",
           "borderLeft": "solid 1.0px #DEDEDE"
          }
         },
         "type": "node"
        },
        {
         "children": [
          {
           "children": [],
           "instanceArgs": {
            "namespace": "html",
            "tag": "div"
           },
           "nodeType": "DOM",
           "props": {
            "setInnerHtml": "<b>eigenvector</b>"
           },
           "type": "node"
          },
          {
           "children": [],
           "instanceArgs": {
            "namespace": "html",
            "tag": "div"
           },
           "nodeType": "DOM",
           "props": {
            "setInnerHtml": "<pre>5-element Vector{Float64}:\n  0.7516527258032667\n -0.5171338396934146\n -0.14337587333973284\n  0.38193050353655744\n -0.03410602657662457</pre>"
           },
           "type": "node"
          }
         ],
         "instanceArgs": {
          "namespace": "html",
          "tag": "div"
         },
         "nodeType": "DOM",
         "props": {
          "style": {
           "display": "flex",
           "flex-direction": "column"
          }
         },
         "type": "node"
        }
       ],
       "instanceArgs": {
        "namespace": "html",
        "tag": "div"
       },
       "nodeType": "DOM",
       "props": {
        "style": {
         "display": "flex",
         "flex-direction": "row"
        }
       },
       "type": "node"
      },
      "text/html": [
       "<div\n",
       "    class=\"webio-mountpoint\"\n",
       "    data-webio-mountpoint=\"4630444288420480338\"\n",
       ">\n",
       "    <script>\n",
       "    (function(){\n",
       "    // Some integrations (namely, IJulia/Jupyter) use an alternate render pathway than\n",
       "    // just putting the html on the page. If WebIO isn't defined, then it's pretty likely\n",
       "    // that we're in one of those situations and the integration just isn't installed\n",
       "    // correctly.\n",
       "    if (typeof window.WebIO === \"undefined\") {\n",
       "        document\n",
       "            .querySelector('[data-webio-mountpoint=\"4630444288420480338\"]')\n",
       "            .innerHTML = (\n",
       "                '<div style=\"padding: 1em; background-color: #f8d6da; border: 1px solid #f5c6cb; font-weight: bold;\">' +\n",
       "                '<p><strong>WebIO not detected.</strong></p>' +\n",
       "                '<p>Please read ' +\n",
       "                '<a href=\"https://juliagizmos.github.io/WebIO.jl/latest/troubleshooting/not-detected/\" target=\"_blank\">the troubleshooting guide</a> ' +\n",
       "                'for more information on how to resolve this issue.</p>' +\n",
       "                '<p><a href=\"https://juliagizmos.github.io/WebIO.jl/latest/troubleshooting/not-detected/\" target=\"_blank\">https://juliagizmos.github.io/WebIO.jl/latest/troubleshooting/not-detected/</a></p>' +\n",
       "                '</div>'\n",
       "            );\n",
       "        return;\n",
       "    }\n",
       "    WebIO.mount(\n",
       "        document.querySelector('[data-webio-mountpoint=\"4630444288420480338\"]'),\n",
       "        {\"props\":{\"style\":{\"display\":\"flex\",\"flex-direction\":\"row\"}},\"nodeType\":\"DOM\",\"type\":\"node\",\"instanceArgs\":{\"namespace\":\"html\",\"tag\":\"div\"},\"children\":[{\"props\":{\"style\":{\"display\":\"flex\",\"flex-direction\":\"column\"}},\"nodeType\":\"DOM\",\"type\":\"node\",\"instanceArgs\":{\"namespace\":\"html\",\"tag\":\"div\"},\"children\":[{\"props\":{\"setInnerHtml\":\"<b>power iteration 35<\\/b>\"},\"nodeType\":\"DOM\",\"type\":\"node\",\"instanceArgs\":{\"namespace\":\"html\",\"tag\":\"div\"},\"children\":[]},{\"props\":{\"setInnerHtml\":\"<pre>5-element Vector{Float64}:\\n  0.751656464534931\\n -0.5171113823376916\\n -0.14320009913308707\\n  0.3820308096341801\\n -0.033978959345113566<\\/pre>\"},\"nodeType\":\"DOM\",\"type\":\"node\",\"instanceArgs\":{\"namespace\":\"html\",\"tag\":\"div\"},\"children\":[]}]},{\"props\":{\"style\":{\"align-self\":\"stretch\",\"borderLeft\":\"solid 1.0px #DEDEDE\"}},\"nodeType\":\"DOM\",\"type\":\"node\",\"instanceArgs\":{\"namespace\":\"html\",\"tag\":\"div\"},\"children\":[]},{\"props\":{\"style\":{\"display\":\"flex\",\"flex-direction\":\"column\"}},\"nodeType\":\"DOM\",\"type\":\"node\",\"instanceArgs\":{\"namespace\":\"html\",\"tag\":\"div\"},\"children\":[{\"props\":{\"setInnerHtml\":\"<b>eigenvector<\\/b>\"},\"nodeType\":\"DOM\",\"type\":\"node\",\"instanceArgs\":{\"namespace\":\"html\",\"tag\":\"div\"},\"children\":[]},{\"props\":{\"setInnerHtml\":\"<pre>5-element Vector{Float64}:\\n  0.7516527258032667\\n -0.5171338396934146\\n -0.14337587333973284\\n  0.38193050353655744\\n -0.03410602657662457<\\/pre>\"},\"nodeType\":\"DOM\",\"type\":\"node\",\"instanceArgs\":{\"namespace\":\"html\",\"tag\":\"div\"},\"children\":[]}]}]},\n",
       "        window,\n",
       "    );\n",
       "    })()\n",
       "    </script>\n",
       "</div>\n"
      ],
      "text/plain": [
       "(div { style=Dict(\"display\" => \"flex\", \"flex-direction\" => \"row\") }\n",
       "  (div { style=Dict(\"display\" => \"flex\", \"flex-direction\" => \"column\") }\n",
       "    HTML{String}(\"<b>power iteration 35</b>\")\n",
       "    [0.751656464534931, -0.5171113823376916, -0.14320009913308707, 0.3820308096341801, -0.033978959345113566])\n",
       "  (div { style=Dict{Any, Any}(\"align-self\" => \"stretch\", \"borderLeft\" => \"solid 1.0px #DEDEDE\") })\n",
       "  (div { style=Dict(\"display\" => \"flex\", \"flex-direction\" => \"column\") }\n",
       "    HTML{String}(\"<b>eigenvector</b>\")\n",
       "    [0.7516527258032667, -0.5171338396934146, -0.14337587333973284, 0.38193050353655744, -0.03410602657662457]))"
      ]
     },
     "metadata": {
      "application/vnd.webio.node+json": {
       "kernelId": "3c7d7052-bde9-4a18-a0c5-24a636d36fd8"
      }
     },
     "output_type": "display_data"
    },
    {
     "data": {
      "application/vnd.webio.node+json": {
       "children": [
        {
         "children": [
          {
           "children": [],
           "instanceArgs": {
            "namespace": "html",
            "tag": "div"
           },
           "nodeType": "DOM",
           "props": {
            "setInnerHtml": "<b>power iteration 36</b>"
           },
           "type": "node"
          },
          {
           "children": [],
           "instanceArgs": {
            "namespace": "html",
            "tag": "div"
           },
           "nodeType": "DOM",
           "props": {
            "setInnerHtml": "<pre>5-element Vector{Float64}:\n  0.7516557196587027\n -0.5171158769871873\n -0.1432352565584326\n  0.3820107494002191\n -0.03400437462228629</pre>"
           },
           "type": "node"
          }
         ],
         "instanceArgs": {
          "namespace": "html",
          "tag": "div"
         },
         "nodeType": "DOM",
         "props": {
          "style": {
           "display": "flex",
           "flex-direction": "column"
          }
         },
         "type": "node"
        },
        {
         "children": [],
         "instanceArgs": {
          "namespace": "html",
          "tag": "div"
         },
         "nodeType": "DOM",
         "props": {
          "style": {
           "align-self": "stretch",
           "borderLeft": "solid 1.0px #DEDEDE"
          }
         },
         "type": "node"
        },
        {
         "children": [
          {
           "children": [],
           "instanceArgs": {
            "namespace": "html",
            "tag": "div"
           },
           "nodeType": "DOM",
           "props": {
            "setInnerHtml": "<b>eigenvector</b>"
           },
           "type": "node"
          },
          {
           "children": [],
           "instanceArgs": {
            "namespace": "html",
            "tag": "div"
           },
           "nodeType": "DOM",
           "props": {
            "setInnerHtml": "<pre>5-element Vector{Float64}:\n  0.7516527258032667\n -0.5171338396934146\n -0.14337587333973284\n  0.38193050353655744\n -0.03410602657662457</pre>"
           },
           "type": "node"
          }
         ],
         "instanceArgs": {
          "namespace": "html",
          "tag": "div"
         },
         "nodeType": "DOM",
         "props": {
          "style": {
           "display": "flex",
           "flex-direction": "column"
          }
         },
         "type": "node"
        }
       ],
       "instanceArgs": {
        "namespace": "html",
        "tag": "div"
       },
       "nodeType": "DOM",
       "props": {
        "style": {
         "display": "flex",
         "flex-direction": "row"
        }
       },
       "type": "node"
      },
      "text/html": [
       "<div\n",
       "    class=\"webio-mountpoint\"\n",
       "    data-webio-mountpoint=\"3093745534855304283\"\n",
       ">\n",
       "    <script>\n",
       "    (function(){\n",
       "    // Some integrations (namely, IJulia/Jupyter) use an alternate render pathway than\n",
       "    // just putting the html on the page. If WebIO isn't defined, then it's pretty likely\n",
       "    // that we're in one of those situations and the integration just isn't installed\n",
       "    // correctly.\n",
       "    if (typeof window.WebIO === \"undefined\") {\n",
       "        document\n",
       "            .querySelector('[data-webio-mountpoint=\"3093745534855304283\"]')\n",
       "            .innerHTML = (\n",
       "                '<div style=\"padding: 1em; background-color: #f8d6da; border: 1px solid #f5c6cb; font-weight: bold;\">' +\n",
       "                '<p><strong>WebIO not detected.</strong></p>' +\n",
       "                '<p>Please read ' +\n",
       "                '<a href=\"https://juliagizmos.github.io/WebIO.jl/latest/troubleshooting/not-detected/\" target=\"_blank\">the troubleshooting guide</a> ' +\n",
       "                'for more information on how to resolve this issue.</p>' +\n",
       "                '<p><a href=\"https://juliagizmos.github.io/WebIO.jl/latest/troubleshooting/not-detected/\" target=\"_blank\">https://juliagizmos.github.io/WebIO.jl/latest/troubleshooting/not-detected/</a></p>' +\n",
       "                '</div>'\n",
       "            );\n",
       "        return;\n",
       "    }\n",
       "    WebIO.mount(\n",
       "        document.querySelector('[data-webio-mountpoint=\"3093745534855304283\"]'),\n",
       "        {\"props\":{\"style\":{\"display\":\"flex\",\"flex-direction\":\"row\"}},\"nodeType\":\"DOM\",\"type\":\"node\",\"instanceArgs\":{\"namespace\":\"html\",\"tag\":\"div\"},\"children\":[{\"props\":{\"style\":{\"display\":\"flex\",\"flex-direction\":\"column\"}},\"nodeType\":\"DOM\",\"type\":\"node\",\"instanceArgs\":{\"namespace\":\"html\",\"tag\":\"div\"},\"children\":[{\"props\":{\"setInnerHtml\":\"<b>power iteration 36<\\/b>\"},\"nodeType\":\"DOM\",\"type\":\"node\",\"instanceArgs\":{\"namespace\":\"html\",\"tag\":\"div\"},\"children\":[]},{\"props\":{\"setInnerHtml\":\"<pre>5-element Vector{Float64}:\\n  0.7516557196587027\\n -0.5171158769871873\\n -0.1432352565584326\\n  0.3820107494002191\\n -0.03400437462228629<\\/pre>\"},\"nodeType\":\"DOM\",\"type\":\"node\",\"instanceArgs\":{\"namespace\":\"html\",\"tag\":\"div\"},\"children\":[]}]},{\"props\":{\"style\":{\"align-self\":\"stretch\",\"borderLeft\":\"solid 1.0px #DEDEDE\"}},\"nodeType\":\"DOM\",\"type\":\"node\",\"instanceArgs\":{\"namespace\":\"html\",\"tag\":\"div\"},\"children\":[]},{\"props\":{\"style\":{\"display\":\"flex\",\"flex-direction\":\"column\"}},\"nodeType\":\"DOM\",\"type\":\"node\",\"instanceArgs\":{\"namespace\":\"html\",\"tag\":\"div\"},\"children\":[{\"props\":{\"setInnerHtml\":\"<b>eigenvector<\\/b>\"},\"nodeType\":\"DOM\",\"type\":\"node\",\"instanceArgs\":{\"namespace\":\"html\",\"tag\":\"div\"},\"children\":[]},{\"props\":{\"setInnerHtml\":\"<pre>5-element Vector{Float64}:\\n  0.7516527258032667\\n -0.5171338396934146\\n -0.14337587333973284\\n  0.38193050353655744\\n -0.03410602657662457<\\/pre>\"},\"nodeType\":\"DOM\",\"type\":\"node\",\"instanceArgs\":{\"namespace\":\"html\",\"tag\":\"div\"},\"children\":[]}]}]},\n",
       "        window,\n",
       "    );\n",
       "    })()\n",
       "    </script>\n",
       "</div>\n"
      ],
      "text/plain": [
       "(div { style=Dict(\"display\" => \"flex\", \"flex-direction\" => \"row\") }\n",
       "  (div { style=Dict(\"display\" => \"flex\", \"flex-direction\" => \"column\") }\n",
       "    HTML{String}(\"<b>power iteration 36</b>\")\n",
       "    [0.7516557196587027, -0.5171158769871873, -0.1432352565584326, 0.3820107494002191, -0.03400437462228629])\n",
       "  (div { style=Dict{Any, Any}(\"align-self\" => \"stretch\", \"borderLeft\" => \"solid 1.0px #DEDEDE\") })\n",
       "  (div { style=Dict(\"display\" => \"flex\", \"flex-direction\" => \"column\") }\n",
       "    HTML{String}(\"<b>eigenvector</b>\")\n",
       "    [0.7516527258032667, -0.5171338396934146, -0.14337587333973284, 0.38193050353655744, -0.03410602657662457]))"
      ]
     },
     "metadata": {
      "application/vnd.webio.node+json": {
       "kernelId": "3c7d7052-bde9-4a18-a0c5-24a636d36fd8"
      }
     },
     "output_type": "display_data"
    },
    {
     "data": {
      "application/vnd.webio.node+json": {
       "children": [
        {
         "children": [
          {
           "children": [],
           "instanceArgs": {
            "namespace": "html",
            "tag": "div"
           },
           "nodeType": "DOM",
           "props": {
            "setInnerHtml": "<b>power iteration 37</b>"
           },
           "type": "node"
          },
          {
           "children": [],
           "instanceArgs": {
            "namespace": "html",
            "tag": "div"
           },
           "nodeType": "DOM",
           "props": {
            "setInnerHtml": "<pre>5-element Vector{Float64}:\n  0.7516551227461725\n -0.5171194715427813\n -0.14326338158596175\n  0.3819947008352959\n -0.03402470618622762</pre>"
           },
           "type": "node"
          }
         ],
         "instanceArgs": {
          "namespace": "html",
          "tag": "div"
         },
         "nodeType": "DOM",
         "props": {
          "style": {
           "display": "flex",
           "flex-direction": "column"
          }
         },
         "type": "node"
        },
        {
         "children": [],
         "instanceArgs": {
          "namespace": "html",
          "tag": "div"
         },
         "nodeType": "DOM",
         "props": {
          "style": {
           "align-self": "stretch",
           "borderLeft": "solid 1.0px #DEDEDE"
          }
         },
         "type": "node"
        },
        {
         "children": [
          {
           "children": [],
           "instanceArgs": {
            "namespace": "html",
            "tag": "div"
           },
           "nodeType": "DOM",
           "props": {
            "setInnerHtml": "<b>eigenvector</b>"
           },
           "type": "node"
          },
          {
           "children": [],
           "instanceArgs": {
            "namespace": "html",
            "tag": "div"
           },
           "nodeType": "DOM",
           "props": {
            "setInnerHtml": "<pre>5-element Vector{Float64}:\n  0.7516527258032667\n -0.5171338396934146\n -0.14337587333973284\n  0.38193050353655744\n -0.03410602657662457</pre>"
           },
           "type": "node"
          }
         ],
         "instanceArgs": {
          "namespace": "html",
          "tag": "div"
         },
         "nodeType": "DOM",
         "props": {
          "style": {
           "display": "flex",
           "flex-direction": "column"
          }
         },
         "type": "node"
        }
       ],
       "instanceArgs": {
        "namespace": "html",
        "tag": "div"
       },
       "nodeType": "DOM",
       "props": {
        "style": {
         "display": "flex",
         "flex-direction": "row"
        }
       },
       "type": "node"
      },
      "text/html": [
       "<div\n",
       "    class=\"webio-mountpoint\"\n",
       "    data-webio-mountpoint=\"14919881552796666427\"\n",
       ">\n",
       "    <script>\n",
       "    (function(){\n",
       "    // Some integrations (namely, IJulia/Jupyter) use an alternate render pathway than\n",
       "    // just putting the html on the page. If WebIO isn't defined, then it's pretty likely\n",
       "    // that we're in one of those situations and the integration just isn't installed\n",
       "    // correctly.\n",
       "    if (typeof window.WebIO === \"undefined\") {\n",
       "        document\n",
       "            .querySelector('[data-webio-mountpoint=\"14919881552796666427\"]')\n",
       "            .innerHTML = (\n",
       "                '<div style=\"padding: 1em; background-color: #f8d6da; border: 1px solid #f5c6cb; font-weight: bold;\">' +\n",
       "                '<p><strong>WebIO not detected.</strong></p>' +\n",
       "                '<p>Please read ' +\n",
       "                '<a href=\"https://juliagizmos.github.io/WebIO.jl/latest/troubleshooting/not-detected/\" target=\"_blank\">the troubleshooting guide</a> ' +\n",
       "                'for more information on how to resolve this issue.</p>' +\n",
       "                '<p><a href=\"https://juliagizmos.github.io/WebIO.jl/latest/troubleshooting/not-detected/\" target=\"_blank\">https://juliagizmos.github.io/WebIO.jl/latest/troubleshooting/not-detected/</a></p>' +\n",
       "                '</div>'\n",
       "            );\n",
       "        return;\n",
       "    }\n",
       "    WebIO.mount(\n",
       "        document.querySelector('[data-webio-mountpoint=\"14919881552796666427\"]'),\n",
       "        {\"props\":{\"style\":{\"display\":\"flex\",\"flex-direction\":\"row\"}},\"nodeType\":\"DOM\",\"type\":\"node\",\"instanceArgs\":{\"namespace\":\"html\",\"tag\":\"div\"},\"children\":[{\"props\":{\"style\":{\"display\":\"flex\",\"flex-direction\":\"column\"}},\"nodeType\":\"DOM\",\"type\":\"node\",\"instanceArgs\":{\"namespace\":\"html\",\"tag\":\"div\"},\"children\":[{\"props\":{\"setInnerHtml\":\"<b>power iteration 37<\\/b>\"},\"nodeType\":\"DOM\",\"type\":\"node\",\"instanceArgs\":{\"namespace\":\"html\",\"tag\":\"div\"},\"children\":[]},{\"props\":{\"setInnerHtml\":\"<pre>5-element Vector{Float64}:\\n  0.7516551227461725\\n -0.5171194715427813\\n -0.14326338158596175\\n  0.3819947008352959\\n -0.03402470618622762<\\/pre>\"},\"nodeType\":\"DOM\",\"type\":\"node\",\"instanceArgs\":{\"namespace\":\"html\",\"tag\":\"div\"},\"children\":[]}]},{\"props\":{\"style\":{\"align-self\":\"stretch\",\"borderLeft\":\"solid 1.0px #DEDEDE\"}},\"nodeType\":\"DOM\",\"type\":\"node\",\"instanceArgs\":{\"namespace\":\"html\",\"tag\":\"div\"},\"children\":[]},{\"props\":{\"style\":{\"display\":\"flex\",\"flex-direction\":\"column\"}},\"nodeType\":\"DOM\",\"type\":\"node\",\"instanceArgs\":{\"namespace\":\"html\",\"tag\":\"div\"},\"children\":[{\"props\":{\"setInnerHtml\":\"<b>eigenvector<\\/b>\"},\"nodeType\":\"DOM\",\"type\":\"node\",\"instanceArgs\":{\"namespace\":\"html\",\"tag\":\"div\"},\"children\":[]},{\"props\":{\"setInnerHtml\":\"<pre>5-element Vector{Float64}:\\n  0.7516527258032667\\n -0.5171338396934146\\n -0.14337587333973284\\n  0.38193050353655744\\n -0.03410602657662457<\\/pre>\"},\"nodeType\":\"DOM\",\"type\":\"node\",\"instanceArgs\":{\"namespace\":\"html\",\"tag\":\"div\"},\"children\":[]}]}]},\n",
       "        window,\n",
       "    );\n",
       "    })()\n",
       "    </script>\n",
       "</div>\n"
      ],
      "text/plain": [
       "(div { style=Dict(\"display\" => \"flex\", \"flex-direction\" => \"row\") }\n",
       "  (div { style=Dict(\"display\" => \"flex\", \"flex-direction\" => \"column\") }\n",
       "    HTML{String}(\"<b>power iteration 37</b>\")\n",
       "    [0.7516551227461725, -0.5171194715427813, -0.14326338158596175, 0.3819947008352959, -0.03402470618622762])\n",
       "  (div { style=Dict{Any, Any}(\"align-self\" => \"stretch\", \"borderLeft\" => \"solid 1.0px #DEDEDE\") })\n",
       "  (div { style=Dict(\"display\" => \"flex\", \"flex-direction\" => \"column\") }\n",
       "    HTML{String}(\"<b>eigenvector</b>\")\n",
       "    [0.7516527258032667, -0.5171338396934146, -0.14337587333973284, 0.38193050353655744, -0.03410602657662457]))"
      ]
     },
     "metadata": {
      "application/vnd.webio.node+json": {
       "kernelId": "3c7d7052-bde9-4a18-a0c5-24a636d36fd8"
      }
     },
     "output_type": "display_data"
    },
    {
     "data": {
      "application/vnd.webio.node+json": {
       "children": [
        {
         "children": [
          {
           "children": [],
           "instanceArgs": {
            "namespace": "html",
            "tag": "div"
           },
           "nodeType": "DOM",
           "props": {
            "setInnerHtml": "<b>power iteration 38</b>"
           },
           "type": "node"
          },
          {
           "children": [],
           "instanceArgs": {
            "namespace": "html",
            "tag": "div"
           },
           "nodeType": "DOM",
           "props": {
            "setInnerHtml": "<pre>5-element Vector{Float64}:\n  0.7516546445600893\n -0.5171223464502187\n -0.14328588101681414\n  0.38198186175078896\n -0.03404097101585432</pre>"
           },
           "type": "node"
          }
         ],
         "instanceArgs": {
          "namespace": "html",
          "tag": "div"
         },
         "nodeType": "DOM",
         "props": {
          "style": {
           "display": "flex",
           "flex-direction": "column"
          }
         },
         "type": "node"
        },
        {
         "children": [],
         "instanceArgs": {
          "namespace": "html",
          "tag": "div"
         },
         "nodeType": "DOM",
         "props": {
          "style": {
           "align-self": "stretch",
           "borderLeft": "solid 1.0px #DEDEDE"
          }
         },
         "type": "node"
        },
        {
         "children": [
          {
           "children": [],
           "instanceArgs": {
            "namespace": "html",
            "tag": "div"
           },
           "nodeType": "DOM",
           "props": {
            "setInnerHtml": "<b>eigenvector</b>"
           },
           "type": "node"
          },
          {
           "children": [],
           "instanceArgs": {
            "namespace": "html",
            "tag": "div"
           },
           "nodeType": "DOM",
           "props": {
            "setInnerHtml": "<pre>5-element Vector{Float64}:\n  0.7516527258032667\n -0.5171338396934146\n -0.14337587333973284\n  0.38193050353655744\n -0.03410602657662457</pre>"
           },
           "type": "node"
          }
         ],
         "instanceArgs": {
          "namespace": "html",
          "tag": "div"
         },
         "nodeType": "DOM",
         "props": {
          "style": {
           "display": "flex",
           "flex-direction": "column"
          }
         },
         "type": "node"
        }
       ],
       "instanceArgs": {
        "namespace": "html",
        "tag": "div"
       },
       "nodeType": "DOM",
       "props": {
        "style": {
         "display": "flex",
         "flex-direction": "row"
        }
       },
       "type": "node"
      },
      "text/html": [
       "<div\n",
       "    class=\"webio-mountpoint\"\n",
       "    data-webio-mountpoint=\"17055736972276021664\"\n",
       ">\n",
       "    <script>\n",
       "    (function(){\n",
       "    // Some integrations (namely, IJulia/Jupyter) use an alternate render pathway than\n",
       "    // just putting the html on the page. If WebIO isn't defined, then it's pretty likely\n",
       "    // that we're in one of those situations and the integration just isn't installed\n",
       "    // correctly.\n",
       "    if (typeof window.WebIO === \"undefined\") {\n",
       "        document\n",
       "            .querySelector('[data-webio-mountpoint=\"17055736972276021664\"]')\n",
       "            .innerHTML = (\n",
       "                '<div style=\"padding: 1em; background-color: #f8d6da; border: 1px solid #f5c6cb; font-weight: bold;\">' +\n",
       "                '<p><strong>WebIO not detected.</strong></p>' +\n",
       "                '<p>Please read ' +\n",
       "                '<a href=\"https://juliagizmos.github.io/WebIO.jl/latest/troubleshooting/not-detected/\" target=\"_blank\">the troubleshooting guide</a> ' +\n",
       "                'for more information on how to resolve this issue.</p>' +\n",
       "                '<p><a href=\"https://juliagizmos.github.io/WebIO.jl/latest/troubleshooting/not-detected/\" target=\"_blank\">https://juliagizmos.github.io/WebIO.jl/latest/troubleshooting/not-detected/</a></p>' +\n",
       "                '</div>'\n",
       "            );\n",
       "        return;\n",
       "    }\n",
       "    WebIO.mount(\n",
       "        document.querySelector('[data-webio-mountpoint=\"17055736972276021664\"]'),\n",
       "        {\"props\":{\"style\":{\"display\":\"flex\",\"flex-direction\":\"row\"}},\"nodeType\":\"DOM\",\"type\":\"node\",\"instanceArgs\":{\"namespace\":\"html\",\"tag\":\"div\"},\"children\":[{\"props\":{\"style\":{\"display\":\"flex\",\"flex-direction\":\"column\"}},\"nodeType\":\"DOM\",\"type\":\"node\",\"instanceArgs\":{\"namespace\":\"html\",\"tag\":\"div\"},\"children\":[{\"props\":{\"setInnerHtml\":\"<b>power iteration 38<\\/b>\"},\"nodeType\":\"DOM\",\"type\":\"node\",\"instanceArgs\":{\"namespace\":\"html\",\"tag\":\"div\"},\"children\":[]},{\"props\":{\"setInnerHtml\":\"<pre>5-element Vector{Float64}:\\n  0.7516546445600893\\n -0.5171223464502187\\n -0.14328588101681414\\n  0.38198186175078896\\n -0.03404097101585432<\\/pre>\"},\"nodeType\":\"DOM\",\"type\":\"node\",\"instanceArgs\":{\"namespace\":\"html\",\"tag\":\"div\"},\"children\":[]}]},{\"props\":{\"style\":{\"align-self\":\"stretch\",\"borderLeft\":\"solid 1.0px #DEDEDE\"}},\"nodeType\":\"DOM\",\"type\":\"node\",\"instanceArgs\":{\"namespace\":\"html\",\"tag\":\"div\"},\"children\":[]},{\"props\":{\"style\":{\"display\":\"flex\",\"flex-direction\":\"column\"}},\"nodeType\":\"DOM\",\"type\":\"node\",\"instanceArgs\":{\"namespace\":\"html\",\"tag\":\"div\"},\"children\":[{\"props\":{\"setInnerHtml\":\"<b>eigenvector<\\/b>\"},\"nodeType\":\"DOM\",\"type\":\"node\",\"instanceArgs\":{\"namespace\":\"html\",\"tag\":\"div\"},\"children\":[]},{\"props\":{\"setInnerHtml\":\"<pre>5-element Vector{Float64}:\\n  0.7516527258032667\\n -0.5171338396934146\\n -0.14337587333973284\\n  0.38193050353655744\\n -0.03410602657662457<\\/pre>\"},\"nodeType\":\"DOM\",\"type\":\"node\",\"instanceArgs\":{\"namespace\":\"html\",\"tag\":\"div\"},\"children\":[]}]}]},\n",
       "        window,\n",
       "    );\n",
       "    })()\n",
       "    </script>\n",
       "</div>\n"
      ],
      "text/plain": [
       "(div { style=Dict(\"display\" => \"flex\", \"flex-direction\" => \"row\") }\n",
       "  (div { style=Dict(\"display\" => \"flex\", \"flex-direction\" => \"column\") }\n",
       "    HTML{String}(\"<b>power iteration 38</b>\")\n",
       "    [0.7516546445600893, -0.5171223464502187, -0.14328588101681414, 0.38198186175078896, -0.03404097101585432])\n",
       "  (div { style=Dict{Any, Any}(\"align-self\" => \"stretch\", \"borderLeft\" => \"solid 1.0px #DEDEDE\") })\n",
       "  (div { style=Dict(\"display\" => \"flex\", \"flex-direction\" => \"column\") }\n",
       "    HTML{String}(\"<b>eigenvector</b>\")\n",
       "    [0.7516527258032667, -0.5171338396934146, -0.14337587333973284, 0.38193050353655744, -0.03410602657662457]))"
      ]
     },
     "metadata": {
      "application/vnd.webio.node+json": {
       "kernelId": "3c7d7052-bde9-4a18-a0c5-24a636d36fd8"
      }
     },
     "output_type": "display_data"
    },
    {
     "data": {
      "application/vnd.webio.node+json": {
       "children": [
        {
         "children": [
          {
           "children": [],
           "instanceArgs": {
            "namespace": "html",
            "tag": "div"
           },
           "nodeType": "DOM",
           "props": {
            "setInnerHtml": "<b>power iteration 39</b>"
           },
           "type": "node"
          },
          {
           "children": [],
           "instanceArgs": {
            "namespace": "html",
            "tag": "div"
           },
           "nodeType": "DOM",
           "props": {
            "setInnerHtml": "<pre>5-element Vector{Float64}:\n  0.7516542615861407\n -0.5171246459092165\n -0.14330388017894555\n  0.3819715903398496\n -0.03405398260946184</pre>"
           },
           "type": "node"
          }
         ],
         "instanceArgs": {
          "namespace": "html",
          "tag": "div"
         },
         "nodeType": "DOM",
         "props": {
          "style": {
           "display": "flex",
           "flex-direction": "column"
          }
         },
         "type": "node"
        },
        {
         "children": [],
         "instanceArgs": {
          "namespace": "html",
          "tag": "div"
         },
         "nodeType": "DOM",
         "props": {
          "style": {
           "align-self": "stretch",
           "borderLeft": "solid 1.0px #DEDEDE"
          }
         },
         "type": "node"
        },
        {
         "children": [
          {
           "children": [],
           "instanceArgs": {
            "namespace": "html",
            "tag": "div"
           },
           "nodeType": "DOM",
           "props": {
            "setInnerHtml": "<b>eigenvector</b>"
           },
           "type": "node"
          },
          {
           "children": [],
           "instanceArgs": {
            "namespace": "html",
            "tag": "div"
           },
           "nodeType": "DOM",
           "props": {
            "setInnerHtml": "<pre>5-element Vector{Float64}:\n  0.7516527258032667\n -0.5171338396934146\n -0.14337587333973284\n  0.38193050353655744\n -0.03410602657662457</pre>"
           },
           "type": "node"
          }
         ],
         "instanceArgs": {
          "namespace": "html",
          "tag": "div"
         },
         "nodeType": "DOM",
         "props": {
          "style": {
           "display": "flex",
           "flex-direction": "column"
          }
         },
         "type": "node"
        }
       ],
       "instanceArgs": {
        "namespace": "html",
        "tag": "div"
       },
       "nodeType": "DOM",
       "props": {
        "style": {
         "display": "flex",
         "flex-direction": "row"
        }
       },
       "type": "node"
      },
      "text/html": [
       "<div\n",
       "    class=\"webio-mountpoint\"\n",
       "    data-webio-mountpoint=\"16461570875916619544\"\n",
       ">\n",
       "    <script>\n",
       "    (function(){\n",
       "    // Some integrations (namely, IJulia/Jupyter) use an alternate render pathway than\n",
       "    // just putting the html on the page. If WebIO isn't defined, then it's pretty likely\n",
       "    // that we're in one of those situations and the integration just isn't installed\n",
       "    // correctly.\n",
       "    if (typeof window.WebIO === \"undefined\") {\n",
       "        document\n",
       "            .querySelector('[data-webio-mountpoint=\"16461570875916619544\"]')\n",
       "            .innerHTML = (\n",
       "                '<div style=\"padding: 1em; background-color: #f8d6da; border: 1px solid #f5c6cb; font-weight: bold;\">' +\n",
       "                '<p><strong>WebIO not detected.</strong></p>' +\n",
       "                '<p>Please read ' +\n",
       "                '<a href=\"https://juliagizmos.github.io/WebIO.jl/latest/troubleshooting/not-detected/\" target=\"_blank\">the troubleshooting guide</a> ' +\n",
       "                'for more information on how to resolve this issue.</p>' +\n",
       "                '<p><a href=\"https://juliagizmos.github.io/WebIO.jl/latest/troubleshooting/not-detected/\" target=\"_blank\">https://juliagizmos.github.io/WebIO.jl/latest/troubleshooting/not-detected/</a></p>' +\n",
       "                '</div>'\n",
       "            );\n",
       "        return;\n",
       "    }\n",
       "    WebIO.mount(\n",
       "        document.querySelector('[data-webio-mountpoint=\"16461570875916619544\"]'),\n",
       "        {\"props\":{\"style\":{\"display\":\"flex\",\"flex-direction\":\"row\"}},\"nodeType\":\"DOM\",\"type\":\"node\",\"instanceArgs\":{\"namespace\":\"html\",\"tag\":\"div\"},\"children\":[{\"props\":{\"style\":{\"display\":\"flex\",\"flex-direction\":\"column\"}},\"nodeType\":\"DOM\",\"type\":\"node\",\"instanceArgs\":{\"namespace\":\"html\",\"tag\":\"div\"},\"children\":[{\"props\":{\"setInnerHtml\":\"<b>power iteration 39<\\/b>\"},\"nodeType\":\"DOM\",\"type\":\"node\",\"instanceArgs\":{\"namespace\":\"html\",\"tag\":\"div\"},\"children\":[]},{\"props\":{\"setInnerHtml\":\"<pre>5-element Vector{Float64}:\\n  0.7516542615861407\\n -0.5171246459092165\\n -0.14330388017894555\\n  0.3819715903398496\\n -0.03405398260946184<\\/pre>\"},\"nodeType\":\"DOM\",\"type\":\"node\",\"instanceArgs\":{\"namespace\":\"html\",\"tag\":\"div\"},\"children\":[]}]},{\"props\":{\"style\":{\"align-self\":\"stretch\",\"borderLeft\":\"solid 1.0px #DEDEDE\"}},\"nodeType\":\"DOM\",\"type\":\"node\",\"instanceArgs\":{\"namespace\":\"html\",\"tag\":\"div\"},\"children\":[]},{\"props\":{\"style\":{\"display\":\"flex\",\"flex-direction\":\"column\"}},\"nodeType\":\"DOM\",\"type\":\"node\",\"instanceArgs\":{\"namespace\":\"html\",\"tag\":\"div\"},\"children\":[{\"props\":{\"setInnerHtml\":\"<b>eigenvector<\\/b>\"},\"nodeType\":\"DOM\",\"type\":\"node\",\"instanceArgs\":{\"namespace\":\"html\",\"tag\":\"div\"},\"children\":[]},{\"props\":{\"setInnerHtml\":\"<pre>5-element Vector{Float64}:\\n  0.7516527258032667\\n -0.5171338396934146\\n -0.14337587333973284\\n  0.38193050353655744\\n -0.03410602657662457<\\/pre>\"},\"nodeType\":\"DOM\",\"type\":\"node\",\"instanceArgs\":{\"namespace\":\"html\",\"tag\":\"div\"},\"children\":[]}]}]},\n",
       "        window,\n",
       "    );\n",
       "    })()\n",
       "    </script>\n",
       "</div>\n"
      ],
      "text/plain": [
       "(div { style=Dict(\"display\" => \"flex\", \"flex-direction\" => \"row\") }\n",
       "  (div { style=Dict(\"display\" => \"flex\", \"flex-direction\" => \"column\") }\n",
       "    HTML{String}(\"<b>power iteration 39</b>\")\n",
       "    [0.7516542615861407, -0.5171246459092165, -0.14330388017894555, 0.3819715903398496, -0.03405398260946184])\n",
       "  (div { style=Dict{Any, Any}(\"align-self\" => \"stretch\", \"borderLeft\" => \"solid 1.0px #DEDEDE\") })\n",
       "  (div { style=Dict(\"display\" => \"flex\", \"flex-direction\" => \"column\") }\n",
       "    HTML{String}(\"<b>eigenvector</b>\")\n",
       "    [0.7516527258032667, -0.5171338396934146, -0.14337587333973284, 0.38193050353655744, -0.03410602657662457]))"
      ]
     },
     "metadata": {
      "application/vnd.webio.node+json": {
       "kernelId": "3c7d7052-bde9-4a18-a0c5-24a636d36fd8"
      }
     },
     "output_type": "display_data"
    },
    {
     "data": {
      "application/vnd.webio.node+json": {
       "children": [
        {
         "children": [
          {
           "children": [],
           "instanceArgs": {
            "namespace": "html",
            "tag": "div"
           },
           "nodeType": "DOM",
           "props": {
            "setInnerHtml": "<b>power iteration 40</b>"
           },
           "type": "node"
          },
          {
           "children": [],
           "instanceArgs": {
            "namespace": "html",
            "tag": "div"
           },
           "nodeType": "DOM",
           "props": {
            "setInnerHtml": "<pre>5-element Vector{Float64}:\n  0.7516539549318045\n -0.5171264851804152\n -0.1433182792613011\n  0.38196337312266704\n -0.0340643917113</pre>"
           },
           "type": "node"
          }
         ],
         "instanceArgs": {
          "namespace": "html",
          "tag": "div"
         },
         "nodeType": "DOM",
         "props": {
          "style": {
           "display": "flex",
           "flex-direction": "column"
          }
         },
         "type": "node"
        },
        {
         "children": [],
         "instanceArgs": {
          "namespace": "html",
          "tag": "div"
         },
         "nodeType": "DOM",
         "props": {
          "style": {
           "align-self": "stretch",
           "borderLeft": "solid 1.0px #DEDEDE"
          }
         },
         "type": "node"
        },
        {
         "children": [
          {
           "children": [],
           "instanceArgs": {
            "namespace": "html",
            "tag": "div"
           },
           "nodeType": "DOM",
           "props": {
            "setInnerHtml": "<b>eigenvector</b>"
           },
           "type": "node"
          },
          {
           "children": [],
           "instanceArgs": {
            "namespace": "html",
            "tag": "div"
           },
           "nodeType": "DOM",
           "props": {
            "setInnerHtml": "<pre>5-element Vector{Float64}:\n  0.7516527258032667\n -0.5171338396934146\n -0.14337587333973284\n  0.38193050353655744\n -0.03410602657662457</pre>"
           },
           "type": "node"
          }
         ],
         "instanceArgs": {
          "namespace": "html",
          "tag": "div"
         },
         "nodeType": "DOM",
         "props": {
          "style": {
           "display": "flex",
           "flex-direction": "column"
          }
         },
         "type": "node"
        }
       ],
       "instanceArgs": {
        "namespace": "html",
        "tag": "div"
       },
       "nodeType": "DOM",
       "props": {
        "style": {
         "display": "flex",
         "flex-direction": "row"
        }
       },
       "type": "node"
      },
      "text/html": [
       "<div\n",
       "    class=\"webio-mountpoint\"\n",
       "    data-webio-mountpoint=\"4190641960257565965\"\n",
       ">\n",
       "    <script>\n",
       "    (function(){\n",
       "    // Some integrations (namely, IJulia/Jupyter) use an alternate render pathway than\n",
       "    // just putting the html on the page. If WebIO isn't defined, then it's pretty likely\n",
       "    // that we're in one of those situations and the integration just isn't installed\n",
       "    // correctly.\n",
       "    if (typeof window.WebIO === \"undefined\") {\n",
       "        document\n",
       "            .querySelector('[data-webio-mountpoint=\"4190641960257565965\"]')\n",
       "            .innerHTML = (\n",
       "                '<div style=\"padding: 1em; background-color: #f8d6da; border: 1px solid #f5c6cb; font-weight: bold;\">' +\n",
       "                '<p><strong>WebIO not detected.</strong></p>' +\n",
       "                '<p>Please read ' +\n",
       "                '<a href=\"https://juliagizmos.github.io/WebIO.jl/latest/troubleshooting/not-detected/\" target=\"_blank\">the troubleshooting guide</a> ' +\n",
       "                'for more information on how to resolve this issue.</p>' +\n",
       "                '<p><a href=\"https://juliagizmos.github.io/WebIO.jl/latest/troubleshooting/not-detected/\" target=\"_blank\">https://juliagizmos.github.io/WebIO.jl/latest/troubleshooting/not-detected/</a></p>' +\n",
       "                '</div>'\n",
       "            );\n",
       "        return;\n",
       "    }\n",
       "    WebIO.mount(\n",
       "        document.querySelector('[data-webio-mountpoint=\"4190641960257565965\"]'),\n",
       "        {\"props\":{\"style\":{\"display\":\"flex\",\"flex-direction\":\"row\"}},\"nodeType\":\"DOM\",\"type\":\"node\",\"instanceArgs\":{\"namespace\":\"html\",\"tag\":\"div\"},\"children\":[{\"props\":{\"style\":{\"display\":\"flex\",\"flex-direction\":\"column\"}},\"nodeType\":\"DOM\",\"type\":\"node\",\"instanceArgs\":{\"namespace\":\"html\",\"tag\":\"div\"},\"children\":[{\"props\":{\"setInnerHtml\":\"<b>power iteration 40<\\/b>\"},\"nodeType\":\"DOM\",\"type\":\"node\",\"instanceArgs\":{\"namespace\":\"html\",\"tag\":\"div\"},\"children\":[]},{\"props\":{\"setInnerHtml\":\"<pre>5-element Vector{Float64}:\\n  0.7516539549318045\\n -0.5171264851804152\\n -0.1433182792613011\\n  0.38196337312266704\\n -0.0340643917113<\\/pre>\"},\"nodeType\":\"DOM\",\"type\":\"node\",\"instanceArgs\":{\"namespace\":\"html\",\"tag\":\"div\"},\"children\":[]}]},{\"props\":{\"style\":{\"align-self\":\"stretch\",\"borderLeft\":\"solid 1.0px #DEDEDE\"}},\"nodeType\":\"DOM\",\"type\":\"node\",\"instanceArgs\":{\"namespace\":\"html\",\"tag\":\"div\"},\"children\":[]},{\"props\":{\"style\":{\"display\":\"flex\",\"flex-direction\":\"column\"}},\"nodeType\":\"DOM\",\"type\":\"node\",\"instanceArgs\":{\"namespace\":\"html\",\"tag\":\"div\"},\"children\":[{\"props\":{\"setInnerHtml\":\"<b>eigenvector<\\/b>\"},\"nodeType\":\"DOM\",\"type\":\"node\",\"instanceArgs\":{\"namespace\":\"html\",\"tag\":\"div\"},\"children\":[]},{\"props\":{\"setInnerHtml\":\"<pre>5-element Vector{Float64}:\\n  0.7516527258032667\\n -0.5171338396934146\\n -0.14337587333973284\\n  0.38193050353655744\\n -0.03410602657662457<\\/pre>\"},\"nodeType\":\"DOM\",\"type\":\"node\",\"instanceArgs\":{\"namespace\":\"html\",\"tag\":\"div\"},\"children\":[]}]}]},\n",
       "        window,\n",
       "    );\n",
       "    })()\n",
       "    </script>\n",
       "</div>\n"
      ],
      "text/plain": [
       "(div { style=Dict(\"display\" => \"flex\", \"flex-direction\" => \"row\") }\n",
       "  (div { style=Dict(\"display\" => \"flex\", \"flex-direction\" => \"column\") }\n",
       "    HTML{String}(\"<b>power iteration 40</b>\")\n",
       "    [0.7516539549318045, -0.5171264851804152, -0.1433182792613011, 0.38196337312266704, -0.0340643917113])\n",
       "  (div { style=Dict{Any, Any}(\"align-self\" => \"stretch\", \"borderLeft\" => \"solid 1.0px #DEDEDE\") })\n",
       "  (div { style=Dict(\"display\" => \"flex\", \"flex-direction\" => \"column\") }\n",
       "    HTML{String}(\"<b>eigenvector</b>\")\n",
       "    [0.7516527258032667, -0.5171338396934146, -0.14337587333973284, 0.38193050353655744, -0.03410602657662457]))"
      ]
     },
     "metadata": {
      "application/vnd.webio.node+json": {
       "kernelId": "3c7d7052-bde9-4a18-a0c5-24a636d36fd8"
      }
     },
     "output_type": "display_data"
    }
   ],
   "source": [
    "x = [5,4,3,2,1] # arbitrary initial vector\n",
    "# @manipulate\n",
    "for n = 1:40\n",
    "    y = x\n",
    "    for i = 1:n\n",
    "        y = A*y\n",
    "        y = y / norm(y)\n",
    "    end\n",
    "    display(\n",
    "        hbox(vbox(HTML(\"<b>power iteration $n</b>\"),y),\n",
    "         vline(), \n",
    "         vbox(HTML(\"<b>eigenvector</b>\"),X[:,1]))\n",
    "        )\n",
    "end"
   ]
  },
  {
   "cell_type": "markdown",
   "metadata": {},
   "source": [
    "Note that the *sign* of the resulting eigenvector depends on the initial $x$.\n",
    "\n",
    "We could also plot the difference $\\Vert \\pm y - x_1 \\Vert$ versus the number $n$ of steps:"
   ]
  },
  {
   "cell_type": "code",
   "execution_count": 6,
   "metadata": {},
   "outputs": [
    {
     "data": {
      "image/png": "[encoded data removed]",
      "text/plain": [
       "Figure(PyObject <Figure size 640x480 with 1 Axes>)"
      ]
     },
     "metadata": {},
     "output_type": "display_data"
    },
    {
     "data": {
      "text/plain": [
       "PyObject Text(0.5, 1.0, 'convergence of power method for $\\\\lambda=1,2,3,4,5$')"
      ]
     },
     "execution_count": 6,
     "metadata": {},
     "output_type": "execute_result"
    }
   ],
   "source": [
    "d = Float64[]\n",
    "y = x\n",
    "for i = 1:100\n",
    "    y = A*y\n",
    "    y = y / norm(y)\n",
    "    push!(d, min(norm(y - X[:,1]), norm(-y - X[:,1]))) # pick the better of the two signs\n",
    "end\n",
    "semilogy(1:length(d), d, \"b.-\")\n",
    "xlabel(\"number of power steps\")\n",
    "ylabel(\"error in eigenvector\")\n",
    "title(L\"convergence of power method for $\\lambda=1,2,3,4,5$\")"
   ]
  },
  {
   "cell_type": "markdown",
   "metadata": {},
   "source": [
    "# Convergence rate\n",
    "\n",
    "How fast does the power method converge?\n",
    "\n",
    "Suppose that $A$ is diagonalizable with eigenvalues sorted in order of decreasing magnitude $$|\\lambda_1| > |\\lambda_2| > \\cdots$$.  And suppose that we expand our initial $x$ in the basis of the eigenvectors:\n",
    "$$x = c_1 x_1 + c_2 x_2 + \\cdots$$\n",
    "Then, after $n$ steps, the power method produces:\n",
    "\n",
    "$$\n",
    "\\mbox{scalar multiple of } A^n x = \\mbox{multiple of } \\left( \\lambda_1^n c_1 x_1 + \\lambda_2^n c_2 x_2 + \\lambda_3^n c_3 x_3 + \\cdots \\right)\n",
    "= \\mbox{multiple of } \\lambda_1^n \\left[ c_1 x_1 + (\\lambda_2/\\lambda_1)^n c_2 x_2 + (\\lambda_3/\\lambda_1)^n c_3 x_3 + \\cdots \\right]\n",
    "$$\n",
    "\n",
    "The overall exponentially growing (or decaying) term $\\lambda_1^n$ gets removed by the normalization.  The key thing is that the $x_2$, $x_3$ and other \"error\" terms not proportional to $x_1$ decay like the *ratios* of their eigenvalues/λ₁to the n-th power.   \n",
    "\n",
    "For large $n$ the error is dominated by the $x_2$ term (the *next*-biggest |λ|), since that term decays most slowly, and the magnitude of this term decays proportional to $|\\lambda_2/\\lambda_1|^n$: the *ratio* of the magnitudes. \n",
    "\n",
    "For example, in our case above, we'd expect the error to decay proportional to $(4/5)^n$:"
   ]
  },
  {
   "cell_type": "code",
   "execution_count": 7,
   "metadata": {},
   "outputs": [
    {
     "data": {
      "image/png": "[encoded data removed]",
      "text/plain": [
       "Figure(PyObject <Figure size 640x480 with 1 Axes>)"
      ]
     },
     "metadata": {},
     "output_type": "display_data"
    },
    {
     "data": {
      "text/plain": [
       "PyObject <matplotlib.legend.Legend object at 0x7fe42c95a110>"
      ]
     },
     "execution_count": 7,
     "metadata": {},
     "output_type": "execute_result"
    }
   ],
   "source": [
    "semilogy(1:length(d), d, \"b.-\")\n",
    "semilogy(1:length(d), (4/5).^(1:length(d)), \"k--\")\n",
    "xlabel(\"number of power steps\")\n",
    "ylabel(\"error in eigenvector\")\n",
    "title(L\"convergence of power method for $\\lambda=1,2,3,4,5$\")\n",
    "legend([\"error\", L\"(4/5)^n\"])"
   ]
  },
  {
   "cell_type": "markdown",
   "metadata": {},
   "source": [
    "# Pros/cons of the power method\n",
    "\n",
    "* Our analysis shows that the power method can converge very slowly if $|\\lambda_2/\\lambda_1|$ is close to 1.  And if two eigenvalues have *equal* magnitude, the method may not converge *at all*.\n",
    "\n",
    "* Also, it only gives us $x_1$.  What if we want $x_2$, or in general a *few* of the biggest-|λ| eigenvectors?\n",
    "\n",
    "Still, the power method is the **starting point for many more sophisticated methods,** including the [Arnoldi method](https://en.wikipedia.org/wiki/Arnoldi_iteration) (which gives a few of the biggest eigenvectors) or the [QR algorithm](https://en.wikipedia.org/wiki/QR_algorithm) which gives *all* of the eigenvectors.\n",
    "\n",
    "And the power method *by itself* can still be a pretty good method if we know that one eigenvalue is bigger than all of the others, e.g. for Markov matrices.  And because it is so simple, the power method is easy to apply in lots of different cases, especially since:\n",
    "\n",
    "* The power method only requires you to supply a \"black box\" that **multiplies matrix × vector**  This is a *huge* advantage for problems where the matrix is *mostly zeros* (or has some other special structure), in which you can multiply **matrix × vector much more quickly than for a generic matrix**.\n",
    "\n",
    "An interesting application of the power method comes from how Markov matrices relate to the [Google PageRank](https://en.wikipedia.org/wiki/PageRank).  Google actually runs this algorithm on a *huge* Markov matrix where rows/cols are *web pages*: the matrix is [*over a billion by billion entries*](https://www.mathworks.com/content/dam/mathworks/mathworks-dot-com/moler/exm/chapters/pagerank.pdf).  But since most web pages only link to a few other pages, the matrix is mostly zeros, and you can multiply it by a random vector in a few billion operation, rather than a billion² operations.  (They don't even store the whole matrix: you only store the nonzero entries of such a [sparse matrix](https://en.wikipedia.org/wiki/Sparse_matrix).)"
   ]
  },
  {
   "cell_type": "markdown",
   "metadata": {},
   "source": [
    "# Getting an eigenvalue from the eigenvector\n",
    "\n",
    "In the textbook method of solving eigenproblems, we first find the eigenvalues from the roots of the characteristic polynomial, and then we find the eigenvectors from $N(A - \\lambda I)$ for each eigenvalue.\n",
    "\n",
    "The power method, however, gives you an eigenvector first!  How do you find the eigenvalue?  And how do you find an *approximate* eigenvalue given the *approximate* eigenvector that you get from a *finite* number of iterations.\n",
    "\n",
    "For example, suppose that we do 30 iterations on the example above:"
   ]
  },
  {
   "cell_type": "code",
   "execution_count": 8,
   "metadata": {},
   "outputs": [
    {
     "data": {
      "text/plain": [
       "5-element Vector{Float64}:\n",
       "  0.751664028549221\n",
       " -0.517065175988641\n",
       " -0.14283935626318672\n",
       "  0.38223656917816207\n",
       " -0.03371817685193268"
      ]
     },
     "execution_count": 8,
     "metadata": {},
     "output_type": "execute_result"
    }
   ],
   "source": [
    "y = x\n",
    "for i = 1:30\n",
    "    y = A*y\n",
    "    y = y / norm(y)\n",
    "end\n",
    "y"
   ]
  },
  {
   "cell_type": "code",
   "execution_count": 9,
   "metadata": {},
   "outputs": [
    {
     "data": {
      "text/plain": [
       "5-element Vector{Float64}:\n",
       "  3.7585009856494422\n",
       " -2.585526794858033\n",
       " -0.7147699284677411\n",
       "  1.9109744679392595\n",
       " -0.16898745218157352"
      ]
     },
     "execution_count": 9,
     "metadata": {},
     "output_type": "execute_result"
    }
   ],
   "source": [
    "A*y"
   ]
  },
  {
   "cell_type": "markdown",
   "metadata": {},
   "source": [
    "If $y$ was the *exact* eigenvector, we could just multiply $Ay$ and see how much each component increased: they would all increase (or decrease) by the same factor λ.\n",
    "\n",
    "But, for an approximate eigenvector, each component of $Ay$ will increase by a slightly different amount:"
   ]
  },
  {
   "cell_type": "code",
   "execution_count": 10,
   "metadata": {},
   "outputs": [
    {
     "data": {
      "text/plain": [
       "5-element Vector{Float64}:\n",
       " 5.000240590072783\n",
       " 5.000388567871437\n",
       " 5.0040125296473015\n",
       " 4.999454845589477\n",
       " 5.011761250427376"
      ]
     },
     "execution_count": 10,
     "metadata": {},
     "output_type": "execute_result"
    }
   ],
   "source": [
    "(A*y) ./ y   # divide each element of Ay elementwise (./ in Julia) by the corresponding element of y"
   ]
  },
  {
   "cell_type": "markdown",
   "metadata": {},
   "source": [
    "These are all pretty close to the true eigenvalue λ=5, but don't quite agree.  Clearly, we need some kind of average?\n",
    "\n",
    "A problem with dividing things elementwise is that some of the eigenvector elements might be zero (or nearly zero), and then our estimate will go crazy.  Instead, we need to take the average in some other way.\n",
    "\n",
    "Instead, the most common approach is to use the [Rayleigh quotient](https://en.wikipedia.org/wiki/Rayleigh_quotient):\n",
    "\n",
    "$$\n",
    "\\lambda \\approx \\frac{y^T A y}{y^T y}\n",
    "$$\n",
    "\n",
    "where $y$ is our estimated eigenvector.  If we have an exact eigenvector, so that $Ay = \\lambda y$, then the Rayleigh quotient will gives us exactly $\\lambda$.  Otherwise, it is a kind of weighted-average (weighted by the components $y_k^2$), and is a reasonable approximation:"
   ]
  },
  {
   "cell_type": "code",
   "execution_count": 11,
   "metadata": {},
   "outputs": [
    {
     "data": {
      "text/plain": [
       "5.000255409055291"
      ]
     },
     "execution_count": 11,
     "metadata": {},
     "output_type": "execute_result"
    }
   ],
   "source": [
    "(y'A*y) / (y'y) # a Rayleigh quotient in Julia"
   ]
  },
  {
   "cell_type": "markdown",
   "metadata": {},
   "source": [
    "Clearly, this is a pretty good estimate for the true eigenvalue 5.   Let's see how it converges by plotting the error as a function of the number of power iterations:"
   ]
  },
  {
   "cell_type": "code",
   "execution_count": 12,
   "metadata": {},
   "outputs": [
    {
     "data": {
      "image/png": "[encoded data removed]",
      "text/plain": [
       "Figure(PyObject <Figure size 640x480 with 1 Axes>)"
      ]
     },
     "metadata": {},
     "output_type": "display_data"
    },
    {
     "data": {
      "text/plain": [
       "PyObject <matplotlib.legend.Legend object at 0x7fe40cc23950>"
      ]
     },
     "execution_count": 12,
     "metadata": {},
     "output_type": "execute_result"
    }
   ],
   "source": [
    "Δλ = Float64[]\n",
    "y = x\n",
    "for i = 1:100\n",
    "    y = A*y\n",
    "    y = y / norm(y)\n",
    "    λ̃ = (y'A*y) / (y'y)\n",
    "    push!(Δλ, abs(λ̃ - 5))\n",
    "end\n",
    "semilogy(1:length(Δλ), Δλ, \"b.-\")\n",
    "semilogy(1:length(Δλ), (4/5).^(1:length(Δλ)), \"k--\")\n",
    "xlabel(\"number of power steps\")\n",
    "ylabel(\"error in eigenvalue\")\n",
    "title(L\"convergence of power method $\\lambda$ for $\\lambda=1,2,3,4,5$\")\n",
    "legend([\"error\", L\"(4/5)^n\"])"
   ]
  },
  {
   "cell_type": "markdown",
   "metadata": {},
   "source": [
    "It is converging at the same rate.\n",
    "\n",
    "(For symmetric matrices, it turns out that the eigenvalue converges even faster than the eigenvalue, but that is not a topic for 18.06.)"
   ]
  },
  {
   "cell_type": "markdown",
   "metadata": {},
   "source": [
    "# Shift-and-invert\n",
    "\n",
    "The power method finds the eigenvector (and eigenvalue) for the biggest |λ|.   If, instead, we want to find the *smallest* |λ|, we can apply the power method to $A^{-1}$.  More generally, if we want to find the eigenvalue *closest to some μ*, we can apply the power method to $(A - \\mu I)^{-1}$.  This is called a **shift and invert method**:\n",
    "\n",
    "\n",
    "* Starting with a random $x$, repeatedly solve $(A-\\mu I)y = x$ and then replace $x \\leftarrow y / \\Vert y \\Vert $.\n",
    "\n",
    "Notice that we don't usually compute $(A - \\mu I)^{-1}$ explicitly; instead, we solve $(A-\\mu I)y = x$ by whatever the best available method is.   (If $A$ is a huge sparse matrix, this is a tricky problem in itself, which requires its own iterative or sparse methods.)\n",
    "\n",
    "If $\\lambda$ is the closest eigenvalue to $\\mu$, and $\\lambda^\\prime$ is the second-closest, the same analysis as above tells us that the errors on the n-th iteration should go like\n",
    "$$\n",
    "\\mathrm{error} \\sim \\left| \\frac{\\lambda - \\mu}{\\lambda^\\prime - \\mu} \\right|^n ,\n",
    "$$\n",
    "since $(\\lambda - \\mu)^{-1}$ and $(\\lambda^\\prime - \\mu)^{-1}$ are the largest- and second-largest-magnitude eigenvalues of $(A - \\mu I)^{-1}$, respectively.\n",
    "\n",
    "Let's try this on our example matrix above to find the eigenvalue closest to 2.1.  This should give us 2, and the error should go as $|2-2.1|^n / |3-2.1|^n = 1/9^n$:"
   ]
  },
  {
   "cell_type": "code",
   "execution_count": 13,
   "metadata": {},
   "outputs": [
    {
     "data": {
      "image/png": "[encoded data removed]",
      "text/plain": [
       "Figure(PyObject <Figure size 640x480 with 1 Axes>)"
      ]
     },
     "metadata": {},
     "output_type": "display_data"
    },
    {
     "data": {
      "text/plain": [
       "PyObject <matplotlib.legend.Legend object at 0x7fe42c4e0a90>"
      ]
     },
     "execution_count": 13,
     "metadata": {},
     "output_type": "execute_result"
    }
   ],
   "source": [
    "Δλ = Float64[]\n",
    "y = x\n",
    "for i = 1:15\n",
    "    y = (A - 2.1I) \\ y\n",
    "    y = y / norm(y)\n",
    "    λ̃ = (y'A*y) / (y'y)\n",
    "    push!(Δλ, abs(λ̃ - 2))\n",
    "end\n",
    "semilogy(1:length(Δλ), Δλ, \"b.-\")\n",
    "semilogy(1:length(Δλ), (1/9).^(1:length(Δλ)), \"k--\")\n",
    "xlabel(\"number of power steps\")\n",
    "ylabel(\"error in eigenvalue\")\n",
    "title(L\"convergence of shift-and-invert method $\\lambda$ for $\\lambda=1,2,3,4,5$, $\\mu = 2.1$\")\n",
    "legend([\"error\", L\"1/9^n\"])"
   ]
  },
  {
   "cell_type": "markdown",
   "metadata": {},
   "source": [
    "Yup, it converges at the expected rate!\n",
    "\n",
    "If you have a reasonable guess for the eigenvalue that you want, shift-and-invert can converge amazingly fast!"
   ]
  }
 ],
 "metadata": {
  "@webio": {
   "lastCommId": "7dd865d46d0840b190e2e9939f83d754",
   "lastKernelId": "3c7d7052-bde9-4a18-a0c5-24a636d36fd8"
  },
  "anaconda-cloud": {},
  "kernelspec": {
   "display_name": "Julia 1.7.1",
   "language": "julia",
   "name": "julia-1.7"
  },
  "language_info": {
   "file_extension": ".jl",
   "mimetype": "application/julia",
   "name": "julia",
   "version": "1.7.1"
  },
  "widgets": {
   "state": {
    "261a280b-0628-4842-8d64-15aa1b5543bc": {
     "views": [
      {
       "cell_index": 5
      }
     ]
    }
   },
   "version": "1.2.0"
  }
 },
 "nbformat": 4,
 "nbformat_minor": 1
}
