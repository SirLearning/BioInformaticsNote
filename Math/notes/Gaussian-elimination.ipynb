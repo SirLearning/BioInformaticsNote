{
 "cells": [
  {
   "cell_type": "markdown",
   "metadata": {},
   "source": [
    "# Gaussian elimination\n",
    "\n",
    "This Julia notebook allows us to interactively visualize the process of Gaussian elimination.\n",
    "\n",
    "Recall that the process of [Gaussian elimination](https://en.wikipedia.org/wiki/Gaussian_elimination) involves subtracting rows to turn a matrix $A$ into an [upper triangular matrix](https://en.wikipedia.org/wiki/Triangular_matrix) $U$.  Often we *augment* the matrix with an additional column, representing the right-hand side $b$ of a system of equations $Ax=b$ that we want to solve: by doing the same row operations to both $A$ and $b$, we arrive at an equivalent equation $Ux=c$ that is easy to solve by *backsubstitution* (solving for one variable at a time, working from the last row to the top row).\n",
    "\n",
    "For example, suppose we are solving:\n",
    "\n",
    "$$\n",
    "Ax = \n",
    "\\begin{pmatrix}\n",
    "1 & 3 & 1  \\\\\n",
    "1 & 1 & -1  \\\\\n",
    "3 & 11 & 6 \n",
    "\\end{pmatrix} x = \n",
    "\\begin{pmatrix}\n",
    "9 \\\\\n",
    "1 \\\\\n",
    "35\n",
    "\\end{pmatrix} = b\n",
    "$$\n",
    "\n",
    "We would perform the following elimination process.\n",
    "\n",
    "$$\n",
    "\\left[\\begin{array}{rrr|r}\n",
    "\\boxed{1} & 3 & 1 & 9 \\\\\n",
    "1 & 1 & -1 & 1 \\\\\n",
    "3 & 11 & 6 & 35\n",
    "\\end{array}\\right]\\to\n",
    "\\left[\\begin{array}{rrr|r}\n",
    "\\boxed{1} & 3 & 1 & 9 \\\\\n",
    "0 & \\boxed{-2} & -2 & -8 \\\\\n",
    "0 & 2 & 3 & 8\n",
    "\\end{array}\\right]\\to\n",
    "\\left[\\begin{array}{rrr|r}\n",
    "\\boxed{1} & 3 & 1 & 9 \\\\\n",
    "0 & \\boxed{-2} & -2 & -8 \\\\\n",
    "0 & 0 & \\boxed{1} & 0\n",
    "\\end{array}\\right]\n",
    "$$\n",
    "\n",
    "The boxed values are known as the **pivots**.  Now we do **backsubstitution**, working from the bottom up.  The last row is a single equation in a single unknown:\n",
    "\n",
    "$$\n",
    "1 x_3 = 0 \\implies x_3 = 0 .\n",
    "$$\n",
    "\n",
    "Now that we know $x_3$, the second row gives:\n",
    "\n",
    "$$\n",
    "-2x_2 - 2x_3 = -8 \\implies -2x_2 - 0 = -8 \\implies x_2 = 4 .\n",
    "$$\n",
    "\n",
    "Finally, now that we know $x_2$ and $x_3$, the first row gives:\n",
    "\n",
    "$$\n",
    "1 x_1 + 3 x_2 + 1x_3 = 9 \\implies x_1 + 12 + 0 = 9 \\implies x_1 = -3.\n",
    "$$\n",
    "\n",
    "It is much more fun to let the computer do the arithmetic than to crunch through it ourselves on the blackboard, but usually the computer does things *too* quickly (and it often does some re-ordering of the rows that makes it harder to follow what is going on).  For example, in Julia, we can solve the above system of equations by simply:"
   ]
  },
  {
   "cell_type": "code",
   "execution_count": 1,
   "metadata": {},
   "outputs": [
    {
     "data": {
      "text/plain": [
       "3×3 Matrix{Int64}:\n",
       " 1   3   1\n",
       " 1   1  -1\n",
       " 3  11   6"
      ]
     },
     "execution_count": 1,
     "metadata": {},
     "output_type": "execute_result"
    }
   ],
   "source": [
    "A = [1 3  1\n",
    "     1 1 -1\n",
    "     3 11 6]"
   ]
  },
  {
   "cell_type": "code",
   "execution_count": 2,
   "metadata": {},
   "outputs": [
    {
     "data": {
      "text/plain": [
       "3-element Vector{Int64}:\n",
       "  9\n",
       "  1\n",
       " 35"
      ]
     },
     "execution_count": 2,
     "metadata": {},
     "output_type": "execute_result"
    }
   ],
   "source": [
    "b = [9, 1, 35]"
   ]
  },
  {
   "cell_type": "code",
   "execution_count": 3,
   "metadata": {},
   "outputs": [
    {
     "data": {
      "text/plain": [
       "3-element Vector{Float64}:\n",
       " -3.0\n",
       "  4.0\n",
       " -0.0"
      ]
     },
     "execution_count": 3,
     "metadata": {},
     "output_type": "execute_result"
    }
   ],
   "source": [
    "x = A \\ b # solves Ax = b by (essentially) Gaussian elimination"
   ]
  },
  {
   "cell_type": "code",
   "execution_count": 4,
   "metadata": {},
   "outputs": [
    {
     "data": {
      "text/plain": [
       "3-element Vector{Float64}:\n",
       " -3.0\n",
       "  4.0\n",
       "  0.0"
      ]
     },
     "execution_count": 4,
     "metadata": {},
     "output_type": "execute_result"
    }
   ],
   "source": [
    "A^-1 * b"
   ]
  },
  {
   "cell_type": "markdown",
   "metadata": {},
   "source": [
    "## What's next?\n",
    "\n",
    "The basic Gaussian-elimination process is essentially the same as what you learned in 8th–9th grade algebra.   Where do we go from here?   There are several directions we would like to pursue in 18.06:\n",
    "\n",
    "* Zooming out and understanding this process *algebraically*: we want to think of elimination steps in terms of matrix operations (matrix products), and this will eventually lead us to viewing elimination as a *factorization* of the matrix A: the **LU factorization**.   This factorization is key to how Gaussian elimination is *actually used* in large problems, and it helps us *understand* A by breaking it into simpler matrices.\n",
    "\n",
    "* What happens if you encounter a zero pivot?\n",
    "  - At the simplest hand-calculation level, you just swap rows *if you can*, as reviewed below.   But in practical numerical calculations something more interesting happens — it turns out that you need to swap rows even if the pivots are nonzero!  This eventually leads us to a \"PA = LU\" factorization, which is critical if you actually want to *use* Gaussian elimination in real life.\n",
    "  - If you *can't* swap rows to get rid of a zero pivot, then the matrix is *singular*.  In high school, you typically just give up if the matrix is singular, but it turns out that there are lots of things to say about this case.\n",
    "  \n",
    "* How does this process scale?   It is good to understand what happens for $n \\times n$ matrices.  Is Gaussian elimination practical on a computer for $n = 1000$?  What about $n = 10^6$?"
   ]
  },
  {
   "cell_type": "markdown",
   "metadata": {},
   "source": [
    "## Row swaps\n",
    "\n",
    "Occasionally, we may encounter a zero in the pivot position.  Sometimes this means that the equations are **singular** (may have no solutions) — we will talk more about this later.  However, as long as there is a nonzero value *below* the pivot, we can fix the problem by **swapping rows** (which just corresponds to re-ordering the equations).\n",
    "\n",
    "For example:\n",
    "\n",
    "\n",
    "$$\n",
    "\\left[\\begin{array}{rrr|r}\n",
    "\\boxed{1} & 3 & 1 & 9 \\\\\n",
    "1 & 3 & -1 & 1 \\\\\n",
    "3 & 11 & 6 & 35\n",
    "\\end{array}\\right]\\to\n",
    "\\left[\\begin{array}{rrr|r}\n",
    "\\boxed{1} & 3 & 1 & 9 \\\\\n",
    "0 & 0 & -2 & -8 \\\\\n",
    "0 & 2 & 3 & 8\n",
    "\\end{array}\\right]\\to\n",
    "\\left[\\begin{array}{rrr|r}\n",
    "\\boxed{1} & 3 & 1 & 9 \\\\\n",
    "0 & \\boxed{2} & 3 & 8 \\\\\n",
    "0 & 0 & \\boxed{-2} & -8\n",
    "\\end{array}\\right]\n",
    "$$\n",
    "\n",
    "where in the second step we swapped the second and third rows to get a nonzero pivot in the second row.\n",
    "\n",
    "At this point we can again solve bottom-up by backsubstitution:\n",
    "\n",
    "$$\n",
    "-2x_3 = 8 \\implies x_3 = 4 \\\\\n",
    "2x_2 + 3x_3 = 8 = 2x_2 + 12 \\implies x_2 = -2 \\\\\n",
    "x_1 + 3x_2 + x_3 = 9 = x_1 -6 + 4 \\implies x_3 = 11\n",
    "$$\n",
    "\n",
    "Of course, the computer can get the answer much more quickly and easily:"
   ]
  },
  {
   "cell_type": "code",
   "execution_count": 5,
   "metadata": {},
   "outputs": [
    {
     "data": {
      "text/plain": [
       "3-element Vector{Float64}:\n",
       " 11.000000000000005\n",
       " -2.0000000000000013\n",
       "  4.0"
      ]
     },
     "execution_count": 5,
     "metadata": {},
     "output_type": "execute_result"
    }
   ],
   "source": [
    "[ 1 3  1\n",
    "  1 3 -1\n",
    "  3 11 6 ] \\\n",
    "[9\n",
    " 1\n",
    " 35]"
   ]
  },
  {
   "cell_type": "markdown",
   "metadata": {},
   "source": [
    "## “Big” matrices on the computer\n",
    "\n",
    "Of course, the computer can solve *much bigger problems* easily.  It can solve 1000 equations in 1000 unknowns in a fraction of a second — nowadays, that is no longer considered a \"big\" system of equations."
   ]
  },
  {
   "cell_type": "code",
   "execution_count": 6,
   "metadata": {},
   "outputs": [
    {
     "data": {
      "text/plain": [
       "1000×1000 Matrix{Float64}:\n",
       " 0.754693  0.560733   0.910327   …  0.611877  0.292508   0.72601\n",
       " 0.351665  0.369858   0.871103      0.25676   0.0405945  0.726211\n",
       " 0.763593  0.464121   0.390283      0.604981  0.147775   0.72878\n",
       " 0.453561  0.147726   0.600355      0.178248  0.914899   0.757964\n",
       " 0.247388  0.981658   0.410212      0.817523  0.826953   0.440147\n",
       " 0.633554  0.862141   0.688732   …  0.264323  0.497675   0.514361\n",
       " 0.133259  0.527097   0.376906      0.965998  0.945114   0.884697\n",
       " 0.711564  0.423059   0.870123      0.823831  0.272452   0.92002\n",
       " 0.564027  0.638453   0.530519      0.900897  0.0810425  0.0930512\n",
       " 0.214856  0.290041   0.819278      0.90219   0.552371   0.553739\n",
       " 0.903851  0.897284   0.759832   …  0.208446  0.173989   0.0596702\n",
       " 0.104133  0.113186   0.0797224     0.250324  0.604153   0.41286\n",
       " 0.235456  0.590892   0.789271      0.973052  0.294701   0.143293\n",
       " ⋮                               ⋱                       \n",
       " 0.215499  0.188321   0.975163      0.957026  0.871916   0.828928\n",
       " 0.967067  0.591485   0.632038      0.010651  0.100226   0.991383\n",
       " 0.119558  0.460483   0.199182   …  0.261509  0.324492   0.965666\n",
       " 0.607541  0.628893   0.434687      0.263299  0.525989   0.577185\n",
       " 0.230643  0.298218   0.603661      0.184217  0.13649    0.918041\n",
       " 0.976573  0.985378   0.0157184     0.842938  0.745338   0.0950755\n",
       " 0.461015  0.438604   0.308731      0.139264  0.478038   0.482712\n",
       " 0.732309  0.0759328  0.585691   …  0.638138  0.604144   0.850571\n",
       " 0.636802  0.322266   0.469396      0.578963  0.205645   0.172984\n",
       " 0.414916  0.494336   0.807718      0.320688  0.657784   0.982512\n",
       " 0.293371  0.493783   0.74403       0.799018  0.264314   0.186339\n",
       " 0.104612  0.662899   0.301098      0.698438  0.609498   0.937989"
      ]
     },
     "execution_count": 6,
     "metadata": {},
     "output_type": "execute_result"
    }
   ],
   "source": [
    "Ahuge = rand(1000,1000)"
   ]
  },
  {
   "cell_type": "code",
   "execution_count": 7,
   "metadata": {},
   "outputs": [
    {
     "data": {
      "text/plain": [
       "1000-element Vector{Float64}:\n",
       " 0.11648951400817487\n",
       " 0.638398291445165\n",
       " 0.8298021277628341\n",
       " 0.6578245083268514\n",
       " 0.2992909571326191\n",
       " 0.04434321426269938\n",
       " 0.2273049093293089\n",
       " 0.9208209561794793\n",
       " 0.508792941046068\n",
       " 0.6918189711915684\n",
       " 0.6824429390834486\n",
       " 0.914443078331818\n",
       " 0.2796681550890874\n",
       " ⋮\n",
       " 0.9260513170733145\n",
       " 0.9305175378530915\n",
       " 0.019844020048994104\n",
       " 0.5146618522657653\n",
       " 0.9889596344281131\n",
       " 0.7890502663051733\n",
       " 0.7176160909676175\n",
       " 0.33518616859067674\n",
       " 0.6782977395680323\n",
       " 0.6828375702950923\n",
       " 0.6045951621057377\n",
       " 0.9432704795434865"
      ]
     },
     "execution_count": 7,
     "metadata": {},
     "output_type": "execute_result"
    }
   ],
   "source": [
    "bhuge = rand(1000)"
   ]
  },
  {
   "cell_type": "code",
   "execution_count": 8,
   "metadata": {},
   "outputs": [
    {
     "data": {
      "text/plain": [
       "1000-element Vector{Float64}:\n",
       " -0.40242365163345395\n",
       " -1.2575603935803086\n",
       "  1.3767709589169037\n",
       "  0.020777542800422127\n",
       " -0.43224063490856907\n",
       "  0.07846278754888261\n",
       " -1.2788481293898533\n",
       " -0.23363827638256934\n",
       "  1.1367178501838064\n",
       " -0.6419266345464728\n",
       "  1.16574989194809\n",
       " -1.0109259917168187\n",
       " -0.2547952187241332\n",
       "  ⋮\n",
       "  0.17760057480194702\n",
       " -0.026736570616518872\n",
       "  1.7923137060044423\n",
       " -0.9918298946342873\n",
       " -1.0221141312210762\n",
       "  0.4426412052246268\n",
       " -0.13777635985018952\n",
       " -0.4722031299540175\n",
       " -0.14595252778895984\n",
       " -0.37017438393408275\n",
       "  0.88508351548458\n",
       " -0.1397370446925542"
      ]
     },
     "execution_count": 8,
     "metadata": {},
     "output_type": "execute_result"
    }
   ],
   "source": [
    "Ahuge \\ bhuge"
   ]
  },
  {
   "cell_type": "code",
   "execution_count": 9,
   "metadata": {},
   "outputs": [
    {
     "name": "stdout",
     "output_type": "stream",
     "text": [
      "  0.016476 seconds (4 allocations: 7.645 MiB)\n",
      "  0.017585 seconds (4 allocations: 7.645 MiB)\n",
      "  0.014655 seconds (4 allocations: 7.645 MiB)\n"
     ]
    }
   ],
   "source": [
    "@time Ahuge \\ bhuge;\n",
    "@time Ahuge \\ bhuge;\n",
    "@time Ahuge \\ bhuge;"
   ]
  },
  {
   "cell_type": "markdown",
   "metadata": {},
   "source": [
    "If we want to see the matrix $U$ from above, we use the fact (covered soon in 18.06) that Gaussian elimination is really \"LU\" factorization, performed by the function `lufact` in the built-in `LinearAlgebra` package. By default, however, \"serious\" computer implementations of this process automatically re-order the rows to reduce the effect of roundoff errors, so we need to pass an extra option that tells Julia not to do this.  (You should *not* normally do this, except for learning exercises.)"
   ]
  },
  {
   "cell_type": "code",
   "execution_count": 10,
   "metadata": {},
   "outputs": [],
   "source": [
    "using LinearAlgebra"
   ]
  },
  {
   "cell_type": "code",
   "execution_count": 11,
   "metadata": {},
   "outputs": [
    {
     "data": {
      "text/plain": [
       "3×4 Matrix{Float64}:\n",
       " 1.0   3.0   1.0   9.0\n",
       " 0.0  -2.0  -2.0  -8.0\n",
       " 0.0   0.0   1.0   0.0"
      ]
     },
     "execution_count": 11,
     "metadata": {},
     "output_type": "execute_result"
    }
   ],
   "source": [
    "# LU factorization (Gaussian elimination) of the augumented matrix [A b], \n",
    "# passing the NoPivot() option to prevent row re-ordering\n",
    "F = lu([A b],  NoPivot()) # a \"factorization\" object storing both L and U\n",
    "F.U # just show U"
   ]
  },
  {
   "cell_type": "markdown",
   "metadata": {},
   "source": [
    "However, it would be nice to show the individual steps of this process.  This requires some programming."
   ]
  },
  {
   "cell_type": "markdown",
   "metadata": {},
   "source": [
    "# Code to interactively visualize Gaussian elimination\n",
    "\n",
    "The following is some slightly tricky code that lets us visualize the process of Gaussian elimination in Julia.  It takes advantage of the [Interact](https://github.com/JuliaGizmos/Interact.jl) package in Julia, which allows us to easily create interactive displays using sliders, pushbuttons, and other widgets.\n",
    "\n",
    "Implementing this is **not really a beginner exercise** for new Julia programmers, though it is fairly straightforward for people who are used to Julia.  It involves defining our own type to control display, our own implementation of Gaussian elimination that allows us to stop partway through, and using the Interact package to create interactive widgets.\n",
    "\n",
    "You can skip this part if you aren't ready for the programming details."
   ]
  },
  {
   "cell_type": "code",
   "execution_count": 12,
   "metadata": {},
   "outputs": [
    {
     "data": {
      "text/plain": [
       "naive_gauss"
      ]
     },
     "execution_count": 12,
     "metadata": {},
     "output_type": "execute_result"
    }
   ],
   "source": [
    "\"\"\"\n",
    "    naive_gauss(A, [step])\n",
    "\n",
    "Given a matrix `A`, performs Gaussian elimination to convert\n",
    "`A` into an upper-triangular matrix `U`.\n",
    "\n",
    "This implementation is \"naive\" because it *never re-orders the rows*.\n",
    "(It will obviously fail if a zero pivot is encountered.)\n",
    "\n",
    "If the optional `step` argument is supplied, only performs `step`\n",
    "steps of Gaussian elimination.\n",
    "\n",
    "Returns `(U, row, col, factor)`, where `row` and `col` are the\n",
    "row and column of the last step performed, while `factor`\n",
    "is the last factor multiplying the pivot row.\n",
    "\"\"\"\n",
    "function naive_gauss(A, step=typemax(Int))\n",
    "    m = size(A,1) # number of rows\n",
    "    factor = A[1,1]/A[1,1]\n",
    "    step ≤ 0 && return (A, 1, 1, factor)\n",
    "    U = copyto!(similar(A, typeof(factor)), A)\n",
    "    for j = 1:m   # loop over m columns\n",
    "        for i = j+1:m   # loop over rows below the pivot row j\n",
    "            # subtract a multiple of the pivot row (j)\n",
    "            # from the current row (i) to cancel U[i,j] = Uᵢⱼ:\n",
    "            factor = -U[i,j]/U[j,j]\n",
    "            U[i,:] = U[i,:] + U[j,:] * factor\n",
    "            step -= 1\n",
    "            step ≤ 0 && return (U, i, j, factor)\n",
    "        end\n",
    "    end\n",
    "    return U, m, m, factor\n",
    "end"
   ]
  },
  {
   "cell_type": "markdown",
   "metadata": {},
   "source": [
    "For display purposes on the 18.06 github page, we can't use interactive sliders, so I just use the following code to switch to non-interactively output each of the \"steps\" of the animation.\n",
    "\n",
    "To go back to interactive sliders, change `import Interact` to `using Interact` below:"
   ]
  },
  {
   "cell_type": "code",
   "execution_count": 13,
   "metadata": {},
   "outputs": [
    {
     "data": {
      "application/vnd.webio.node+json": {
       "children": [],
       "instanceArgs": {
        "namespace": "html",
        "tag": "div"
       },
       "nodeType": "DOM",
       "props": {},
       "type": "node"
      },
      "text/html": [
       "<div style=\"padding: 1em; background-color: #f8d6da; border: 1px solid #f5c6cb; font-weight: bold;\">\n",
       "<p>The WebIO Jupyter extension was not detected. See the\n",
       "<a href=\"https://juliagizmos.github.io/WebIO.jl/latest/providers/ijulia/\" target=\"_blank\">\n",
       "    WebIO Jupyter integration documentation\n",
       "</a>\n",
       "for more information.\n",
       "</div>\n"
      ],
      "text/plain": [
       "WebIO._IJuliaInit()"
      ]
     },
     "metadata": {
      "application/vnd.webio.node+json": {
       "kernelId": "a047c49e-3ec7-4b3d-bfa2-571929d498c5"
      }
     },
     "output_type": "display_data"
    },
    {
     "data": {
      "text/plain": [
       "slider (generic function with 1 method)"
      ]
     },
     "execution_count": 13,
     "metadata": {},
     "output_type": "execute_result"
    }
   ],
   "source": [
    "import Interact  # change to \"using Interact\" to make interactive\n",
    "\n",
    "# non-interactive replacements for Interact features\n",
    "if !isdefined(Main, :slider)\n",
    "    # non-interactive replacement for Interact.@manipulate\n",
    "    macro manipulate(expr)\n",
    "        return Expr(:for, esc(expr.args[1]), :(display($(esc(expr.args[2])))))\n",
    "    end\n",
    "    slider(r; kws...) = r\n",
    "end"
   ]
  },
  {
   "cell_type": "code",
   "execution_count": 14,
   "metadata": {},
   "outputs": [
    {
     "data": {
      "text/plain": [
       "visualize_gauss (generic function with 1 method)"
      ]
     },
     "execution_count": 14,
     "metadata": {},
     "output_type": "execute_result"
    }
   ],
   "source": [
    "\n",
    "# For display, I only want to show 3 decimal places of floating-point values,\n",
    "# but I want to show integers and similar types exactly, so I define a little\n",
    "# function to do this rounding\n",
    "shorten(x::AbstractFloat) = round(x, digits=3)\n",
    "shorten(x) = x # leave non floating-point values as-is\n",
    "\n",
    "# create an interactive widget to visualize the Gaussian-elimination process for the matrix A.\n",
    "function visualize_gauss(A)\n",
    "    m = size(A, 1)\n",
    "    @manipulate for step in slider(1:(m*(m-1))÷2, value=1, label=\"gauss step\")\n",
    "        Uprev, = naive_gauss(A, step-1)\n",
    "        U, row, col, factor = naive_gauss(A, step)\n",
    "        pivot = U[col,col]\n",
    "        Interact.vbox(\n",
    "            Interact.node(:pre, \"Gaussian elimination for column $col with pivot $pivot: add $(shorten(factor)) * (row $col) to (row $row)\"),\n",
    "            Interact.hbox(shorten.(Uprev),\n",
    "                Interact.hskip(1*Interact.em), \"⟶\", Interact.hskip(1*Interact.em),\n",
    "                shorten.(U)\n",
    "            )(Interact.alignitems(:center))\n",
    "        )(Interact.alignitems(:center))\n",
    "    end\n",
    "end"
   ]
  },
  {
   "cell_type": "markdown",
   "metadata": {},
   "source": [
    "# Gaussian elimination examples\n",
    "\n",
    "Now, let's use this machinery to interact with some examples, starting with our $3 \\times 3$ matrix from above:"
   ]
  },
  {
   "cell_type": "code",
   "execution_count": 15,
   "metadata": {},
   "outputs": [
    {
     "data": {
      "application/vnd.webio.node+json": {
       "children": [
        {
         "children": [
          "Gaussian elimination for column 1 with pivot 1.0: add -1.0 * (row 1) to (row 2)"
         ],
         "instanceArgs": {
          "namespace": "html",
          "tag": "pre"
         },
         "nodeType": "DOM",
         "props": {},
         "type": "node"
        },
        {
         "children": [
          {
           "children": [],
           "instanceArgs": {
            "namespace": "html",
            "tag": "div"
           },
           "nodeType": "DOM",
           "props": {
            "setInnerHtml": "<pre>3×4 Matrix{Int64}:\n 1   3   1   9\n 1   1  -1   1\n 3  11   6  35</pre>"
           },
           "type": "node"
          },
          {
           "children": [],
           "instanceArgs": {
            "namespace": "html",
            "tag": "div"
           },
           "nodeType": "DOM",
           "props": {
            "style": {
             "height": "0.0px",
             "width": "1.0em"
            }
           },
           "type": "node"
          },
          "⟶",
          {
           "children": [],
           "instanceArgs": {
            "namespace": "html",
            "tag": "div"
           },
           "nodeType": "DOM",
           "props": {
            "style": {
             "height": "0.0px",
             "width": "1.0em"
            }
           },
           "type": "node"
          },
          {
           "children": [],
           "instanceArgs": {
            "namespace": "html",
            "tag": "div"
           },
           "nodeType": "DOM",
           "props": {
            "setInnerHtml": "<pre>3×4 Matrix{Float64}:\n 1.0   3.0   1.0   9.0\n 0.0  -2.0  -2.0  -8.0\n 3.0  11.0   6.0  35.0</pre>"
           },
           "type": "node"
          }
         ],
         "instanceArgs": {
          "namespace": "html",
          "tag": "div"
         },
         "nodeType": "DOM",
         "props": {
          "style": {
           "align-items": "center",
           "display": "flex",
           "flex-direction": "row"
          }
         },
         "type": "node"
        }
       ],
       "instanceArgs": {
        "namespace": "html",
        "tag": "div"
       },
       "nodeType": "DOM",
       "props": {
        "style": {
         "align-items": "center",
         "display": "flex",
         "flex-direction": "column"
        }
       },
       "type": "node"
      },
      "text/html": [
       "<div\n",
       "    class=\"webio-mountpoint\"\n",
       "    data-webio-mountpoint=\"1613835335615055356\"\n",
       ">\n",
       "    <script>\n",
       "    (function(){\n",
       "    // Some integrations (namely, IJulia/Jupyter) use an alternate render pathway than\n",
       "    // just putting the html on the page. If WebIO isn't defined, then it's pretty likely\n",
       "    // that we're in one of those situations and the integration just isn't installed\n",
       "    // correctly.\n",
       "    if (typeof window.WebIO === \"undefined\") {\n",
       "        document\n",
       "            .querySelector('[data-webio-mountpoint=\"1613835335615055356\"]')\n",
       "            .innerHTML = (\n",
       "                '<div style=\"padding: 1em; background-color: #f8d6da; border: 1px solid #f5c6cb; font-weight: bold;\">' +\n",
       "                '<p><strong>WebIO not detected.</strong></p>' +\n",
       "                '<p>Please read ' +\n",
       "                '<a href=\"https://juliagizmos.github.io/WebIO.jl/latest/troubleshooting/not-detected/\" target=\"_blank\">the troubleshooting guide</a> ' +\n",
       "                'for more information on how to resolve this issue.</p>' +\n",
       "                '<p><a href=\"https://juliagizmos.github.io/WebIO.jl/latest/troubleshooting/not-detected/\" target=\"_blank\">https://juliagizmos.github.io/WebIO.jl/latest/troubleshooting/not-detected/</a></p>' +\n",
       "                '</div>'\n",
       "            );\n",
       "        return;\n",
       "    }\n",
       "    WebIO.mount(\n",
       "        document.querySelector('[data-webio-mountpoint=\"1613835335615055356\"]'),\n",
       "        {\"props\":{\"style\":{\"align-items\":\"center\",\"display\":\"flex\",\"flex-direction\":\"column\"}},\"nodeType\":\"DOM\",\"type\":\"node\",\"instanceArgs\":{\"namespace\":\"html\",\"tag\":\"div\"},\"children\":[{\"props\":{},\"nodeType\":\"DOM\",\"type\":\"node\",\"instanceArgs\":{\"namespace\":\"html\",\"tag\":\"pre\"},\"children\":[\"Gaussian elimination for column 1 with pivot 1.0: add -1.0 * (row 1) to (row 2)\"]},{\"props\":{\"style\":{\"align-items\":\"center\",\"display\":\"flex\",\"flex-direction\":\"row\"}},\"nodeType\":\"DOM\",\"type\":\"node\",\"instanceArgs\":{\"namespace\":\"html\",\"tag\":\"div\"},\"children\":[{\"props\":{\"setInnerHtml\":\"<pre>3×4 Matrix{Int64}:\\n 1   3   1   9\\n 1   1  -1   1\\n 3  11   6  35<\\/pre>\"},\"nodeType\":\"DOM\",\"type\":\"node\",\"instanceArgs\":{\"namespace\":\"html\",\"tag\":\"div\"},\"children\":[]},{\"props\":{\"style\":{\"height\":\"0.0px\",\"width\":\"1.0em\"}},\"nodeType\":\"DOM\",\"type\":\"node\",\"instanceArgs\":{\"namespace\":\"html\",\"tag\":\"div\"},\"children\":[]},\"⟶\",{\"props\":{\"style\":{\"height\":\"0.0px\",\"width\":\"1.0em\"}},\"nodeType\":\"DOM\",\"type\":\"node\",\"instanceArgs\":{\"namespace\":\"html\",\"tag\":\"div\"},\"children\":[]},{\"props\":{\"setInnerHtml\":\"<pre>3×4 Matrix{Float64}:\\n 1.0   3.0   1.0   9.0\\n 0.0  -2.0  -2.0  -8.0\\n 3.0  11.0   6.0  35.0<\\/pre>\"},\"nodeType\":\"DOM\",\"type\":\"node\",\"instanceArgs\":{\"namespace\":\"html\",\"tag\":\"div\"},\"children\":[]}]}]},\n",
       "        window,\n",
       "    );\n",
       "    })()\n",
       "    </script>\n",
       "</div>\n"
      ],
      "text/plain": [
       "(div { style=Dict{Any, Any}(\"align-items\" => :center, \"display\" => \"flex\", \"flex-direction\" => \"column\") }\n",
       "  (pre\n",
       "    \"Gaussian elimination for column 1 with pivot 1.0: add -1.0 * (row 1) to (row 2)\")\n",
       "  (div { style=Dict{Any, Any}(\"align-items\" => :center, \"display\" => \"flex\", \"flex-direction\" => \"row\") }\n",
       "    [1 3 1 9; 1 1 -1 1; 3 11 6 35]\n",
       "    (div { style=Dict{String, Measures.Length{U, Float64} where U}(\"height\" => 0.0px, \"width\" => 1.0em) })\n",
       "    \"⟶\"\n",
       "    (div { style=Dict{String, Measures.Length{U, Float64} where U}(\"height\" => 0.0px, \"width\" => 1.0em) })\n",
       "    [1.0 3.0 1.0 9.0; 0.0 -2.0 -2.0 -8.0; 3.0 11.0 6.0 35.0]))"
      ]
     },
     "metadata": {
      "application/vnd.webio.node+json": {
       "kernelId": "a047c49e-3ec7-4b3d-bfa2-571929d498c5"
      }
     },
     "output_type": "display_data"
    },
    {
     "data": {
      "application/vnd.webio.node+json": {
       "children": [
        {
         "children": [
          "Gaussian elimination for column 1 with pivot 1.0: add -3.0 * (row 1) to (row 3)"
         ],
         "instanceArgs": {
          "namespace": "html",
          "tag": "pre"
         },
         "nodeType": "DOM",
         "props": {},
         "type": "node"
        },
        {
         "children": [
          {
           "children": [],
           "instanceArgs": {
            "namespace": "html",
            "tag": "div"
           },
           "nodeType": "DOM",
           "props": {
            "setInnerHtml": "<pre>3×4 Matrix{Float64}:\n 1.0   3.0   1.0   9.0\n 0.0  -2.0  -2.0  -8.0\n 3.0  11.0   6.0  35.0</pre>"
           },
           "type": "node"
          },
          {
           "children": [],
           "instanceArgs": {
            "namespace": "html",
            "tag": "div"
           },
           "nodeType": "DOM",
           "props": {
            "style": {
             "height": "0.0px",
             "width": "1.0em"
            }
           },
           "type": "node"
          },
          "⟶",
          {
           "children": [],
           "instanceArgs": {
            "namespace": "html",
            "tag": "div"
           },
           "nodeType": "DOM",
           "props": {
            "style": {
             "height": "0.0px",
             "width": "1.0em"
            }
           },
           "type": "node"
          },
          {
           "children": [],
           "instanceArgs": {
            "namespace": "html",
            "tag": "div"
           },
           "nodeType": "DOM",
           "props": {
            "setInnerHtml": "<pre>3×4 Matrix{Float64}:\n 1.0   3.0   1.0   9.0\n 0.0  -2.0  -2.0  -8.0\n 0.0   2.0   3.0   8.0</pre>"
           },
           "type": "node"
          }
         ],
         "instanceArgs": {
          "namespace": "html",
          "tag": "div"
         },
         "nodeType": "DOM",
         "props": {
          "style": {
           "align-items": "center",
           "display": "flex",
           "flex-direction": "row"
          }
         },
         "type": "node"
        }
       ],
       "instanceArgs": {
        "namespace": "html",
        "tag": "div"
       },
       "nodeType": "DOM",
       "props": {
        "style": {
         "align-items": "center",
         "display": "flex",
         "flex-direction": "column"
        }
       },
       "type": "node"
      },
      "text/html": [
       "<div\n",
       "    class=\"webio-mountpoint\"\n",
       "    data-webio-mountpoint=\"15314375965256701470\"\n",
       ">\n",
       "    <script>\n",
       "    (function(){\n",
       "    // Some integrations (namely, IJulia/Jupyter) use an alternate render pathway than\n",
       "    // just putting the html on the page. If WebIO isn't defined, then it's pretty likely\n",
       "    // that we're in one of those situations and the integration just isn't installed\n",
       "    // correctly.\n",
       "    if (typeof window.WebIO === \"undefined\") {\n",
       "        document\n",
       "            .querySelector('[data-webio-mountpoint=\"15314375965256701470\"]')\n",
       "            .innerHTML = (\n",
       "                '<div style=\"padding: 1em; background-color: #f8d6da; border: 1px solid #f5c6cb; font-weight: bold;\">' +\n",
       "                '<p><strong>WebIO not detected.</strong></p>' +\n",
       "                '<p>Please read ' +\n",
       "                '<a href=\"https://juliagizmos.github.io/WebIO.jl/latest/troubleshooting/not-detected/\" target=\"_blank\">the troubleshooting guide</a> ' +\n",
       "                'for more information on how to resolve this issue.</p>' +\n",
       "                '<p><a href=\"https://juliagizmos.github.io/WebIO.jl/latest/troubleshooting/not-detected/\" target=\"_blank\">https://juliagizmos.github.io/WebIO.jl/latest/troubleshooting/not-detected/</a></p>' +\n",
       "                '</div>'\n",
       "            );\n",
       "        return;\n",
       "    }\n",
       "    WebIO.mount(\n",
       "        document.querySelector('[data-webio-mountpoint=\"15314375965256701470\"]'),\n",
       "        {\"props\":{\"style\":{\"align-items\":\"center\",\"display\":\"flex\",\"flex-direction\":\"column\"}},\"nodeType\":\"DOM\",\"type\":\"node\",\"instanceArgs\":{\"namespace\":\"html\",\"tag\":\"div\"},\"children\":[{\"props\":{},\"nodeType\":\"DOM\",\"type\":\"node\",\"instanceArgs\":{\"namespace\":\"html\",\"tag\":\"pre\"},\"children\":[\"Gaussian elimination for column 1 with pivot 1.0: add -3.0 * (row 1) to (row 3)\"]},{\"props\":{\"style\":{\"align-items\":\"center\",\"display\":\"flex\",\"flex-direction\":\"row\"}},\"nodeType\":\"DOM\",\"type\":\"node\",\"instanceArgs\":{\"namespace\":\"html\",\"tag\":\"div\"},\"children\":[{\"props\":{\"setInnerHtml\":\"<pre>3×4 Matrix{Float64}:\\n 1.0   3.0   1.0   9.0\\n 0.0  -2.0  -2.0  -8.0\\n 3.0  11.0   6.0  35.0<\\/pre>\"},\"nodeType\":\"DOM\",\"type\":\"node\",\"instanceArgs\":{\"namespace\":\"html\",\"tag\":\"div\"},\"children\":[]},{\"props\":{\"style\":{\"height\":\"0.0px\",\"width\":\"1.0em\"}},\"nodeType\":\"DOM\",\"type\":\"node\",\"instanceArgs\":{\"namespace\":\"html\",\"tag\":\"div\"},\"children\":[]},\"⟶\",{\"props\":{\"style\":{\"height\":\"0.0px\",\"width\":\"1.0em\"}},\"nodeType\":\"DOM\",\"type\":\"node\",\"instanceArgs\":{\"namespace\":\"html\",\"tag\":\"div\"},\"children\":[]},{\"props\":{\"setInnerHtml\":\"<pre>3×4 Matrix{Float64}:\\n 1.0   3.0   1.0   9.0\\n 0.0  -2.0  -2.0  -8.0\\n 0.0   2.0   3.0   8.0<\\/pre>\"},\"nodeType\":\"DOM\",\"type\":\"node\",\"instanceArgs\":{\"namespace\":\"html\",\"tag\":\"div\"},\"children\":[]}]}]},\n",
       "        window,\n",
       "    );\n",
       "    })()\n",
       "    </script>\n",
       "</div>\n"
      ],
      "text/plain": [
       "(div { style=Dict{Any, Any}(\"align-items\" => :center, \"display\" => \"flex\", \"flex-direction\" => \"column\") }\n",
       "  (pre\n",
       "    \"Gaussian elimination for column 1 with pivot 1.0: add -3.0 * (row 1) to (row 3)\")\n",
       "  (div { style=Dict{Any, Any}(\"align-items\" => :center, \"display\" => \"flex\", \"flex-direction\" => \"row\") }\n",
       "    [1.0 3.0 1.0 9.0; 0.0 -2.0 -2.0 -8.0; 3.0 11.0 6.0 35.0]\n",
       "    (div { style=Dict{String, Measures.Length{U, Float64} where U}(\"height\" => 0.0px, \"width\" => 1.0em) })\n",
       "    \"⟶\"\n",
       "    (div { style=Dict{String, Measures.Length{U, Float64} where U}(\"height\" => 0.0px, \"width\" => 1.0em) })\n",
       "    [1.0 3.0 1.0 9.0; 0.0 -2.0 -2.0 -8.0; 0.0 2.0 3.0 8.0]))"
      ]
     },
     "metadata": {
      "application/vnd.webio.node+json": {
       "kernelId": "a047c49e-3ec7-4b3d-bfa2-571929d498c5"
      }
     },
     "output_type": "display_data"
    },
    {
     "data": {
      "application/vnd.webio.node+json": {
       "children": [
        {
         "children": [
          "Gaussian elimination for column 2 with pivot -2.0: add 1.0 * (row 2) to (row 3)"
         ],
         "instanceArgs": {
          "namespace": "html",
          "tag": "pre"
         },
         "nodeType": "DOM",
         "props": {},
         "type": "node"
        },
        {
         "children": [
          {
           "children": [],
           "instanceArgs": {
            "namespace": "html",
            "tag": "div"
           },
           "nodeType": "DOM",
           "props": {
            "setInnerHtml": "<pre>3×4 Matrix{Float64}:\n 1.0   3.0   1.0   9.0\n 0.0  -2.0  -2.0  -8.0\n 0.0   2.0   3.0   8.0</pre>"
           },
           "type": "node"
          },
          {
           "children": [],
           "instanceArgs": {
            "namespace": "html",
            "tag": "div"
           },
           "nodeType": "DOM",
           "props": {
            "style": {
             "height": "0.0px",
             "width": "1.0em"
            }
           },
           "type": "node"
          },
          "⟶",
          {
           "children": [],
           "instanceArgs": {
            "namespace": "html",
            "tag": "div"
           },
           "nodeType": "DOM",
           "props": {
            "style": {
             "height": "0.0px",
             "width": "1.0em"
            }
           },
           "type": "node"
          },
          {
           "children": [],
           "instanceArgs": {
            "namespace": "html",
            "tag": "div"
           },
           "nodeType": "DOM",
           "props": {
            "setInnerHtml": "<pre>3×4 Matrix{Float64}:\n 1.0   3.0   1.0   9.0\n 0.0  -2.0  -2.0  -8.0\n 0.0   0.0   1.0   0.0</pre>"
           },
           "type": "node"
          }
         ],
         "instanceArgs": {
          "namespace": "html",
          "tag": "div"
         },
         "nodeType": "DOM",
         "props": {
          "style": {
           "align-items": "center",
           "display": "flex",
           "flex-direction": "row"
          }
         },
         "type": "node"
        }
       ],
       "instanceArgs": {
        "namespace": "html",
        "tag": "div"
       },
       "nodeType": "DOM",
       "props": {
        "style": {
         "align-items": "center",
         "display": "flex",
         "flex-direction": "column"
        }
       },
       "type": "node"
      },
      "text/html": [
       "<div\n",
       "    class=\"webio-mountpoint\"\n",
       "    data-webio-mountpoint=\"12296170535929156797\"\n",
       ">\n",
       "    <script>\n",
       "    (function(){\n",
       "    // Some integrations (namely, IJulia/Jupyter) use an alternate render pathway than\n",
       "    // just putting the html on the page. If WebIO isn't defined, then it's pretty likely\n",
       "    // that we're in one of those situations and the integration just isn't installed\n",
       "    // correctly.\n",
       "    if (typeof window.WebIO === \"undefined\") {\n",
       "        document\n",
       "            .querySelector('[data-webio-mountpoint=\"12296170535929156797\"]')\n",
       "            .innerHTML = (\n",
       "                '<div style=\"padding: 1em; background-color: #f8d6da; border: 1px solid #f5c6cb; font-weight: bold;\">' +\n",
       "                '<p><strong>WebIO not detected.</strong></p>' +\n",
       "                '<p>Please read ' +\n",
       "                '<a href=\"https://juliagizmos.github.io/WebIO.jl/latest/troubleshooting/not-detected/\" target=\"_blank\">the troubleshooting guide</a> ' +\n",
       "                'for more information on how to resolve this issue.</p>' +\n",
       "                '<p><a href=\"https://juliagizmos.github.io/WebIO.jl/latest/troubleshooting/not-detected/\" target=\"_blank\">https://juliagizmos.github.io/WebIO.jl/latest/troubleshooting/not-detected/</a></p>' +\n",
       "                '</div>'\n",
       "            );\n",
       "        return;\n",
       "    }\n",
       "    WebIO.mount(\n",
       "        document.querySelector('[data-webio-mountpoint=\"12296170535929156797\"]'),\n",
       "        {\"props\":{\"style\":{\"align-items\":\"center\",\"display\":\"flex\",\"flex-direction\":\"column\"}},\"nodeType\":\"DOM\",\"type\":\"node\",\"instanceArgs\":{\"namespace\":\"html\",\"tag\":\"div\"},\"children\":[{\"props\":{},\"nodeType\":\"DOM\",\"type\":\"node\",\"instanceArgs\":{\"namespace\":\"html\",\"tag\":\"pre\"},\"children\":[\"Gaussian elimination for column 2 with pivot -2.0: add 1.0 * (row 2) to (row 3)\"]},{\"props\":{\"style\":{\"align-items\":\"center\",\"display\":\"flex\",\"flex-direction\":\"row\"}},\"nodeType\":\"DOM\",\"type\":\"node\",\"instanceArgs\":{\"namespace\":\"html\",\"tag\":\"div\"},\"children\":[{\"props\":{\"setInnerHtml\":\"<pre>3×4 Matrix{Float64}:\\n 1.0   3.0   1.0   9.0\\n 0.0  -2.0  -2.0  -8.0\\n 0.0   2.0   3.0   8.0<\\/pre>\"},\"nodeType\":\"DOM\",\"type\":\"node\",\"instanceArgs\":{\"namespace\":\"html\",\"tag\":\"div\"},\"children\":[]},{\"props\":{\"style\":{\"height\":\"0.0px\",\"width\":\"1.0em\"}},\"nodeType\":\"DOM\",\"type\":\"node\",\"instanceArgs\":{\"namespace\":\"html\",\"tag\":\"div\"},\"children\":[]},\"⟶\",{\"props\":{\"style\":{\"height\":\"0.0px\",\"width\":\"1.0em\"}},\"nodeType\":\"DOM\",\"type\":\"node\",\"instanceArgs\":{\"namespace\":\"html\",\"tag\":\"div\"},\"children\":[]},{\"props\":{\"setInnerHtml\":\"<pre>3×4 Matrix{Float64}:\\n 1.0   3.0   1.0   9.0\\n 0.0  -2.0  -2.0  -8.0\\n 0.0   0.0   1.0   0.0<\\/pre>\"},\"nodeType\":\"DOM\",\"type\":\"node\",\"instanceArgs\":{\"namespace\":\"html\",\"tag\":\"div\"},\"children\":[]}]}]},\n",
       "        window,\n",
       "    );\n",
       "    })()\n",
       "    </script>\n",
       "</div>\n"
      ],
      "text/plain": [
       "(div { style=Dict{Any, Any}(\"align-items\" => :center, \"display\" => \"flex\", \"flex-direction\" => \"column\") }\n",
       "  (pre\n",
       "    \"Gaussian elimination for column 2 with pivot -2.0: add 1.0 * (row 2) to (row 3)\")\n",
       "  (div { style=Dict{Any, Any}(\"align-items\" => :center, \"display\" => \"flex\", \"flex-direction\" => \"row\") }\n",
       "    [1.0 3.0 1.0 9.0; 0.0 -2.0 -2.0 -8.0; 0.0 2.0 3.0 8.0]\n",
       "    (div { style=Dict{String, Measures.Length{U, Float64} where U}(\"height\" => 0.0px, \"width\" => 1.0em) })\n",
       "    \"⟶\"\n",
       "    (div { style=Dict{String, Measures.Length{U, Float64} where U}(\"height\" => 0.0px, \"width\" => 1.0em) })\n",
       "    [1.0 3.0 1.0 9.0; 0.0 -2.0 -2.0 -8.0; 0.0 0.0 1.0 0.0]))"
      ]
     },
     "metadata": {
      "application/vnd.webio.node+json": {
       "kernelId": "a047c49e-3ec7-4b3d-bfa2-571929d498c5"
      }
     },
     "output_type": "display_data"
    }
   ],
   "source": [
    "visualize_gauss([A b])"
   ]
  },
  {
   "cell_type": "code",
   "execution_count": 16,
   "metadata": {},
   "outputs": [
    {
     "data": {
      "application/vnd.webio.node+json": {
       "children": [
        {
         "children": [
          "Gaussian elimination for column 1 with pivot -9.0: add -0.889 * (row 1) to (row 2)"
         ],
         "instanceArgs": {
          "namespace": "html",
          "tag": "pre"
         },
         "nodeType": "DOM",
         "props": {},
         "type": "node"
        },
        {
         "children": [
          {
           "children": [],
           "instanceArgs": {
            "namespace": "html",
            "tag": "div"
           },
           "nodeType": "DOM",
           "props": {
            "setInnerHtml": "<pre>5×5 Matrix{Int64}:\n -9  -2  7  -3  -1\n -8   3  5  -9  -1\n  7  -4  8   7   0\n  5   3  2  -8  -9\n -5   7  3   1   2</pre>"
           },
           "type": "node"
          },
          {
           "children": [],
           "instanceArgs": {
            "namespace": "html",
            "tag": "div"
           },
           "nodeType": "DOM",
           "props": {
            "style": {
             "height": "0.0px",
             "width": "1.0em"
            }
           },
           "type": "node"
          },
          "⟶",
          {
           "children": [],
           "instanceArgs": {
            "namespace": "html",
            "tag": "div"
           },
           "nodeType": "DOM",
           "props": {
            "style": {
             "height": "0.0px",
             "width": "1.0em"
            }
           },
           "type": "node"
          },
          {
           "children": [],
           "instanceArgs": {
            "namespace": "html",
            "tag": "div"
           },
           "nodeType": "DOM",
           "props": {
            "setInnerHtml": "<pre>5×5 Matrix{Float64}:\n -9.0  -2.0     7.0    -3.0    -1.0\n  0.0   4.778  -1.222  -6.333  -0.111\n  7.0  -4.0     8.0     7.0     0.0\n  5.0   3.0     2.0    -8.0    -9.0\n -5.0   7.0     3.0     1.0     2.0</pre>"
           },
           "type": "node"
          }
         ],
         "instanceArgs": {
          "namespace": "html",
          "tag": "div"
         },
         "nodeType": "DOM",
         "props": {
          "style": {
           "align-items": "center",
           "display": "flex",
           "flex-direction": "row"
          }
         },
         "type": "node"
        }
       ],
       "instanceArgs": {
        "namespace": "html",
        "tag": "div"
       },
       "nodeType": "DOM",
       "props": {
        "style": {
         "align-items": "center",
         "display": "flex",
         "flex-direction": "column"
        }
       },
       "type": "node"
      },
      "text/html": [
       "<div\n",
       "    class=\"webio-mountpoint\"\n",
       "    data-webio-mountpoint=\"2562765136485367958\"\n",
       ">\n",
       "    <script>\n",
       "    (function(){\n",
       "    // Some integrations (namely, IJulia/Jupyter) use an alternate render pathway than\n",
       "    // just putting the html on the page. If WebIO isn't defined, then it's pretty likely\n",
       "    // that we're in one of those situations and the integration just isn't installed\n",
       "    // correctly.\n",
       "    if (typeof window.WebIO === \"undefined\") {\n",
       "        document\n",
       "            .querySelector('[data-webio-mountpoint=\"2562765136485367958\"]')\n",
       "            .innerHTML = (\n",
       "                '<div style=\"padding: 1em; background-color: #f8d6da; border: 1px solid #f5c6cb; font-weight: bold;\">' +\n",
       "                '<p><strong>WebIO not detected.</strong></p>' +\n",
       "                '<p>Please read ' +\n",
       "                '<a href=\"https://juliagizmos.github.io/WebIO.jl/latest/troubleshooting/not-detected/\" target=\"_blank\">the troubleshooting guide</a> ' +\n",
       "                'for more information on how to resolve this issue.</p>' +\n",
       "                '<p><a href=\"https://juliagizmos.github.io/WebIO.jl/latest/troubleshooting/not-detected/\" target=\"_blank\">https://juliagizmos.github.io/WebIO.jl/latest/troubleshooting/not-detected/</a></p>' +\n",
       "                '</div>'\n",
       "            );\n",
       "        return;\n",
       "    }\n",
       "    WebIO.mount(\n",
       "        document.querySelector('[data-webio-mountpoint=\"2562765136485367958\"]'),\n",
       "        {\"props\":{\"style\":{\"align-items\":\"center\",\"display\":\"flex\",\"flex-direction\":\"column\"}},\"nodeType\":\"DOM\",\"type\":\"node\",\"instanceArgs\":{\"namespace\":\"html\",\"tag\":\"div\"},\"children\":[{\"props\":{},\"nodeType\":\"DOM\",\"type\":\"node\",\"instanceArgs\":{\"namespace\":\"html\",\"tag\":\"pre\"},\"children\":[\"Gaussian elimination for column 1 with pivot -9.0: add -0.889 * (row 1) to (row 2)\"]},{\"props\":{\"style\":{\"align-items\":\"center\",\"display\":\"flex\",\"flex-direction\":\"row\"}},\"nodeType\":\"DOM\",\"type\":\"node\",\"instanceArgs\":{\"namespace\":\"html\",\"tag\":\"div\"},\"children\":[{\"props\":{\"setInnerHtml\":\"<pre>5×5 Matrix{Int64}:\\n -9  -2  7  -3  -1\\n -8   3  5  -9  -1\\n  7  -4  8   7   0\\n  5   3  2  -8  -9\\n -5   7  3   1   2<\\/pre>\"},\"nodeType\":\"DOM\",\"type\":\"node\",\"instanceArgs\":{\"namespace\":\"html\",\"tag\":\"div\"},\"children\":[]},{\"props\":{\"style\":{\"height\":\"0.0px\",\"width\":\"1.0em\"}},\"nodeType\":\"DOM\",\"type\":\"node\",\"instanceArgs\":{\"namespace\":\"html\",\"tag\":\"div\"},\"children\":[]},\"⟶\",{\"props\":{\"style\":{\"height\":\"0.0px\",\"width\":\"1.0em\"}},\"nodeType\":\"DOM\",\"type\":\"node\",\"instanceArgs\":{\"namespace\":\"html\",\"tag\":\"div\"},\"children\":[]},{\"props\":{\"setInnerHtml\":\"<pre>5×5 Matrix{Float64}:\\n -9.0  -2.0     7.0    -3.0    -1.0\\n  0.0   4.778  -1.222  -6.333  -0.111\\n  7.0  -4.0     8.0     7.0     0.0\\n  5.0   3.0     2.0    -8.0    -9.0\\n -5.0   7.0     3.0     1.0     2.0<\\/pre>\"},\"nodeType\":\"DOM\",\"type\":\"node\",\"instanceArgs\":{\"namespace\":\"html\",\"tag\":\"div\"},\"children\":[]}]}]},\n",
       "        window,\n",
       "    );\n",
       "    })()\n",
       "    </script>\n",
       "</div>\n"
      ],
      "text/plain": [
       "(div { style=Dict{Any, Any}(\"align-items\" => :center, \"display\" => \"flex\", \"flex-direction\" => \"column\") }\n",
       "  (pre\n",
       "    \"Gaussian elimination for column 1 with pivot -9.0: add -0.889 * (row 1) to (row 2)\")\n",
       "  (div { style=Dict{Any, Any}(\"align-items\" => :center, \"display\" => \"flex\", \"flex-direction\" => \"row\") }\n",
       "    [-9 -2 … -3 -1; -8 3 … -9 -1; … ; 5 3 … -8 -9; -5 7 … 1 2]\n",
       "    (div { style=Dict{String, Measures.Length{U, Float64} where U}(\"height\" => 0.0px, \"width\" => 1.0em) })\n",
       "    \"⟶\"\n",
       "    (div { style=Dict{String, Measures.Length{U, Float64} where U}(\"height\" => 0.0px, \"width\" => 1.0em) })\n",
       "    [-9.0 -2.0 … -3.0 -1.0; 0.0 4.778 … -6.333 -0.111; … ; 5.0 3.0 … -8.0 -9.0; -5.0 7.0 … 1.0 2.0]))"
      ]
     },
     "metadata": {
      "application/vnd.webio.node+json": {
       "kernelId": "a047c49e-3ec7-4b3d-bfa2-571929d498c5"
      }
     },
     "output_type": "display_data"
    },
    {
     "data": {
      "application/vnd.webio.node+json": {
       "children": [
        {
         "children": [
          "Gaussian elimination for column 1 with pivot -9.0: add 0.778 * (row 1) to (row 3)"
         ],
         "instanceArgs": {
          "namespace": "html",
          "tag": "pre"
         },
         "nodeType": "DOM",
         "props": {},
         "type": "node"
        },
        {
         "children": [
          {
           "children": [],
           "instanceArgs": {
            "namespace": "html",
            "tag": "div"
           },
           "nodeType": "DOM",
           "props": {
            "setInnerHtml": "<pre>5×5 Matrix{Float64}:\n -9.0  -2.0     7.0    -3.0    -1.0\n  0.0   4.778  -1.222  -6.333  -0.111\n  7.0  -4.0     8.0     7.0     0.0\n  5.0   3.0     2.0    -8.0    -9.0\n -5.0   7.0     3.0     1.0     2.0</pre>"
           },
           "type": "node"
          },
          {
           "children": [],
           "instanceArgs": {
            "namespace": "html",
            "tag": "div"
           },
           "nodeType": "DOM",
           "props": {
            "style": {
             "height": "0.0px",
             "width": "1.0em"
            }
           },
           "type": "node"
          },
          "⟶",
          {
           "children": [],
           "instanceArgs": {
            "namespace": "html",
            "tag": "div"
           },
           "nodeType": "DOM",
           "props": {
            "style": {
             "height": "0.0px",
             "width": "1.0em"
            }
           },
           "type": "node"
          },
          {
           "children": [],
           "instanceArgs": {
            "namespace": "html",
            "tag": "div"
           },
           "nodeType": "DOM",
           "props": {
            "setInnerHtml": "<pre>5×5 Matrix{Float64}:\n -9.0  -2.0     7.0    -3.0    -1.0\n  0.0   4.778  -1.222  -6.333  -0.111\n  0.0  -5.556  13.444   4.667  -0.778\n  5.0   3.0     2.0    -8.0    -9.0\n -5.0   7.0     3.0     1.0     2.0</pre>"
           },
           "type": "node"
          }
         ],
         "instanceArgs": {
          "namespace": "html",
          "tag": "div"
         },
         "nodeType": "DOM",
         "props": {
          "style": {
           "align-items": "center",
           "display": "flex",
           "flex-direction": "row"
          }
         },
         "type": "node"
        }
       ],
       "instanceArgs": {
        "namespace": "html",
        "tag": "div"
       },
       "nodeType": "DOM",
       "props": {
        "style": {
         "align-items": "center",
         "display": "flex",
         "flex-direction": "column"
        }
       },
       "type": "node"
      },
      "text/html": [
       "<div\n",
       "    class=\"webio-mountpoint\"\n",
       "    data-webio-mountpoint=\"8489402499556729622\"\n",
       ">\n",
       "    <script>\n",
       "    (function(){\n",
       "    // Some integrations (namely, IJulia/Jupyter) use an alternate render pathway than\n",
       "    // just putting the html on the page. If WebIO isn't defined, then it's pretty likely\n",
       "    // that we're in one of those situations and the integration just isn't installed\n",
       "    // correctly.\n",
       "    if (typeof window.WebIO === \"undefined\") {\n",
       "        document\n",
       "            .querySelector('[data-webio-mountpoint=\"8489402499556729622\"]')\n",
       "            .innerHTML = (\n",
       "                '<div style=\"padding: 1em; background-color: #f8d6da; border: 1px solid #f5c6cb; font-weight: bold;\">' +\n",
       "                '<p><strong>WebIO not detected.</strong></p>' +\n",
       "                '<p>Please read ' +\n",
       "                '<a href=\"https://juliagizmos.github.io/WebIO.jl/latest/troubleshooting/not-detected/\" target=\"_blank\">the troubleshooting guide</a> ' +\n",
       "                'for more information on how to resolve this issue.</p>' +\n",
       "                '<p><a href=\"https://juliagizmos.github.io/WebIO.jl/latest/troubleshooting/not-detected/\" target=\"_blank\">https://juliagizmos.github.io/WebIO.jl/latest/troubleshooting/not-detected/</a></p>' +\n",
       "                '</div>'\n",
       "            );\n",
       "        return;\n",
       "    }\n",
       "    WebIO.mount(\n",
       "        document.querySelector('[data-webio-mountpoint=\"8489402499556729622\"]'),\n",
       "        {\"props\":{\"style\":{\"align-items\":\"center\",\"display\":\"flex\",\"flex-direction\":\"column\"}},\"nodeType\":\"DOM\",\"type\":\"node\",\"instanceArgs\":{\"namespace\":\"html\",\"tag\":\"div\"},\"children\":[{\"props\":{},\"nodeType\":\"DOM\",\"type\":\"node\",\"instanceArgs\":{\"namespace\":\"html\",\"tag\":\"pre\"},\"children\":[\"Gaussian elimination for column 1 with pivot -9.0: add 0.778 * (row 1) to (row 3)\"]},{\"props\":{\"style\":{\"align-items\":\"center\",\"display\":\"flex\",\"flex-direction\":\"row\"}},\"nodeType\":\"DOM\",\"type\":\"node\",\"instanceArgs\":{\"namespace\":\"html\",\"tag\":\"div\"},\"children\":[{\"props\":{\"setInnerHtml\":\"<pre>5×5 Matrix{Float64}:\\n -9.0  -2.0     7.0    -3.0    -1.0\\n  0.0   4.778  -1.222  -6.333  -0.111\\n  7.0  -4.0     8.0     7.0     0.0\\n  5.0   3.0     2.0    -8.0    -9.0\\n -5.0   7.0     3.0     1.0     2.0<\\/pre>\"},\"nodeType\":\"DOM\",\"type\":\"node\",\"instanceArgs\":{\"namespace\":\"html\",\"tag\":\"div\"},\"children\":[]},{\"props\":{\"style\":{\"height\":\"0.0px\",\"width\":\"1.0em\"}},\"nodeType\":\"DOM\",\"type\":\"node\",\"instanceArgs\":{\"namespace\":\"html\",\"tag\":\"div\"},\"children\":[]},\"⟶\",{\"props\":{\"style\":{\"height\":\"0.0px\",\"width\":\"1.0em\"}},\"nodeType\":\"DOM\",\"type\":\"node\",\"instanceArgs\":{\"namespace\":\"html\",\"tag\":\"div\"},\"children\":[]},{\"props\":{\"setInnerHtml\":\"<pre>5×5 Matrix{Float64}:\\n -9.0  -2.0     7.0    -3.0    -1.0\\n  0.0   4.778  -1.222  -6.333  -0.111\\n  0.0  -5.556  13.444   4.667  -0.778\\n  5.0   3.0     2.0    -8.0    -9.0\\n -5.0   7.0     3.0     1.0     2.0<\\/pre>\"},\"nodeType\":\"DOM\",\"type\":\"node\",\"instanceArgs\":{\"namespace\":\"html\",\"tag\":\"div\"},\"children\":[]}]}]},\n",
       "        window,\n",
       "    );\n",
       "    })()\n",
       "    </script>\n",
       "</div>\n"
      ],
      "text/plain": [
       "(div { style=Dict{Any, Any}(\"align-items\" => :center, \"display\" => \"flex\", \"flex-direction\" => \"column\") }\n",
       "  (pre\n",
       "    \"Gaussian elimination for column 1 with pivot -9.0: add 0.778 * (row 1) to (row 3)\")\n",
       "  (div { style=Dict{Any, Any}(\"align-items\" => :center, \"display\" => \"flex\", \"flex-direction\" => \"row\") }\n",
       "    [-9.0 -2.0 … -3.0 -1.0; 0.0 4.778 … -6.333 -0.111; … ; 5.0 3.0 … -8.0 -9.0; -5.0 7.0 … 1.0 2.0]\n",
       "    (div { style=Dict{String, Measures.Length{U, Float64} where U}(\"height\" => 0.0px, \"width\" => 1.0em) })\n",
       "    \"⟶\"\n",
       "    (div { style=Dict{String, Measures.Length{U, Float64} where U}(\"height\" => 0.0px, \"width\" => 1.0em) })\n",
       "    [-9.0 -2.0 … -3.0 -1.0; 0.0 4.778 … -6.333 -0.111; … ; 5.0 3.0 … -8.0 -9.0; -5.0 7.0 … 1.0 2.0]))"
      ]
     },
     "metadata": {
      "application/vnd.webio.node+json": {
       "kernelId": "a047c49e-3ec7-4b3d-bfa2-571929d498c5"
      }
     },
     "output_type": "display_data"
    },
    {
     "data": {
      "application/vnd.webio.node+json": {
       "children": [
        {
         "children": [
          "Gaussian elimination for column 1 with pivot -9.0: add 0.556 * (row 1) to (row 4)"
         ],
         "instanceArgs": {
          "namespace": "html",
          "tag": "pre"
         },
         "nodeType": "DOM",
         "props": {},
         "type": "node"
        },
        {
         "children": [
          {
           "children": [],
           "instanceArgs": {
            "namespace": "html",
            "tag": "div"
           },
           "nodeType": "DOM",
           "props": {
            "setInnerHtml": "<pre>5×5 Matrix{Float64}:\n -9.0  -2.0     7.0    -3.0    -1.0\n  0.0   4.778  -1.222  -6.333  -0.111\n  0.0  -5.556  13.444   4.667  -0.778\n  5.0   3.0     2.0    -8.0    -9.0\n -5.0   7.0     3.0     1.0     2.0</pre>"
           },
           "type": "node"
          },
          {
           "children": [],
           "instanceArgs": {
            "namespace": "html",
            "tag": "div"
           },
           "nodeType": "DOM",
           "props": {
            "style": {
             "height": "0.0px",
             "width": "1.0em"
            }
           },
           "type": "node"
          },
          "⟶",
          {
           "children": [],
           "instanceArgs": {
            "namespace": "html",
            "tag": "div"
           },
           "nodeType": "DOM",
           "props": {
            "style": {
             "height": "0.0px",
             "width": "1.0em"
            }
           },
           "type": "node"
          },
          {
           "children": [],
           "instanceArgs": {
            "namespace": "html",
            "tag": "div"
           },
           "nodeType": "DOM",
           "props": {
            "setInnerHtml": "<pre>5×5 Matrix{Float64}:\n -9.0  -2.0     7.0    -3.0    -1.0\n  0.0   4.778  -1.222  -6.333  -0.111\n  0.0  -5.556  13.444   4.667  -0.778\n  0.0   1.889   5.889  -9.667  -9.556\n -5.0   7.0     3.0     1.0     2.0</pre>"
           },
           "type": "node"
          }
         ],
         "instanceArgs": {
          "namespace": "html",
          "tag": "div"
         },
         "nodeType": "DOM",
         "props": {
          "style": {
           "align-items": "center",
           "display": "flex",
           "flex-direction": "row"
          }
         },
         "type": "node"
        }
       ],
       "instanceArgs": {
        "namespace": "html",
        "tag": "div"
       },
       "nodeType": "DOM",
       "props": {
        "style": {
         "align-items": "center",
         "display": "flex",
         "flex-direction": "column"
        }
       },
       "type": "node"
      },
      "text/html": [
       "<div\n",
       "    class=\"webio-mountpoint\"\n",
       "    data-webio-mountpoint=\"18315964842727643847\"\n",
       ">\n",
       "    <script>\n",
       "    (function(){\n",
       "    // Some integrations (namely, IJulia/Jupyter) use an alternate render pathway than\n",
       "    // just putting the html on the page. If WebIO isn't defined, then it's pretty likely\n",
       "    // that we're in one of those situations and the integration just isn't installed\n",
       "    // correctly.\n",
       "    if (typeof window.WebIO === \"undefined\") {\n",
       "        document\n",
       "            .querySelector('[data-webio-mountpoint=\"18315964842727643847\"]')\n",
       "            .innerHTML = (\n",
       "                '<div style=\"padding: 1em; background-color: #f8d6da; border: 1px solid #f5c6cb; font-weight: bold;\">' +\n",
       "                '<p><strong>WebIO not detected.</strong></p>' +\n",
       "                '<p>Please read ' +\n",
       "                '<a href=\"https://juliagizmos.github.io/WebIO.jl/latest/troubleshooting/not-detected/\" target=\"_blank\">the troubleshooting guide</a> ' +\n",
       "                'for more information on how to resolve this issue.</p>' +\n",
       "                '<p><a href=\"https://juliagizmos.github.io/WebIO.jl/latest/troubleshooting/not-detected/\" target=\"_blank\">https://juliagizmos.github.io/WebIO.jl/latest/troubleshooting/not-detected/</a></p>' +\n",
       "                '</div>'\n",
       "            );\n",
       "        return;\n",
       "    }\n",
       "    WebIO.mount(\n",
       "        document.querySelector('[data-webio-mountpoint=\"18315964842727643847\"]'),\n",
       "        {\"props\":{\"style\":{\"align-items\":\"center\",\"display\":\"flex\",\"flex-direction\":\"column\"}},\"nodeType\":\"DOM\",\"type\":\"node\",\"instanceArgs\":{\"namespace\":\"html\",\"tag\":\"div\"},\"children\":[{\"props\":{},\"nodeType\":\"DOM\",\"type\":\"node\",\"instanceArgs\":{\"namespace\":\"html\",\"tag\":\"pre\"},\"children\":[\"Gaussian elimination for column 1 with pivot -9.0: add 0.556 * (row 1) to (row 4)\"]},{\"props\":{\"style\":{\"align-items\":\"center\",\"display\":\"flex\",\"flex-direction\":\"row\"}},\"nodeType\":\"DOM\",\"type\":\"node\",\"instanceArgs\":{\"namespace\":\"html\",\"tag\":\"div\"},\"children\":[{\"props\":{\"setInnerHtml\":\"<pre>5×5 Matrix{Float64}:\\n -9.0  -2.0     7.0    -3.0    -1.0\\n  0.0   4.778  -1.222  -6.333  -0.111\\n  0.0  -5.556  13.444   4.667  -0.778\\n  5.0   3.0     2.0    -8.0    -9.0\\n -5.0   7.0     3.0     1.0     2.0<\\/pre>\"},\"nodeType\":\"DOM\",\"type\":\"node\",\"instanceArgs\":{\"namespace\":\"html\",\"tag\":\"div\"},\"children\":[]},{\"props\":{\"style\":{\"height\":\"0.0px\",\"width\":\"1.0em\"}},\"nodeType\":\"DOM\",\"type\":\"node\",\"instanceArgs\":{\"namespace\":\"html\",\"tag\":\"div\"},\"children\":[]},\"⟶\",{\"props\":{\"style\":{\"height\":\"0.0px\",\"width\":\"1.0em\"}},\"nodeType\":\"DOM\",\"type\":\"node\",\"instanceArgs\":{\"namespace\":\"html\",\"tag\":\"div\"},\"children\":[]},{\"props\":{\"setInnerHtml\":\"<pre>5×5 Matrix{Float64}:\\n -9.0  -2.0     7.0    -3.0    -1.0\\n  0.0   4.778  -1.222  -6.333  -0.111\\n  0.0  -5.556  13.444   4.667  -0.778\\n  0.0   1.889   5.889  -9.667  -9.556\\n -5.0   7.0     3.0     1.0     2.0<\\/pre>\"},\"nodeType\":\"DOM\",\"type\":\"node\",\"instanceArgs\":{\"namespace\":\"html\",\"tag\":\"div\"},\"children\":[]}]}]},\n",
       "        window,\n",
       "    );\n",
       "    })()\n",
       "    </script>\n",
       "</div>\n"
      ],
      "text/plain": [
       "(div { style=Dict{Any, Any}(\"align-items\" => :center, \"display\" => \"flex\", \"flex-direction\" => \"column\") }\n",
       "  (pre\n",
       "    \"Gaussian elimination for column 1 with pivot -9.0: add 0.556 * (row 1) to (row 4)\")\n",
       "  (div { style=Dict{Any, Any}(\"align-items\" => :center, \"display\" => \"flex\", \"flex-direction\" => \"row\") }\n",
       "    [-9.0 -2.0 … -3.0 -1.0; 0.0 4.778 … -6.333 -0.111; … ; 5.0 3.0 … -8.0 -9.0; -5.0 7.0 … 1.0 2.0]\n",
       "    (div { style=Dict{String, Measures.Length{U, Float64} where U}(\"height\" => 0.0px, \"width\" => 1.0em) })\n",
       "    \"⟶\"\n",
       "    (div { style=Dict{String, Measures.Length{U, Float64} where U}(\"height\" => 0.0px, \"width\" => 1.0em) })\n",
       "    [-9.0 -2.0 … -3.0 -1.0; 0.0 4.778 … -6.333 -0.111; … ; 0.0 1.889 … -9.667 -9.556; -5.0 7.0 … 1.0 2.0]))"
      ]
     },
     "metadata": {
      "application/vnd.webio.node+json": {
       "kernelId": "a047c49e-3ec7-4b3d-bfa2-571929d498c5"
      }
     },
     "output_type": "display_data"
    },
    {
     "data": {
      "application/vnd.webio.node+json": {
       "children": [
        {
         "children": [
          "Gaussian elimination for column 1 with pivot -9.0: add -0.556 * (row 1) to (row 5)"
         ],
         "instanceArgs": {
          "namespace": "html",
          "tag": "pre"
         },
         "nodeType": "DOM",
         "props": {},
         "type": "node"
        },
        {
         "children": [
          {
           "children": [],
           "instanceArgs": {
            "namespace": "html",
            "tag": "div"
           },
           "nodeType": "DOM",
           "props": {
            "setInnerHtml": "<pre>5×5 Matrix{Float64}:\n -9.0  -2.0     7.0    -3.0    -1.0\n  0.0   4.778  -1.222  -6.333  -0.111\n  0.0  -5.556  13.444   4.667  -0.778\n  0.0   1.889   5.889  -9.667  -9.556\n -5.0   7.0     3.0     1.0     2.0</pre>"
           },
           "type": "node"
          },
          {
           "children": [],
           "instanceArgs": {
            "namespace": "html",
            "tag": "div"
           },
           "nodeType": "DOM",
           "props": {
            "style": {
             "height": "0.0px",
             "width": "1.0em"
            }
           },
           "type": "node"
          },
          "⟶",
          {
           "children": [],
           "instanceArgs": {
            "namespace": "html",
            "tag": "div"
           },
           "nodeType": "DOM",
           "props": {
            "style": {
             "height": "0.0px",
             "width": "1.0em"
            }
           },
           "type": "node"
          },
          {
           "children": [],
           "instanceArgs": {
            "namespace": "html",
            "tag": "div"
           },
           "nodeType": "DOM",
           "props": {
            "setInnerHtml": "<pre>5×5 Matrix{Float64}:\n -9.0  -2.0     7.0    -3.0    -1.0\n  0.0   4.778  -1.222  -6.333  -0.111\n  0.0  -5.556  13.444   4.667  -0.778\n  0.0   1.889   5.889  -9.667  -9.556\n  0.0   8.111  -0.889   2.667   2.556</pre>"
           },
           "type": "node"
          }
         ],
         "instanceArgs": {
          "namespace": "html",
          "tag": "div"
         },
         "nodeType": "DOM",
         "props": {
          "style": {
           "align-items": "center",
           "display": "flex",
           "flex-direction": "row"
          }
         },
         "type": "node"
        }
       ],
       "instanceArgs": {
        "namespace": "html",
        "tag": "div"
       },
       "nodeType": "DOM",
       "props": {
        "style": {
         "align-items": "center",
         "display": "flex",
         "flex-direction": "column"
        }
       },
       "type": "node"
      },
      "text/html": [
       "<div\n",
       "    class=\"webio-mountpoint\"\n",
       "    data-webio-mountpoint=\"8831870153156607804\"\n",
       ">\n",
       "    <script>\n",
       "    (function(){\n",
       "    // Some integrations (namely, IJulia/Jupyter) use an alternate render pathway than\n",
       "    // just putting the html on the page. If WebIO isn't defined, then it's pretty likely\n",
       "    // that we're in one of those situations and the integration just isn't installed\n",
       "    // correctly.\n",
       "    if (typeof window.WebIO === \"undefined\") {\n",
       "        document\n",
       "            .querySelector('[data-webio-mountpoint=\"8831870153156607804\"]')\n",
       "            .innerHTML = (\n",
       "                '<div style=\"padding: 1em; background-color: #f8d6da; border: 1px solid #f5c6cb; font-weight: bold;\">' +\n",
       "                '<p><strong>WebIO not detected.</strong></p>' +\n",
       "                '<p>Please read ' +\n",
       "                '<a href=\"https://juliagizmos.github.io/WebIO.jl/latest/troubleshooting/not-detected/\" target=\"_blank\">the troubleshooting guide</a> ' +\n",
       "                'for more information on how to resolve this issue.</p>' +\n",
       "                '<p><a href=\"https://juliagizmos.github.io/WebIO.jl/latest/troubleshooting/not-detected/\" target=\"_blank\">https://juliagizmos.github.io/WebIO.jl/latest/troubleshooting/not-detected/</a></p>' +\n",
       "                '</div>'\n",
       "            );\n",
       "        return;\n",
       "    }\n",
       "    WebIO.mount(\n",
       "        document.querySelector('[data-webio-mountpoint=\"8831870153156607804\"]'),\n",
       "        {\"props\":{\"style\":{\"align-items\":\"center\",\"display\":\"flex\",\"flex-direction\":\"column\"}},\"nodeType\":\"DOM\",\"type\":\"node\",\"instanceArgs\":{\"namespace\":\"html\",\"tag\":\"div\"},\"children\":[{\"props\":{},\"nodeType\":\"DOM\",\"type\":\"node\",\"instanceArgs\":{\"namespace\":\"html\",\"tag\":\"pre\"},\"children\":[\"Gaussian elimination for column 1 with pivot -9.0: add -0.556 * (row 1) to (row 5)\"]},{\"props\":{\"style\":{\"align-items\":\"center\",\"display\":\"flex\",\"flex-direction\":\"row\"}},\"nodeType\":\"DOM\",\"type\":\"node\",\"instanceArgs\":{\"namespace\":\"html\",\"tag\":\"div\"},\"children\":[{\"props\":{\"setInnerHtml\":\"<pre>5×5 Matrix{Float64}:\\n -9.0  -2.0     7.0    -3.0    -1.0\\n  0.0   4.778  -1.222  -6.333  -0.111\\n  0.0  -5.556  13.444   4.667  -0.778\\n  0.0   1.889   5.889  -9.667  -9.556\\n -5.0   7.0     3.0     1.0     2.0<\\/pre>\"},\"nodeType\":\"DOM\",\"type\":\"node\",\"instanceArgs\":{\"namespace\":\"html\",\"tag\":\"div\"},\"children\":[]},{\"props\":{\"style\":{\"height\":\"0.0px\",\"width\":\"1.0em\"}},\"nodeType\":\"DOM\",\"type\":\"node\",\"instanceArgs\":{\"namespace\":\"html\",\"tag\":\"div\"},\"children\":[]},\"⟶\",{\"props\":{\"style\":{\"height\":\"0.0px\",\"width\":\"1.0em\"}},\"nodeType\":\"DOM\",\"type\":\"node\",\"instanceArgs\":{\"namespace\":\"html\",\"tag\":\"div\"},\"children\":[]},{\"props\":{\"setInnerHtml\":\"<pre>5×5 Matrix{Float64}:\\n -9.0  -2.0     7.0    -3.0    -1.0\\n  0.0   4.778  -1.222  -6.333  -0.111\\n  0.0  -5.556  13.444   4.667  -0.778\\n  0.0   1.889   5.889  -9.667  -9.556\\n  0.0   8.111  -0.889   2.667   2.556<\\/pre>\"},\"nodeType\":\"DOM\",\"type\":\"node\",\"instanceArgs\":{\"namespace\":\"html\",\"tag\":\"div\"},\"children\":[]}]}]},\n",
       "        window,\n",
       "    );\n",
       "    })()\n",
       "    </script>\n",
       "</div>\n"
      ],
      "text/plain": [
       "(div { style=Dict{Any, Any}(\"align-items\" => :center, \"display\" => \"flex\", \"flex-direction\" => \"column\") }\n",
       "  (pre\n",
       "    \"Gaussian elimination for column 1 with pivot -9.0: add -0.556 * (row 1) to (row 5)\")\n",
       "  (div { style=Dict{Any, Any}(\"align-items\" => :center, \"display\" => \"flex\", \"flex-direction\" => \"row\") }\n",
       "    [-9.0 -2.0 … -3.0 -1.0; 0.0 4.778 … -6.333 -0.111; … ; 0.0 1.889 … -9.667 -9.556; -5.0 7.0 … 1.0 2.0]\n",
       "    (div { style=Dict{String, Measures.Length{U, Float64} where U}(\"height\" => 0.0px, \"width\" => 1.0em) })\n",
       "    \"⟶\"\n",
       "    (div { style=Dict{String, Measures.Length{U, Float64} where U}(\"height\" => 0.0px, \"width\" => 1.0em) })\n",
       "    [-9.0 -2.0 … -3.0 -1.0; 0.0 4.778 … -6.333 -0.111; … ; 0.0 1.889 … -9.667 -9.556; 0.0 8.111 … 2.667 2.556]))"
      ]
     },
     "metadata": {
      "application/vnd.webio.node+json": {
       "kernelId": "a047c49e-3ec7-4b3d-bfa2-571929d498c5"
      }
     },
     "output_type": "display_data"
    },
    {
     "data": {
      "application/vnd.webio.node+json": {
       "children": [
        {
         "children": [
          "Gaussian elimination for column 2 with pivot 4.777777777777778: add 1.163 * (row 2) to (row 3)"
         ],
         "instanceArgs": {
          "namespace": "html",
          "tag": "pre"
         },
         "nodeType": "DOM",
         "props": {},
         "type": "node"
        },
        {
         "children": [
          {
           "children": [],
           "instanceArgs": {
            "namespace": "html",
            "tag": "div"
           },
           "nodeType": "DOM",
           "props": {
            "setInnerHtml": "<pre>5×5 Matrix{Float64}:\n -9.0  -2.0     7.0    -3.0    -1.0\n  0.0   4.778  -1.222  -6.333  -0.111\n  0.0  -5.556  13.444   4.667  -0.778\n  0.0   1.889   5.889  -9.667  -9.556\n  0.0   8.111  -0.889   2.667   2.556</pre>"
           },
           "type": "node"
          },
          {
           "children": [],
           "instanceArgs": {
            "namespace": "html",
            "tag": "div"
           },
           "nodeType": "DOM",
           "props": {
            "style": {
             "height": "0.0px",
             "width": "1.0em"
            }
           },
           "type": "node"
          },
          "⟶",
          {
           "children": [],
           "instanceArgs": {
            "namespace": "html",
            "tag": "div"
           },
           "nodeType": "DOM",
           "props": {
            "style": {
             "height": "0.0px",
             "width": "1.0em"
            }
           },
           "type": "node"
          },
          {
           "children": [],
           "instanceArgs": {
            "namespace": "html",
            "tag": "div"
           },
           "nodeType": "DOM",
           "props": {
            "setInnerHtml": "<pre>5×5 Matrix{Float64}:\n -9.0  -2.0     7.0    -3.0    -1.0\n  0.0   4.778  -1.222  -6.333  -0.111\n  0.0   0.0    12.023  -2.698  -0.907\n  0.0   1.889   5.889  -9.667  -9.556\n  0.0   8.111  -0.889   2.667   2.556</pre>"
           },
           "type": "node"
          }
         ],
         "instanceArgs": {
          "namespace": "html",
          "tag": "div"
         },
         "nodeType": "DOM",
         "props": {
          "style": {
           "align-items": "center",
           "display": "flex",
           "flex-direction": "row"
          }
         },
         "type": "node"
        }
       ],
       "instanceArgs": {
        "namespace": "html",
        "tag": "div"
       },
       "nodeType": "DOM",
       "props": {
        "style": {
         "align-items": "center",
         "display": "flex",
         "flex-direction": "column"
        }
       },
       "type": "node"
      },
      "text/html": [
       "<div\n",
       "    class=\"webio-mountpoint\"\n",
       "    data-webio-mountpoint=\"6365735897932260417\"\n",
       ">\n",
       "    <script>\n",
       "    (function(){\n",
       "    // Some integrations (namely, IJulia/Jupyter) use an alternate render pathway than\n",
       "    // just putting the html on the page. If WebIO isn't defined, then it's pretty likely\n",
       "    // that we're in one of those situations and the integration just isn't installed\n",
       "    // correctly.\n",
       "    if (typeof window.WebIO === \"undefined\") {\n",
       "        document\n",
       "            .querySelector('[data-webio-mountpoint=\"6365735897932260417\"]')\n",
       "            .innerHTML = (\n",
       "                '<div style=\"padding: 1em; background-color: #f8d6da; border: 1px solid #f5c6cb; font-weight: bold;\">' +\n",
       "                '<p><strong>WebIO not detected.</strong></p>' +\n",
       "                '<p>Please read ' +\n",
       "                '<a href=\"https://juliagizmos.github.io/WebIO.jl/latest/troubleshooting/not-detected/\" target=\"_blank\">the troubleshooting guide</a> ' +\n",
       "                'for more information on how to resolve this issue.</p>' +\n",
       "                '<p><a href=\"https://juliagizmos.github.io/WebIO.jl/latest/troubleshooting/not-detected/\" target=\"_blank\">https://juliagizmos.github.io/WebIO.jl/latest/troubleshooting/not-detected/</a></p>' +\n",
       "                '</div>'\n",
       "            );\n",
       "        return;\n",
       "    }\n",
       "    WebIO.mount(\n",
       "        document.querySelector('[data-webio-mountpoint=\"6365735897932260417\"]'),\n",
       "        {\"props\":{\"style\":{\"align-items\":\"center\",\"display\":\"flex\",\"flex-direction\":\"column\"}},\"nodeType\":\"DOM\",\"type\":\"node\",\"instanceArgs\":{\"namespace\":\"html\",\"tag\":\"div\"},\"children\":[{\"props\":{},\"nodeType\":\"DOM\",\"type\":\"node\",\"instanceArgs\":{\"namespace\":\"html\",\"tag\":\"pre\"},\"children\":[\"Gaussian elimination for column 2 with pivot 4.777777777777778: add 1.163 * (row 2) to (row 3)\"]},{\"props\":{\"style\":{\"align-items\":\"center\",\"display\":\"flex\",\"flex-direction\":\"row\"}},\"nodeType\":\"DOM\",\"type\":\"node\",\"instanceArgs\":{\"namespace\":\"html\",\"tag\":\"div\"},\"children\":[{\"props\":{\"setInnerHtml\":\"<pre>5×5 Matrix{Float64}:\\n -9.0  -2.0     7.0    -3.0    -1.0\\n  0.0   4.778  -1.222  -6.333  -0.111\\n  0.0  -5.556  13.444   4.667  -0.778\\n  0.0   1.889   5.889  -9.667  -9.556\\n  0.0   8.111  -0.889   2.667   2.556<\\/pre>\"},\"nodeType\":\"DOM\",\"type\":\"node\",\"instanceArgs\":{\"namespace\":\"html\",\"tag\":\"div\"},\"children\":[]},{\"props\":{\"style\":{\"height\":\"0.0px\",\"width\":\"1.0em\"}},\"nodeType\":\"DOM\",\"type\":\"node\",\"instanceArgs\":{\"namespace\":\"html\",\"tag\":\"div\"},\"children\":[]},\"⟶\",{\"props\":{\"style\":{\"height\":\"0.0px\",\"width\":\"1.0em\"}},\"nodeType\":\"DOM\",\"type\":\"node\",\"instanceArgs\":{\"namespace\":\"html\",\"tag\":\"div\"},\"children\":[]},{\"props\":{\"setInnerHtml\":\"<pre>5×5 Matrix{Float64}:\\n -9.0  -2.0     7.0    -3.0    -1.0\\n  0.0   4.778  -1.222  -6.333  -0.111\\n  0.0   0.0    12.023  -2.698  -0.907\\n  0.0   1.889   5.889  -9.667  -9.556\\n  0.0   8.111  -0.889   2.667   2.556<\\/pre>\"},\"nodeType\":\"DOM\",\"type\":\"node\",\"instanceArgs\":{\"namespace\":\"html\",\"tag\":\"div\"},\"children\":[]}]}]},\n",
       "        window,\n",
       "    );\n",
       "    })()\n",
       "    </script>\n",
       "</div>\n"
      ],
      "text/plain": [
       "(div { style=Dict{Any, Any}(\"align-items\" => :center, \"display\" => \"flex\", \"flex-direction\" => \"column\") }\n",
       "  (pre\n",
       "    \"Gaussian elimination for column 2 with pivot 4.777777777777778: add 1.163 * (row 2) to (row 3)\")\n",
       "  (div { style=Dict{Any, Any}(\"align-items\" => :center, \"display\" => \"flex\", \"flex-direction\" => \"row\") }\n",
       "    [-9.0 -2.0 … -3.0 -1.0; 0.0 4.778 … -6.333 -0.111; … ; 0.0 1.889 … -9.667 -9.556; 0.0 8.111 … 2.667 2.556]\n",
       "    (div { style=Dict{String, Measures.Length{U, Float64} where U}(\"height\" => 0.0px, \"width\" => 1.0em) })\n",
       "    \"⟶\"\n",
       "    (div { style=Dict{String, Measures.Length{U, Float64} where U}(\"height\" => 0.0px, \"width\" => 1.0em) })\n",
       "    [-9.0 -2.0 … -3.0 -1.0; 0.0 4.778 … -6.333 -0.111; … ; 0.0 1.889 … -9.667 -9.556; 0.0 8.111 … 2.667 2.556]))"
      ]
     },
     "metadata": {
      "application/vnd.webio.node+json": {
       "kernelId": "a047c49e-3ec7-4b3d-bfa2-571929d498c5"
      }
     },
     "output_type": "display_data"
    },
    {
     "data": {
      "application/vnd.webio.node+json": {
       "children": [
        {
         "children": [
          "Gaussian elimination for column 2 with pivot 4.777777777777778: add -0.395 * (row 2) to (row 4)"
         ],
         "instanceArgs": {
          "namespace": "html",
          "tag": "pre"
         },
         "nodeType": "DOM",
         "props": {},
         "type": "node"
        },
        {
         "children": [
          {
           "children": [],
           "instanceArgs": {
            "namespace": "html",
            "tag": "div"
           },
           "nodeType": "DOM",
           "props": {
            "setInnerHtml": "<pre>5×5 Matrix{Float64}:\n -9.0  -2.0     7.0    -3.0    -1.0\n  0.0   4.778  -1.222  -6.333  -0.111\n  0.0   0.0    12.023  -2.698  -0.907\n  0.0   1.889   5.889  -9.667  -9.556\n  0.0   8.111  -0.889   2.667   2.556</pre>"
           },
           "type": "node"
          },
          {
           "children": [],
           "instanceArgs": {
            "namespace": "html",
            "tag": "div"
           },
           "nodeType": "DOM",
           "props": {
            "style": {
             "height": "0.0px",
             "width": "1.0em"
            }
           },
           "type": "node"
          },
          "⟶",
          {
           "children": [],
           "instanceArgs": {
            "namespace": "html",
            "tag": "div"
           },
           "nodeType": "DOM",
           "props": {
            "style": {
             "height": "0.0px",
             "width": "1.0em"
            }
           },
           "type": "node"
          },
          {
           "children": [],
           "instanceArgs": {
            "namespace": "html",
            "tag": "div"
           },
           "nodeType": "DOM",
           "props": {
            "setInnerHtml": "<pre>5×5 Matrix{Float64}:\n -9.0  -2.0     7.0    -3.0    -1.0\n  0.0   4.778  -1.222  -6.333  -0.111\n  0.0   0.0    12.023  -2.698  -0.907\n  0.0   0.0     6.372  -7.163  -9.512\n  0.0   8.111  -0.889   2.667   2.556</pre>"
           },
           "type": "node"
          }
         ],
         "instanceArgs": {
          "namespace": "html",
          "tag": "div"
         },
         "nodeType": "DOM",
         "props": {
          "style": {
           "align-items": "center",
           "display": "flex",
           "flex-direction": "row"
          }
         },
         "type": "node"
        }
       ],
       "instanceArgs": {
        "namespace": "html",
        "tag": "div"
       },
       "nodeType": "DOM",
       "props": {
        "style": {
         "align-items": "center",
         "display": "flex",
         "flex-direction": "column"
        }
       },
       "type": "node"
      },
      "text/html": [
       "<div\n",
       "    class=\"webio-mountpoint\"\n",
       "    data-webio-mountpoint=\"1748712903881692497\"\n",
       ">\n",
       "    <script>\n",
       "    (function(){\n",
       "    // Some integrations (namely, IJulia/Jupyter) use an alternate render pathway than\n",
       "    // just putting the html on the page. If WebIO isn't defined, then it's pretty likely\n",
       "    // that we're in one of those situations and the integration just isn't installed\n",
       "    // correctly.\n",
       "    if (typeof window.WebIO === \"undefined\") {\n",
       "        document\n",
       "            .querySelector('[data-webio-mountpoint=\"1748712903881692497\"]')\n",
       "            .innerHTML = (\n",
       "                '<div style=\"padding: 1em; background-color: #f8d6da; border: 1px solid #f5c6cb; font-weight: bold;\">' +\n",
       "                '<p><strong>WebIO not detected.</strong></p>' +\n",
       "                '<p>Please read ' +\n",
       "                '<a href=\"https://juliagizmos.github.io/WebIO.jl/latest/troubleshooting/not-detected/\" target=\"_blank\">the troubleshooting guide</a> ' +\n",
       "                'for more information on how to resolve this issue.</p>' +\n",
       "                '<p><a href=\"https://juliagizmos.github.io/WebIO.jl/latest/troubleshooting/not-detected/\" target=\"_blank\">https://juliagizmos.github.io/WebIO.jl/latest/troubleshooting/not-detected/</a></p>' +\n",
       "                '</div>'\n",
       "            );\n",
       "        return;\n",
       "    }\n",
       "    WebIO.mount(\n",
       "        document.querySelector('[data-webio-mountpoint=\"1748712903881692497\"]'),\n",
       "        {\"props\":{\"style\":{\"align-items\":\"center\",\"display\":\"flex\",\"flex-direction\":\"column\"}},\"nodeType\":\"DOM\",\"type\":\"node\",\"instanceArgs\":{\"namespace\":\"html\",\"tag\":\"div\"},\"children\":[{\"props\":{},\"nodeType\":\"DOM\",\"type\":\"node\",\"instanceArgs\":{\"namespace\":\"html\",\"tag\":\"pre\"},\"children\":[\"Gaussian elimination for column 2 with pivot 4.777777777777778: add -0.395 * (row 2) to (row 4)\"]},{\"props\":{\"style\":{\"align-items\":\"center\",\"display\":\"flex\",\"flex-direction\":\"row\"}},\"nodeType\":\"DOM\",\"type\":\"node\",\"instanceArgs\":{\"namespace\":\"html\",\"tag\":\"div\"},\"children\":[{\"props\":{\"setInnerHtml\":\"<pre>5×5 Matrix{Float64}:\\n -9.0  -2.0     7.0    -3.0    -1.0\\n  0.0   4.778  -1.222  -6.333  -0.111\\n  0.0   0.0    12.023  -2.698  -0.907\\n  0.0   1.889   5.889  -9.667  -9.556\\n  0.0   8.111  -0.889   2.667   2.556<\\/pre>\"},\"nodeType\":\"DOM\",\"type\":\"node\",\"instanceArgs\":{\"namespace\":\"html\",\"tag\":\"div\"},\"children\":[]},{\"props\":{\"style\":{\"height\":\"0.0px\",\"width\":\"1.0em\"}},\"nodeType\":\"DOM\",\"type\":\"node\",\"instanceArgs\":{\"namespace\":\"html\",\"tag\":\"div\"},\"children\":[]},\"⟶\",{\"props\":{\"style\":{\"height\":\"0.0px\",\"width\":\"1.0em\"}},\"nodeType\":\"DOM\",\"type\":\"node\",\"instanceArgs\":{\"namespace\":\"html\",\"tag\":\"div\"},\"children\":[]},{\"props\":{\"setInnerHtml\":\"<pre>5×5 Matrix{Float64}:\\n -9.0  -2.0     7.0    -3.0    -1.0\\n  0.0   4.778  -1.222  -6.333  -0.111\\n  0.0   0.0    12.023  -2.698  -0.907\\n  0.0   0.0     6.372  -7.163  -9.512\\n  0.0   8.111  -0.889   2.667   2.556<\\/pre>\"},\"nodeType\":\"DOM\",\"type\":\"node\",\"instanceArgs\":{\"namespace\":\"html\",\"tag\":\"div\"},\"children\":[]}]}]},\n",
       "        window,\n",
       "    );\n",
       "    })()\n",
       "    </script>\n",
       "</div>\n"
      ],
      "text/plain": [
       "(div { style=Dict{Any, Any}(\"align-items\" => :center, \"display\" => \"flex\", \"flex-direction\" => \"column\") }\n",
       "  (pre\n",
       "    \"Gaussian elimination for column 2 with pivot 4.777777777777778: add -0.395 * (row 2) to (row 4)\")\n",
       "  (div { style=Dict{Any, Any}(\"align-items\" => :center, \"display\" => \"flex\", \"flex-direction\" => \"row\") }\n",
       "    [-9.0 -2.0 … -3.0 -1.0; 0.0 4.778 … -6.333 -0.111; … ; 0.0 1.889 … -9.667 -9.556; 0.0 8.111 … 2.667 2.556]\n",
       "    (div { style=Dict{String, Measures.Length{U, Float64} where U}(\"height\" => 0.0px, \"width\" => 1.0em) })\n",
       "    \"⟶\"\n",
       "    (div { style=Dict{String, Measures.Length{U, Float64} where U}(\"height\" => 0.0px, \"width\" => 1.0em) })\n",
       "    [-9.0 -2.0 … -3.0 -1.0; 0.0 4.778 … -6.333 -0.111; … ; 0.0 0.0 … -7.163 -9.512; 0.0 8.111 … 2.667 2.556]))"
      ]
     },
     "metadata": {
      "application/vnd.webio.node+json": {
       "kernelId": "a047c49e-3ec7-4b3d-bfa2-571929d498c5"
      }
     },
     "output_type": "display_data"
    },
    {
     "data": {
      "application/vnd.webio.node+json": {
       "children": [
        {
         "children": [
          "Gaussian elimination for column 2 with pivot 4.777777777777778: add -1.698 * (row 2) to (row 5)"
         ],
         "instanceArgs": {
          "namespace": "html",
          "tag": "pre"
         },
         "nodeType": "DOM",
         "props": {},
         "type": "node"
        },
        {
         "children": [
          {
           "children": [],
           "instanceArgs": {
            "namespace": "html",
            "tag": "div"
           },
           "nodeType": "DOM",
           "props": {
            "setInnerHtml": "<pre>5×5 Matrix{Float64}:\n -9.0  -2.0     7.0    -3.0    -1.0\n  0.0   4.778  -1.222  -6.333  -0.111\n  0.0   0.0    12.023  -2.698  -0.907\n  0.0   0.0     6.372  -7.163  -9.512\n  0.0   8.111  -0.889   2.667   2.556</pre>"
           },
           "type": "node"
          },
          {
           "children": [],
           "instanceArgs": {
            "namespace": "html",
            "tag": "div"
           },
           "nodeType": "DOM",
           "props": {
            "style": {
             "height": "0.0px",
             "width": "1.0em"
            }
           },
           "type": "node"
          },
          "⟶",
          {
           "children": [],
           "instanceArgs": {
            "namespace": "html",
            "tag": "div"
           },
           "nodeType": "DOM",
           "props": {
            "style": {
             "height": "0.0px",
             "width": "1.0em"
            }
           },
           "type": "node"
          },
          {
           "children": [],
           "instanceArgs": {
            "namespace": "html",
            "tag": "div"
           },
           "nodeType": "DOM",
           "props": {
            "setInnerHtml": "<pre>5×5 Matrix{Float64}:\n -9.0  -2.0     7.0    -3.0    -1.0\n  0.0   4.778  -1.222  -6.333  -0.111\n  0.0   0.0    12.023  -2.698  -0.907\n  0.0   0.0     6.372  -7.163  -9.512\n  0.0   0.0     1.186  13.419   2.744</pre>"
           },
           "type": "node"
          }
         ],
         "instanceArgs": {
          "namespace": "html",
          "tag": "div"
         },
         "nodeType": "DOM",
         "props": {
          "style": {
           "align-items": "center",
           "display": "flex",
           "flex-direction": "row"
          }
         },
         "type": "node"
        }
       ],
       "instanceArgs": {
        "namespace": "html",
        "tag": "div"
       },
       "nodeType": "DOM",
       "props": {
        "style": {
         "align-items": "center",
         "display": "flex",
         "flex-direction": "column"
        }
       },
       "type": "node"
      },
      "text/html": [
       "<div\n",
       "    class=\"webio-mountpoint\"\n",
       "    data-webio-mountpoint=\"6817647829484228729\"\n",
       ">\n",
       "    <script>\n",
       "    (function(){\n",
       "    // Some integrations (namely, IJulia/Jupyter) use an alternate render pathway than\n",
       "    // just putting the html on the page. If WebIO isn't defined, then it's pretty likely\n",
       "    // that we're in one of those situations and the integration just isn't installed\n",
       "    // correctly.\n",
       "    if (typeof window.WebIO === \"undefined\") {\n",
       "        document\n",
       "            .querySelector('[data-webio-mountpoint=\"6817647829484228729\"]')\n",
       "            .innerHTML = (\n",
       "                '<div style=\"padding: 1em; background-color: #f8d6da; border: 1px solid #f5c6cb; font-weight: bold;\">' +\n",
       "                '<p><strong>WebIO not detected.</strong></p>' +\n",
       "                '<p>Please read ' +\n",
       "                '<a href=\"https://juliagizmos.github.io/WebIO.jl/latest/troubleshooting/not-detected/\" target=\"_blank\">the troubleshooting guide</a> ' +\n",
       "                'for more information on how to resolve this issue.</p>' +\n",
       "                '<p><a href=\"https://juliagizmos.github.io/WebIO.jl/latest/troubleshooting/not-detected/\" target=\"_blank\">https://juliagizmos.github.io/WebIO.jl/latest/troubleshooting/not-detected/</a></p>' +\n",
       "                '</div>'\n",
       "            );\n",
       "        return;\n",
       "    }\n",
       "    WebIO.mount(\n",
       "        document.querySelector('[data-webio-mountpoint=\"6817647829484228729\"]'),\n",
       "        {\"props\":{\"style\":{\"align-items\":\"center\",\"display\":\"flex\",\"flex-direction\":\"column\"}},\"nodeType\":\"DOM\",\"type\":\"node\",\"instanceArgs\":{\"namespace\":\"html\",\"tag\":\"div\"},\"children\":[{\"props\":{},\"nodeType\":\"DOM\",\"type\":\"node\",\"instanceArgs\":{\"namespace\":\"html\",\"tag\":\"pre\"},\"children\":[\"Gaussian elimination for column 2 with pivot 4.777777777777778: add -1.698 * (row 2) to (row 5)\"]},{\"props\":{\"style\":{\"align-items\":\"center\",\"display\":\"flex\",\"flex-direction\":\"row\"}},\"nodeType\":\"DOM\",\"type\":\"node\",\"instanceArgs\":{\"namespace\":\"html\",\"tag\":\"div\"},\"children\":[{\"props\":{\"setInnerHtml\":\"<pre>5×5 Matrix{Float64}:\\n -9.0  -2.0     7.0    -3.0    -1.0\\n  0.0   4.778  -1.222  -6.333  -0.111\\n  0.0   0.0    12.023  -2.698  -0.907\\n  0.0   0.0     6.372  -7.163  -9.512\\n  0.0   8.111  -0.889   2.667   2.556<\\/pre>\"},\"nodeType\":\"DOM\",\"type\":\"node\",\"instanceArgs\":{\"namespace\":\"html\",\"tag\":\"div\"},\"children\":[]},{\"props\":{\"style\":{\"height\":\"0.0px\",\"width\":\"1.0em\"}},\"nodeType\":\"DOM\",\"type\":\"node\",\"instanceArgs\":{\"namespace\":\"html\",\"tag\":\"div\"},\"children\":[]},\"⟶\",{\"props\":{\"style\":{\"height\":\"0.0px\",\"width\":\"1.0em\"}},\"nodeType\":\"DOM\",\"type\":\"node\",\"instanceArgs\":{\"namespace\":\"html\",\"tag\":\"div\"},\"children\":[]},{\"props\":{\"setInnerHtml\":\"<pre>5×5 Matrix{Float64}:\\n -9.0  -2.0     7.0    -3.0    -1.0\\n  0.0   4.778  -1.222  -6.333  -0.111\\n  0.0   0.0    12.023  -2.698  -0.907\\n  0.0   0.0     6.372  -7.163  -9.512\\n  0.0   0.0     1.186  13.419   2.744<\\/pre>\"},\"nodeType\":\"DOM\",\"type\":\"node\",\"instanceArgs\":{\"namespace\":\"html\",\"tag\":\"div\"},\"children\":[]}]}]},\n",
       "        window,\n",
       "    );\n",
       "    })()\n",
       "    </script>\n",
       "</div>\n"
      ],
      "text/plain": [
       "(div { style=Dict{Any, Any}(\"align-items\" => :center, \"display\" => \"flex\", \"flex-direction\" => \"column\") }\n",
       "  (pre\n",
       "    \"Gaussian elimination for column 2 with pivot 4.777777777777778: add -1.698 * (row 2) to (row 5)\")\n",
       "  (div { style=Dict{Any, Any}(\"align-items\" => :center, \"display\" => \"flex\", \"flex-direction\" => \"row\") }\n",
       "    [-9.0 -2.0 … -3.0 -1.0; 0.0 4.778 … -6.333 -0.111; … ; 0.0 0.0 … -7.163 -9.512; 0.0 8.111 … 2.667 2.556]\n",
       "    (div { style=Dict{String, Measures.Length{U, Float64} where U}(\"height\" => 0.0px, \"width\" => 1.0em) })\n",
       "    \"⟶\"\n",
       "    (div { style=Dict{String, Measures.Length{U, Float64} where U}(\"height\" => 0.0px, \"width\" => 1.0em) })\n",
       "    [-9.0 -2.0 … -3.0 -1.0; 0.0 4.778 … -6.333 -0.111; … ; 0.0 0.0 … -7.163 -9.512; 0.0 0.0 … 13.419 2.744]))"
      ]
     },
     "metadata": {
      "application/vnd.webio.node+json": {
       "kernelId": "a047c49e-3ec7-4b3d-bfa2-571929d498c5"
      }
     },
     "output_type": "display_data"
    },
    {
     "data": {
      "application/vnd.webio.node+json": {
       "children": [
        {
         "children": [
          "Gaussian elimination for column 3 with pivot 12.02325581395349: add -0.53 * (row 3) to (row 4)"
         ],
         "instanceArgs": {
          "namespace": "html",
          "tag": "pre"
         },
         "nodeType": "DOM",
         "props": {},
         "type": "node"
        },
        {
         "children": [
          {
           "children": [],
           "instanceArgs": {
            "namespace": "html",
            "tag": "div"
           },
           "nodeType": "DOM",
           "props": {
            "setInnerHtml": "<pre>5×5 Matrix{Float64}:\n -9.0  -2.0     7.0    -3.0    -1.0\n  0.0   4.778  -1.222  -6.333  -0.111\n  0.0   0.0    12.023  -2.698  -0.907\n  0.0   0.0     6.372  -7.163  -9.512\n  0.0   0.0     1.186  13.419   2.744</pre>"
           },
           "type": "node"
          },
          {
           "children": [],
           "instanceArgs": {
            "namespace": "html",
            "tag": "div"
           },
           "nodeType": "DOM",
           "props": {
            "style": {
             "height": "0.0px",
             "width": "1.0em"
            }
           },
           "type": "node"
          },
          "⟶",
          {
           "children": [],
           "instanceArgs": {
            "namespace": "html",
            "tag": "div"
           },
           "nodeType": "DOM",
           "props": {
            "style": {
             "height": "0.0px",
             "width": "1.0em"
            }
           },
           "type": "node"
          },
          {
           "children": [],
           "instanceArgs": {
            "namespace": "html",
            "tag": "div"
           },
           "nodeType": "DOM",
           "props": {
            "setInnerHtml": "<pre>5×5 Matrix{Float64}:\n -9.0  -2.0     7.0    -3.0    -1.0\n  0.0   4.778  -1.222  -6.333  -0.111\n  0.0   0.0    12.023  -2.698  -0.907\n  0.0   0.0    -0.0    -5.733  -9.031\n  0.0   0.0     1.186  13.419   2.744</pre>"
           },
           "type": "node"
          }
         ],
         "instanceArgs": {
          "namespace": "html",
          "tag": "div"
         },
         "nodeType": "DOM",
         "props": {
          "style": {
           "align-items": "center",
           "display": "flex",
           "flex-direction": "row"
          }
         },
         "type": "node"
        }
       ],
       "instanceArgs": {
        "namespace": "html",
        "tag": "div"
       },
       "nodeType": "DOM",
       "props": {
        "style": {
         "align-items": "center",
         "display": "flex",
         "flex-direction": "column"
        }
       },
       "type": "node"
      },
      "text/html": [
       "<div\n",
       "    class=\"webio-mountpoint\"\n",
       "    data-webio-mountpoint=\"7526967692663342354\"\n",
       ">\n",
       "    <script>\n",
       "    (function(){\n",
       "    // Some integrations (namely, IJulia/Jupyter) use an alternate render pathway than\n",
       "    // just putting the html on the page. If WebIO isn't defined, then it's pretty likely\n",
       "    // that we're in one of those situations and the integration just isn't installed\n",
       "    // correctly.\n",
       "    if (typeof window.WebIO === \"undefined\") {\n",
       "        document\n",
       "            .querySelector('[data-webio-mountpoint=\"7526967692663342354\"]')\n",
       "            .innerHTML = (\n",
       "                '<div style=\"padding: 1em; background-color: #f8d6da; border: 1px solid #f5c6cb; font-weight: bold;\">' +\n",
       "                '<p><strong>WebIO not detected.</strong></p>' +\n",
       "                '<p>Please read ' +\n",
       "                '<a href=\"https://juliagizmos.github.io/WebIO.jl/latest/troubleshooting/not-detected/\" target=\"_blank\">the troubleshooting guide</a> ' +\n",
       "                'for more information on how to resolve this issue.</p>' +\n",
       "                '<p><a href=\"https://juliagizmos.github.io/WebIO.jl/latest/troubleshooting/not-detected/\" target=\"_blank\">https://juliagizmos.github.io/WebIO.jl/latest/troubleshooting/not-detected/</a></p>' +\n",
       "                '</div>'\n",
       "            );\n",
       "        return;\n",
       "    }\n",
       "    WebIO.mount(\n",
       "        document.querySelector('[data-webio-mountpoint=\"7526967692663342354\"]'),\n",
       "        {\"props\":{\"style\":{\"align-items\":\"center\",\"display\":\"flex\",\"flex-direction\":\"column\"}},\"nodeType\":\"DOM\",\"type\":\"node\",\"instanceArgs\":{\"namespace\":\"html\",\"tag\":\"div\"},\"children\":[{\"props\":{},\"nodeType\":\"DOM\",\"type\":\"node\",\"instanceArgs\":{\"namespace\":\"html\",\"tag\":\"pre\"},\"children\":[\"Gaussian elimination for column 3 with pivot 12.02325581395349: add -0.53 * (row 3) to (row 4)\"]},{\"props\":{\"style\":{\"align-items\":\"center\",\"display\":\"flex\",\"flex-direction\":\"row\"}},\"nodeType\":\"DOM\",\"type\":\"node\",\"instanceArgs\":{\"namespace\":\"html\",\"tag\":\"div\"},\"children\":[{\"props\":{\"setInnerHtml\":\"<pre>5×5 Matrix{Float64}:\\n -9.0  -2.0     7.0    -3.0    -1.0\\n  0.0   4.778  -1.222  -6.333  -0.111\\n  0.0   0.0    12.023  -2.698  -0.907\\n  0.0   0.0     6.372  -7.163  -9.512\\n  0.0   0.0     1.186  13.419   2.744<\\/pre>\"},\"nodeType\":\"DOM\",\"type\":\"node\",\"instanceArgs\":{\"namespace\":\"html\",\"tag\":\"div\"},\"children\":[]},{\"props\":{\"style\":{\"height\":\"0.0px\",\"width\":\"1.0em\"}},\"nodeType\":\"DOM\",\"type\":\"node\",\"instanceArgs\":{\"namespace\":\"html\",\"tag\":\"div\"},\"children\":[]},\"⟶\",{\"props\":{\"style\":{\"height\":\"0.0px\",\"width\":\"1.0em\"}},\"nodeType\":\"DOM\",\"type\":\"node\",\"instanceArgs\":{\"namespace\":\"html\",\"tag\":\"div\"},\"children\":[]},{\"props\":{\"setInnerHtml\":\"<pre>5×5 Matrix{Float64}:\\n -9.0  -2.0     7.0    -3.0    -1.0\\n  0.0   4.778  -1.222  -6.333  -0.111\\n  0.0   0.0    12.023  -2.698  -0.907\\n  0.0   0.0    -0.0    -5.733  -9.031\\n  0.0   0.0     1.186  13.419   2.744<\\/pre>\"},\"nodeType\":\"DOM\",\"type\":\"node\",\"instanceArgs\":{\"namespace\":\"html\",\"tag\":\"div\"},\"children\":[]}]}]},\n",
       "        window,\n",
       "    );\n",
       "    })()\n",
       "    </script>\n",
       "</div>\n"
      ],
      "text/plain": [
       "(div { style=Dict{Any, Any}(\"align-items\" => :center, \"display\" => \"flex\", \"flex-direction\" => \"column\") }\n",
       "  (pre\n",
       "    \"Gaussian elimination for column 3 with pivot 12.02325581395349: add -0.53 * (row 3) to (row 4)\")\n",
       "  (div { style=Dict{Any, Any}(\"align-items\" => :center, \"display\" => \"flex\", \"flex-direction\" => \"row\") }\n",
       "    [-9.0 -2.0 … -3.0 -1.0; 0.0 4.778 … -6.333 -0.111; … ; 0.0 0.0 … -7.163 -9.512; 0.0 0.0 … 13.419 2.744]\n",
       "    (div { style=Dict{String, Measures.Length{U, Float64} where U}(\"height\" => 0.0px, \"width\" => 1.0em) })\n",
       "    \"⟶\"\n",
       "    (div { style=Dict{String, Measures.Length{U, Float64} where U}(\"height\" => 0.0px, \"width\" => 1.0em) })\n",
       "    [-9.0 -2.0 … -3.0 -1.0; 0.0 4.778 … -6.333 -0.111; … ; 0.0 0.0 … -5.733 -9.031; 0.0 0.0 … 13.419 2.744]))"
      ]
     },
     "metadata": {
      "application/vnd.webio.node+json": {
       "kernelId": "a047c49e-3ec7-4b3d-bfa2-571929d498c5"
      }
     },
     "output_type": "display_data"
    },
    {
     "data": {
      "application/vnd.webio.node+json": {
       "children": [
        {
         "children": [
          "Gaussian elimination for column 3 with pivot 12.02325581395349: add -0.099 * (row 3) to (row 5)"
         ],
         "instanceArgs": {
          "namespace": "html",
          "tag": "pre"
         },
         "nodeType": "DOM",
         "props": {},
         "type": "node"
        },
        {
         "children": [
          {
           "children": [],
           "instanceArgs": {
            "namespace": "html",
            "tag": "div"
           },
           "nodeType": "DOM",
           "props": {
            "setInnerHtml": "<pre>5×5 Matrix{Float64}:\n -9.0  -2.0     7.0    -3.0    -1.0\n  0.0   4.778  -1.222  -6.333  -0.111\n  0.0   0.0    12.023  -2.698  -0.907\n  0.0   0.0    -0.0    -5.733  -9.031\n  0.0   0.0     1.186  13.419   2.744</pre>"
           },
           "type": "node"
          },
          {
           "children": [],
           "instanceArgs": {
            "namespace": "html",
            "tag": "div"
           },
           "nodeType": "DOM",
           "props": {
            "style": {
             "height": "0.0px",
             "width": "1.0em"
            }
           },
           "type": "node"
          },
          "⟶",
          {
           "children": [],
           "instanceArgs": {
            "namespace": "html",
            "tag": "div"
           },
           "nodeType": "DOM",
           "props": {
            "style": {
             "height": "0.0px",
             "width": "1.0em"
            }
           },
           "type": "node"
          },
          {
           "children": [],
           "instanceArgs": {
            "namespace": "html",
            "tag": "div"
           },
           "nodeType": "DOM",
           "props": {
            "setInnerHtml": "<pre>5×5 Matrix{Float64}:\n -9.0  -2.0     7.0    -3.0    -1.0\n  0.0   4.778  -1.222  -6.333  -0.111\n  0.0   0.0    12.023  -2.698  -0.907\n  0.0   0.0    -0.0    -5.733  -9.031\n  0.0   0.0     0.0    13.685   2.834</pre>"
           },
           "type": "node"
          }
         ],
         "instanceArgs": {
          "namespace": "html",
          "tag": "div"
         },
         "nodeType": "DOM",
         "props": {
          "style": {
           "align-items": "center",
           "display": "flex",
           "flex-direction": "row"
          }
         },
         "type": "node"
        }
       ],
       "instanceArgs": {
        "namespace": "html",
        "tag": "div"
       },
       "nodeType": "DOM",
       "props": {
        "style": {
         "align-items": "center",
         "display": "flex",
         "flex-direction": "column"
        }
       },
       "type": "node"
      },
      "text/html": [
       "<div\n",
       "    class=\"webio-mountpoint\"\n",
       "    data-webio-mountpoint=\"6125580615072021070\"\n",
       ">\n",
       "    <script>\n",
       "    (function(){\n",
       "    // Some integrations (namely, IJulia/Jupyter) use an alternate render pathway than\n",
       "    // just putting the html on the page. If WebIO isn't defined, then it's pretty likely\n",
       "    // that we're in one of those situations and the integration just isn't installed\n",
       "    // correctly.\n",
       "    if (typeof window.WebIO === \"undefined\") {\n",
       "        document\n",
       "            .querySelector('[data-webio-mountpoint=\"6125580615072021070\"]')\n",
       "            .innerHTML = (\n",
       "                '<div style=\"padding: 1em; background-color: #f8d6da; border: 1px solid #f5c6cb; font-weight: bold;\">' +\n",
       "                '<p><strong>WebIO not detected.</strong></p>' +\n",
       "                '<p>Please read ' +\n",
       "                '<a href=\"https://juliagizmos.github.io/WebIO.jl/latest/troubleshooting/not-detected/\" target=\"_blank\">the troubleshooting guide</a> ' +\n",
       "                'for more information on how to resolve this issue.</p>' +\n",
       "                '<p><a href=\"https://juliagizmos.github.io/WebIO.jl/latest/troubleshooting/not-detected/\" target=\"_blank\">https://juliagizmos.github.io/WebIO.jl/latest/troubleshooting/not-detected/</a></p>' +\n",
       "                '</div>'\n",
       "            );\n",
       "        return;\n",
       "    }\n",
       "    WebIO.mount(\n",
       "        document.querySelector('[data-webio-mountpoint=\"6125580615072021070\"]'),\n",
       "        {\"props\":{\"style\":{\"align-items\":\"center\",\"display\":\"flex\",\"flex-direction\":\"column\"}},\"nodeType\":\"DOM\",\"type\":\"node\",\"instanceArgs\":{\"namespace\":\"html\",\"tag\":\"div\"},\"children\":[{\"props\":{},\"nodeType\":\"DOM\",\"type\":\"node\",\"instanceArgs\":{\"namespace\":\"html\",\"tag\":\"pre\"},\"children\":[\"Gaussian elimination for column 3 with pivot 12.02325581395349: add -0.099 * (row 3) to (row 5)\"]},{\"props\":{\"style\":{\"align-items\":\"center\",\"display\":\"flex\",\"flex-direction\":\"row\"}},\"nodeType\":\"DOM\",\"type\":\"node\",\"instanceArgs\":{\"namespace\":\"html\",\"tag\":\"div\"},\"children\":[{\"props\":{\"setInnerHtml\":\"<pre>5×5 Matrix{Float64}:\\n -9.0  -2.0     7.0    -3.0    -1.0\\n  0.0   4.778  -1.222  -6.333  -0.111\\n  0.0   0.0    12.023  -2.698  -0.907\\n  0.0   0.0    -0.0    -5.733  -9.031\\n  0.0   0.0     1.186  13.419   2.744<\\/pre>\"},\"nodeType\":\"DOM\",\"type\":\"node\",\"instanceArgs\":{\"namespace\":\"html\",\"tag\":\"div\"},\"children\":[]},{\"props\":{\"style\":{\"height\":\"0.0px\",\"width\":\"1.0em\"}},\"nodeType\":\"DOM\",\"type\":\"node\",\"instanceArgs\":{\"namespace\":\"html\",\"tag\":\"div\"},\"children\":[]},\"⟶\",{\"props\":{\"style\":{\"height\":\"0.0px\",\"width\":\"1.0em\"}},\"nodeType\":\"DOM\",\"type\":\"node\",\"instanceArgs\":{\"namespace\":\"html\",\"tag\":\"div\"},\"children\":[]},{\"props\":{\"setInnerHtml\":\"<pre>5×5 Matrix{Float64}:\\n -9.0  -2.0     7.0    -3.0    -1.0\\n  0.0   4.778  -1.222  -6.333  -0.111\\n  0.0   0.0    12.023  -2.698  -0.907\\n  0.0   0.0    -0.0    -5.733  -9.031\\n  0.0   0.0     0.0    13.685   2.834<\\/pre>\"},\"nodeType\":\"DOM\",\"type\":\"node\",\"instanceArgs\":{\"namespace\":\"html\",\"tag\":\"div\"},\"children\":[]}]}]},\n",
       "        window,\n",
       "    );\n",
       "    })()\n",
       "    </script>\n",
       "</div>\n"
      ],
      "text/plain": [
       "(div { style=Dict{Any, Any}(\"align-items\" => :center, \"display\" => \"flex\", \"flex-direction\" => \"column\") }\n",
       "  (pre\n",
       "    \"Gaussian elimination for column 3 with pivot 12.02325581395349: add -0.099 * (row 3) to (row 5)\")\n",
       "  (div { style=Dict{Any, Any}(\"align-items\" => :center, \"display\" => \"flex\", \"flex-direction\" => \"row\") }\n",
       "    [-9.0 -2.0 … -3.0 -1.0; 0.0 4.778 … -6.333 -0.111; … ; 0.0 0.0 … -5.733 -9.031; 0.0 0.0 … 13.419 2.744]\n",
       "    (div { style=Dict{String, Measures.Length{U, Float64} where U}(\"height\" => 0.0px, \"width\" => 1.0em) })\n",
       "    \"⟶\"\n",
       "    (div { style=Dict{String, Measures.Length{U, Float64} where U}(\"height\" => 0.0px, \"width\" => 1.0em) })\n",
       "    [-9.0 -2.0 … -3.0 -1.0; 0.0 4.778 … -6.333 -0.111; … ; 0.0 0.0 … -5.733 -9.031; 0.0 0.0 … 13.685 2.834]))"
      ]
     },
     "metadata": {
      "application/vnd.webio.node+json": {
       "kernelId": "a047c49e-3ec7-4b3d-bfa2-571929d498c5"
      }
     },
     "output_type": "display_data"
    },
    {
     "data": {
      "application/vnd.webio.node+json": {
       "children": [
        {
         "children": [
          "Gaussian elimination for column 4 with pivot -5.7330754352030935: add 2.387 * (row 4) to (row 5)"
         ],
         "instanceArgs": {
          "namespace": "html",
          "tag": "pre"
         },
         "nodeType": "DOM",
         "props": {},
         "type": "node"
        },
        {
         "children": [
          {
           "children": [],
           "instanceArgs": {
            "namespace": "html",
            "tag": "div"
           },
           "nodeType": "DOM",
           "props": {
            "setInnerHtml": "<pre>5×5 Matrix{Float64}:\n -9.0  -2.0     7.0    -3.0    -1.0\n  0.0   4.778  -1.222  -6.333  -0.111\n  0.0   0.0    12.023  -2.698  -0.907\n  0.0   0.0    -0.0    -5.733  -9.031\n  0.0   0.0     0.0    13.685   2.834</pre>"
           },
           "type": "node"
          },
          {
           "children": [],
           "instanceArgs": {
            "namespace": "html",
            "tag": "div"
           },
           "nodeType": "DOM",
           "props": {
            "style": {
             "height": "0.0px",
             "width": "1.0em"
            }
           },
           "type": "node"
          },
          "⟶",
          {
           "children": [],
           "instanceArgs": {
            "namespace": "html",
            "tag": "div"
           },
           "nodeType": "DOM",
           "props": {
            "style": {
             "height": "0.0px",
             "width": "1.0em"
            }
           },
           "type": "node"
          },
          {
           "children": [],
           "instanceArgs": {
            "namespace": "html",
            "tag": "div"
           },
           "nodeType": "DOM",
           "props": {
            "setInnerHtml": "<pre>5×5 Matrix{Float64}:\n -9.0  -2.0     7.0    -3.0     -1.0\n  0.0   4.778  -1.222  -6.333   -0.111\n  0.0   0.0    12.023  -2.698   -0.907\n  0.0   0.0    -0.0    -5.733   -9.031\n  0.0   0.0    -0.0     0.0    -18.723</pre>"
           },
           "type": "node"
          }
         ],
         "instanceArgs": {
          "namespace": "html",
          "tag": "div"
         },
         "nodeType": "DOM",
         "props": {
          "style": {
           "align-items": "center",
           "display": "flex",
           "flex-direction": "row"
          }
         },
         "type": "node"
        }
       ],
       "instanceArgs": {
        "namespace": "html",
        "tag": "div"
       },
       "nodeType": "DOM",
       "props": {
        "style": {
         "align-items": "center",
         "display": "flex",
         "flex-direction": "column"
        }
       },
       "type": "node"
      },
      "text/html": [
       "<div\n",
       "    class=\"webio-mountpoint\"\n",
       "    data-webio-mountpoint=\"14288483269350302226\"\n",
       ">\n",
       "    <script>\n",
       "    (function(){\n",
       "    // Some integrations (namely, IJulia/Jupyter) use an alternate render pathway than\n",
       "    // just putting the html on the page. If WebIO isn't defined, then it's pretty likely\n",
       "    // that we're in one of those situations and the integration just isn't installed\n",
       "    // correctly.\n",
       "    if (typeof window.WebIO === \"undefined\") {\n",
       "        document\n",
       "            .querySelector('[data-webio-mountpoint=\"14288483269350302226\"]')\n",
       "            .innerHTML = (\n",
       "                '<div style=\"padding: 1em; background-color: #f8d6da; border: 1px solid #f5c6cb; font-weight: bold;\">' +\n",
       "                '<p><strong>WebIO not detected.</strong></p>' +\n",
       "                '<p>Please read ' +\n",
       "                '<a href=\"https://juliagizmos.github.io/WebIO.jl/latest/troubleshooting/not-detected/\" target=\"_blank\">the troubleshooting guide</a> ' +\n",
       "                'for more information on how to resolve this issue.</p>' +\n",
       "                '<p><a href=\"https://juliagizmos.github.io/WebIO.jl/latest/troubleshooting/not-detected/\" target=\"_blank\">https://juliagizmos.github.io/WebIO.jl/latest/troubleshooting/not-detected/</a></p>' +\n",
       "                '</div>'\n",
       "            );\n",
       "        return;\n",
       "    }\n",
       "    WebIO.mount(\n",
       "        document.querySelector('[data-webio-mountpoint=\"14288483269350302226\"]'),\n",
       "        {\"props\":{\"style\":{\"align-items\":\"center\",\"display\":\"flex\",\"flex-direction\":\"column\"}},\"nodeType\":\"DOM\",\"type\":\"node\",\"instanceArgs\":{\"namespace\":\"html\",\"tag\":\"div\"},\"children\":[{\"props\":{},\"nodeType\":\"DOM\",\"type\":\"node\",\"instanceArgs\":{\"namespace\":\"html\",\"tag\":\"pre\"},\"children\":[\"Gaussian elimination for column 4 with pivot -5.7330754352030935: add 2.387 * (row 4) to (row 5)\"]},{\"props\":{\"style\":{\"align-items\":\"center\",\"display\":\"flex\",\"flex-direction\":\"row\"}},\"nodeType\":\"DOM\",\"type\":\"node\",\"instanceArgs\":{\"namespace\":\"html\",\"tag\":\"div\"},\"children\":[{\"props\":{\"setInnerHtml\":\"<pre>5×5 Matrix{Float64}:\\n -9.0  -2.0     7.0    -3.0    -1.0\\n  0.0   4.778  -1.222  -6.333  -0.111\\n  0.0   0.0    12.023  -2.698  -0.907\\n  0.0   0.0    -0.0    -5.733  -9.031\\n  0.0   0.0     0.0    13.685   2.834<\\/pre>\"},\"nodeType\":\"DOM\",\"type\":\"node\",\"instanceArgs\":{\"namespace\":\"html\",\"tag\":\"div\"},\"children\":[]},{\"props\":{\"style\":{\"height\":\"0.0px\",\"width\":\"1.0em\"}},\"nodeType\":\"DOM\",\"type\":\"node\",\"instanceArgs\":{\"namespace\":\"html\",\"tag\":\"div\"},\"children\":[]},\"⟶\",{\"props\":{\"style\":{\"height\":\"0.0px\",\"width\":\"1.0em\"}},\"nodeType\":\"DOM\",\"type\":\"node\",\"instanceArgs\":{\"namespace\":\"html\",\"tag\":\"div\"},\"children\":[]},{\"props\":{\"setInnerHtml\":\"<pre>5×5 Matrix{Float64}:\\n -9.0  -2.0     7.0    -3.0     -1.0\\n  0.0   4.778  -1.222  -6.333   -0.111\\n  0.0   0.0    12.023  -2.698   -0.907\\n  0.0   0.0    -0.0    -5.733   -9.031\\n  0.0   0.0    -0.0     0.0    -18.723<\\/pre>\"},\"nodeType\":\"DOM\",\"type\":\"node\",\"instanceArgs\":{\"namespace\":\"html\",\"tag\":\"div\"},\"children\":[]}]}]},\n",
       "        window,\n",
       "    );\n",
       "    })()\n",
       "    </script>\n",
       "</div>\n"
      ],
      "text/plain": [
       "(div { style=Dict{Any, Any}(\"align-items\" => :center, \"display\" => \"flex\", \"flex-direction\" => \"column\") }\n",
       "  (pre\n",
       "    \"Gaussian elimination for column 4 with pivot -5.7330754352030935: add 2.387 * (row 4) to (row 5)\")\n",
       "  (div { style=Dict{Any, Any}(\"align-items\" => :center, \"display\" => \"flex\", \"flex-direction\" => \"row\") }\n",
       "    [-9.0 -2.0 … -3.0 -1.0; 0.0 4.778 … -6.333 -0.111; … ; 0.0 0.0 … -5.733 -9.031; 0.0 0.0 … 13.685 2.834]\n",
       "    (div { style=Dict{String, Measures.Length{U, Float64} where U}(\"height\" => 0.0px, \"width\" => 1.0em) })\n",
       "    \"⟶\"\n",
       "    (div { style=Dict{String, Measures.Length{U, Float64} where U}(\"height\" => 0.0px, \"width\" => 1.0em) })\n",
       "    [-9.0 -2.0 … -3.0 -1.0; 0.0 4.778 … -6.333 -0.111; … ; 0.0 0.0 … -5.733 -9.031; 0.0 0.0 … 0.0 -18.723]))"
      ]
     },
     "metadata": {
      "application/vnd.webio.node+json": {
       "kernelId": "a047c49e-3ec7-4b3d-bfa2-571929d498c5"
      }
     },
     "output_type": "display_data"
    }
   ],
   "source": [
    "visualize_gauss(rand(-9:9,5,5))"
   ]
  },
  {
   "cell_type": "markdown",
   "metadata": {},
   "source": [
    "Of course, because we are not re-ordering the rows, this process can go horribly wrong, most obviously if a zero pivot is encountered:"
   ]
  },
  {
   "cell_type": "code",
   "execution_count": 17,
   "metadata": {},
   "outputs": [
    {
     "data": {
      "application/vnd.webio.node+json": {
       "children": [
        {
         "children": [
          "Gaussian elimination for column 1 with pivot -3.0: add 1.0 * (row 1) to (row 2)"
         ],
         "instanceArgs": {
          "namespace": "html",
          "tag": "pre"
         },
         "nodeType": "DOM",
         "props": {},
         "type": "node"
        },
        {
         "children": [
          {
           "children": [],
           "instanceArgs": {
            "namespace": "html",
            "tag": "div"
           },
           "nodeType": "DOM",
           "props": {
            "setInnerHtml": "<pre>5×5 Matrix{Int64}:\n -3   5   5   3  -7\n  3  -5   8  -8  -6\n  8   2   8   2  -8\n -6  -2   6   4  -8\n -8   4  -6  -1   8</pre>"
           },
           "type": "node"
          },
          {
           "children": [],
           "instanceArgs": {
            "namespace": "html",
            "tag": "div"
           },
           "nodeType": "DOM",
           "props": {
            "style": {
             "height": "0.0px",
             "width": "1.0em"
            }
           },
           "type": "node"
          },
          "⟶",
          {
           "children": [],
           "instanceArgs": {
            "namespace": "html",
            "tag": "div"
           },
           "nodeType": "DOM",
           "props": {
            "style": {
             "height": "0.0px",
             "width": "1.0em"
            }
           },
           "type": "node"
          },
          {
           "children": [],
           "instanceArgs": {
            "namespace": "html",
            "tag": "div"
           },
           "nodeType": "DOM",
           "props": {
            "setInnerHtml": "<pre>5×5 Matrix{Float64}:\n -3.0   5.0   5.0   3.0   -7.0\n  0.0   0.0  13.0  -5.0  -13.0\n  8.0   2.0   8.0   2.0   -8.0\n -6.0  -2.0   6.0   4.0   -8.0\n -8.0   4.0  -6.0  -1.0    8.0</pre>"
           },
           "type": "node"
          }
         ],
         "instanceArgs": {
          "namespace": "html",
          "tag": "div"
         },
         "nodeType": "DOM",
         "props": {
          "style": {
           "align-items": "center",
           "display": "flex",
           "flex-direction": "row"
          }
         },
         "type": "node"
        }
       ],
       "instanceArgs": {
        "namespace": "html",
        "tag": "div"
       },
       "nodeType": "DOM",
       "props": {
        "style": {
         "align-items": "center",
         "display": "flex",
         "flex-direction": "column"
        }
       },
       "type": "node"
      },
      "text/html": [
       "<div\n",
       "    class=\"webio-mountpoint\"\n",
       "    data-webio-mountpoint=\"14698122042787680994\"\n",
       ">\n",
       "    <script>\n",
       "    (function(){\n",
       "    // Some integrations (namely, IJulia/Jupyter) use an alternate render pathway than\n",
       "    // just putting the html on the page. If WebIO isn't defined, then it's pretty likely\n",
       "    // that we're in one of those situations and the integration just isn't installed\n",
       "    // correctly.\n",
       "    if (typeof window.WebIO === \"undefined\") {\n",
       "        document\n",
       "            .querySelector('[data-webio-mountpoint=\"14698122042787680994\"]')\n",
       "            .innerHTML = (\n",
       "                '<div style=\"padding: 1em; background-color: #f8d6da; border: 1px solid #f5c6cb; font-weight: bold;\">' +\n",
       "                '<p><strong>WebIO not detected.</strong></p>' +\n",
       "                '<p>Please read ' +\n",
       "                '<a href=\"https://juliagizmos.github.io/WebIO.jl/latest/troubleshooting/not-detected/\" target=\"_blank\">the troubleshooting guide</a> ' +\n",
       "                'for more information on how to resolve this issue.</p>' +\n",
       "                '<p><a href=\"https://juliagizmos.github.io/WebIO.jl/latest/troubleshooting/not-detected/\" target=\"_blank\">https://juliagizmos.github.io/WebIO.jl/latest/troubleshooting/not-detected/</a></p>' +\n",
       "                '</div>'\n",
       "            );\n",
       "        return;\n",
       "    }\n",
       "    WebIO.mount(\n",
       "        document.querySelector('[data-webio-mountpoint=\"14698122042787680994\"]'),\n",
       "        {\"props\":{\"style\":{\"align-items\":\"center\",\"display\":\"flex\",\"flex-direction\":\"column\"}},\"nodeType\":\"DOM\",\"type\":\"node\",\"instanceArgs\":{\"namespace\":\"html\",\"tag\":\"div\"},\"children\":[{\"props\":{},\"nodeType\":\"DOM\",\"type\":\"node\",\"instanceArgs\":{\"namespace\":\"html\",\"tag\":\"pre\"},\"children\":[\"Gaussian elimination for column 1 with pivot -3.0: add 1.0 * (row 1) to (row 2)\"]},{\"props\":{\"style\":{\"align-items\":\"center\",\"display\":\"flex\",\"flex-direction\":\"row\"}},\"nodeType\":\"DOM\",\"type\":\"node\",\"instanceArgs\":{\"namespace\":\"html\",\"tag\":\"div\"},\"children\":[{\"props\":{\"setInnerHtml\":\"<pre>5×5 Matrix{Int64}:\\n -3   5   5   3  -7\\n  3  -5   8  -8  -6\\n  8   2   8   2  -8\\n -6  -2   6   4  -8\\n -8   4  -6  -1   8<\\/pre>\"},\"nodeType\":\"DOM\",\"type\":\"node\",\"instanceArgs\":{\"namespace\":\"html\",\"tag\":\"div\"},\"children\":[]},{\"props\":{\"style\":{\"height\":\"0.0px\",\"width\":\"1.0em\"}},\"nodeType\":\"DOM\",\"type\":\"node\",\"instanceArgs\":{\"namespace\":\"html\",\"tag\":\"div\"},\"children\":[]},\"⟶\",{\"props\":{\"style\":{\"height\":\"0.0px\",\"width\":\"1.0em\"}},\"nodeType\":\"DOM\",\"type\":\"node\",\"instanceArgs\":{\"namespace\":\"html\",\"tag\":\"div\"},\"children\":[]},{\"props\":{\"setInnerHtml\":\"<pre>5×5 Matrix{Float64}:\\n -3.0   5.0   5.0   3.0   -7.0\\n  0.0   0.0  13.0  -5.0  -13.0\\n  8.0   2.0   8.0   2.0   -8.0\\n -6.0  -2.0   6.0   4.0   -8.0\\n -8.0   4.0  -6.0  -1.0    8.0<\\/pre>\"},\"nodeType\":\"DOM\",\"type\":\"node\",\"instanceArgs\":{\"namespace\":\"html\",\"tag\":\"div\"},\"children\":[]}]}]},\n",
       "        window,\n",
       "    );\n",
       "    })()\n",
       "    </script>\n",
       "</div>\n"
      ],
      "text/plain": [
       "(div { style=Dict{Any, Any}(\"align-items\" => :center, \"display\" => \"flex\", \"flex-direction\" => \"column\") }\n",
       "  (pre\n",
       "    \"Gaussian elimination for column 1 with pivot -3.0: add 1.0 * (row 1) to (row 2)\")\n",
       "  (div { style=Dict{Any, Any}(\"align-items\" => :center, \"display\" => \"flex\", \"flex-direction\" => \"row\") }\n",
       "    [-3 5 … 3 -7; 3 -5 … -8 -6; … ; -6 -2 … 4 -8; -8 4 … -1 8]\n",
       "    (div { style=Dict{String, Measures.Length{U, Float64} where U}(\"height\" => 0.0px, \"width\" => 1.0em) })\n",
       "    \"⟶\"\n",
       "    (div { style=Dict{String, Measures.Length{U, Float64} where U}(\"height\" => 0.0px, \"width\" => 1.0em) })\n",
       "    [-3.0 5.0 … 3.0 -7.0; 0.0 0.0 … -5.0 -13.0; … ; -6.0 -2.0 … 4.0 -8.0; -8.0 4.0 … -1.0 8.0]))"
      ]
     },
     "metadata": {
      "application/vnd.webio.node+json": {
       "kernelId": "a047c49e-3ec7-4b3d-bfa2-571929d498c5"
      }
     },
     "output_type": "display_data"
    },
    {
     "data": {
      "application/vnd.webio.node+json": {
       "children": [
        {
         "children": [
          "Gaussian elimination for column 1 with pivot -3.0: add 2.667 * (row 1) to (row 3)"
         ],
         "instanceArgs": {
          "namespace": "html",
          "tag": "pre"
         },
         "nodeType": "DOM",
         "props": {},
         "type": "node"
        },
        {
         "children": [
          {
           "children": [],
           "instanceArgs": {
            "namespace": "html",
            "tag": "div"
           },
           "nodeType": "DOM",
           "props": {
            "setInnerHtml": "<pre>5×5 Matrix{Float64}:\n -3.0   5.0   5.0   3.0   -7.0\n  0.0   0.0  13.0  -5.0  -13.0\n  8.0   2.0   8.0   2.0   -8.0\n -6.0  -2.0   6.0   4.0   -8.0\n -8.0   4.0  -6.0  -1.0    8.0</pre>"
           },
           "type": "node"
          },
          {
           "children": [],
           "instanceArgs": {
            "namespace": "html",
            "tag": "div"
           },
           "nodeType": "DOM",
           "props": {
            "style": {
             "height": "0.0px",
             "width": "1.0em"
            }
           },
           "type": "node"
          },
          "⟶",
          {
           "children": [],
           "instanceArgs": {
            "namespace": "html",
            "tag": "div"
           },
           "nodeType": "DOM",
           "props": {
            "style": {
             "height": "0.0px",
             "width": "1.0em"
            }
           },
           "type": "node"
          },
          {
           "children": [],
           "instanceArgs": {
            "namespace": "html",
            "tag": "div"
           },
           "nodeType": "DOM",
           "props": {
            "setInnerHtml": "<pre>5×5 Matrix{Float64}:\n -3.0   5.0     5.0     3.0   -7.0\n  0.0   0.0    13.0    -5.0  -13.0\n  0.0  15.333  21.333  10.0  -26.667\n -6.0  -2.0     6.0     4.0   -8.0\n -8.0   4.0    -6.0    -1.0    8.0</pre>"
           },
           "type": "node"
          }
         ],
         "instanceArgs": {
          "namespace": "html",
          "tag": "div"
         },
         "nodeType": "DOM",
         "props": {
          "style": {
           "align-items": "center",
           "display": "flex",
           "flex-direction": "row"
          }
         },
         "type": "node"
        }
       ],
       "instanceArgs": {
        "namespace": "html",
        "tag": "div"
       },
       "nodeType": "DOM",
       "props": {
        "style": {
         "align-items": "center",
         "display": "flex",
         "flex-direction": "column"
        }
       },
       "type": "node"
      },
      "text/html": [
       "<div\n",
       "    class=\"webio-mountpoint\"\n",
       "    data-webio-mountpoint=\"3532624083012859719\"\n",
       ">\n",
       "    <script>\n",
       "    (function(){\n",
       "    // Some integrations (namely, IJulia/Jupyter) use an alternate render pathway than\n",
       "    // just putting the html on the page. If WebIO isn't defined, then it's pretty likely\n",
       "    // that we're in one of those situations and the integration just isn't installed\n",
       "    // correctly.\n",
       "    if (typeof window.WebIO === \"undefined\") {\n",
       "        document\n",
       "            .querySelector('[data-webio-mountpoint=\"3532624083012859719\"]')\n",
       "            .innerHTML = (\n",
       "                '<div style=\"padding: 1em; background-color: #f8d6da; border: 1px solid #f5c6cb; font-weight: bold;\">' +\n",
       "                '<p><strong>WebIO not detected.</strong></p>' +\n",
       "                '<p>Please read ' +\n",
       "                '<a href=\"https://juliagizmos.github.io/WebIO.jl/latest/troubleshooting/not-detected/\" target=\"_blank\">the troubleshooting guide</a> ' +\n",
       "                'for more information on how to resolve this issue.</p>' +\n",
       "                '<p><a href=\"https://juliagizmos.github.io/WebIO.jl/latest/troubleshooting/not-detected/\" target=\"_blank\">https://juliagizmos.github.io/WebIO.jl/latest/troubleshooting/not-detected/</a></p>' +\n",
       "                '</div>'\n",
       "            );\n",
       "        return;\n",
       "    }\n",
       "    WebIO.mount(\n",
       "        document.querySelector('[data-webio-mountpoint=\"3532624083012859719\"]'),\n",
       "        {\"props\":{\"style\":{\"align-items\":\"center\",\"display\":\"flex\",\"flex-direction\":\"column\"}},\"nodeType\":\"DOM\",\"type\":\"node\",\"instanceArgs\":{\"namespace\":\"html\",\"tag\":\"div\"},\"children\":[{\"props\":{},\"nodeType\":\"DOM\",\"type\":\"node\",\"instanceArgs\":{\"namespace\":\"html\",\"tag\":\"pre\"},\"children\":[\"Gaussian elimination for column 1 with pivot -3.0: add 2.667 * (row 1) to (row 3)\"]},{\"props\":{\"style\":{\"align-items\":\"center\",\"display\":\"flex\",\"flex-direction\":\"row\"}},\"nodeType\":\"DOM\",\"type\":\"node\",\"instanceArgs\":{\"namespace\":\"html\",\"tag\":\"div\"},\"children\":[{\"props\":{\"setInnerHtml\":\"<pre>5×5 Matrix{Float64}:\\n -3.0   5.0   5.0   3.0   -7.0\\n  0.0   0.0  13.0  -5.0  -13.0\\n  8.0   2.0   8.0   2.0   -8.0\\n -6.0  -2.0   6.0   4.0   -8.0\\n -8.0   4.0  -6.0  -1.0    8.0<\\/pre>\"},\"nodeType\":\"DOM\",\"type\":\"node\",\"instanceArgs\":{\"namespace\":\"html\",\"tag\":\"div\"},\"children\":[]},{\"props\":{\"style\":{\"height\":\"0.0px\",\"width\":\"1.0em\"}},\"nodeType\":\"DOM\",\"type\":\"node\",\"instanceArgs\":{\"namespace\":\"html\",\"tag\":\"div\"},\"children\":[]},\"⟶\",{\"props\":{\"style\":{\"height\":\"0.0px\",\"width\":\"1.0em\"}},\"nodeType\":\"DOM\",\"type\":\"node\",\"instanceArgs\":{\"namespace\":\"html\",\"tag\":\"div\"},\"children\":[]},{\"props\":{\"setInnerHtml\":\"<pre>5×5 Matrix{Float64}:\\n -3.0   5.0     5.0     3.0   -7.0\\n  0.0   0.0    13.0    -5.0  -13.0\\n  0.0  15.333  21.333  10.0  -26.667\\n -6.0  -2.0     6.0     4.0   -8.0\\n -8.0   4.0    -6.0    -1.0    8.0<\\/pre>\"},\"nodeType\":\"DOM\",\"type\":\"node\",\"instanceArgs\":{\"namespace\":\"html\",\"tag\":\"div\"},\"children\":[]}]}]},\n",
       "        window,\n",
       "    );\n",
       "    })()\n",
       "    </script>\n",
       "</div>\n"
      ],
      "text/plain": [
       "(div { style=Dict{Any, Any}(\"align-items\" => :center, \"display\" => \"flex\", \"flex-direction\" => \"column\") }\n",
       "  (pre\n",
       "    \"Gaussian elimination for column 1 with pivot -3.0: add 2.667 * (row 1) to (row 3)\")\n",
       "  (div { style=Dict{Any, Any}(\"align-items\" => :center, \"display\" => \"flex\", \"flex-direction\" => \"row\") }\n",
       "    [-3.0 5.0 … 3.0 -7.0; 0.0 0.0 … -5.0 -13.0; … ; -6.0 -2.0 … 4.0 -8.0; -8.0 4.0 … -1.0 8.0]\n",
       "    (div { style=Dict{String, Measures.Length{U, Float64} where U}(\"height\" => 0.0px, \"width\" => 1.0em) })\n",
       "    \"⟶\"\n",
       "    (div { style=Dict{String, Measures.Length{U, Float64} where U}(\"height\" => 0.0px, \"width\" => 1.0em) })\n",
       "    [-3.0 5.0 … 3.0 -7.0; 0.0 0.0 … -5.0 -13.0; … ; -6.0 -2.0 … 4.0 -8.0; -8.0 4.0 … -1.0 8.0]))"
      ]
     },
     "metadata": {
      "application/vnd.webio.node+json": {
       "kernelId": "a047c49e-3ec7-4b3d-bfa2-571929d498c5"
      }
     },
     "output_type": "display_data"
    },
    {
     "data": {
      "application/vnd.webio.node+json": {
       "children": [
        {
         "children": [
          "Gaussian elimination for column 1 with pivot -3.0: add -2.0 * (row 1) to (row 4)"
         ],
         "instanceArgs": {
          "namespace": "html",
          "tag": "pre"
         },
         "nodeType": "DOM",
         "props": {},
         "type": "node"
        },
        {
         "children": [
          {
           "children": [],
           "instanceArgs": {
            "namespace": "html",
            "tag": "div"
           },
           "nodeType": "DOM",
           "props": {
            "setInnerHtml": "<pre>5×5 Matrix{Float64}:\n -3.0   5.0     5.0     3.0   -7.0\n  0.0   0.0    13.0    -5.0  -13.0\n  0.0  15.333  21.333  10.0  -26.667\n -6.0  -2.0     6.0     4.0   -8.0\n -8.0   4.0    -6.0    -1.0    8.0</pre>"
           },
           "type": "node"
          },
          {
           "children": [],
           "instanceArgs": {
            "namespace": "html",
            "tag": "div"
           },
           "nodeType": "DOM",
           "props": {
            "style": {
             "height": "0.0px",
             "width": "1.0em"
            }
           },
           "type": "node"
          },
          "⟶",
          {
           "children": [],
           "instanceArgs": {
            "namespace": "html",
            "tag": "div"
           },
           "nodeType": "DOM",
           "props": {
            "style": {
             "height": "0.0px",
             "width": "1.0em"
            }
           },
           "type": "node"
          },
          {
           "children": [],
           "instanceArgs": {
            "namespace": "html",
            "tag": "div"
           },
           "nodeType": "DOM",
           "props": {
            "setInnerHtml": "<pre>5×5 Matrix{Float64}:\n -3.0    5.0     5.0     3.0   -7.0\n  0.0    0.0    13.0    -5.0  -13.0\n  0.0   15.333  21.333  10.0  -26.667\n  0.0  -12.0    -4.0    -2.0    6.0\n -8.0    4.0    -6.0    -1.0    8.0</pre>"
           },
           "type": "node"
          }
         ],
         "instanceArgs": {
          "namespace": "html",
          "tag": "div"
         },
         "nodeType": "DOM",
         "props": {
          "style": {
           "align-items": "center",
           "display": "flex",
           "flex-direction": "row"
          }
         },
         "type": "node"
        }
       ],
       "instanceArgs": {
        "namespace": "html",
        "tag": "div"
       },
       "nodeType": "DOM",
       "props": {
        "style": {
         "align-items": "center",
         "display": "flex",
         "flex-direction": "column"
        }
       },
       "type": "node"
      },
      "text/html": [
       "<div\n",
       "    class=\"webio-mountpoint\"\n",
       "    data-webio-mountpoint=\"15578971334727950417\"\n",
       ">\n",
       "    <script>\n",
       "    (function(){\n",
       "    // Some integrations (namely, IJulia/Jupyter) use an alternate render pathway than\n",
       "    // just putting the html on the page. If WebIO isn't defined, then it's pretty likely\n",
       "    // that we're in one of those situations and the integration just isn't installed\n",
       "    // correctly.\n",
       "    if (typeof window.WebIO === \"undefined\") {\n",
       "        document\n",
       "            .querySelector('[data-webio-mountpoint=\"15578971334727950417\"]')\n",
       "            .innerHTML = (\n",
       "                '<div style=\"padding: 1em; background-color: #f8d6da; border: 1px solid #f5c6cb; font-weight: bold;\">' +\n",
       "                '<p><strong>WebIO not detected.</strong></p>' +\n",
       "                '<p>Please read ' +\n",
       "                '<a href=\"https://juliagizmos.github.io/WebIO.jl/latest/troubleshooting/not-detected/\" target=\"_blank\">the troubleshooting guide</a> ' +\n",
       "                'for more information on how to resolve this issue.</p>' +\n",
       "                '<p><a href=\"https://juliagizmos.github.io/WebIO.jl/latest/troubleshooting/not-detected/\" target=\"_blank\">https://juliagizmos.github.io/WebIO.jl/latest/troubleshooting/not-detected/</a></p>' +\n",
       "                '</div>'\n",
       "            );\n",
       "        return;\n",
       "    }\n",
       "    WebIO.mount(\n",
       "        document.querySelector('[data-webio-mountpoint=\"15578971334727950417\"]'),\n",
       "        {\"props\":{\"style\":{\"align-items\":\"center\",\"display\":\"flex\",\"flex-direction\":\"column\"}},\"nodeType\":\"DOM\",\"type\":\"node\",\"instanceArgs\":{\"namespace\":\"html\",\"tag\":\"div\"},\"children\":[{\"props\":{},\"nodeType\":\"DOM\",\"type\":\"node\",\"instanceArgs\":{\"namespace\":\"html\",\"tag\":\"pre\"},\"children\":[\"Gaussian elimination for column 1 with pivot -3.0: add -2.0 * (row 1) to (row 4)\"]},{\"props\":{\"style\":{\"align-items\":\"center\",\"display\":\"flex\",\"flex-direction\":\"row\"}},\"nodeType\":\"DOM\",\"type\":\"node\",\"instanceArgs\":{\"namespace\":\"html\",\"tag\":\"div\"},\"children\":[{\"props\":{\"setInnerHtml\":\"<pre>5×5 Matrix{Float64}:\\n -3.0   5.0     5.0     3.0   -7.0\\n  0.0   0.0    13.0    -5.0  -13.0\\n  0.0  15.333  21.333  10.0  -26.667\\n -6.0  -2.0     6.0     4.0   -8.0\\n -8.0   4.0    -6.0    -1.0    8.0<\\/pre>\"},\"nodeType\":\"DOM\",\"type\":\"node\",\"instanceArgs\":{\"namespace\":\"html\",\"tag\":\"div\"},\"children\":[]},{\"props\":{\"style\":{\"height\":\"0.0px\",\"width\":\"1.0em\"}},\"nodeType\":\"DOM\",\"type\":\"node\",\"instanceArgs\":{\"namespace\":\"html\",\"tag\":\"div\"},\"children\":[]},\"⟶\",{\"props\":{\"style\":{\"height\":\"0.0px\",\"width\":\"1.0em\"}},\"nodeType\":\"DOM\",\"type\":\"node\",\"instanceArgs\":{\"namespace\":\"html\",\"tag\":\"div\"},\"children\":[]},{\"props\":{\"setInnerHtml\":\"<pre>5×5 Matrix{Float64}:\\n -3.0    5.0     5.0     3.0   -7.0\\n  0.0    0.0    13.0    -5.0  -13.0\\n  0.0   15.333  21.333  10.0  -26.667\\n  0.0  -12.0    -4.0    -2.0    6.0\\n -8.0    4.0    -6.0    -1.0    8.0<\\/pre>\"},\"nodeType\":\"DOM\",\"type\":\"node\",\"instanceArgs\":{\"namespace\":\"html\",\"tag\":\"div\"},\"children\":[]}]}]},\n",
       "        window,\n",
       "    );\n",
       "    })()\n",
       "    </script>\n",
       "</div>\n"
      ],
      "text/plain": [
       "(div { style=Dict{Any, Any}(\"align-items\" => :center, \"display\" => \"flex\", \"flex-direction\" => \"column\") }\n",
       "  (pre\n",
       "    \"Gaussian elimination for column 1 with pivot -3.0: add -2.0 * (row 1) to (row 4)\")\n",
       "  (div { style=Dict{Any, Any}(\"align-items\" => :center, \"display\" => \"flex\", \"flex-direction\" => \"row\") }\n",
       "    [-3.0 5.0 … 3.0 -7.0; 0.0 0.0 … -5.0 -13.0; … ; -6.0 -2.0 … 4.0 -8.0; -8.0 4.0 … -1.0 8.0]\n",
       "    (div { style=Dict{String, Measures.Length{U, Float64} where U}(\"height\" => 0.0px, \"width\" => 1.0em) })\n",
       "    \"⟶\"\n",
       "    (div { style=Dict{String, Measures.Length{U, Float64} where U}(\"height\" => 0.0px, \"width\" => 1.0em) })\n",
       "    [-3.0 5.0 … 3.0 -7.0; 0.0 0.0 … -5.0 -13.0; … ; 0.0 -12.0 … -2.0 6.0; -8.0 4.0 … -1.0 8.0]))"
      ]
     },
     "metadata": {
      "application/vnd.webio.node+json": {
       "kernelId": "a047c49e-3ec7-4b3d-bfa2-571929d498c5"
      }
     },
     "output_type": "display_data"
    },
    {
     "data": {
      "application/vnd.webio.node+json": {
       "children": [
        {
         "children": [
          "Gaussian elimination for column 1 with pivot -3.0: add -2.667 * (row 1) to (row 5)"
         ],
         "instanceArgs": {
          "namespace": "html",
          "tag": "pre"
         },
         "nodeType": "DOM",
         "props": {},
         "type": "node"
        },
        {
         "children": [
          {
           "children": [],
           "instanceArgs": {
            "namespace": "html",
            "tag": "div"
           },
           "nodeType": "DOM",
           "props": {
            "setInnerHtml": "<pre>5×5 Matrix{Float64}:\n -3.0    5.0     5.0     3.0   -7.0\n  0.0    0.0    13.0    -5.0  -13.0\n  0.0   15.333  21.333  10.0  -26.667\n  0.0  -12.0    -4.0    -2.0    6.0\n -8.0    4.0    -6.0    -1.0    8.0</pre>"
           },
           "type": "node"
          },
          {
           "children": [],
           "instanceArgs": {
            "namespace": "html",
            "tag": "div"
           },
           "nodeType": "DOM",
           "props": {
            "style": {
             "height": "0.0px",
             "width": "1.0em"
            }
           },
           "type": "node"
          },
          "⟶",
          {
           "children": [],
           "instanceArgs": {
            "namespace": "html",
            "tag": "div"
           },
           "nodeType": "DOM",
           "props": {
            "style": {
             "height": "0.0px",
             "width": "1.0em"
            }
           },
           "type": "node"
          },
          {
           "children": [],
           "instanceArgs": {
            "namespace": "html",
            "tag": "div"
           },
           "nodeType": "DOM",
           "props": {
            "setInnerHtml": "<pre>5×5 Matrix{Float64}:\n -3.0    5.0      5.0     3.0   -7.0\n  0.0    0.0     13.0    -5.0  -13.0\n  0.0   15.333   21.333  10.0  -26.667\n  0.0  -12.0     -4.0    -2.0    6.0\n  0.0   -9.333  -19.333  -9.0   26.667</pre>"
           },
           "type": "node"
          }
         ],
         "instanceArgs": {
          "namespace": "html",
          "tag": "div"
         },
         "nodeType": "DOM",
         "props": {
          "style": {
           "align-items": "center",
           "display": "flex",
           "flex-direction": "row"
          }
         },
         "type": "node"
        }
       ],
       "instanceArgs": {
        "namespace": "html",
        "tag": "div"
       },
       "nodeType": "DOM",
       "props": {
        "style": {
         "align-items": "center",
         "display": "flex",
         "flex-direction": "column"
        }
       },
       "type": "node"
      },
      "text/html": [
       "<div\n",
       "    class=\"webio-mountpoint\"\n",
       "    data-webio-mountpoint=\"5529951895996316\"\n",
       ">\n",
       "    <script>\n",
       "    (function(){\n",
       "    // Some integrations (namely, IJulia/Jupyter) use an alternate render pathway than\n",
       "    // just putting the html on the page. If WebIO isn't defined, then it's pretty likely\n",
       "    // that we're in one of those situations and the integration just isn't installed\n",
       "    // correctly.\n",
       "    if (typeof window.WebIO === \"undefined\") {\n",
       "        document\n",
       "            .querySelector('[data-webio-mountpoint=\"5529951895996316\"]')\n",
       "            .innerHTML = (\n",
       "                '<div style=\"padding: 1em; background-color: #f8d6da; border: 1px solid #f5c6cb; font-weight: bold;\">' +\n",
       "                '<p><strong>WebIO not detected.</strong></p>' +\n",
       "                '<p>Please read ' +\n",
       "                '<a href=\"https://juliagizmos.github.io/WebIO.jl/latest/troubleshooting/not-detected/\" target=\"_blank\">the troubleshooting guide</a> ' +\n",
       "                'for more information on how to resolve this issue.</p>' +\n",
       "                '<p><a href=\"https://juliagizmos.github.io/WebIO.jl/latest/troubleshooting/not-detected/\" target=\"_blank\">https://juliagizmos.github.io/WebIO.jl/latest/troubleshooting/not-detected/</a></p>' +\n",
       "                '</div>'\n",
       "            );\n",
       "        return;\n",
       "    }\n",
       "    WebIO.mount(\n",
       "        document.querySelector('[data-webio-mountpoint=\"5529951895996316\"]'),\n",
       "        {\"props\":{\"style\":{\"align-items\":\"center\",\"display\":\"flex\",\"flex-direction\":\"column\"}},\"nodeType\":\"DOM\",\"type\":\"node\",\"instanceArgs\":{\"namespace\":\"html\",\"tag\":\"div\"},\"children\":[{\"props\":{},\"nodeType\":\"DOM\",\"type\":\"node\",\"instanceArgs\":{\"namespace\":\"html\",\"tag\":\"pre\"},\"children\":[\"Gaussian elimination for column 1 with pivot -3.0: add -2.667 * (row 1) to (row 5)\"]},{\"props\":{\"style\":{\"align-items\":\"center\",\"display\":\"flex\",\"flex-direction\":\"row\"}},\"nodeType\":\"DOM\",\"type\":\"node\",\"instanceArgs\":{\"namespace\":\"html\",\"tag\":\"div\"},\"children\":[{\"props\":{\"setInnerHtml\":\"<pre>5×5 Matrix{Float64}:\\n -3.0    5.0     5.0     3.0   -7.0\\n  0.0    0.0    13.0    -5.0  -13.0\\n  0.0   15.333  21.333  10.0  -26.667\\n  0.0  -12.0    -4.0    -2.0    6.0\\n -8.0    4.0    -6.0    -1.0    8.0<\\/pre>\"},\"nodeType\":\"DOM\",\"type\":\"node\",\"instanceArgs\":{\"namespace\":\"html\",\"tag\":\"div\"},\"children\":[]},{\"props\":{\"style\":{\"height\":\"0.0px\",\"width\":\"1.0em\"}},\"nodeType\":\"DOM\",\"type\":\"node\",\"instanceArgs\":{\"namespace\":\"html\",\"tag\":\"div\"},\"children\":[]},\"⟶\",{\"props\":{\"style\":{\"height\":\"0.0px\",\"width\":\"1.0em\"}},\"nodeType\":\"DOM\",\"type\":\"node\",\"instanceArgs\":{\"namespace\":\"html\",\"tag\":\"div\"},\"children\":[]},{\"props\":{\"setInnerHtml\":\"<pre>5×5 Matrix{Float64}:\\n -3.0    5.0      5.0     3.0   -7.0\\n  0.0    0.0     13.0    -5.0  -13.0\\n  0.0   15.333   21.333  10.0  -26.667\\n  0.0  -12.0     -4.0    -2.0    6.0\\n  0.0   -9.333  -19.333  -9.0   26.667<\\/pre>\"},\"nodeType\":\"DOM\",\"type\":\"node\",\"instanceArgs\":{\"namespace\":\"html\",\"tag\":\"div\"},\"children\":[]}]}]},\n",
       "        window,\n",
       "    );\n",
       "    })()\n",
       "    </script>\n",
       "</div>\n"
      ],
      "text/plain": [
       "(div { style=Dict{Any, Any}(\"align-items\" => :center, \"display\" => \"flex\", \"flex-direction\" => \"column\") }\n",
       "  (pre\n",
       "    \"Gaussian elimination for column 1 with pivot -3.0: add -2.667 * (row 1) to (row 5)\")\n",
       "  (div { style=Dict{Any, Any}(\"align-items\" => :center, \"display\" => \"flex\", \"flex-direction\" => \"row\") }\n",
       "    [-3.0 5.0 … 3.0 -7.0; 0.0 0.0 … -5.0 -13.0; … ; 0.0 -12.0 … -2.0 6.0; -8.0 4.0 … -1.0 8.0]\n",
       "    (div { style=Dict{String, Measures.Length{U, Float64} where U}(\"height\" => 0.0px, \"width\" => 1.0em) })\n",
       "    \"⟶\"\n",
       "    (div { style=Dict{String, Measures.Length{U, Float64} where U}(\"height\" => 0.0px, \"width\" => 1.0em) })\n",
       "    [-3.0 5.0 … 3.0 -7.0; 0.0 0.0 … -5.0 -13.0; … ; 0.0 -12.0 … -2.0 6.0; 0.0 -9.333 … -9.0 26.667]))"
      ]
     },
     "metadata": {
      "application/vnd.webio.node+json": {
       "kernelId": "a047c49e-3ec7-4b3d-bfa2-571929d498c5"
      }
     },
     "output_type": "display_data"
    },
    {
     "data": {
      "application/vnd.webio.node+json": {
       "children": [
        {
         "children": [
          "Gaussian elimination for column 2 with pivot 0.0: add -Inf * (row 2) to (row 3)"
         ],
         "instanceArgs": {
          "namespace": "html",
          "tag": "pre"
         },
         "nodeType": "DOM",
         "props": {},
         "type": "node"
        },
        {
         "children": [
          {
           "children": [],
           "instanceArgs": {
            "namespace": "html",
            "tag": "div"
           },
           "nodeType": "DOM",
           "props": {
            "setInnerHtml": "<pre>5×5 Matrix{Float64}:\n -3.0    5.0      5.0     3.0   -7.0\n  0.0    0.0     13.0    -5.0  -13.0\n  0.0   15.333   21.333  10.0  -26.667\n  0.0  -12.0     -4.0    -2.0    6.0\n  0.0   -9.333  -19.333  -9.0   26.667</pre>"
           },
           "type": "node"
          },
          {
           "children": [],
           "instanceArgs": {
            "namespace": "html",
            "tag": "div"
           },
           "nodeType": "DOM",
           "props": {
            "style": {
             "height": "0.0px",
             "width": "1.0em"
            }
           },
           "type": "node"
          },
          "⟶",
          {
           "children": [],
           "instanceArgs": {
            "namespace": "html",
            "tag": "div"
           },
           "nodeType": "DOM",
           "props": {
            "style": {
             "height": "0.0px",
             "width": "1.0em"
            }
           },
           "type": "node"
          },
          {
           "children": [],
           "instanceArgs": {
            "namespace": "html",
            "tag": "div"
           },
           "nodeType": "DOM",
           "props": {
            "setInnerHtml": "<pre>5×5 Matrix{Float64}:\n  -3.0    5.0      5.0     3.0   -7.0\n   0.0    0.0     13.0    -5.0  -13.0\n NaN    NaN      -Inf     Inf    Inf\n   0.0  -12.0     -4.0    -2.0    6.0\n   0.0   -9.333  -19.333  -9.0   26.667</pre>"
           },
           "type": "node"
          }
         ],
         "instanceArgs": {
          "namespace": "html",
          "tag": "div"
         },
         "nodeType": "DOM",
         "props": {
          "style": {
           "align-items": "center",
           "display": "flex",
           "flex-direction": "row"
          }
         },
         "type": "node"
        }
       ],
       "instanceArgs": {
        "namespace": "html",
        "tag": "div"
       },
       "nodeType": "DOM",
       "props": {
        "style": {
         "align-items": "center",
         "display": "flex",
         "flex-direction": "column"
        }
       },
       "type": "node"
      },
      "text/html": [
       "<div\n",
       "    class=\"webio-mountpoint\"\n",
       "    data-webio-mountpoint=\"12932455145401512930\"\n",
       ">\n",
       "    <script>\n",
       "    (function(){\n",
       "    // Some integrations (namely, IJulia/Jupyter) use an alternate render pathway than\n",
       "    // just putting the html on the page. If WebIO isn't defined, then it's pretty likely\n",
       "    // that we're in one of those situations and the integration just isn't installed\n",
       "    // correctly.\n",
       "    if (typeof window.WebIO === \"undefined\") {\n",
       "        document\n",
       "            .querySelector('[data-webio-mountpoint=\"12932455145401512930\"]')\n",
       "            .innerHTML = (\n",
       "                '<div style=\"padding: 1em; background-color: #f8d6da; border: 1px solid #f5c6cb; font-weight: bold;\">' +\n",
       "                '<p><strong>WebIO not detected.</strong></p>' +\n",
       "                '<p>Please read ' +\n",
       "                '<a href=\"https://juliagizmos.github.io/WebIO.jl/latest/troubleshooting/not-detected/\" target=\"_blank\">the troubleshooting guide</a> ' +\n",
       "                'for more information on how to resolve this issue.</p>' +\n",
       "                '<p><a href=\"https://juliagizmos.github.io/WebIO.jl/latest/troubleshooting/not-detected/\" target=\"_blank\">https://juliagizmos.github.io/WebIO.jl/latest/troubleshooting/not-detected/</a></p>' +\n",
       "                '</div>'\n",
       "            );\n",
       "        return;\n",
       "    }\n",
       "    WebIO.mount(\n",
       "        document.querySelector('[data-webio-mountpoint=\"12932455145401512930\"]'),\n",
       "        {\"props\":{\"style\":{\"align-items\":\"center\",\"display\":\"flex\",\"flex-direction\":\"column\"}},\"nodeType\":\"DOM\",\"type\":\"node\",\"instanceArgs\":{\"namespace\":\"html\",\"tag\":\"div\"},\"children\":[{\"props\":{},\"nodeType\":\"DOM\",\"type\":\"node\",\"instanceArgs\":{\"namespace\":\"html\",\"tag\":\"pre\"},\"children\":[\"Gaussian elimination for column 2 with pivot 0.0: add -Inf * (row 2) to (row 3)\"]},{\"props\":{\"style\":{\"align-items\":\"center\",\"display\":\"flex\",\"flex-direction\":\"row\"}},\"nodeType\":\"DOM\",\"type\":\"node\",\"instanceArgs\":{\"namespace\":\"html\",\"tag\":\"div\"},\"children\":[{\"props\":{\"setInnerHtml\":\"<pre>5×5 Matrix{Float64}:\\n -3.0    5.0      5.0     3.0   -7.0\\n  0.0    0.0     13.0    -5.0  -13.0\\n  0.0   15.333   21.333  10.0  -26.667\\n  0.0  -12.0     -4.0    -2.0    6.0\\n  0.0   -9.333  -19.333  -9.0   26.667<\\/pre>\"},\"nodeType\":\"DOM\",\"type\":\"node\",\"instanceArgs\":{\"namespace\":\"html\",\"tag\":\"div\"},\"children\":[]},{\"props\":{\"style\":{\"height\":\"0.0px\",\"width\":\"1.0em\"}},\"nodeType\":\"DOM\",\"type\":\"node\",\"instanceArgs\":{\"namespace\":\"html\",\"tag\":\"div\"},\"children\":[]},\"⟶\",{\"props\":{\"style\":{\"height\":\"0.0px\",\"width\":\"1.0em\"}},\"nodeType\":\"DOM\",\"type\":\"node\",\"instanceArgs\":{\"namespace\":\"html\",\"tag\":\"div\"},\"children\":[]},{\"props\":{\"setInnerHtml\":\"<pre>5×5 Matrix{Float64}:\\n  -3.0    5.0      5.0     3.0   -7.0\\n   0.0    0.0     13.0    -5.0  -13.0\\n NaN    NaN      -Inf     Inf    Inf\\n   0.0  -12.0     -4.0    -2.0    6.0\\n   0.0   -9.333  -19.333  -9.0   26.667<\\/pre>\"},\"nodeType\":\"DOM\",\"type\":\"node\",\"instanceArgs\":{\"namespace\":\"html\",\"tag\":\"div\"},\"children\":[]}]}]},\n",
       "        window,\n",
       "    );\n",
       "    })()\n",
       "    </script>\n",
       "</div>\n"
      ],
      "text/plain": [
       "(div { style=Dict{Any, Any}(\"align-items\" => :center, \"display\" => \"flex\", \"flex-direction\" => \"column\") }\n",
       "  (pre\n",
       "    \"Gaussian elimination for column 2 with pivot 0.0: add -Inf * (row 2) to (row 3)\")\n",
       "  (div { style=Dict{Any, Any}(\"align-items\" => :center, \"display\" => \"flex\", \"flex-direction\" => \"row\") }\n",
       "    [-3.0 5.0 … 3.0 -7.0; 0.0 0.0 … -5.0 -13.0; … ; 0.0 -12.0 … -2.0 6.0; 0.0 -9.333 … -9.0 26.667]\n",
       "    (div { style=Dict{String, Measures.Length{U, Float64} where U}(\"height\" => 0.0px, \"width\" => 1.0em) })\n",
       "    \"⟶\"\n",
       "    (div { style=Dict{String, Measures.Length{U, Float64} where U}(\"height\" => 0.0px, \"width\" => 1.0em) })\n",
       "    [-3.0 5.0 … 3.0 -7.0; 0.0 0.0 … -5.0 -13.0; … ; 0.0 -12.0 … -2.0 6.0; 0.0 -9.333 … -9.0 26.667]))"
      ]
     },
     "metadata": {
      "application/vnd.webio.node+json": {
       "kernelId": "a047c49e-3ec7-4b3d-bfa2-571929d498c5"
      }
     },
     "output_type": "display_data"
    },
    {
     "data": {
      "application/vnd.webio.node+json": {
       "children": [
        {
         "children": [
          "Gaussian elimination for column 2 with pivot 0.0: add Inf * (row 2) to (row 4)"
         ],
         "instanceArgs": {
          "namespace": "html",
          "tag": "pre"
         },
         "nodeType": "DOM",
         "props": {},
         "type": "node"
        },
        {
         "children": [
          {
           "children": [],
           "instanceArgs": {
            "namespace": "html",
            "tag": "div"
           },
           "nodeType": "DOM",
           "props": {
            "setInnerHtml": "<pre>5×5 Matrix{Float64}:\n  -3.0    5.0      5.0     3.0   -7.0\n   0.0    0.0     13.0    -5.0  -13.0\n NaN    NaN      -Inf     Inf    Inf\n   0.0  -12.0     -4.0    -2.0    6.0\n   0.0   -9.333  -19.333  -9.0   26.667</pre>"
           },
           "type": "node"
          },
          {
           "children": [],
           "instanceArgs": {
            "namespace": "html",
            "tag": "div"
           },
           "nodeType": "DOM",
           "props": {
            "style": {
             "height": "0.0px",
             "width": "1.0em"
            }
           },
           "type": "node"
          },
          "⟶",
          {
           "children": [],
           "instanceArgs": {
            "namespace": "html",
            "tag": "div"
           },
           "nodeType": "DOM",
           "props": {
            "style": {
             "height": "0.0px",
             "width": "1.0em"
            }
           },
           "type": "node"
          },
          {
           "children": [],
           "instanceArgs": {
            "namespace": "html",
            "tag": "div"
           },
           "nodeType": "DOM",
           "props": {
            "setInnerHtml": "<pre>5×5 Matrix{Float64}:\n  -3.0    5.0      5.0      3.0   -7.0\n   0.0    0.0     13.0     -5.0  -13.0\n NaN    NaN      -Inf      Inf    Inf\n NaN    NaN       Inf     -Inf   -Inf\n   0.0   -9.333  -19.333   -9.0   26.667</pre>"
           },
           "type": "node"
          }
         ],
         "instanceArgs": {
          "namespace": "html",
          "tag": "div"
         },
         "nodeType": "DOM",
         "props": {
          "style": {
           "align-items": "center",
           "display": "flex",
           "flex-direction": "row"
          }
         },
         "type": "node"
        }
       ],
       "instanceArgs": {
        "namespace": "html",
        "tag": "div"
       },
       "nodeType": "DOM",
       "props": {
        "style": {
         "align-items": "center",
         "display": "flex",
         "flex-direction": "column"
        }
       },
       "type": "node"
      },
      "text/html": [
       "<div\n",
       "    class=\"webio-mountpoint\"\n",
       "    data-webio-mountpoint=\"6462791543742839140\"\n",
       ">\n",
       "    <script>\n",
       "    (function(){\n",
       "    // Some integrations (namely, IJulia/Jupyter) use an alternate render pathway than\n",
       "    // just putting the html on the page. If WebIO isn't defined, then it's pretty likely\n",
       "    // that we're in one of those situations and the integration just isn't installed\n",
       "    // correctly.\n",
       "    if (typeof window.WebIO === \"undefined\") {\n",
       "        document\n",
       "            .querySelector('[data-webio-mountpoint=\"6462791543742839140\"]')\n",
       "            .innerHTML = (\n",
       "                '<div style=\"padding: 1em; background-color: #f8d6da; border: 1px solid #f5c6cb; font-weight: bold;\">' +\n",
       "                '<p><strong>WebIO not detected.</strong></p>' +\n",
       "                '<p>Please read ' +\n",
       "                '<a href=\"https://juliagizmos.github.io/WebIO.jl/latest/troubleshooting/not-detected/\" target=\"_blank\">the troubleshooting guide</a> ' +\n",
       "                'for more information on how to resolve this issue.</p>' +\n",
       "                '<p><a href=\"https://juliagizmos.github.io/WebIO.jl/latest/troubleshooting/not-detected/\" target=\"_blank\">https://juliagizmos.github.io/WebIO.jl/latest/troubleshooting/not-detected/</a></p>' +\n",
       "                '</div>'\n",
       "            );\n",
       "        return;\n",
       "    }\n",
       "    WebIO.mount(\n",
       "        document.querySelector('[data-webio-mountpoint=\"6462791543742839140\"]'),\n",
       "        {\"props\":{\"style\":{\"align-items\":\"center\",\"display\":\"flex\",\"flex-direction\":\"column\"}},\"nodeType\":\"DOM\",\"type\":\"node\",\"instanceArgs\":{\"namespace\":\"html\",\"tag\":\"div\"},\"children\":[{\"props\":{},\"nodeType\":\"DOM\",\"type\":\"node\",\"instanceArgs\":{\"namespace\":\"html\",\"tag\":\"pre\"},\"children\":[\"Gaussian elimination for column 2 with pivot 0.0: add Inf * (row 2) to (row 4)\"]},{\"props\":{\"style\":{\"align-items\":\"center\",\"display\":\"flex\",\"flex-direction\":\"row\"}},\"nodeType\":\"DOM\",\"type\":\"node\",\"instanceArgs\":{\"namespace\":\"html\",\"tag\":\"div\"},\"children\":[{\"props\":{\"setInnerHtml\":\"<pre>5×5 Matrix{Float64}:\\n  -3.0    5.0      5.0     3.0   -7.0\\n   0.0    0.0     13.0    -5.0  -13.0\\n NaN    NaN      -Inf     Inf    Inf\\n   0.0  -12.0     -4.0    -2.0    6.0\\n   0.0   -9.333  -19.333  -9.0   26.667<\\/pre>\"},\"nodeType\":\"DOM\",\"type\":\"node\",\"instanceArgs\":{\"namespace\":\"html\",\"tag\":\"div\"},\"children\":[]},{\"props\":{\"style\":{\"height\":\"0.0px\",\"width\":\"1.0em\"}},\"nodeType\":\"DOM\",\"type\":\"node\",\"instanceArgs\":{\"namespace\":\"html\",\"tag\":\"div\"},\"children\":[]},\"⟶\",{\"props\":{\"style\":{\"height\":\"0.0px\",\"width\":\"1.0em\"}},\"nodeType\":\"DOM\",\"type\":\"node\",\"instanceArgs\":{\"namespace\":\"html\",\"tag\":\"div\"},\"children\":[]},{\"props\":{\"setInnerHtml\":\"<pre>5×5 Matrix{Float64}:\\n  -3.0    5.0      5.0      3.0   -7.0\\n   0.0    0.0     13.0     -5.0  -13.0\\n NaN    NaN      -Inf      Inf    Inf\\n NaN    NaN       Inf     -Inf   -Inf\\n   0.0   -9.333  -19.333   -9.0   26.667<\\/pre>\"},\"nodeType\":\"DOM\",\"type\":\"node\",\"instanceArgs\":{\"namespace\":\"html\",\"tag\":\"div\"},\"children\":[]}]}]},\n",
       "        window,\n",
       "    );\n",
       "    })()\n",
       "    </script>\n",
       "</div>\n"
      ],
      "text/plain": [
       "(div { style=Dict{Any, Any}(\"align-items\" => :center, \"display\" => \"flex\", \"flex-direction\" => \"column\") }\n",
       "  (pre\n",
       "    \"Gaussian elimination for column 2 with pivot 0.0: add Inf * (row 2) to (row 4)\")\n",
       "  (div { style=Dict{Any, Any}(\"align-items\" => :center, \"display\" => \"flex\", \"flex-direction\" => \"row\") }\n",
       "    [-3.0 5.0 … 3.0 -7.0; 0.0 0.0 … -5.0 -13.0; … ; 0.0 -12.0 … -2.0 6.0; 0.0 -9.333 … -9.0 26.667]\n",
       "    (div { style=Dict{String, Measures.Length{U, Float64} where U}(\"height\" => 0.0px, \"width\" => 1.0em) })\n",
       "    \"⟶\"\n",
       "    (div { style=Dict{String, Measures.Length{U, Float64} where U}(\"height\" => 0.0px, \"width\" => 1.0em) })\n",
       "    [-3.0 5.0 … 3.0 -7.0; 0.0 0.0 … -5.0 -13.0; … ; NaN NaN … -Inf -Inf; 0.0 -9.333 … -9.0 26.667]))"
      ]
     },
     "metadata": {
      "application/vnd.webio.node+json": {
       "kernelId": "a047c49e-3ec7-4b3d-bfa2-571929d498c5"
      }
     },
     "output_type": "display_data"
    },
    {
     "data": {
      "application/vnd.webio.node+json": {
       "children": [
        {
         "children": [
          "Gaussian elimination for column 2 with pivot 0.0: add Inf * (row 2) to (row 5)"
         ],
         "instanceArgs": {
          "namespace": "html",
          "tag": "pre"
         },
         "nodeType": "DOM",
         "props": {},
         "type": "node"
        },
        {
         "children": [
          {
           "children": [],
           "instanceArgs": {
            "namespace": "html",
            "tag": "div"
           },
           "nodeType": "DOM",
           "props": {
            "setInnerHtml": "<pre>5×5 Matrix{Float64}:\n  -3.0    5.0      5.0      3.0   -7.0\n   0.0    0.0     13.0     -5.0  -13.0\n NaN    NaN      -Inf      Inf    Inf\n NaN    NaN       Inf     -Inf   -Inf\n   0.0   -9.333  -19.333   -9.0   26.667</pre>"
           },
           "type": "node"
          },
          {
           "children": [],
           "instanceArgs": {
            "namespace": "html",
            "tag": "div"
           },
           "nodeType": "DOM",
           "props": {
            "style": {
             "height": "0.0px",
             "width": "1.0em"
            }
           },
           "type": "node"
          },
          "⟶",
          {
           "children": [],
           "instanceArgs": {
            "namespace": "html",
            "tag": "div"
           },
           "nodeType": "DOM",
           "props": {
            "style": {
             "height": "0.0px",
             "width": "1.0em"
            }
           },
           "type": "node"
          },
          {
           "children": [],
           "instanceArgs": {
            "namespace": "html",
            "tag": "div"
           },
           "nodeType": "DOM",
           "props": {
            "setInnerHtml": "<pre>5×5 Matrix{Float64}:\n  -3.0    5.0    5.0    3.0   -7.0\n   0.0    0.0   13.0   -5.0  -13.0\n NaN    NaN    -Inf    Inf    Inf\n NaN    NaN     Inf   -Inf   -Inf\n NaN    NaN     Inf   -Inf   -Inf</pre>"
           },
           "type": "node"
          }
         ],
         "instanceArgs": {
          "namespace": "html",
          "tag": "div"
         },
         "nodeType": "DOM",
         "props": {
          "style": {
           "align-items": "center",
           "display": "flex",
           "flex-direction": "row"
          }
         },
         "type": "node"
        }
       ],
       "instanceArgs": {
        "namespace": "html",
        "tag": "div"
       },
       "nodeType": "DOM",
       "props": {
        "style": {
         "align-items": "center",
         "display": "flex",
         "flex-direction": "column"
        }
       },
       "type": "node"
      },
      "text/html": [
       "<div\n",
       "    class=\"webio-mountpoint\"\n",
       "    data-webio-mountpoint=\"2006127274282755322\"\n",
       ">\n",
       "    <script>\n",
       "    (function(){\n",
       "    // Some integrations (namely, IJulia/Jupyter) use an alternate render pathway than\n",
       "    // just putting the html on the page. If WebIO isn't defined, then it's pretty likely\n",
       "    // that we're in one of those situations and the integration just isn't installed\n",
       "    // correctly.\n",
       "    if (typeof window.WebIO === \"undefined\") {\n",
       "        document\n",
       "            .querySelector('[data-webio-mountpoint=\"2006127274282755322\"]')\n",
       "            .innerHTML = (\n",
       "                '<div style=\"padding: 1em; background-color: #f8d6da; border: 1px solid #f5c6cb; font-weight: bold;\">' +\n",
       "                '<p><strong>WebIO not detected.</strong></p>' +\n",
       "                '<p>Please read ' +\n",
       "                '<a href=\"https://juliagizmos.github.io/WebIO.jl/latest/troubleshooting/not-detected/\" target=\"_blank\">the troubleshooting guide</a> ' +\n",
       "                'for more information on how to resolve this issue.</p>' +\n",
       "                '<p><a href=\"https://juliagizmos.github.io/WebIO.jl/latest/troubleshooting/not-detected/\" target=\"_blank\">https://juliagizmos.github.io/WebIO.jl/latest/troubleshooting/not-detected/</a></p>' +\n",
       "                '</div>'\n",
       "            );\n",
       "        return;\n",
       "    }\n",
       "    WebIO.mount(\n",
       "        document.querySelector('[data-webio-mountpoint=\"2006127274282755322\"]'),\n",
       "        {\"props\":{\"style\":{\"align-items\":\"center\",\"display\":\"flex\",\"flex-direction\":\"column\"}},\"nodeType\":\"DOM\",\"type\":\"node\",\"instanceArgs\":{\"namespace\":\"html\",\"tag\":\"div\"},\"children\":[{\"props\":{},\"nodeType\":\"DOM\",\"type\":\"node\",\"instanceArgs\":{\"namespace\":\"html\",\"tag\":\"pre\"},\"children\":[\"Gaussian elimination for column 2 with pivot 0.0: add Inf * (row 2) to (row 5)\"]},{\"props\":{\"style\":{\"align-items\":\"center\",\"display\":\"flex\",\"flex-direction\":\"row\"}},\"nodeType\":\"DOM\",\"type\":\"node\",\"instanceArgs\":{\"namespace\":\"html\",\"tag\":\"div\"},\"children\":[{\"props\":{\"setInnerHtml\":\"<pre>5×5 Matrix{Float64}:\\n  -3.0    5.0      5.0      3.0   -7.0\\n   0.0    0.0     13.0     -5.0  -13.0\\n NaN    NaN      -Inf      Inf    Inf\\n NaN    NaN       Inf     -Inf   -Inf\\n   0.0   -9.333  -19.333   -9.0   26.667<\\/pre>\"},\"nodeType\":\"DOM\",\"type\":\"node\",\"instanceArgs\":{\"namespace\":\"html\",\"tag\":\"div\"},\"children\":[]},{\"props\":{\"style\":{\"height\":\"0.0px\",\"width\":\"1.0em\"}},\"nodeType\":\"DOM\",\"type\":\"node\",\"instanceArgs\":{\"namespace\":\"html\",\"tag\":\"div\"},\"children\":[]},\"⟶\",{\"props\":{\"style\":{\"height\":\"0.0px\",\"width\":\"1.0em\"}},\"nodeType\":\"DOM\",\"type\":\"node\",\"instanceArgs\":{\"namespace\":\"html\",\"tag\":\"div\"},\"children\":[]},{\"props\":{\"setInnerHtml\":\"<pre>5×5 Matrix{Float64}:\\n  -3.0    5.0    5.0    3.0   -7.0\\n   0.0    0.0   13.0   -5.0  -13.0\\n NaN    NaN    -Inf    Inf    Inf\\n NaN    NaN     Inf   -Inf   -Inf\\n NaN    NaN     Inf   -Inf   -Inf<\\/pre>\"},\"nodeType\":\"DOM\",\"type\":\"node\",\"instanceArgs\":{\"namespace\":\"html\",\"tag\":\"div\"},\"children\":[]}]}]},\n",
       "        window,\n",
       "    );\n",
       "    })()\n",
       "    </script>\n",
       "</div>\n"
      ],
      "text/plain": [
       "(div { style=Dict{Any, Any}(\"align-items\" => :center, \"display\" => \"flex\", \"flex-direction\" => \"column\") }\n",
       "  (pre\n",
       "    \"Gaussian elimination for column 2 with pivot 0.0: add Inf * (row 2) to (row 5)\")\n",
       "  (div { style=Dict{Any, Any}(\"align-items\" => :center, \"display\" => \"flex\", \"flex-direction\" => \"row\") }\n",
       "    [-3.0 5.0 … 3.0 -7.0; 0.0 0.0 … -5.0 -13.0; … ; NaN NaN … -Inf -Inf; 0.0 -9.333 … -9.0 26.667]\n",
       "    (div { style=Dict{String, Measures.Length{U, Float64} where U}(\"height\" => 0.0px, \"width\" => 1.0em) })\n",
       "    \"⟶\"\n",
       "    (div { style=Dict{String, Measures.Length{U, Float64} where U}(\"height\" => 0.0px, \"width\" => 1.0em) })\n",
       "    [-3.0 5.0 … 3.0 -7.0; 0.0 0.0 … -5.0 -13.0; … ; NaN NaN … -Inf -Inf; NaN NaN … -Inf -Inf]))"
      ]
     },
     "metadata": {
      "application/vnd.webio.node+json": {
       "kernelId": "a047c49e-3ec7-4b3d-bfa2-571929d498c5"
      }
     },
     "output_type": "display_data"
    },
    {
     "data": {
      "application/vnd.webio.node+json": {
       "children": [
        {
         "children": [
          "Gaussian elimination for column 3 with pivot -Inf: add NaN * (row 3) to (row 4)"
         ],
         "instanceArgs": {
          "namespace": "html",
          "tag": "pre"
         },
         "nodeType": "DOM",
         "props": {},
         "type": "node"
        },
        {
         "children": [
          {
           "children": [],
           "instanceArgs": {
            "namespace": "html",
            "tag": "div"
           },
           "nodeType": "DOM",
           "props": {
            "setInnerHtml": "<pre>5×5 Matrix{Float64}:\n  -3.0    5.0    5.0    3.0   -7.0\n   0.0    0.0   13.0   -5.0  -13.0\n NaN    NaN    -Inf    Inf    Inf\n NaN    NaN     Inf   -Inf   -Inf\n NaN    NaN     Inf   -Inf   -Inf</pre>"
           },
           "type": "node"
          },
          {
           "children": [],
           "instanceArgs": {
            "namespace": "html",
            "tag": "div"
           },
           "nodeType": "DOM",
           "props": {
            "style": {
             "height": "0.0px",
             "width": "1.0em"
            }
           },
           "type": "node"
          },
          "⟶",
          {
           "children": [],
           "instanceArgs": {
            "namespace": "html",
            "tag": "div"
           },
           "nodeType": "DOM",
           "props": {
            "style": {
             "height": "0.0px",
             "width": "1.0em"
            }
           },
           "type": "node"
          },
          {
           "children": [],
           "instanceArgs": {
            "namespace": "html",
            "tag": "div"
           },
           "nodeType": "DOM",
           "props": {
            "setInnerHtml": "<pre>5×5 Matrix{Float64}:\n  -3.0    5.0    5.0    3.0   -7.0\n   0.0    0.0   13.0   -5.0  -13.0\n NaN    NaN    -Inf    Inf    Inf\n NaN    NaN    NaN    NaN    NaN\n NaN    NaN     Inf   -Inf   -Inf</pre>"
           },
           "type": "node"
          }
         ],
         "instanceArgs": {
          "namespace": "html",
          "tag": "div"
         },
         "nodeType": "DOM",
         "props": {
          "style": {
           "align-items": "center",
           "display": "flex",
           "flex-direction": "row"
          }
         },
         "type": "node"
        }
       ],
       "instanceArgs": {
        "namespace": "html",
        "tag": "div"
       },
       "nodeType": "DOM",
       "props": {
        "style": {
         "align-items": "center",
         "display": "flex",
         "flex-direction": "column"
        }
       },
       "type": "node"
      },
      "text/html": [
       "<div\n",
       "    class=\"webio-mountpoint\"\n",
       "    data-webio-mountpoint=\"17615741311056458806\"\n",
       ">\n",
       "    <script>\n",
       "    (function(){\n",
       "    // Some integrations (namely, IJulia/Jupyter) use an alternate render pathway than\n",
       "    // just putting the html on the page. If WebIO isn't defined, then it's pretty likely\n",
       "    // that we're in one of those situations and the integration just isn't installed\n",
       "    // correctly.\n",
       "    if (typeof window.WebIO === \"undefined\") {\n",
       "        document\n",
       "            .querySelector('[data-webio-mountpoint=\"17615741311056458806\"]')\n",
       "            .innerHTML = (\n",
       "                '<div style=\"padding: 1em; background-color: #f8d6da; border: 1px solid #f5c6cb; font-weight: bold;\">' +\n",
       "                '<p><strong>WebIO not detected.</strong></p>' +\n",
       "                '<p>Please read ' +\n",
       "                '<a href=\"https://juliagizmos.github.io/WebIO.jl/latest/troubleshooting/not-detected/\" target=\"_blank\">the troubleshooting guide</a> ' +\n",
       "                'for more information on how to resolve this issue.</p>' +\n",
       "                '<p><a href=\"https://juliagizmos.github.io/WebIO.jl/latest/troubleshooting/not-detected/\" target=\"_blank\">https://juliagizmos.github.io/WebIO.jl/latest/troubleshooting/not-detected/</a></p>' +\n",
       "                '</div>'\n",
       "            );\n",
       "        return;\n",
       "    }\n",
       "    WebIO.mount(\n",
       "        document.querySelector('[data-webio-mountpoint=\"17615741311056458806\"]'),\n",
       "        {\"props\":{\"style\":{\"align-items\":\"center\",\"display\":\"flex\",\"flex-direction\":\"column\"}},\"nodeType\":\"DOM\",\"type\":\"node\",\"instanceArgs\":{\"namespace\":\"html\",\"tag\":\"div\"},\"children\":[{\"props\":{},\"nodeType\":\"DOM\",\"type\":\"node\",\"instanceArgs\":{\"namespace\":\"html\",\"tag\":\"pre\"},\"children\":[\"Gaussian elimination for column 3 with pivot -Inf: add NaN * (row 3) to (row 4)\"]},{\"props\":{\"style\":{\"align-items\":\"center\",\"display\":\"flex\",\"flex-direction\":\"row\"}},\"nodeType\":\"DOM\",\"type\":\"node\",\"instanceArgs\":{\"namespace\":\"html\",\"tag\":\"div\"},\"children\":[{\"props\":{\"setInnerHtml\":\"<pre>5×5 Matrix{Float64}:\\n  -3.0    5.0    5.0    3.0   -7.0\\n   0.0    0.0   13.0   -5.0  -13.0\\n NaN    NaN    -Inf    Inf    Inf\\n NaN    NaN     Inf   -Inf   -Inf\\n NaN    NaN     Inf   -Inf   -Inf<\\/pre>\"},\"nodeType\":\"DOM\",\"type\":\"node\",\"instanceArgs\":{\"namespace\":\"html\",\"tag\":\"div\"},\"children\":[]},{\"props\":{\"style\":{\"height\":\"0.0px\",\"width\":\"1.0em\"}},\"nodeType\":\"DOM\",\"type\":\"node\",\"instanceArgs\":{\"namespace\":\"html\",\"tag\":\"div\"},\"children\":[]},\"⟶\",{\"props\":{\"style\":{\"height\":\"0.0px\",\"width\":\"1.0em\"}},\"nodeType\":\"DOM\",\"type\":\"node\",\"instanceArgs\":{\"namespace\":\"html\",\"tag\":\"div\"},\"children\":[]},{\"props\":{\"setInnerHtml\":\"<pre>5×5 Matrix{Float64}:\\n  -3.0    5.0    5.0    3.0   -7.0\\n   0.0    0.0   13.0   -5.0  -13.0\\n NaN    NaN    -Inf    Inf    Inf\\n NaN    NaN    NaN    NaN    NaN\\n NaN    NaN     Inf   -Inf   -Inf<\\/pre>\"},\"nodeType\":\"DOM\",\"type\":\"node\",\"instanceArgs\":{\"namespace\":\"html\",\"tag\":\"div\"},\"children\":[]}]}]},\n",
       "        window,\n",
       "    );\n",
       "    })()\n",
       "    </script>\n",
       "</div>\n"
      ],
      "text/plain": [
       "(div { style=Dict{Any, Any}(\"align-items\" => :center, \"display\" => \"flex\", \"flex-direction\" => \"column\") }\n",
       "  (pre\n",
       "    \"Gaussian elimination for column 3 with pivot -Inf: add NaN * (row 3) to (row 4)\")\n",
       "  (div { style=Dict{Any, Any}(\"align-items\" => :center, \"display\" => \"flex\", \"flex-direction\" => \"row\") }\n",
       "    [-3.0 5.0 … 3.0 -7.0; 0.0 0.0 … -5.0 -13.0; … ; NaN NaN … -Inf -Inf; NaN NaN … -Inf -Inf]\n",
       "    (div { style=Dict{String, Measures.Length{U, Float64} where U}(\"height\" => 0.0px, \"width\" => 1.0em) })\n",
       "    \"⟶\"\n",
       "    (div { style=Dict{String, Measures.Length{U, Float64} where U}(\"height\" => 0.0px, \"width\" => 1.0em) })\n",
       "    [-3.0 5.0 … 3.0 -7.0; 0.0 0.0 … -5.0 -13.0; … ; NaN NaN … NaN NaN; NaN NaN … -Inf -Inf]))"
      ]
     },
     "metadata": {
      "application/vnd.webio.node+json": {
       "kernelId": "a047c49e-3ec7-4b3d-bfa2-571929d498c5"
      }
     },
     "output_type": "display_data"
    },
    {
     "data": {
      "application/vnd.webio.node+json": {
       "children": [
        {
         "children": [
          "Gaussian elimination for column 3 with pivot -Inf: add NaN * (row 3) to (row 5)"
         ],
         "instanceArgs": {
          "namespace": "html",
          "tag": "pre"
         },
         "nodeType": "DOM",
         "props": {},
         "type": "node"
        },
        {
         "children": [
          {
           "children": [],
           "instanceArgs": {
            "namespace": "html",
            "tag": "div"
           },
           "nodeType": "DOM",
           "props": {
            "setInnerHtml": "<pre>5×5 Matrix{Float64}:\n  -3.0    5.0    5.0    3.0   -7.0\n   0.0    0.0   13.0   -5.0  -13.0\n NaN    NaN    -Inf    Inf    Inf\n NaN    NaN    NaN    NaN    NaN\n NaN    NaN     Inf   -Inf   -Inf</pre>"
           },
           "type": "node"
          },
          {
           "children": [],
           "instanceArgs": {
            "namespace": "html",
            "tag": "div"
           },
           "nodeType": "DOM",
           "props": {
            "style": {
             "height": "0.0px",
             "width": "1.0em"
            }
           },
           "type": "node"
          },
          "⟶",
          {
           "children": [],
           "instanceArgs": {
            "namespace": "html",
            "tag": "div"
           },
           "nodeType": "DOM",
           "props": {
            "style": {
             "height": "0.0px",
             "width": "1.0em"
            }
           },
           "type": "node"
          },
          {
           "children": [],
           "instanceArgs": {
            "namespace": "html",
            "tag": "div"
           },
           "nodeType": "DOM",
           "props": {
            "setInnerHtml": "<pre>5×5 Matrix{Float64}:\n  -3.0    5.0    5.0    3.0   -7.0\n   0.0    0.0   13.0   -5.0  -13.0\n NaN    NaN    -Inf    Inf    Inf\n NaN    NaN    NaN    NaN    NaN\n NaN    NaN    NaN    NaN    NaN</pre>"
           },
           "type": "node"
          }
         ],
         "instanceArgs": {
          "namespace": "html",
          "tag": "div"
         },
         "nodeType": "DOM",
         "props": {
          "style": {
           "align-items": "center",
           "display": "flex",
           "flex-direction": "row"
          }
         },
         "type": "node"
        }
       ],
       "instanceArgs": {
        "namespace": "html",
        "tag": "div"
       },
       "nodeType": "DOM",
       "props": {
        "style": {
         "align-items": "center",
         "display": "flex",
         "flex-direction": "column"
        }
       },
       "type": "node"
      },
      "text/html": [
       "<div\n",
       "    class=\"webio-mountpoint\"\n",
       "    data-webio-mountpoint=\"16977736396623583787\"\n",
       ">\n",
       "    <script>\n",
       "    (function(){\n",
       "    // Some integrations (namely, IJulia/Jupyter) use an alternate render pathway than\n",
       "    // just putting the html on the page. If WebIO isn't defined, then it's pretty likely\n",
       "    // that we're in one of those situations and the integration just isn't installed\n",
       "    // correctly.\n",
       "    if (typeof window.WebIO === \"undefined\") {\n",
       "        document\n",
       "            .querySelector('[data-webio-mountpoint=\"16977736396623583787\"]')\n",
       "            .innerHTML = (\n",
       "                '<div style=\"padding: 1em; background-color: #f8d6da; border: 1px solid #f5c6cb; font-weight: bold;\">' +\n",
       "                '<p><strong>WebIO not detected.</strong></p>' +\n",
       "                '<p>Please read ' +\n",
       "                '<a href=\"https://juliagizmos.github.io/WebIO.jl/latest/troubleshooting/not-detected/\" target=\"_blank\">the troubleshooting guide</a> ' +\n",
       "                'for more information on how to resolve this issue.</p>' +\n",
       "                '<p><a href=\"https://juliagizmos.github.io/WebIO.jl/latest/troubleshooting/not-detected/\" target=\"_blank\">https://juliagizmos.github.io/WebIO.jl/latest/troubleshooting/not-detected/</a></p>' +\n",
       "                '</div>'\n",
       "            );\n",
       "        return;\n",
       "    }\n",
       "    WebIO.mount(\n",
       "        document.querySelector('[data-webio-mountpoint=\"16977736396623583787\"]'),\n",
       "        {\"props\":{\"style\":{\"align-items\":\"center\",\"display\":\"flex\",\"flex-direction\":\"column\"}},\"nodeType\":\"DOM\",\"type\":\"node\",\"instanceArgs\":{\"namespace\":\"html\",\"tag\":\"div\"},\"children\":[{\"props\":{},\"nodeType\":\"DOM\",\"type\":\"node\",\"instanceArgs\":{\"namespace\":\"html\",\"tag\":\"pre\"},\"children\":[\"Gaussian elimination for column 3 with pivot -Inf: add NaN * (row 3) to (row 5)\"]},{\"props\":{\"style\":{\"align-items\":\"center\",\"display\":\"flex\",\"flex-direction\":\"row\"}},\"nodeType\":\"DOM\",\"type\":\"node\",\"instanceArgs\":{\"namespace\":\"html\",\"tag\":\"div\"},\"children\":[{\"props\":{\"setInnerHtml\":\"<pre>5×5 Matrix{Float64}:\\n  -3.0    5.0    5.0    3.0   -7.0\\n   0.0    0.0   13.0   -5.0  -13.0\\n NaN    NaN    -Inf    Inf    Inf\\n NaN    NaN    NaN    NaN    NaN\\n NaN    NaN     Inf   -Inf   -Inf<\\/pre>\"},\"nodeType\":\"DOM\",\"type\":\"node\",\"instanceArgs\":{\"namespace\":\"html\",\"tag\":\"div\"},\"children\":[]},{\"props\":{\"style\":{\"height\":\"0.0px\",\"width\":\"1.0em\"}},\"nodeType\":\"DOM\",\"type\":\"node\",\"instanceArgs\":{\"namespace\":\"html\",\"tag\":\"div\"},\"children\":[]},\"⟶\",{\"props\":{\"style\":{\"height\":\"0.0px\",\"width\":\"1.0em\"}},\"nodeType\":\"DOM\",\"type\":\"node\",\"instanceArgs\":{\"namespace\":\"html\",\"tag\":\"div\"},\"children\":[]},{\"props\":{\"setInnerHtml\":\"<pre>5×5 Matrix{Float64}:\\n  -3.0    5.0    5.0    3.0   -7.0\\n   0.0    0.0   13.0   -5.0  -13.0\\n NaN    NaN    -Inf    Inf    Inf\\n NaN    NaN    NaN    NaN    NaN\\n NaN    NaN    NaN    NaN    NaN<\\/pre>\"},\"nodeType\":\"DOM\",\"type\":\"node\",\"instanceArgs\":{\"namespace\":\"html\",\"tag\":\"div\"},\"children\":[]}]}]},\n",
       "        window,\n",
       "    );\n",
       "    })()\n",
       "    </script>\n",
       "</div>\n"
      ],
      "text/plain": [
       "(div { style=Dict{Any, Any}(\"align-items\" => :center, \"display\" => \"flex\", \"flex-direction\" => \"column\") }\n",
       "  (pre\n",
       "    \"Gaussian elimination for column 3 with pivot -Inf: add NaN * (row 3) to (row 5)\")\n",
       "  (div { style=Dict{Any, Any}(\"align-items\" => :center, \"display\" => \"flex\", \"flex-direction\" => \"row\") }\n",
       "    [-3.0 5.0 … 3.0 -7.0; 0.0 0.0 … -5.0 -13.0; … ; NaN NaN … NaN NaN; NaN NaN … -Inf -Inf]\n",
       "    (div { style=Dict{String, Measures.Length{U, Float64} where U}(\"height\" => 0.0px, \"width\" => 1.0em) })\n",
       "    \"⟶\"\n",
       "    (div { style=Dict{String, Measures.Length{U, Float64} where U}(\"height\" => 0.0px, \"width\" => 1.0em) })\n",
       "    [-3.0 5.0 … 3.0 -7.0; 0.0 0.0 … -5.0 -13.0; … ; NaN NaN … NaN NaN; NaN NaN … NaN NaN]))"
      ]
     },
     "metadata": {
      "application/vnd.webio.node+json": {
       "kernelId": "a047c49e-3ec7-4b3d-bfa2-571929d498c5"
      }
     },
     "output_type": "display_data"
    },
    {
     "data": {
      "application/vnd.webio.node+json": {
       "children": [
        {
         "children": [
          "Gaussian elimination for column 4 with pivot NaN: add NaN * (row 4) to (row 5)"
         ],
         "instanceArgs": {
          "namespace": "html",
          "tag": "pre"
         },
         "nodeType": "DOM",
         "props": {},
         "type": "node"
        },
        {
         "children": [
          {
           "children": [],
           "instanceArgs": {
            "namespace": "html",
            "tag": "div"
           },
           "nodeType": "DOM",
           "props": {
            "setInnerHtml": "<pre>5×5 Matrix{Float64}:\n  -3.0    5.0    5.0    3.0   -7.0\n   0.0    0.0   13.0   -5.0  -13.0\n NaN    NaN    -Inf    Inf    Inf\n NaN    NaN    NaN    NaN    NaN\n NaN    NaN    NaN    NaN    NaN</pre>"
           },
           "type": "node"
          },
          {
           "children": [],
           "instanceArgs": {
            "namespace": "html",
            "tag": "div"
           },
           "nodeType": "DOM",
           "props": {
            "style": {
             "height": "0.0px",
             "width": "1.0em"
            }
           },
           "type": "node"
          },
          "⟶",
          {
           "children": [],
           "instanceArgs": {
            "namespace": "html",
            "tag": "div"
           },
           "nodeType": "DOM",
           "props": {
            "style": {
             "height": "0.0px",
             "width": "1.0em"
            }
           },
           "type": "node"
          },
          {
           "children": [],
           "instanceArgs": {
            "namespace": "html",
            "tag": "div"
           },
           "nodeType": "DOM",
           "props": {
            "setInnerHtml": "<pre>5×5 Matrix{Float64}:\n  -3.0    5.0    5.0    3.0   -7.0\n   0.0    0.0   13.0   -5.0  -13.0\n NaN    NaN    -Inf    Inf    Inf\n NaN    NaN    NaN    NaN    NaN\n NaN    NaN    NaN    NaN    NaN</pre>"
           },
           "type": "node"
          }
         ],
         "instanceArgs": {
          "namespace": "html",
          "tag": "div"
         },
         "nodeType": "DOM",
         "props": {
          "style": {
           "align-items": "center",
           "display": "flex",
           "flex-direction": "row"
          }
         },
         "type": "node"
        }
       ],
       "instanceArgs": {
        "namespace": "html",
        "tag": "div"
       },
       "nodeType": "DOM",
       "props": {
        "style": {
         "align-items": "center",
         "display": "flex",
         "flex-direction": "column"
        }
       },
       "type": "node"
      },
      "text/html": [
       "<div\n",
       "    class=\"webio-mountpoint\"\n",
       "    data-webio-mountpoint=\"11453461491260129134\"\n",
       ">\n",
       "    <script>\n",
       "    (function(){\n",
       "    // Some integrations (namely, IJulia/Jupyter) use an alternate render pathway than\n",
       "    // just putting the html on the page. If WebIO isn't defined, then it's pretty likely\n",
       "    // that we're in one of those situations and the integration just isn't installed\n",
       "    // correctly.\n",
       "    if (typeof window.WebIO === \"undefined\") {\n",
       "        document\n",
       "            .querySelector('[data-webio-mountpoint=\"11453461491260129134\"]')\n",
       "            .innerHTML = (\n",
       "                '<div style=\"padding: 1em; background-color: #f8d6da; border: 1px solid #f5c6cb; font-weight: bold;\">' +\n",
       "                '<p><strong>WebIO not detected.</strong></p>' +\n",
       "                '<p>Please read ' +\n",
       "                '<a href=\"https://juliagizmos.github.io/WebIO.jl/latest/troubleshooting/not-detected/\" target=\"_blank\">the troubleshooting guide</a> ' +\n",
       "                'for more information on how to resolve this issue.</p>' +\n",
       "                '<p><a href=\"https://juliagizmos.github.io/WebIO.jl/latest/troubleshooting/not-detected/\" target=\"_blank\">https://juliagizmos.github.io/WebIO.jl/latest/troubleshooting/not-detected/</a></p>' +\n",
       "                '</div>'\n",
       "            );\n",
       "        return;\n",
       "    }\n",
       "    WebIO.mount(\n",
       "        document.querySelector('[data-webio-mountpoint=\"11453461491260129134\"]'),\n",
       "        {\"props\":{\"style\":{\"align-items\":\"center\",\"display\":\"flex\",\"flex-direction\":\"column\"}},\"nodeType\":\"DOM\",\"type\":\"node\",\"instanceArgs\":{\"namespace\":\"html\",\"tag\":\"div\"},\"children\":[{\"props\":{},\"nodeType\":\"DOM\",\"type\":\"node\",\"instanceArgs\":{\"namespace\":\"html\",\"tag\":\"pre\"},\"children\":[\"Gaussian elimination for column 4 with pivot NaN: add NaN * (row 4) to (row 5)\"]},{\"props\":{\"style\":{\"align-items\":\"center\",\"display\":\"flex\",\"flex-direction\":\"row\"}},\"nodeType\":\"DOM\",\"type\":\"node\",\"instanceArgs\":{\"namespace\":\"html\",\"tag\":\"div\"},\"children\":[{\"props\":{\"setInnerHtml\":\"<pre>5×5 Matrix{Float64}:\\n  -3.0    5.0    5.0    3.0   -7.0\\n   0.0    0.0   13.0   -5.0  -13.0\\n NaN    NaN    -Inf    Inf    Inf\\n NaN    NaN    NaN    NaN    NaN\\n NaN    NaN    NaN    NaN    NaN<\\/pre>\"},\"nodeType\":\"DOM\",\"type\":\"node\",\"instanceArgs\":{\"namespace\":\"html\",\"tag\":\"div\"},\"children\":[]},{\"props\":{\"style\":{\"height\":\"0.0px\",\"width\":\"1.0em\"}},\"nodeType\":\"DOM\",\"type\":\"node\",\"instanceArgs\":{\"namespace\":\"html\",\"tag\":\"div\"},\"children\":[]},\"⟶\",{\"props\":{\"style\":{\"height\":\"0.0px\",\"width\":\"1.0em\"}},\"nodeType\":\"DOM\",\"type\":\"node\",\"instanceArgs\":{\"namespace\":\"html\",\"tag\":\"div\"},\"children\":[]},{\"props\":{\"setInnerHtml\":\"<pre>5×5 Matrix{Float64}:\\n  -3.0    5.0    5.0    3.0   -7.0\\n   0.0    0.0   13.0   -5.0  -13.0\\n NaN    NaN    -Inf    Inf    Inf\\n NaN    NaN    NaN    NaN    NaN\\n NaN    NaN    NaN    NaN    NaN<\\/pre>\"},\"nodeType\":\"DOM\",\"type\":\"node\",\"instanceArgs\":{\"namespace\":\"html\",\"tag\":\"div\"},\"children\":[]}]}]},\n",
       "        window,\n",
       "    );\n",
       "    })()\n",
       "    </script>\n",
       "</div>\n"
      ],
      "text/plain": [
       "(div { style=Dict{Any, Any}(\"align-items\" => :center, \"display\" => \"flex\", \"flex-direction\" => \"column\") }\n",
       "  (pre\n",
       "    \"Gaussian elimination for column 4 with pivot NaN: add NaN * (row 4) to (row 5)\")\n",
       "  (div { style=Dict{Any, Any}(\"align-items\" => :center, \"display\" => \"flex\", \"flex-direction\" => \"row\") }\n",
       "    [-3.0 5.0 … 3.0 -7.0; 0.0 0.0 … -5.0 -13.0; … ; NaN NaN … NaN NaN; NaN NaN … NaN NaN]\n",
       "    (div { style=Dict{String, Measures.Length{U, Float64} where U}(\"height\" => 0.0px, \"width\" => 1.0em) })\n",
       "    \"⟶\"\n",
       "    (div { style=Dict{String, Measures.Length{U, Float64} where U}(\"height\" => 0.0px, \"width\" => 1.0em) })\n",
       "    [-3.0 5.0 … 3.0 -7.0; 0.0 0.0 … -5.0 -13.0; … ; NaN NaN … NaN NaN; NaN NaN … NaN NaN]))"
      ]
     },
     "metadata": {
      "application/vnd.webio.node+json": {
       "kernelId": "a047c49e-3ec7-4b3d-bfa2-571929d498c5"
      }
     },
     "output_type": "display_data"
    }
   ],
   "source": [
    "Abad = [-3   5   5   3  -7\n",
    "         3  -5   8  -8  -6\n",
    "         8   2   8   2  -8\n",
    "        -6  -2   6   4  -8\n",
    "        -8   4  -6  -1   8]\n",
    "visualize_gauss(Abad)"
   ]
  },
  {
   "cell_type": "markdown",
   "metadata": {},
   "source": [
    "But this matrix is not actually singular:"
   ]
  },
  {
   "cell_type": "code",
   "execution_count": 18,
   "metadata": {},
   "outputs": [
    {
     "data": {
      "text/plain": [
       "19211.999999999996"
      ]
     },
     "execution_count": 18,
     "metadata": {},
     "output_type": "execute_result"
    }
   ],
   "source": [
    "det(Abad)"
   ]
  },
  {
   "cell_type": "markdown",
   "metadata": {},
   "source": [
    "So we can fix the problem just by re-ordering the rows, e.g. swapping the first and last rows:"
   ]
  },
  {
   "cell_type": "code",
   "execution_count": 19,
   "metadata": {},
   "outputs": [
    {
     "data": {
      "application/vnd.webio.node+json": {
       "children": [
        {
         "children": [
          "Gaussian elimination for column 1 with pivot -8.0: add 0.375 * (row 1) to (row 2)"
         ],
         "instanceArgs": {
          "namespace": "html",
          "tag": "pre"
         },
         "nodeType": "DOM",
         "props": {},
         "type": "node"
        },
        {
         "children": [
          {
           "children": [],
           "instanceArgs": {
            "namespace": "html",
            "tag": "div"
           },
           "nodeType": "DOM",
           "props": {
            "setInnerHtml": "<pre>5×5 Matrix{Int64}:\n -8   4  -6  -1   8\n  3  -5   8  -8  -6\n  8   2   8   2  -8\n -6  -2   6   4  -8\n -3   5   5   3  -7</pre>"
           },
           "type": "node"
          },
          {
           "children": [],
           "instanceArgs": {
            "namespace": "html",
            "tag": "div"
           },
           "nodeType": "DOM",
           "props": {
            "style": {
             "height": "0.0px",
             "width": "1.0em"
            }
           },
           "type": "node"
          },
          "⟶",
          {
           "children": [],
           "instanceArgs": {
            "namespace": "html",
            "tag": "div"
           },
           "nodeType": "DOM",
           "props": {
            "style": {
             "height": "0.0px",
             "width": "1.0em"
            }
           },
           "type": "node"
          },
          {
           "children": [],
           "instanceArgs": {
            "namespace": "html",
            "tag": "div"
           },
           "nodeType": "DOM",
           "props": {
            "setInnerHtml": "<pre>5×5 Matrix{Float64}:\n -8.0   4.0  -6.0   -1.0     8.0\n  0.0  -3.5   5.75  -8.375  -3.0\n  8.0   2.0   8.0    2.0    -8.0\n -6.0  -2.0   6.0    4.0    -8.0\n -3.0   5.0   5.0    3.0    -7.0</pre>"
           },
           "type": "node"
          }
         ],
         "instanceArgs": {
          "namespace": "html",
          "tag": "div"
         },
         "nodeType": "DOM",
         "props": {
          "style": {
           "align-items": "center",
           "display": "flex",
           "flex-direction": "row"
          }
         },
         "type": "node"
        }
       ],
       "instanceArgs": {
        "namespace": "html",
        "tag": "div"
       },
       "nodeType": "DOM",
       "props": {
        "style": {
         "align-items": "center",
         "display": "flex",
         "flex-direction": "column"
        }
       },
       "type": "node"
      },
      "text/html": [
       "<div\n",
       "    class=\"webio-mountpoint\"\n",
       "    data-webio-mountpoint=\"2325796440417468400\"\n",
       ">\n",
       "    <script>\n",
       "    (function(){\n",
       "    // Some integrations (namely, IJulia/Jupyter) use an alternate render pathway than\n",
       "    // just putting the html on the page. If WebIO isn't defined, then it's pretty likely\n",
       "    // that we're in one of those situations and the integration just isn't installed\n",
       "    // correctly.\n",
       "    if (typeof window.WebIO === \"undefined\") {\n",
       "        document\n",
       "            .querySelector('[data-webio-mountpoint=\"2325796440417468400\"]')\n",
       "            .innerHTML = (\n",
       "                '<div style=\"padding: 1em; background-color: #f8d6da; border: 1px solid #f5c6cb; font-weight: bold;\">' +\n",
       "                '<p><strong>WebIO not detected.</strong></p>' +\n",
       "                '<p>Please read ' +\n",
       "                '<a href=\"https://juliagizmos.github.io/WebIO.jl/latest/troubleshooting/not-detected/\" target=\"_blank\">the troubleshooting guide</a> ' +\n",
       "                'for more information on how to resolve this issue.</p>' +\n",
       "                '<p><a href=\"https://juliagizmos.github.io/WebIO.jl/latest/troubleshooting/not-detected/\" target=\"_blank\">https://juliagizmos.github.io/WebIO.jl/latest/troubleshooting/not-detected/</a></p>' +\n",
       "                '</div>'\n",
       "            );\n",
       "        return;\n",
       "    }\n",
       "    WebIO.mount(\n",
       "        document.querySelector('[data-webio-mountpoint=\"2325796440417468400\"]'),\n",
       "        {\"props\":{\"style\":{\"align-items\":\"center\",\"display\":\"flex\",\"flex-direction\":\"column\"}},\"nodeType\":\"DOM\",\"type\":\"node\",\"instanceArgs\":{\"namespace\":\"html\",\"tag\":\"div\"},\"children\":[{\"props\":{},\"nodeType\":\"DOM\",\"type\":\"node\",\"instanceArgs\":{\"namespace\":\"html\",\"tag\":\"pre\"},\"children\":[\"Gaussian elimination for column 1 with pivot -8.0: add 0.375 * (row 1) to (row 2)\"]},{\"props\":{\"style\":{\"align-items\":\"center\",\"display\":\"flex\",\"flex-direction\":\"row\"}},\"nodeType\":\"DOM\",\"type\":\"node\",\"instanceArgs\":{\"namespace\":\"html\",\"tag\":\"div\"},\"children\":[{\"props\":{\"setInnerHtml\":\"<pre>5×5 Matrix{Int64}:\\n -8   4  -6  -1   8\\n  3  -5   8  -8  -6\\n  8   2   8   2  -8\\n -6  -2   6   4  -8\\n -3   5   5   3  -7<\\/pre>\"},\"nodeType\":\"DOM\",\"type\":\"node\",\"instanceArgs\":{\"namespace\":\"html\",\"tag\":\"div\"},\"children\":[]},{\"props\":{\"style\":{\"height\":\"0.0px\",\"width\":\"1.0em\"}},\"nodeType\":\"DOM\",\"type\":\"node\",\"instanceArgs\":{\"namespace\":\"html\",\"tag\":\"div\"},\"children\":[]},\"⟶\",{\"props\":{\"style\":{\"height\":\"0.0px\",\"width\":\"1.0em\"}},\"nodeType\":\"DOM\",\"type\":\"node\",\"instanceArgs\":{\"namespace\":\"html\",\"tag\":\"div\"},\"children\":[]},{\"props\":{\"setInnerHtml\":\"<pre>5×5 Matrix{Float64}:\\n -8.0   4.0  -6.0   -1.0     8.0\\n  0.0  -3.5   5.75  -8.375  -3.0\\n  8.0   2.0   8.0    2.0    -8.0\\n -6.0  -2.0   6.0    4.0    -8.0\\n -3.0   5.0   5.0    3.0    -7.0<\\/pre>\"},\"nodeType\":\"DOM\",\"type\":\"node\",\"instanceArgs\":{\"namespace\":\"html\",\"tag\":\"div\"},\"children\":[]}]}]},\n",
       "        window,\n",
       "    );\n",
       "    })()\n",
       "    </script>\n",
       "</div>\n"
      ],
      "text/plain": [
       "(div { style=Dict{Any, Any}(\"align-items\" => :center, \"display\" => \"flex\", \"flex-direction\" => \"column\") }\n",
       "  (pre\n",
       "    \"Gaussian elimination for column 1 with pivot -8.0: add 0.375 * (row 1) to (row 2)\")\n",
       "  (div { style=Dict{Any, Any}(\"align-items\" => :center, \"display\" => \"flex\", \"flex-direction\" => \"row\") }\n",
       "    [-8 4 … -1 8; 3 -5 … -8 -6; … ; -6 -2 … 4 -8; -3 5 … 3 -7]\n",
       "    (div { style=Dict{String, Measures.Length{U, Float64} where U}(\"height\" => 0.0px, \"width\" => 1.0em) })\n",
       "    \"⟶\"\n",
       "    (div { style=Dict{String, Measures.Length{U, Float64} where U}(\"height\" => 0.0px, \"width\" => 1.0em) })\n",
       "    [-8.0 4.0 … -1.0 8.0; 0.0 -3.5 … -8.375 -3.0; … ; -6.0 -2.0 … 4.0 -8.0; -3.0 5.0 … 3.0 -7.0]))"
      ]
     },
     "metadata": {
      "application/vnd.webio.node+json": {
       "kernelId": "a047c49e-3ec7-4b3d-bfa2-571929d498c5"
      }
     },
     "output_type": "display_data"
    },
    {
     "data": {
      "application/vnd.webio.node+json": {
       "children": [
        {
         "children": [
          "Gaussian elimination for column 1 with pivot -8.0: add 1.0 * (row 1) to (row 3)"
         ],
         "instanceArgs": {
          "namespace": "html",
          "tag": "pre"
         },
         "nodeType": "DOM",
         "props": {},
         "type": "node"
        },
        {
         "children": [
          {
           "children": [],
           "instanceArgs": {
            "namespace": "html",
            "tag": "div"
           },
           "nodeType": "DOM",
           "props": {
            "setInnerHtml": "<pre>5×5 Matrix{Float64}:\n -8.0   4.0  -6.0   -1.0     8.0\n  0.0  -3.5   5.75  -8.375  -3.0\n  8.0   2.0   8.0    2.0    -8.0\n -6.0  -2.0   6.0    4.0    -8.0\n -3.0   5.0   5.0    3.0    -7.0</pre>"
           },
           "type": "node"
          },
          {
           "children": [],
           "instanceArgs": {
            "namespace": "html",
            "tag": "div"
           },
           "nodeType": "DOM",
           "props": {
            "style": {
             "height": "0.0px",
             "width": "1.0em"
            }
           },
           "type": "node"
          },
          "⟶",
          {
           "children": [],
           "instanceArgs": {
            "namespace": "html",
            "tag": "div"
           },
           "nodeType": "DOM",
           "props": {
            "style": {
             "height": "0.0px",
             "width": "1.0em"
            }
           },
           "type": "node"
          },
          {
           "children": [],
           "instanceArgs": {
            "namespace": "html",
            "tag": "div"
           },
           "nodeType": "DOM",
           "props": {
            "setInnerHtml": "<pre>5×5 Matrix{Float64}:\n -8.0   4.0  -6.0   -1.0     8.0\n  0.0  -3.5   5.75  -8.375  -3.0\n  0.0   6.0   2.0    1.0     0.0\n -6.0  -2.0   6.0    4.0    -8.0\n -3.0   5.0   5.0    3.0    -7.0</pre>"
           },
           "type": "node"
          }
         ],
         "instanceArgs": {
          "namespace": "html",
          "tag": "div"
         },
         "nodeType": "DOM",
         "props": {
          "style": {
           "align-items": "center",
           "display": "flex",
           "flex-direction": "row"
          }
         },
         "type": "node"
        }
       ],
       "instanceArgs": {
        "namespace": "html",
        "tag": "div"
       },
       "nodeType": "DOM",
       "props": {
        "style": {
         "align-items": "center",
         "display": "flex",
         "flex-direction": "column"
        }
       },
       "type": "node"
      },
      "text/html": [
       "<div\n",
       "    class=\"webio-mountpoint\"\n",
       "    data-webio-mountpoint=\"6562471254214025566\"\n",
       ">\n",
       "    <script>\n",
       "    (function(){\n",
       "    // Some integrations (namely, IJulia/Jupyter) use an alternate render pathway than\n",
       "    // just putting the html on the page. If WebIO isn't defined, then it's pretty likely\n",
       "    // that we're in one of those situations and the integration just isn't installed\n",
       "    // correctly.\n",
       "    if (typeof window.WebIO === \"undefined\") {\n",
       "        document\n",
       "            .querySelector('[data-webio-mountpoint=\"6562471254214025566\"]')\n",
       "            .innerHTML = (\n",
       "                '<div style=\"padding: 1em; background-color: #f8d6da; border: 1px solid #f5c6cb; font-weight: bold;\">' +\n",
       "                '<p><strong>WebIO not detected.</strong></p>' +\n",
       "                '<p>Please read ' +\n",
       "                '<a href=\"https://juliagizmos.github.io/WebIO.jl/latest/troubleshooting/not-detected/\" target=\"_blank\">the troubleshooting guide</a> ' +\n",
       "                'for more information on how to resolve this issue.</p>' +\n",
       "                '<p><a href=\"https://juliagizmos.github.io/WebIO.jl/latest/troubleshooting/not-detected/\" target=\"_blank\">https://juliagizmos.github.io/WebIO.jl/latest/troubleshooting/not-detected/</a></p>' +\n",
       "                '</div>'\n",
       "            );\n",
       "        return;\n",
       "    }\n",
       "    WebIO.mount(\n",
       "        document.querySelector('[data-webio-mountpoint=\"6562471254214025566\"]'),\n",
       "        {\"props\":{\"style\":{\"align-items\":\"center\",\"display\":\"flex\",\"flex-direction\":\"column\"}},\"nodeType\":\"DOM\",\"type\":\"node\",\"instanceArgs\":{\"namespace\":\"html\",\"tag\":\"div\"},\"children\":[{\"props\":{},\"nodeType\":\"DOM\",\"type\":\"node\",\"instanceArgs\":{\"namespace\":\"html\",\"tag\":\"pre\"},\"children\":[\"Gaussian elimination for column 1 with pivot -8.0: add 1.0 * (row 1) to (row 3)\"]},{\"props\":{\"style\":{\"align-items\":\"center\",\"display\":\"flex\",\"flex-direction\":\"row\"}},\"nodeType\":\"DOM\",\"type\":\"node\",\"instanceArgs\":{\"namespace\":\"html\",\"tag\":\"div\"},\"children\":[{\"props\":{\"setInnerHtml\":\"<pre>5×5 Matrix{Float64}:\\n -8.0   4.0  -6.0   -1.0     8.0\\n  0.0  -3.5   5.75  -8.375  -3.0\\n  8.0   2.0   8.0    2.0    -8.0\\n -6.0  -2.0   6.0    4.0    -8.0\\n -3.0   5.0   5.0    3.0    -7.0<\\/pre>\"},\"nodeType\":\"DOM\",\"type\":\"node\",\"instanceArgs\":{\"namespace\":\"html\",\"tag\":\"div\"},\"children\":[]},{\"props\":{\"style\":{\"height\":\"0.0px\",\"width\":\"1.0em\"}},\"nodeType\":\"DOM\",\"type\":\"node\",\"instanceArgs\":{\"namespace\":\"html\",\"tag\":\"div\"},\"children\":[]},\"⟶\",{\"props\":{\"style\":{\"height\":\"0.0px\",\"width\":\"1.0em\"}},\"nodeType\":\"DOM\",\"type\":\"node\",\"instanceArgs\":{\"namespace\":\"html\",\"tag\":\"div\"},\"children\":[]},{\"props\":{\"setInnerHtml\":\"<pre>5×5 Matrix{Float64}:\\n -8.0   4.0  -6.0   -1.0     8.0\\n  0.0  -3.5   5.75  -8.375  -3.0\\n  0.0   6.0   2.0    1.0     0.0\\n -6.0  -2.0   6.0    4.0    -8.0\\n -3.0   5.0   5.0    3.0    -7.0<\\/pre>\"},\"nodeType\":\"DOM\",\"type\":\"node\",\"instanceArgs\":{\"namespace\":\"html\",\"tag\":\"div\"},\"children\":[]}]}]},\n",
       "        window,\n",
       "    );\n",
       "    })()\n",
       "    </script>\n",
       "</div>\n"
      ],
      "text/plain": [
       "(div { style=Dict{Any, Any}(\"align-items\" => :center, \"display\" => \"flex\", \"flex-direction\" => \"column\") }\n",
       "  (pre\n",
       "    \"Gaussian elimination for column 1 with pivot -8.0: add 1.0 * (row 1) to (row 3)\")\n",
       "  (div { style=Dict{Any, Any}(\"align-items\" => :center, \"display\" => \"flex\", \"flex-direction\" => \"row\") }\n",
       "    [-8.0 4.0 … -1.0 8.0; 0.0 -3.5 … -8.375 -3.0; … ; -6.0 -2.0 … 4.0 -8.0; -3.0 5.0 … 3.0 -7.0]\n",
       "    (div { style=Dict{String, Measures.Length{U, Float64} where U}(\"height\" => 0.0px, \"width\" => 1.0em) })\n",
       "    \"⟶\"\n",
       "    (div { style=Dict{String, Measures.Length{U, Float64} where U}(\"height\" => 0.0px, \"width\" => 1.0em) })\n",
       "    [-8.0 4.0 … -1.0 8.0; 0.0 -3.5 … -8.375 -3.0; … ; -6.0 -2.0 … 4.0 -8.0; -3.0 5.0 … 3.0 -7.0]))"
      ]
     },
     "metadata": {
      "application/vnd.webio.node+json": {
       "kernelId": "a047c49e-3ec7-4b3d-bfa2-571929d498c5"
      }
     },
     "output_type": "display_data"
    },
    {
     "data": {
      "application/vnd.webio.node+json": {
       "children": [
        {
         "children": [
          "Gaussian elimination for column 1 with pivot -8.0: add -0.75 * (row 1) to (row 4)"
         ],
         "instanceArgs": {
          "namespace": "html",
          "tag": "pre"
         },
         "nodeType": "DOM",
         "props": {},
         "type": "node"
        },
        {
         "children": [
          {
           "children": [],
           "instanceArgs": {
            "namespace": "html",
            "tag": "div"
           },
           "nodeType": "DOM",
           "props": {
            "setInnerHtml": "<pre>5×5 Matrix{Float64}:\n -8.0   4.0  -6.0   -1.0     8.0\n  0.0  -3.5   5.75  -8.375  -3.0\n  0.0   6.0   2.0    1.0     0.0\n -6.0  -2.0   6.0    4.0    -8.0\n -3.0   5.0   5.0    3.0    -7.0</pre>"
           },
           "type": "node"
          },
          {
           "children": [],
           "instanceArgs": {
            "namespace": "html",
            "tag": "div"
           },
           "nodeType": "DOM",
           "props": {
            "style": {
             "height": "0.0px",
             "width": "1.0em"
            }
           },
           "type": "node"
          },
          "⟶",
          {
           "children": [],
           "instanceArgs": {
            "namespace": "html",
            "tag": "div"
           },
           "nodeType": "DOM",
           "props": {
            "style": {
             "height": "0.0px",
             "width": "1.0em"
            }
           },
           "type": "node"
          },
          {
           "children": [],
           "instanceArgs": {
            "namespace": "html",
            "tag": "div"
           },
           "nodeType": "DOM",
           "props": {
            "setInnerHtml": "<pre>5×5 Matrix{Float64}:\n -8.0   4.0  -6.0   -1.0      8.0\n  0.0  -3.5   5.75  -8.375   -3.0\n  0.0   6.0   2.0    1.0      0.0\n  0.0  -5.0  10.5    4.75   -14.0\n -3.0   5.0   5.0    3.0     -7.0</pre>"
           },
           "type": "node"
          }
         ],
         "instanceArgs": {
          "namespace": "html",
          "tag": "div"
         },
         "nodeType": "DOM",
         "props": {
          "style": {
           "align-items": "center",
           "display": "flex",
           "flex-direction": "row"
          }
         },
         "type": "node"
        }
       ],
       "instanceArgs": {
        "namespace": "html",
        "tag": "div"
       },
       "nodeType": "DOM",
       "props": {
        "style": {
         "align-items": "center",
         "display": "flex",
         "flex-direction": "column"
        }
       },
       "type": "node"
      },
      "text/html": [
       "<div\n",
       "    class=\"webio-mountpoint\"\n",
       "    data-webio-mountpoint=\"1899186617730412850\"\n",
       ">\n",
       "    <script>\n",
       "    (function(){\n",
       "    // Some integrations (namely, IJulia/Jupyter) use an alternate render pathway than\n",
       "    // just putting the html on the page. If WebIO isn't defined, then it's pretty likely\n",
       "    // that we're in one of those situations and the integration just isn't installed\n",
       "    // correctly.\n",
       "    if (typeof window.WebIO === \"undefined\") {\n",
       "        document\n",
       "            .querySelector('[data-webio-mountpoint=\"1899186617730412850\"]')\n",
       "            .innerHTML = (\n",
       "                '<div style=\"padding: 1em; background-color: #f8d6da; border: 1px solid #f5c6cb; font-weight: bold;\">' +\n",
       "                '<p><strong>WebIO not detected.</strong></p>' +\n",
       "                '<p>Please read ' +\n",
       "                '<a href=\"https://juliagizmos.github.io/WebIO.jl/latest/troubleshooting/not-detected/\" target=\"_blank\">the troubleshooting guide</a> ' +\n",
       "                'for more information on how to resolve this issue.</p>' +\n",
       "                '<p><a href=\"https://juliagizmos.github.io/WebIO.jl/latest/troubleshooting/not-detected/\" target=\"_blank\">https://juliagizmos.github.io/WebIO.jl/latest/troubleshooting/not-detected/</a></p>' +\n",
       "                '</div>'\n",
       "            );\n",
       "        return;\n",
       "    }\n",
       "    WebIO.mount(\n",
       "        document.querySelector('[data-webio-mountpoint=\"1899186617730412850\"]'),\n",
       "        {\"props\":{\"style\":{\"align-items\":\"center\",\"display\":\"flex\",\"flex-direction\":\"column\"}},\"nodeType\":\"DOM\",\"type\":\"node\",\"instanceArgs\":{\"namespace\":\"html\",\"tag\":\"div\"},\"children\":[{\"props\":{},\"nodeType\":\"DOM\",\"type\":\"node\",\"instanceArgs\":{\"namespace\":\"html\",\"tag\":\"pre\"},\"children\":[\"Gaussian elimination for column 1 with pivot -8.0: add -0.75 * (row 1) to (row 4)\"]},{\"props\":{\"style\":{\"align-items\":\"center\",\"display\":\"flex\",\"flex-direction\":\"row\"}},\"nodeType\":\"DOM\",\"type\":\"node\",\"instanceArgs\":{\"namespace\":\"html\",\"tag\":\"div\"},\"children\":[{\"props\":{\"setInnerHtml\":\"<pre>5×5 Matrix{Float64}:\\n -8.0   4.0  -6.0   -1.0     8.0\\n  0.0  -3.5   5.75  -8.375  -3.0\\n  0.0   6.0   2.0    1.0     0.0\\n -6.0  -2.0   6.0    4.0    -8.0\\n -3.0   5.0   5.0    3.0    -7.0<\\/pre>\"},\"nodeType\":\"DOM\",\"type\":\"node\",\"instanceArgs\":{\"namespace\":\"html\",\"tag\":\"div\"},\"children\":[]},{\"props\":{\"style\":{\"height\":\"0.0px\",\"width\":\"1.0em\"}},\"nodeType\":\"DOM\",\"type\":\"node\",\"instanceArgs\":{\"namespace\":\"html\",\"tag\":\"div\"},\"children\":[]},\"⟶\",{\"props\":{\"style\":{\"height\":\"0.0px\",\"width\":\"1.0em\"}},\"nodeType\":\"DOM\",\"type\":\"node\",\"instanceArgs\":{\"namespace\":\"html\",\"tag\":\"div\"},\"children\":[]},{\"props\":{\"setInnerHtml\":\"<pre>5×5 Matrix{Float64}:\\n -8.0   4.0  -6.0   -1.0      8.0\\n  0.0  -3.5   5.75  -8.375   -3.0\\n  0.0   6.0   2.0    1.0      0.0\\n  0.0  -5.0  10.5    4.75   -14.0\\n -3.0   5.0   5.0    3.0     -7.0<\\/pre>\"},\"nodeType\":\"DOM\",\"type\":\"node\",\"instanceArgs\":{\"namespace\":\"html\",\"tag\":\"div\"},\"children\":[]}]}]},\n",
       "        window,\n",
       "    );\n",
       "    })()\n",
       "    </script>\n",
       "</div>\n"
      ],
      "text/plain": [
       "(div { style=Dict{Any, Any}(\"align-items\" => :center, \"display\" => \"flex\", \"flex-direction\" => \"column\") }\n",
       "  (pre\n",
       "    \"Gaussian elimination for column 1 with pivot -8.0: add -0.75 * (row 1) to (row 4)\")\n",
       "  (div { style=Dict{Any, Any}(\"align-items\" => :center, \"display\" => \"flex\", \"flex-direction\" => \"row\") }\n",
       "    [-8.0 4.0 … -1.0 8.0; 0.0 -3.5 … -8.375 -3.0; … ; -6.0 -2.0 … 4.0 -8.0; -3.0 5.0 … 3.0 -7.0]\n",
       "    (div { style=Dict{String, Measures.Length{U, Float64} where U}(\"height\" => 0.0px, \"width\" => 1.0em) })\n",
       "    \"⟶\"\n",
       "    (div { style=Dict{String, Measures.Length{U, Float64} where U}(\"height\" => 0.0px, \"width\" => 1.0em) })\n",
       "    [-8.0 4.0 … -1.0 8.0; 0.0 -3.5 … -8.375 -3.0; … ; 0.0 -5.0 … 4.75 -14.0; -3.0 5.0 … 3.0 -7.0]))"
      ]
     },
     "metadata": {
      "application/vnd.webio.node+json": {
       "kernelId": "a047c49e-3ec7-4b3d-bfa2-571929d498c5"
      }
     },
     "output_type": "display_data"
    },
    {
     "data": {
      "application/vnd.webio.node+json": {
       "children": [
        {
         "children": [
          "Gaussian elimination for column 1 with pivot -8.0: add -0.375 * (row 1) to (row 5)"
         ],
         "instanceArgs": {
          "namespace": "html",
          "tag": "pre"
         },
         "nodeType": "DOM",
         "props": {},
         "type": "node"
        },
        {
         "children": [
          {
           "children": [],
           "instanceArgs": {
            "namespace": "html",
            "tag": "div"
           },
           "nodeType": "DOM",
           "props": {
            "setInnerHtml": "<pre>5×5 Matrix{Float64}:\n -8.0   4.0  -6.0   -1.0      8.0\n  0.0  -3.5   5.75  -8.375   -3.0\n  0.0   6.0   2.0    1.0      0.0\n  0.0  -5.0  10.5    4.75   -14.0\n -3.0   5.0   5.0    3.0     -7.0</pre>"
           },
           "type": "node"
          },
          {
           "children": [],
           "instanceArgs": {
            "namespace": "html",
            "tag": "div"
           },
           "nodeType": "DOM",
           "props": {
            "style": {
             "height": "0.0px",
             "width": "1.0em"
            }
           },
           "type": "node"
          },
          "⟶",
          {
           "children": [],
           "instanceArgs": {
            "namespace": "html",
            "tag": "div"
           },
           "nodeType": "DOM",
           "props": {
            "style": {
             "height": "0.0px",
             "width": "1.0em"
            }
           },
           "type": "node"
          },
          {
           "children": [],
           "instanceArgs": {
            "namespace": "html",
            "tag": "div"
           },
           "nodeType": "DOM",
           "props": {
            "setInnerHtml": "<pre>5×5 Matrix{Float64}:\n -8.0   4.0  -6.0   -1.0      8.0\n  0.0  -3.5   5.75  -8.375   -3.0\n  0.0   6.0   2.0    1.0      0.0\n  0.0  -5.0  10.5    4.75   -14.0\n  0.0   3.5   7.25   3.375  -10.0</pre>"
           },
           "type": "node"
          }
         ],
         "instanceArgs": {
          "namespace": "html",
          "tag": "div"
         },
         "nodeType": "DOM",
         "props": {
          "style": {
           "align-items": "center",
           "display": "flex",
           "flex-direction": "row"
          }
         },
         "type": "node"
        }
       ],
       "instanceArgs": {
        "namespace": "html",
        "tag": "div"
       },
       "nodeType": "DOM",
       "props": {
        "style": {
         "align-items": "center",
         "display": "flex",
         "flex-direction": "column"
        }
       },
       "type": "node"
      },
      "text/html": [
       "<div\n",
       "    class=\"webio-mountpoint\"\n",
       "    data-webio-mountpoint=\"6076952842196477887\"\n",
       ">\n",
       "    <script>\n",
       "    (function(){\n",
       "    // Some integrations (namely, IJulia/Jupyter) use an alternate render pathway than\n",
       "    // just putting the html on the page. If WebIO isn't defined, then it's pretty likely\n",
       "    // that we're in one of those situations and the integration just isn't installed\n",
       "    // correctly.\n",
       "    if (typeof window.WebIO === \"undefined\") {\n",
       "        document\n",
       "            .querySelector('[data-webio-mountpoint=\"6076952842196477887\"]')\n",
       "            .innerHTML = (\n",
       "                '<div style=\"padding: 1em; background-color: #f8d6da; border: 1px solid #f5c6cb; font-weight: bold;\">' +\n",
       "                '<p><strong>WebIO not detected.</strong></p>' +\n",
       "                '<p>Please read ' +\n",
       "                '<a href=\"https://juliagizmos.github.io/WebIO.jl/latest/troubleshooting/not-detected/\" target=\"_blank\">the troubleshooting guide</a> ' +\n",
       "                'for more information on how to resolve this issue.</p>' +\n",
       "                '<p><a href=\"https://juliagizmos.github.io/WebIO.jl/latest/troubleshooting/not-detected/\" target=\"_blank\">https://juliagizmos.github.io/WebIO.jl/latest/troubleshooting/not-detected/</a></p>' +\n",
       "                '</div>'\n",
       "            );\n",
       "        return;\n",
       "    }\n",
       "    WebIO.mount(\n",
       "        document.querySelector('[data-webio-mountpoint=\"6076952842196477887\"]'),\n",
       "        {\"props\":{\"style\":{\"align-items\":\"center\",\"display\":\"flex\",\"flex-direction\":\"column\"}},\"nodeType\":\"DOM\",\"type\":\"node\",\"instanceArgs\":{\"namespace\":\"html\",\"tag\":\"div\"},\"children\":[{\"props\":{},\"nodeType\":\"DOM\",\"type\":\"node\",\"instanceArgs\":{\"namespace\":\"html\",\"tag\":\"pre\"},\"children\":[\"Gaussian elimination for column 1 with pivot -8.0: add -0.375 * (row 1) to (row 5)\"]},{\"props\":{\"style\":{\"align-items\":\"center\",\"display\":\"flex\",\"flex-direction\":\"row\"}},\"nodeType\":\"DOM\",\"type\":\"node\",\"instanceArgs\":{\"namespace\":\"html\",\"tag\":\"div\"},\"children\":[{\"props\":{\"setInnerHtml\":\"<pre>5×5 Matrix{Float64}:\\n -8.0   4.0  -6.0   -1.0      8.0\\n  0.0  -3.5   5.75  -8.375   -3.0\\n  0.0   6.0   2.0    1.0      0.0\\n  0.0  -5.0  10.5    4.75   -14.0\\n -3.0   5.0   5.0    3.0     -7.0<\\/pre>\"},\"nodeType\":\"DOM\",\"type\":\"node\",\"instanceArgs\":{\"namespace\":\"html\",\"tag\":\"div\"},\"children\":[]},{\"props\":{\"style\":{\"height\":\"0.0px\",\"width\":\"1.0em\"}},\"nodeType\":\"DOM\",\"type\":\"node\",\"instanceArgs\":{\"namespace\":\"html\",\"tag\":\"div\"},\"children\":[]},\"⟶\",{\"props\":{\"style\":{\"height\":\"0.0px\",\"width\":\"1.0em\"}},\"nodeType\":\"DOM\",\"type\":\"node\",\"instanceArgs\":{\"namespace\":\"html\",\"tag\":\"div\"},\"children\":[]},{\"props\":{\"setInnerHtml\":\"<pre>5×5 Matrix{Float64}:\\n -8.0   4.0  -6.0   -1.0      8.0\\n  0.0  -3.5   5.75  -8.375   -3.0\\n  0.0   6.0   2.0    1.0      0.0\\n  0.0  -5.0  10.5    4.75   -14.0\\n  0.0   3.5   7.25   3.375  -10.0<\\/pre>\"},\"nodeType\":\"DOM\",\"type\":\"node\",\"instanceArgs\":{\"namespace\":\"html\",\"tag\":\"div\"},\"children\":[]}]}]},\n",
       "        window,\n",
       "    );\n",
       "    })()\n",
       "    </script>\n",
       "</div>\n"
      ],
      "text/plain": [
       "(div { style=Dict{Any, Any}(\"align-items\" => :center, \"display\" => \"flex\", \"flex-direction\" => \"column\") }\n",
       "  (pre\n",
       "    \"Gaussian elimination for column 1 with pivot -8.0: add -0.375 * (row 1) to (row 5)\")\n",
       "  (div { style=Dict{Any, Any}(\"align-items\" => :center, \"display\" => \"flex\", \"flex-direction\" => \"row\") }\n",
       "    [-8.0 4.0 … -1.0 8.0; 0.0 -3.5 … -8.375 -3.0; … ; 0.0 -5.0 … 4.75 -14.0; -3.0 5.0 … 3.0 -7.0]\n",
       "    (div { style=Dict{String, Measures.Length{U, Float64} where U}(\"height\" => 0.0px, \"width\" => 1.0em) })\n",
       "    \"⟶\"\n",
       "    (div { style=Dict{String, Measures.Length{U, Float64} where U}(\"height\" => 0.0px, \"width\" => 1.0em) })\n",
       "    [-8.0 4.0 … -1.0 8.0; 0.0 -3.5 … -8.375 -3.0; … ; 0.0 -5.0 … 4.75 -14.0; 0.0 3.5 … 3.375 -10.0]))"
      ]
     },
     "metadata": {
      "application/vnd.webio.node+json": {
       "kernelId": "a047c49e-3ec7-4b3d-bfa2-571929d498c5"
      }
     },
     "output_type": "display_data"
    },
    {
     "data": {
      "application/vnd.webio.node+json": {
       "children": [
        {
         "children": [
          "Gaussian elimination for column 2 with pivot -3.5: add 1.714 * (row 2) to (row 3)"
         ],
         "instanceArgs": {
          "namespace": "html",
          "tag": "pre"
         },
         "nodeType": "DOM",
         "props": {},
         "type": "node"
        },
        {
         "children": [
          {
           "children": [],
           "instanceArgs": {
            "namespace": "html",
            "tag": "div"
           },
           "nodeType": "DOM",
           "props": {
            "setInnerHtml": "<pre>5×5 Matrix{Float64}:\n -8.0   4.0  -6.0   -1.0      8.0\n  0.0  -3.5   5.75  -8.375   -3.0\n  0.0   6.0   2.0    1.0      0.0\n  0.0  -5.0  10.5    4.75   -14.0\n  0.0   3.5   7.25   3.375  -10.0</pre>"
           },
           "type": "node"
          },
          {
           "children": [],
           "instanceArgs": {
            "namespace": "html",
            "tag": "div"
           },
           "nodeType": "DOM",
           "props": {
            "style": {
             "height": "0.0px",
             "width": "1.0em"
            }
           },
           "type": "node"
          },
          "⟶",
          {
           "children": [],
           "instanceArgs": {
            "namespace": "html",
            "tag": "div"
           },
           "nodeType": "DOM",
           "props": {
            "style": {
             "height": "0.0px",
             "width": "1.0em"
            }
           },
           "type": "node"
          },
          {
           "children": [],
           "instanceArgs": {
            "namespace": "html",
            "tag": "div"
           },
           "nodeType": "DOM",
           "props": {
            "setInnerHtml": "<pre>5×5 Matrix{Float64}:\n -8.0   4.0  -6.0     -1.0      8.0\n  0.0  -3.5   5.75    -8.375   -3.0\n  0.0   0.0  11.857  -13.357   -5.143\n  0.0  -5.0  10.5      4.75   -14.0\n  0.0   3.5   7.25     3.375  -10.0</pre>"
           },
           "type": "node"
          }
         ],
         "instanceArgs": {
          "namespace": "html",
          "tag": "div"
         },
         "nodeType": "DOM",
         "props": {
          "style": {
           "align-items": "center",
           "display": "flex",
           "flex-direction": "row"
          }
         },
         "type": "node"
        }
       ],
       "instanceArgs": {
        "namespace": "html",
        "tag": "div"
       },
       "nodeType": "DOM",
       "props": {
        "style": {
         "align-items": "center",
         "display": "flex",
         "flex-direction": "column"
        }
       },
       "type": "node"
      },
      "text/html": [
       "<div\n",
       "    class=\"webio-mountpoint\"\n",
       "    data-webio-mountpoint=\"6115465832458219942\"\n",
       ">\n",
       "    <script>\n",
       "    (function(){\n",
       "    // Some integrations (namely, IJulia/Jupyter) use an alternate render pathway than\n",
       "    // just putting the html on the page. If WebIO isn't defined, then it's pretty likely\n",
       "    // that we're in one of those situations and the integration just isn't installed\n",
       "    // correctly.\n",
       "    if (typeof window.WebIO === \"undefined\") {\n",
       "        document\n",
       "            .querySelector('[data-webio-mountpoint=\"6115465832458219942\"]')\n",
       "            .innerHTML = (\n",
       "                '<div style=\"padding: 1em; background-color: #f8d6da; border: 1px solid #f5c6cb; font-weight: bold;\">' +\n",
       "                '<p><strong>WebIO not detected.</strong></p>' +\n",
       "                '<p>Please read ' +\n",
       "                '<a href=\"https://juliagizmos.github.io/WebIO.jl/latest/troubleshooting/not-detected/\" target=\"_blank\">the troubleshooting guide</a> ' +\n",
       "                'for more information on how to resolve this issue.</p>' +\n",
       "                '<p><a href=\"https://juliagizmos.github.io/WebIO.jl/latest/troubleshooting/not-detected/\" target=\"_blank\">https://juliagizmos.github.io/WebIO.jl/latest/troubleshooting/not-detected/</a></p>' +\n",
       "                '</div>'\n",
       "            );\n",
       "        return;\n",
       "    }\n",
       "    WebIO.mount(\n",
       "        document.querySelector('[data-webio-mountpoint=\"6115465832458219942\"]'),\n",
       "        {\"props\":{\"style\":{\"align-items\":\"center\",\"display\":\"flex\",\"flex-direction\":\"column\"}},\"nodeType\":\"DOM\",\"type\":\"node\",\"instanceArgs\":{\"namespace\":\"html\",\"tag\":\"div\"},\"children\":[{\"props\":{},\"nodeType\":\"DOM\",\"type\":\"node\",\"instanceArgs\":{\"namespace\":\"html\",\"tag\":\"pre\"},\"children\":[\"Gaussian elimination for column 2 with pivot -3.5: add 1.714 * (row 2) to (row 3)\"]},{\"props\":{\"style\":{\"align-items\":\"center\",\"display\":\"flex\",\"flex-direction\":\"row\"}},\"nodeType\":\"DOM\",\"type\":\"node\",\"instanceArgs\":{\"namespace\":\"html\",\"tag\":\"div\"},\"children\":[{\"props\":{\"setInnerHtml\":\"<pre>5×5 Matrix{Float64}:\\n -8.0   4.0  -6.0   -1.0      8.0\\n  0.0  -3.5   5.75  -8.375   -3.0\\n  0.0   6.0   2.0    1.0      0.0\\n  0.0  -5.0  10.5    4.75   -14.0\\n  0.0   3.5   7.25   3.375  -10.0<\\/pre>\"},\"nodeType\":\"DOM\",\"type\":\"node\",\"instanceArgs\":{\"namespace\":\"html\",\"tag\":\"div\"},\"children\":[]},{\"props\":{\"style\":{\"height\":\"0.0px\",\"width\":\"1.0em\"}},\"nodeType\":\"DOM\",\"type\":\"node\",\"instanceArgs\":{\"namespace\":\"html\",\"tag\":\"div\"},\"children\":[]},\"⟶\",{\"props\":{\"style\":{\"height\":\"0.0px\",\"width\":\"1.0em\"}},\"nodeType\":\"DOM\",\"type\":\"node\",\"instanceArgs\":{\"namespace\":\"html\",\"tag\":\"div\"},\"children\":[]},{\"props\":{\"setInnerHtml\":\"<pre>5×5 Matrix{Float64}:\\n -8.0   4.0  -6.0     -1.0      8.0\\n  0.0  -3.5   5.75    -8.375   -3.0\\n  0.0   0.0  11.857  -13.357   -5.143\\n  0.0  -5.0  10.5      4.75   -14.0\\n  0.0   3.5   7.25     3.375  -10.0<\\/pre>\"},\"nodeType\":\"DOM\",\"type\":\"node\",\"instanceArgs\":{\"namespace\":\"html\",\"tag\":\"div\"},\"children\":[]}]}]},\n",
       "        window,\n",
       "    );\n",
       "    })()\n",
       "    </script>\n",
       "</div>\n"
      ],
      "text/plain": [
       "(div { style=Dict{Any, Any}(\"align-items\" => :center, \"display\" => \"flex\", \"flex-direction\" => \"column\") }\n",
       "  (pre\n",
       "    \"Gaussian elimination for column 2 with pivot -3.5: add 1.714 * (row 2) to (row 3)\")\n",
       "  (div { style=Dict{Any, Any}(\"align-items\" => :center, \"display\" => \"flex\", \"flex-direction\" => \"row\") }\n",
       "    [-8.0 4.0 … -1.0 8.0; 0.0 -3.5 … -8.375 -3.0; … ; 0.0 -5.0 … 4.75 -14.0; 0.0 3.5 … 3.375 -10.0]\n",
       "    (div { style=Dict{String, Measures.Length{U, Float64} where U}(\"height\" => 0.0px, \"width\" => 1.0em) })\n",
       "    \"⟶\"\n",
       "    (div { style=Dict{String, Measures.Length{U, Float64} where U}(\"height\" => 0.0px, \"width\" => 1.0em) })\n",
       "    [-8.0 4.0 … -1.0 8.0; 0.0 -3.5 … -8.375 -3.0; … ; 0.0 -5.0 … 4.75 -14.0; 0.0 3.5 … 3.375 -10.0]))"
      ]
     },
     "metadata": {
      "application/vnd.webio.node+json": {
       "kernelId": "a047c49e-3ec7-4b3d-bfa2-571929d498c5"
      }
     },
     "output_type": "display_data"
    },
    {
     "data": {
      "application/vnd.webio.node+json": {
       "children": [
        {
         "children": [
          "Gaussian elimination for column 2 with pivot -3.5: add -1.429 * (row 2) to (row 4)"
         ],
         "instanceArgs": {
          "namespace": "html",
          "tag": "pre"
         },
         "nodeType": "DOM",
         "props": {},
         "type": "node"
        },
        {
         "children": [
          {
           "children": [],
           "instanceArgs": {
            "namespace": "html",
            "tag": "div"
           },
           "nodeType": "DOM",
           "props": {
            "setInnerHtml": "<pre>5×5 Matrix{Float64}:\n -8.0   4.0  -6.0     -1.0      8.0\n  0.0  -3.5   5.75    -8.375   -3.0\n  0.0   0.0  11.857  -13.357   -5.143\n  0.0  -5.0  10.5      4.75   -14.0\n  0.0   3.5   7.25     3.375  -10.0</pre>"
           },
           "type": "node"
          },
          {
           "children": [],
           "instanceArgs": {
            "namespace": "html",
            "tag": "div"
           },
           "nodeType": "DOM",
           "props": {
            "style": {
             "height": "0.0px",
             "width": "1.0em"
            }
           },
           "type": "node"
          },
          "⟶",
          {
           "children": [],
           "instanceArgs": {
            "namespace": "html",
            "tag": "div"
           },
           "nodeType": "DOM",
           "props": {
            "style": {
             "height": "0.0px",
             "width": "1.0em"
            }
           },
           "type": "node"
          },
          {
           "children": [],
           "instanceArgs": {
            "namespace": "html",
            "tag": "div"
           },
           "nodeType": "DOM",
           "props": {
            "setInnerHtml": "<pre>5×5 Matrix{Float64}:\n -8.0   4.0  -6.0     -1.0      8.0\n  0.0  -3.5   5.75    -8.375   -3.0\n  0.0   0.0  11.857  -13.357   -5.143\n  0.0   0.0   2.286   16.714   -9.714\n  0.0   3.5   7.25     3.375  -10.0</pre>"
           },
           "type": "node"
          }
         ],
         "instanceArgs": {
          "namespace": "html",
          "tag": "div"
         },
         "nodeType": "DOM",
         "props": {
          "style": {
           "align-items": "center",
           "display": "flex",
           "flex-direction": "row"
          }
         },
         "type": "node"
        }
       ],
       "instanceArgs": {
        "namespace": "html",
        "tag": "div"
       },
       "nodeType": "DOM",
       "props": {
        "style": {
         "align-items": "center",
         "display": "flex",
         "flex-direction": "column"
        }
       },
       "type": "node"
      },
      "text/html": [
       "<div\n",
       "    class=\"webio-mountpoint\"\n",
       "    data-webio-mountpoint=\"14390884598752295648\"\n",
       ">\n",
       "    <script>\n",
       "    (function(){\n",
       "    // Some integrations (namely, IJulia/Jupyter) use an alternate render pathway than\n",
       "    // just putting the html on the page. If WebIO isn't defined, then it's pretty likely\n",
       "    // that we're in one of those situations and the integration just isn't installed\n",
       "    // correctly.\n",
       "    if (typeof window.WebIO === \"undefined\") {\n",
       "        document\n",
       "            .querySelector('[data-webio-mountpoint=\"14390884598752295648\"]')\n",
       "            .innerHTML = (\n",
       "                '<div style=\"padding: 1em; background-color: #f8d6da; border: 1px solid #f5c6cb; font-weight: bold;\">' +\n",
       "                '<p><strong>WebIO not detected.</strong></p>' +\n",
       "                '<p>Please read ' +\n",
       "                '<a href=\"https://juliagizmos.github.io/WebIO.jl/latest/troubleshooting/not-detected/\" target=\"_blank\">the troubleshooting guide</a> ' +\n",
       "                'for more information on how to resolve this issue.</p>' +\n",
       "                '<p><a href=\"https://juliagizmos.github.io/WebIO.jl/latest/troubleshooting/not-detected/\" target=\"_blank\">https://juliagizmos.github.io/WebIO.jl/latest/troubleshooting/not-detected/</a></p>' +\n",
       "                '</div>'\n",
       "            );\n",
       "        return;\n",
       "    }\n",
       "    WebIO.mount(\n",
       "        document.querySelector('[data-webio-mountpoint=\"14390884598752295648\"]'),\n",
       "        {\"props\":{\"style\":{\"align-items\":\"center\",\"display\":\"flex\",\"flex-direction\":\"column\"}},\"nodeType\":\"DOM\",\"type\":\"node\",\"instanceArgs\":{\"namespace\":\"html\",\"tag\":\"div\"},\"children\":[{\"props\":{},\"nodeType\":\"DOM\",\"type\":\"node\",\"instanceArgs\":{\"namespace\":\"html\",\"tag\":\"pre\"},\"children\":[\"Gaussian elimination for column 2 with pivot -3.5: add -1.429 * (row 2) to (row 4)\"]},{\"props\":{\"style\":{\"align-items\":\"center\",\"display\":\"flex\",\"flex-direction\":\"row\"}},\"nodeType\":\"DOM\",\"type\":\"node\",\"instanceArgs\":{\"namespace\":\"html\",\"tag\":\"div\"},\"children\":[{\"props\":{\"setInnerHtml\":\"<pre>5×5 Matrix{Float64}:\\n -8.0   4.0  -6.0     -1.0      8.0\\n  0.0  -3.5   5.75    -8.375   -3.0\\n  0.0   0.0  11.857  -13.357   -5.143\\n  0.0  -5.0  10.5      4.75   -14.0\\n  0.0   3.5   7.25     3.375  -10.0<\\/pre>\"},\"nodeType\":\"DOM\",\"type\":\"node\",\"instanceArgs\":{\"namespace\":\"html\",\"tag\":\"div\"},\"children\":[]},{\"props\":{\"style\":{\"height\":\"0.0px\",\"width\":\"1.0em\"}},\"nodeType\":\"DOM\",\"type\":\"node\",\"instanceArgs\":{\"namespace\":\"html\",\"tag\":\"div\"},\"children\":[]},\"⟶\",{\"props\":{\"style\":{\"height\":\"0.0px\",\"width\":\"1.0em\"}},\"nodeType\":\"DOM\",\"type\":\"node\",\"instanceArgs\":{\"namespace\":\"html\",\"tag\":\"div\"},\"children\":[]},{\"props\":{\"setInnerHtml\":\"<pre>5×5 Matrix{Float64}:\\n -8.0   4.0  -6.0     -1.0      8.0\\n  0.0  -3.5   5.75    -8.375   -3.0\\n  0.0   0.0  11.857  -13.357   -5.143\\n  0.0   0.0   2.286   16.714   -9.714\\n  0.0   3.5   7.25     3.375  -10.0<\\/pre>\"},\"nodeType\":\"DOM\",\"type\":\"node\",\"instanceArgs\":{\"namespace\":\"html\",\"tag\":\"div\"},\"children\":[]}]}]},\n",
       "        window,\n",
       "    );\n",
       "    })()\n",
       "    </script>\n",
       "</div>\n"
      ],
      "text/plain": [
       "(div { style=Dict{Any, Any}(\"align-items\" => :center, \"display\" => \"flex\", \"flex-direction\" => \"column\") }\n",
       "  (pre\n",
       "    \"Gaussian elimination for column 2 with pivot -3.5: add -1.429 * (row 2) to (row 4)\")\n",
       "  (div { style=Dict{Any, Any}(\"align-items\" => :center, \"display\" => \"flex\", \"flex-direction\" => \"row\") }\n",
       "    [-8.0 4.0 … -1.0 8.0; 0.0 -3.5 … -8.375 -3.0; … ; 0.0 -5.0 … 4.75 -14.0; 0.0 3.5 … 3.375 -10.0]\n",
       "    (div { style=Dict{String, Measures.Length{U, Float64} where U}(\"height\" => 0.0px, \"width\" => 1.0em) })\n",
       "    \"⟶\"\n",
       "    (div { style=Dict{String, Measures.Length{U, Float64} where U}(\"height\" => 0.0px, \"width\" => 1.0em) })\n",
       "    [-8.0 4.0 … -1.0 8.0; 0.0 -3.5 … -8.375 -3.0; … ; 0.0 0.0 … 16.714 -9.714; 0.0 3.5 … 3.375 -10.0]))"
      ]
     },
     "metadata": {
      "application/vnd.webio.node+json": {
       "kernelId": "a047c49e-3ec7-4b3d-bfa2-571929d498c5"
      }
     },
     "output_type": "display_data"
    },
    {
     "data": {
      "application/vnd.webio.node+json": {
       "children": [
        {
         "children": [
          "Gaussian elimination for column 2 with pivot -3.5: add 1.0 * (row 2) to (row 5)"
         ],
         "instanceArgs": {
          "namespace": "html",
          "tag": "pre"
         },
         "nodeType": "DOM",
         "props": {},
         "type": "node"
        },
        {
         "children": [
          {
           "children": [],
           "instanceArgs": {
            "namespace": "html",
            "tag": "div"
           },
           "nodeType": "DOM",
           "props": {
            "setInnerHtml": "<pre>5×5 Matrix{Float64}:\n -8.0   4.0  -6.0     -1.0      8.0\n  0.0  -3.5   5.75    -8.375   -3.0\n  0.0   0.0  11.857  -13.357   -5.143\n  0.0   0.0   2.286   16.714   -9.714\n  0.0   3.5   7.25     3.375  -10.0</pre>"
           },
           "type": "node"
          },
          {
           "children": [],
           "instanceArgs": {
            "namespace": "html",
            "tag": "div"
           },
           "nodeType": "DOM",
           "props": {
            "style": {
             "height": "0.0px",
             "width": "1.0em"
            }
           },
           "type": "node"
          },
          "⟶",
          {
           "children": [],
           "instanceArgs": {
            "namespace": "html",
            "tag": "div"
           },
           "nodeType": "DOM",
           "props": {
            "style": {
             "height": "0.0px",
             "width": "1.0em"
            }
           },
           "type": "node"
          },
          {
           "children": [],
           "instanceArgs": {
            "namespace": "html",
            "tag": "div"
           },
           "nodeType": "DOM",
           "props": {
            "setInnerHtml": "<pre>5×5 Matrix{Float64}:\n -8.0   4.0  -6.0     -1.0      8.0\n  0.0  -3.5   5.75    -8.375   -3.0\n  0.0   0.0  11.857  -13.357   -5.143\n  0.0   0.0   2.286   16.714   -9.714\n  0.0   0.0  13.0     -5.0    -13.0</pre>"
           },
           "type": "node"
          }
         ],
         "instanceArgs": {
          "namespace": "html",
          "tag": "div"
         },
         "nodeType": "DOM",
         "props": {
          "style": {
           "align-items": "center",
           "display": "flex",
           "flex-direction": "row"
          }
         },
         "type": "node"
        }
       ],
       "instanceArgs": {
        "namespace": "html",
        "tag": "div"
       },
       "nodeType": "DOM",
       "props": {
        "style": {
         "align-items": "center",
         "display": "flex",
         "flex-direction": "column"
        }
       },
       "type": "node"
      },
      "text/html": [
       "<div\n",
       "    class=\"webio-mountpoint\"\n",
       "    data-webio-mountpoint=\"4939577805891771795\"\n",
       ">\n",
       "    <script>\n",
       "    (function(){\n",
       "    // Some integrations (namely, IJulia/Jupyter) use an alternate render pathway than\n",
       "    // just putting the html on the page. If WebIO isn't defined, then it's pretty likely\n",
       "    // that we're in one of those situations and the integration just isn't installed\n",
       "    // correctly.\n",
       "    if (typeof window.WebIO === \"undefined\") {\n",
       "        document\n",
       "            .querySelector('[data-webio-mountpoint=\"4939577805891771795\"]')\n",
       "            .innerHTML = (\n",
       "                '<div style=\"padding: 1em; background-color: #f8d6da; border: 1px solid #f5c6cb; font-weight: bold;\">' +\n",
       "                '<p><strong>WebIO not detected.</strong></p>' +\n",
       "                '<p>Please read ' +\n",
       "                '<a href=\"https://juliagizmos.github.io/WebIO.jl/latest/troubleshooting/not-detected/\" target=\"_blank\">the troubleshooting guide</a> ' +\n",
       "                'for more information on how to resolve this issue.</p>' +\n",
       "                '<p><a href=\"https://juliagizmos.github.io/WebIO.jl/latest/troubleshooting/not-detected/\" target=\"_blank\">https://juliagizmos.github.io/WebIO.jl/latest/troubleshooting/not-detected/</a></p>' +\n",
       "                '</div>'\n",
       "            );\n",
       "        return;\n",
       "    }\n",
       "    WebIO.mount(\n",
       "        document.querySelector('[data-webio-mountpoint=\"4939577805891771795\"]'),\n",
       "        {\"props\":{\"style\":{\"align-items\":\"center\",\"display\":\"flex\",\"flex-direction\":\"column\"}},\"nodeType\":\"DOM\",\"type\":\"node\",\"instanceArgs\":{\"namespace\":\"html\",\"tag\":\"div\"},\"children\":[{\"props\":{},\"nodeType\":\"DOM\",\"type\":\"node\",\"instanceArgs\":{\"namespace\":\"html\",\"tag\":\"pre\"},\"children\":[\"Gaussian elimination for column 2 with pivot -3.5: add 1.0 * (row 2) to (row 5)\"]},{\"props\":{\"style\":{\"align-items\":\"center\",\"display\":\"flex\",\"flex-direction\":\"row\"}},\"nodeType\":\"DOM\",\"type\":\"node\",\"instanceArgs\":{\"namespace\":\"html\",\"tag\":\"div\"},\"children\":[{\"props\":{\"setInnerHtml\":\"<pre>5×5 Matrix{Float64}:\\n -8.0   4.0  -6.0     -1.0      8.0\\n  0.0  -3.5   5.75    -8.375   -3.0\\n  0.0   0.0  11.857  -13.357   -5.143\\n  0.0   0.0   2.286   16.714   -9.714\\n  0.0   3.5   7.25     3.375  -10.0<\\/pre>\"},\"nodeType\":\"DOM\",\"type\":\"node\",\"instanceArgs\":{\"namespace\":\"html\",\"tag\":\"div\"},\"children\":[]},{\"props\":{\"style\":{\"height\":\"0.0px\",\"width\":\"1.0em\"}},\"nodeType\":\"DOM\",\"type\":\"node\",\"instanceArgs\":{\"namespace\":\"html\",\"tag\":\"div\"},\"children\":[]},\"⟶\",{\"props\":{\"style\":{\"height\":\"0.0px\",\"width\":\"1.0em\"}},\"nodeType\":\"DOM\",\"type\":\"node\",\"instanceArgs\":{\"namespace\":\"html\",\"tag\":\"div\"},\"children\":[]},{\"props\":{\"setInnerHtml\":\"<pre>5×5 Matrix{Float64}:\\n -8.0   4.0  -6.0     -1.0      8.0\\n  0.0  -3.5   5.75    -8.375   -3.0\\n  0.0   0.0  11.857  -13.357   -5.143\\n  0.0   0.0   2.286   16.714   -9.714\\n  0.0   0.0  13.0     -5.0    -13.0<\\/pre>\"},\"nodeType\":\"DOM\",\"type\":\"node\",\"instanceArgs\":{\"namespace\":\"html\",\"tag\":\"div\"},\"children\":[]}]}]},\n",
       "        window,\n",
       "    );\n",
       "    })()\n",
       "    </script>\n",
       "</div>\n"
      ],
      "text/plain": [
       "(div { style=Dict{Any, Any}(\"align-items\" => :center, \"display\" => \"flex\", \"flex-direction\" => \"column\") }\n",
       "  (pre\n",
       "    \"Gaussian elimination for column 2 with pivot -3.5: add 1.0 * (row 2) to (row 5)\")\n",
       "  (div { style=Dict{Any, Any}(\"align-items\" => :center, \"display\" => \"flex\", \"flex-direction\" => \"row\") }\n",
       "    [-8.0 4.0 … -1.0 8.0; 0.0 -3.5 … -8.375 -3.0; … ; 0.0 0.0 … 16.714 -9.714; 0.0 3.5 … 3.375 -10.0]\n",
       "    (div { style=Dict{String, Measures.Length{U, Float64} where U}(\"height\" => 0.0px, \"width\" => 1.0em) })\n",
       "    \"⟶\"\n",
       "    (div { style=Dict{String, Measures.Length{U, Float64} where U}(\"height\" => 0.0px, \"width\" => 1.0em) })\n",
       "    [-8.0 4.0 … -1.0 8.0; 0.0 -3.5 … -8.375 -3.0; … ; 0.0 0.0 … 16.714 -9.714; 0.0 0.0 … -5.0 -13.0]))"
      ]
     },
     "metadata": {
      "application/vnd.webio.node+json": {
       "kernelId": "a047c49e-3ec7-4b3d-bfa2-571929d498c5"
      }
     },
     "output_type": "display_data"
    },
    {
     "data": {
      "application/vnd.webio.node+json": {
       "children": [
        {
         "children": [
          "Gaussian elimination for column 3 with pivot 11.857142857142856: add -0.193 * (row 3) to (row 4)"
         ],
         "instanceArgs": {
          "namespace": "html",
          "tag": "pre"
         },
         "nodeType": "DOM",
         "props": {},
         "type": "node"
        },
        {
         "children": [
          {
           "children": [],
           "instanceArgs": {
            "namespace": "html",
            "tag": "div"
           },
           "nodeType": "DOM",
           "props": {
            "setInnerHtml": "<pre>5×5 Matrix{Float64}:\n -8.0   4.0  -6.0     -1.0      8.0\n  0.0  -3.5   5.75    -8.375   -3.0\n  0.0   0.0  11.857  -13.357   -5.143\n  0.0   0.0   2.286   16.714   -9.714\n  0.0   0.0  13.0     -5.0    -13.0</pre>"
           },
           "type": "node"
          },
          {
           "children": [],
           "instanceArgs": {
            "namespace": "html",
            "tag": "div"
           },
           "nodeType": "DOM",
           "props": {
            "style": {
             "height": "0.0px",
             "width": "1.0em"
            }
           },
           "type": "node"
          },
          "⟶",
          {
           "children": [],
           "instanceArgs": {
            "namespace": "html",
            "tag": "div"
           },
           "nodeType": "DOM",
           "props": {
            "style": {
             "height": "0.0px",
             "width": "1.0em"
            }
           },
           "type": "node"
          },
          {
           "children": [],
           "instanceArgs": {
            "namespace": "html",
            "tag": "div"
           },
           "nodeType": "DOM",
           "props": {
            "setInnerHtml": "<pre>5×5 Matrix{Float64}:\n -8.0   4.0  -6.0     -1.0      8.0\n  0.0  -3.5   5.75    -8.375   -3.0\n  0.0   0.0  11.857  -13.357   -5.143\n  0.0   0.0   0.0     19.289   -8.723\n  0.0   0.0  13.0     -5.0    -13.0</pre>"
           },
           "type": "node"
          }
         ],
         "instanceArgs": {
          "namespace": "html",
          "tag": "div"
         },
         "nodeType": "DOM",
         "props": {
          "style": {
           "align-items": "center",
           "display": "flex",
           "flex-direction": "row"
          }
         },
         "type": "node"
        }
       ],
       "instanceArgs": {
        "namespace": "html",
        "tag": "div"
       },
       "nodeType": "DOM",
       "props": {
        "style": {
         "align-items": "center",
         "display": "flex",
         "flex-direction": "column"
        }
       },
       "type": "node"
      },
      "text/html": [
       "<div\n",
       "    class=\"webio-mountpoint\"\n",
       "    data-webio-mountpoint=\"393378367053248454\"\n",
       ">\n",
       "    <script>\n",
       "    (function(){\n",
       "    // Some integrations (namely, IJulia/Jupyter) use an alternate render pathway than\n",
       "    // just putting the html on the page. If WebIO isn't defined, then it's pretty likely\n",
       "    // that we're in one of those situations and the integration just isn't installed\n",
       "    // correctly.\n",
       "    if (typeof window.WebIO === \"undefined\") {\n",
       "        document\n",
       "            .querySelector('[data-webio-mountpoint=\"393378367053248454\"]')\n",
       "            .innerHTML = (\n",
       "                '<div style=\"padding: 1em; background-color: #f8d6da; border: 1px solid #f5c6cb; font-weight: bold;\">' +\n",
       "                '<p><strong>WebIO not detected.</strong></p>' +\n",
       "                '<p>Please read ' +\n",
       "                '<a href=\"https://juliagizmos.github.io/WebIO.jl/latest/troubleshooting/not-detected/\" target=\"_blank\">the troubleshooting guide</a> ' +\n",
       "                'for more information on how to resolve this issue.</p>' +\n",
       "                '<p><a href=\"https://juliagizmos.github.io/WebIO.jl/latest/troubleshooting/not-detected/\" target=\"_blank\">https://juliagizmos.github.io/WebIO.jl/latest/troubleshooting/not-detected/</a></p>' +\n",
       "                '</div>'\n",
       "            );\n",
       "        return;\n",
       "    }\n",
       "    WebIO.mount(\n",
       "        document.querySelector('[data-webio-mountpoint=\"393378367053248454\"]'),\n",
       "        {\"props\":{\"style\":{\"align-items\":\"center\",\"display\":\"flex\",\"flex-direction\":\"column\"}},\"nodeType\":\"DOM\",\"type\":\"node\",\"instanceArgs\":{\"namespace\":\"html\",\"tag\":\"div\"},\"children\":[{\"props\":{},\"nodeType\":\"DOM\",\"type\":\"node\",\"instanceArgs\":{\"namespace\":\"html\",\"tag\":\"pre\"},\"children\":[\"Gaussian elimination for column 3 with pivot 11.857142857142856: add -0.193 * (row 3) to (row 4)\"]},{\"props\":{\"style\":{\"align-items\":\"center\",\"display\":\"flex\",\"flex-direction\":\"row\"}},\"nodeType\":\"DOM\",\"type\":\"node\",\"instanceArgs\":{\"namespace\":\"html\",\"tag\":\"div\"},\"children\":[{\"props\":{\"setInnerHtml\":\"<pre>5×5 Matrix{Float64}:\\n -8.0   4.0  -6.0     -1.0      8.0\\n  0.0  -3.5   5.75    -8.375   -3.0\\n  0.0   0.0  11.857  -13.357   -5.143\\n  0.0   0.0   2.286   16.714   -9.714\\n  0.0   0.0  13.0     -5.0    -13.0<\\/pre>\"},\"nodeType\":\"DOM\",\"type\":\"node\",\"instanceArgs\":{\"namespace\":\"html\",\"tag\":\"div\"},\"children\":[]},{\"props\":{\"style\":{\"height\":\"0.0px\",\"width\":\"1.0em\"}},\"nodeType\":\"DOM\",\"type\":\"node\",\"instanceArgs\":{\"namespace\":\"html\",\"tag\":\"div\"},\"children\":[]},\"⟶\",{\"props\":{\"style\":{\"height\":\"0.0px\",\"width\":\"1.0em\"}},\"nodeType\":\"DOM\",\"type\":\"node\",\"instanceArgs\":{\"namespace\":\"html\",\"tag\":\"div\"},\"children\":[]},{\"props\":{\"setInnerHtml\":\"<pre>5×5 Matrix{Float64}:\\n -8.0   4.0  -6.0     -1.0      8.0\\n  0.0  -3.5   5.75    -8.375   -3.0\\n  0.0   0.0  11.857  -13.357   -5.143\\n  0.0   0.0   0.0     19.289   -8.723\\n  0.0   0.0  13.0     -5.0    -13.0<\\/pre>\"},\"nodeType\":\"DOM\",\"type\":\"node\",\"instanceArgs\":{\"namespace\":\"html\",\"tag\":\"div\"},\"children\":[]}]}]},\n",
       "        window,\n",
       "    );\n",
       "    })()\n",
       "    </script>\n",
       "</div>\n"
      ],
      "text/plain": [
       "(div { style=Dict{Any, Any}(\"align-items\" => :center, \"display\" => \"flex\", \"flex-direction\" => \"column\") }\n",
       "  (pre\n",
       "    \"Gaussian elimination for column 3 with pivot 11.857142857142856: add -0.193 * (row 3) to (row 4)\")\n",
       "  (div { style=Dict{Any, Any}(\"align-items\" => :center, \"display\" => \"flex\", \"flex-direction\" => \"row\") }\n",
       "    [-8.0 4.0 … -1.0 8.0; 0.0 -3.5 … -8.375 -3.0; … ; 0.0 0.0 … 16.714 -9.714; 0.0 0.0 … -5.0 -13.0]\n",
       "    (div { style=Dict{String, Measures.Length{U, Float64} where U}(\"height\" => 0.0px, \"width\" => 1.0em) })\n",
       "    \"⟶\"\n",
       "    (div { style=Dict{String, Measures.Length{U, Float64} where U}(\"height\" => 0.0px, \"width\" => 1.0em) })\n",
       "    [-8.0 4.0 … -1.0 8.0; 0.0 -3.5 … -8.375 -3.0; … ; 0.0 0.0 … 19.289 -8.723; 0.0 0.0 … -5.0 -13.0]))"
      ]
     },
     "metadata": {
      "application/vnd.webio.node+json": {
       "kernelId": "a047c49e-3ec7-4b3d-bfa2-571929d498c5"
      }
     },
     "output_type": "display_data"
    },
    {
     "data": {
      "application/vnd.webio.node+json": {
       "children": [
        {
         "children": [
          "Gaussian elimination for column 3 with pivot 11.857142857142856: add -1.096 * (row 3) to (row 5)"
         ],
         "instanceArgs": {
          "namespace": "html",
          "tag": "pre"
         },
         "nodeType": "DOM",
         "props": {},
         "type": "node"
        },
        {
         "children": [
          {
           "children": [],
           "instanceArgs": {
            "namespace": "html",
            "tag": "div"
           },
           "nodeType": "DOM",
           "props": {
            "setInnerHtml": "<pre>5×5 Matrix{Float64}:\n -8.0   4.0  -6.0     -1.0      8.0\n  0.0  -3.5   5.75    -8.375   -3.0\n  0.0   0.0  11.857  -13.357   -5.143\n  0.0   0.0   0.0     19.289   -8.723\n  0.0   0.0  13.0     -5.0    -13.0</pre>"
           },
           "type": "node"
          },
          {
           "children": [],
           "instanceArgs": {
            "namespace": "html",
            "tag": "div"
           },
           "nodeType": "DOM",
           "props": {
            "style": {
             "height": "0.0px",
             "width": "1.0em"
            }
           },
           "type": "node"
          },
          "⟶",
          {
           "children": [],
           "instanceArgs": {
            "namespace": "html",
            "tag": "div"
           },
           "nodeType": "DOM",
           "props": {
            "style": {
             "height": "0.0px",
             "width": "1.0em"
            }
           },
           "type": "node"
          },
          {
           "children": [],
           "instanceArgs": {
            "namespace": "html",
            "tag": "div"
           },
           "nodeType": "DOM",
           "props": {
            "setInnerHtml": "<pre>5×5 Matrix{Float64}:\n -8.0   4.0  -6.0     -1.0     8.0\n  0.0  -3.5   5.75    -8.375  -3.0\n  0.0   0.0  11.857  -13.357  -5.143\n  0.0   0.0   0.0     19.289  -8.723\n  0.0   0.0   0.0      9.645  -7.361</pre>"
           },
           "type": "node"
          }
         ],
         "instanceArgs": {
          "namespace": "html",
          "tag": "div"
         },
         "nodeType": "DOM",
         "props": {
          "style": {
           "align-items": "center",
           "display": "flex",
           "flex-direction": "row"
          }
         },
         "type": "node"
        }
       ],
       "instanceArgs": {
        "namespace": "html",
        "tag": "div"
       },
       "nodeType": "DOM",
       "props": {
        "style": {
         "align-items": "center",
         "display": "flex",
         "flex-direction": "column"
        }
       },
       "type": "node"
      },
      "text/html": [
       "<div\n",
       "    class=\"webio-mountpoint\"\n",
       "    data-webio-mountpoint=\"4170811358242832147\"\n",
       ">\n",
       "    <script>\n",
       "    (function(){\n",
       "    // Some integrations (namely, IJulia/Jupyter) use an alternate render pathway than\n",
       "    // just putting the html on the page. If WebIO isn't defined, then it's pretty likely\n",
       "    // that we're in one of those situations and the integration just isn't installed\n",
       "    // correctly.\n",
       "    if (typeof window.WebIO === \"undefined\") {\n",
       "        document\n",
       "            .querySelector('[data-webio-mountpoint=\"4170811358242832147\"]')\n",
       "            .innerHTML = (\n",
       "                '<div style=\"padding: 1em; background-color: #f8d6da; border: 1px solid #f5c6cb; font-weight: bold;\">' +\n",
       "                '<p><strong>WebIO not detected.</strong></p>' +\n",
       "                '<p>Please read ' +\n",
       "                '<a href=\"https://juliagizmos.github.io/WebIO.jl/latest/troubleshooting/not-detected/\" target=\"_blank\">the troubleshooting guide</a> ' +\n",
       "                'for more information on how to resolve this issue.</p>' +\n",
       "                '<p><a href=\"https://juliagizmos.github.io/WebIO.jl/latest/troubleshooting/not-detected/\" target=\"_blank\">https://juliagizmos.github.io/WebIO.jl/latest/troubleshooting/not-detected/</a></p>' +\n",
       "                '</div>'\n",
       "            );\n",
       "        return;\n",
       "    }\n",
       "    WebIO.mount(\n",
       "        document.querySelector('[data-webio-mountpoint=\"4170811358242832147\"]'),\n",
       "        {\"props\":{\"style\":{\"align-items\":\"center\",\"display\":\"flex\",\"flex-direction\":\"column\"}},\"nodeType\":\"DOM\",\"type\":\"node\",\"instanceArgs\":{\"namespace\":\"html\",\"tag\":\"div\"},\"children\":[{\"props\":{},\"nodeType\":\"DOM\",\"type\":\"node\",\"instanceArgs\":{\"namespace\":\"html\",\"tag\":\"pre\"},\"children\":[\"Gaussian elimination for column 3 with pivot 11.857142857142856: add -1.096 * (row 3) to (row 5)\"]},{\"props\":{\"style\":{\"align-items\":\"center\",\"display\":\"flex\",\"flex-direction\":\"row\"}},\"nodeType\":\"DOM\",\"type\":\"node\",\"instanceArgs\":{\"namespace\":\"html\",\"tag\":\"div\"},\"children\":[{\"props\":{\"setInnerHtml\":\"<pre>5×5 Matrix{Float64}:\\n -8.0   4.0  -6.0     -1.0      8.0\\n  0.0  -3.5   5.75    -8.375   -3.0\\n  0.0   0.0  11.857  -13.357   -5.143\\n  0.0   0.0   0.0     19.289   -8.723\\n  0.0   0.0  13.0     -5.0    -13.0<\\/pre>\"},\"nodeType\":\"DOM\",\"type\":\"node\",\"instanceArgs\":{\"namespace\":\"html\",\"tag\":\"div\"},\"children\":[]},{\"props\":{\"style\":{\"height\":\"0.0px\",\"width\":\"1.0em\"}},\"nodeType\":\"DOM\",\"type\":\"node\",\"instanceArgs\":{\"namespace\":\"html\",\"tag\":\"div\"},\"children\":[]},\"⟶\",{\"props\":{\"style\":{\"height\":\"0.0px\",\"width\":\"1.0em\"}},\"nodeType\":\"DOM\",\"type\":\"node\",\"instanceArgs\":{\"namespace\":\"html\",\"tag\":\"div\"},\"children\":[]},{\"props\":{\"setInnerHtml\":\"<pre>5×5 Matrix{Float64}:\\n -8.0   4.0  -6.0     -1.0     8.0\\n  0.0  -3.5   5.75    -8.375  -3.0\\n  0.0   0.0  11.857  -13.357  -5.143\\n  0.0   0.0   0.0     19.289  -8.723\\n  0.0   0.0   0.0      9.645  -7.361<\\/pre>\"},\"nodeType\":\"DOM\",\"type\":\"node\",\"instanceArgs\":{\"namespace\":\"html\",\"tag\":\"div\"},\"children\":[]}]}]},\n",
       "        window,\n",
       "    );\n",
       "    })()\n",
       "    </script>\n",
       "</div>\n"
      ],
      "text/plain": [
       "(div { style=Dict{Any, Any}(\"align-items\" => :center, \"display\" => \"flex\", \"flex-direction\" => \"column\") }\n",
       "  (pre\n",
       "    \"Gaussian elimination for column 3 with pivot 11.857142857142856: add -1.096 * (row 3) to (row 5)\")\n",
       "  (div { style=Dict{Any, Any}(\"align-items\" => :center, \"display\" => \"flex\", \"flex-direction\" => \"row\") }\n",
       "    [-8.0 4.0 … -1.0 8.0; 0.0 -3.5 … -8.375 -3.0; … ; 0.0 0.0 … 19.289 -8.723; 0.0 0.0 … -5.0 -13.0]\n",
       "    (div { style=Dict{String, Measures.Length{U, Float64} where U}(\"height\" => 0.0px, \"width\" => 1.0em) })\n",
       "    \"⟶\"\n",
       "    (div { style=Dict{String, Measures.Length{U, Float64} where U}(\"height\" => 0.0px, \"width\" => 1.0em) })\n",
       "    [-8.0 4.0 … -1.0 8.0; 0.0 -3.5 … -8.375 -3.0; … ; 0.0 0.0 … 19.289 -8.723; 0.0 0.0 … 9.645 -7.361]))"
      ]
     },
     "metadata": {
      "application/vnd.webio.node+json": {
       "kernelId": "a047c49e-3ec7-4b3d-bfa2-571929d498c5"
      }
     },
     "output_type": "display_data"
    },
    {
     "data": {
      "application/vnd.webio.node+json": {
       "children": [
        {
         "children": [
          "Gaussian elimination for column 4 with pivot 19.289156626506024: add -0.5 * (row 4) to (row 5)"
         ],
         "instanceArgs": {
          "namespace": "html",
          "tag": "pre"
         },
         "nodeType": "DOM",
         "props": {},
         "type": "node"
        },
        {
         "children": [
          {
           "children": [],
           "instanceArgs": {
            "namespace": "html",
            "tag": "div"
           },
           "nodeType": "DOM",
           "props": {
            "setInnerHtml": "<pre>5×5 Matrix{Float64}:\n -8.0   4.0  -6.0     -1.0     8.0\n  0.0  -3.5   5.75    -8.375  -3.0\n  0.0   0.0  11.857  -13.357  -5.143\n  0.0   0.0   0.0     19.289  -8.723\n  0.0   0.0   0.0      9.645  -7.361</pre>"
           },
           "type": "node"
          },
          {
           "children": [],
           "instanceArgs": {
            "namespace": "html",
            "tag": "div"
           },
           "nodeType": "DOM",
           "props": {
            "style": {
             "height": "0.0px",
             "width": "1.0em"
            }
           },
           "type": "node"
          },
          "⟶",
          {
           "children": [],
           "instanceArgs": {
            "namespace": "html",
            "tag": "div"
           },
           "nodeType": "DOM",
           "props": {
            "style": {
             "height": "0.0px",
             "width": "1.0em"
            }
           },
           "type": "node"
          },
          {
           "children": [],
           "instanceArgs": {
            "namespace": "html",
            "tag": "div"
           },
           "nodeType": "DOM",
           "props": {
            "setInnerHtml": "<pre>5×5 Matrix{Float64}:\n -8.0   4.0  -6.0     -1.0     8.0\n  0.0  -3.5   5.75    -8.375  -3.0\n  0.0   0.0  11.857  -13.357  -5.143\n  0.0   0.0   0.0     19.289  -8.723\n  0.0   0.0   0.0      0.0    -3.0</pre>"
           },
           "type": "node"
          }
         ],
         "instanceArgs": {
          "namespace": "html",
          "tag": "div"
         },
         "nodeType": "DOM",
         "props": {
          "style": {
           "align-items": "center",
           "display": "flex",
           "flex-direction": "row"
          }
         },
         "type": "node"
        }
       ],
       "instanceArgs": {
        "namespace": "html",
        "tag": "div"
       },
       "nodeType": "DOM",
       "props": {
        "style": {
         "align-items": "center",
         "display": "flex",
         "flex-direction": "column"
        }
       },
       "type": "node"
      },
      "text/html": [
       "<div\n",
       "    class=\"webio-mountpoint\"\n",
       "    data-webio-mountpoint=\"3412178613078042465\"\n",
       ">\n",
       "    <script>\n",
       "    (function(){\n",
       "    // Some integrations (namely, IJulia/Jupyter) use an alternate render pathway than\n",
       "    // just putting the html on the page. If WebIO isn't defined, then it's pretty likely\n",
       "    // that we're in one of those situations and the integration just isn't installed\n",
       "    // correctly.\n",
       "    if (typeof window.WebIO === \"undefined\") {\n",
       "        document\n",
       "            .querySelector('[data-webio-mountpoint=\"3412178613078042465\"]')\n",
       "            .innerHTML = (\n",
       "                '<div style=\"padding: 1em; background-color: #f8d6da; border: 1px solid #f5c6cb; font-weight: bold;\">' +\n",
       "                '<p><strong>WebIO not detected.</strong></p>' +\n",
       "                '<p>Please read ' +\n",
       "                '<a href=\"https://juliagizmos.github.io/WebIO.jl/latest/troubleshooting/not-detected/\" target=\"_blank\">the troubleshooting guide</a> ' +\n",
       "                'for more information on how to resolve this issue.</p>' +\n",
       "                '<p><a href=\"https://juliagizmos.github.io/WebIO.jl/latest/troubleshooting/not-detected/\" target=\"_blank\">https://juliagizmos.github.io/WebIO.jl/latest/troubleshooting/not-detected/</a></p>' +\n",
       "                '</div>'\n",
       "            );\n",
       "        return;\n",
       "    }\n",
       "    WebIO.mount(\n",
       "        document.querySelector('[data-webio-mountpoint=\"3412178613078042465\"]'),\n",
       "        {\"props\":{\"style\":{\"align-items\":\"center\",\"display\":\"flex\",\"flex-direction\":\"column\"}},\"nodeType\":\"DOM\",\"type\":\"node\",\"instanceArgs\":{\"namespace\":\"html\",\"tag\":\"div\"},\"children\":[{\"props\":{},\"nodeType\":\"DOM\",\"type\":\"node\",\"instanceArgs\":{\"namespace\":\"html\",\"tag\":\"pre\"},\"children\":[\"Gaussian elimination for column 4 with pivot 19.289156626506024: add -0.5 * (row 4) to (row 5)\"]},{\"props\":{\"style\":{\"align-items\":\"center\",\"display\":\"flex\",\"flex-direction\":\"row\"}},\"nodeType\":\"DOM\",\"type\":\"node\",\"instanceArgs\":{\"namespace\":\"html\",\"tag\":\"div\"},\"children\":[{\"props\":{\"setInnerHtml\":\"<pre>5×5 Matrix{Float64}:\\n -8.0   4.0  -6.0     -1.0     8.0\\n  0.0  -3.5   5.75    -8.375  -3.0\\n  0.0   0.0  11.857  -13.357  -5.143\\n  0.0   0.0   0.0     19.289  -8.723\\n  0.0   0.0   0.0      9.645  -7.361<\\/pre>\"},\"nodeType\":\"DOM\",\"type\":\"node\",\"instanceArgs\":{\"namespace\":\"html\",\"tag\":\"div\"},\"children\":[]},{\"props\":{\"style\":{\"height\":\"0.0px\",\"width\":\"1.0em\"}},\"nodeType\":\"DOM\",\"type\":\"node\",\"instanceArgs\":{\"namespace\":\"html\",\"tag\":\"div\"},\"children\":[]},\"⟶\",{\"props\":{\"style\":{\"height\":\"0.0px\",\"width\":\"1.0em\"}},\"nodeType\":\"DOM\",\"type\":\"node\",\"instanceArgs\":{\"namespace\":\"html\",\"tag\":\"div\"},\"children\":[]},{\"props\":{\"setInnerHtml\":\"<pre>5×5 Matrix{Float64}:\\n -8.0   4.0  -6.0     -1.0     8.0\\n  0.0  -3.5   5.75    -8.375  -3.0\\n  0.0   0.0  11.857  -13.357  -5.143\\n  0.0   0.0   0.0     19.289  -8.723\\n  0.0   0.0   0.0      0.0    -3.0<\\/pre>\"},\"nodeType\":\"DOM\",\"type\":\"node\",\"instanceArgs\":{\"namespace\":\"html\",\"tag\":\"div\"},\"children\":[]}]}]},\n",
       "        window,\n",
       "    );\n",
       "    })()\n",
       "    </script>\n",
       "</div>\n"
      ],
      "text/plain": [
       "(div { style=Dict{Any, Any}(\"align-items\" => :center, \"display\" => \"flex\", \"flex-direction\" => \"column\") }\n",
       "  (pre\n",
       "    \"Gaussian elimination for column 4 with pivot 19.289156626506024: add -0.5 * (row 4) to (row 5)\")\n",
       "  (div { style=Dict{Any, Any}(\"align-items\" => :center, \"display\" => \"flex\", \"flex-direction\" => \"row\") }\n",
       "    [-8.0 4.0 … -1.0 8.0; 0.0 -3.5 … -8.375 -3.0; … ; 0.0 0.0 … 19.289 -8.723; 0.0 0.0 … 9.645 -7.361]\n",
       "    (div { style=Dict{String, Measures.Length{U, Float64} where U}(\"height\" => 0.0px, \"width\" => 1.0em) })\n",
       "    \"⟶\"\n",
       "    (div { style=Dict{String, Measures.Length{U, Float64} where U}(\"height\" => 0.0px, \"width\" => 1.0em) })\n",
       "    [-8.0 4.0 … -1.0 8.0; 0.0 -3.5 … -8.375 -3.0; … ; 0.0 0.0 … 19.289 -8.723; 0.0 0.0 … 0.0 -3.0]))"
      ]
     },
     "metadata": {
      "application/vnd.webio.node+json": {
       "kernelId": "a047c49e-3ec7-4b3d-bfa2-571929d498c5"
      }
     },
     "output_type": "display_data"
    }
   ],
   "source": [
    "Aok = [-8   4  -6  -1   8\n",
    "        3  -5   8  -8  -6\n",
    "        8   2   8   2  -8\n",
    "       -6  -2   6   4  -8\n",
    "       -3   5   5   3  -7]\n",
    "visualize_gauss(Aok)"
   ]
  },
  {
   "cell_type": "markdown",
   "metadata": {},
   "source": [
    "## A bigger example\n",
    "\n",
    "We quickly run out of space for displaying matrices as text, but we can visualize the process for larger matrices by using images, with the PyPlot package (a wrapper around the Python Matplotlib library):"
   ]
  },
  {
   "cell_type": "code",
   "execution_count": 20,
   "metadata": {},
   "outputs": [],
   "source": [
    "using PyPlot"
   ]
  },
  {
   "cell_type": "code",
   "execution_count": 21,
   "metadata": {},
   "outputs": [
    {
     "data": {
      "image/png": "[encoded data removed]",
      "text/plain": [
       "Figure(PyObject <Figure size 640x480 with 2 Axes>)"
      ]
     },
     "metadata": {},
     "output_type": "display_data"
    },
    {
     "data": {
      "image/png": "[encoded data removed]",
      "text/plain": [
       "Figure(PyObject <Figure size 640x480 with 2 Axes>)"
      ]
     },
     "metadata": {},
     "output_type": "display_data"
    },
    {
     "data": {
      "image/png": "[encoded data removed]",
      "text/plain": [
       "Figure(PyObject <Figure size 640x480 with 2 Axes>)"
      ]
     },
     "metadata": {},
     "output_type": "display_data"
    },
    {
     "data": {
      "image/png": "[encoded data removed]",
      "text/plain": [
       "Figure(PyObject <Figure size 640x480 with 2 Axes>)"
      ]
     },
     "metadata": {},
     "output_type": "display_data"
    },
    {
     "data": {
      "image/png": "[encoded data removed]",
      "text/plain": [
       "Figure(PyObject <Figure size 640x480 with 2 Axes>)"
      ]
     },
     "metadata": {},
     "output_type": "display_data"
    },
    {
     "data": {
      "image/png": "[encoded data removed]",
      "text/plain": [
       "Figure(PyObject <Figure size 640x480 with 2 Axes>)"
      ]
     },
     "metadata": {},
     "output_type": "display_data"
    },
    {
     "data": {
      "image/png": "[encoded data removed]",
      "text/plain": [
       "Figure(PyObject <Figure size 640x480 with 2 Axes>)"
      ]
     },
     "metadata": {},
     "output_type": "display_data"
    },
    {
     "data": {
      "image/png": "[encoded data removed]",
      "text/plain": [
       "Figure(PyObject <Figure size 640x480 with 2 Axes>)"
      ]
     },
     "metadata": {},
     "output_type": "display_data"
    },
    {
     "data": {
      "image/png": "[encoded data removed]",
      "text/plain": [
       "Figure(PyObject <Figure size 640x480 with 2 Axes>)"
      ]
     },
     "metadata": {},
     "output_type": "display_data"
    },
    {
     "data": {
      "image/png": "[encoded data removed]",
      "text/plain": [
       "Figure(PyObject <Figure size 640x480 with 2 Axes>)"
      ]
     },
     "metadata": {},
     "output_type": "display_data"
    },
    {
     "name": "stderr",
     "output_type": "stream",
     "text": [
      "┌ Warning: `vendor()` is deprecated, use `BLAS.get_config()` and inspect the output instead\n",
      "│   caller = npyinitialize() at numpy.jl:67\n",
      "└ @ PyCall /Users/stevenj/.julia/packages/PyCall/L0fLP/src/numpy.jl:67\n"
     ]
    }
   ],
   "source": [
    "m = 100\n",
    "Abig = randn(m,m)\n",
    "fig = figure()\n",
    "nsteps = (m*(m-1))÷2\n",
    "@manipulate for step in slider(0:550:nsteps, value=2, label=\"gauss step\")\n",
    "    withfig(fig) do\n",
    "        U, row, col = naive_gauss(Abig, step)\n",
    "        # I had to experiment a little to find a nice way to plot this\n",
    "        V = log10.(abs.(U) .+ 500)\n",
    "        V[abs.(U) .< 0.001] .= 0 # color small entries black\n",
    "        imshow(V, cmap=\"hot\", vmin=0, vmax=3)\n",
    "        title(\"step $step: column $col, row $row\")\n",
    "        colorbar(label=L\"\\log_{10}(|U_{i,j}| + 500)\")\n",
    "    end\n",
    "end"
   ]
  },
  {
   "cell_type": "markdown",
   "metadata": {},
   "source": [
    "Note that it takes a *lot* more steps of Gaussian elimination for a $100 \\times 100$ matrix (4950 steps) than for a $5 \\times 5$ matrix (10 steps).  Later on in 18.06, we will analyze the computational cost of Gaussian elimination and how it scales with the size of the matrix (in computer science, this is known as the [complexity](https://en.wikipedia.org/wiki/Computational_complexity_theory) of the algorithm)."
   ]
  },
  {
   "cell_type": "markdown",
   "metadata": {},
   "source": [
    "Another interesting example can be found in the [Machine Learning with Gaussian Elimination notebook](https://github.com/mitmath/1806/blob/master/notes/Machine-Learning-with-Gaussian-elimination.ipynb)."
   ]
  }
 ],
 "metadata": {
  "@webio": {
   "lastCommId": "9b4f2f66effd4c52a9c59b704ece959f",
   "lastKernelId": "a047c49e-3ec7-4b3d-bfa2-571929d498c5"
  },
  "anaconda-cloud": {},
  "kernelspec": {
   "display_name": "Julia 1.7.1",
   "language": "julia",
   "name": "julia-1.7"
  },
  "language_info": {
   "file_extension": ".jl",
   "mimetype": "application/julia",
   "name": "julia",
   "version": "1.7.1"
  },
  "widgets": {
   "state": {
    "294167a6-1234-43dc-aef6-951949f1fac6": {
     "views": [
      {
       "cell_index": 26
      }
     ]
    },
    "41f7367b-0ad3-43e3-bd43-c6e4a1618e8d": {
     "views": [
      {
       "cell_index": 19
      }
     ]
    },
    "6e3620ec-4915-4734-8d3a-3332fdc63970": {
     "views": [
      {
       "cell_index": 16
      }
     ]
    },
    "ce72699c-d8cc-4a03-902b-a490178223e5": {
     "views": [
      {
       "cell_index": 17
      }
     ]
    },
    "db2d9825-08d3-4028-8072-1e865d1a0c4f": {
     "views": [
      {
       "cell_index": 23
      }
     ]
    }
   },
   "version": "1.2.0"
  }
 },
 "nbformat": 4,
 "nbformat_minor": 4
}
