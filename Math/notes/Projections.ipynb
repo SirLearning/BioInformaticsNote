{
 "cells": [
  {
   "cell_type": "code",
   "execution_count": 1,
   "metadata": {
    "collapsed": false
   },
   "outputs": [
    {
     "data": {
      "text/html": [
       "<div id=\"interact-js-shim\">\n",
       "    <script charset=\"utf-8\">\n",
       "(function (IPython, $, _, MathJax) {\n",
       "    $.event.special.destroyed = {\n",
       "\tremove: function(o) {\n",
       "\t    if (o.handler) {\n",
       "\t\to.handler.apply(this, arguments)\n",
       "\t    }\n",
       "\t}\n",
       "    }\n",
       "\n",
       "    var OutputArea = IPython.version >= \"4.0.0\" ? require(\"notebook/js/outputarea\").OutputArea : IPython.OutputArea;\n",
       "\n",
       "    var redrawValue = function (container, type, val) {\n",
       "\tvar selector = $(\"<div/>\");\n",
       "\tvar oa = new OutputArea(_.extend(selector, {\n",
       "\t    selector: selector,\n",
       "\t    prompt_area: true,\n",
       "\t    events: IPython.events,\n",
       "\t    keyboard_manager: IPython.keyboard_manager\n",
       "\t})); // Hack to work with IPython 2.1.0\n",
       "\n",
       "\tswitch (type) {\n",
       "\tcase \"image/png\":\n",
       "            var _src = 'data:' + type + ';base64,' + val;\n",
       "\t    $(container).find(\"img\").attr('src', _src);\n",
       "\t    break;\n",
       "\tcase \"text/latex\":\n",
       "\t\tif (MathJax){\n",
       "\t\t\tvar math = MathJax.Hub.getAllJax(container)[0];\n",
       "\t\t\tMathJax.Hub.Queue([\"Text\", math, val.replace(/^\\${1,2}|\\${1,2}$/g, '')]);\n",
       "\t\t\tbreak;\n",
       "\t\t}\n",
       "\tdefault:\n",
       "\t    var toinsert = OutputArea.append_map[type].apply(\n",
       "\t\toa, [val, {}, selector]\n",
       "\t    );\n",
       "\t    $(container).empty().append(toinsert.contents());\n",
       "\t    selector.remove();\n",
       "\t}\n",
       "    }\n",
       "\n",
       "\n",
       "    $(document).ready(function() {\n",
       "\tfunction initComm(evt, data) {\n",
       "\t    var comm_manager = data.kernel.comm_manager;\n",
       "        //_.extend(comm_manager.targets, require(\"widgets/js/widget\"))\n",
       "\t    comm_manager.register_target(\"Signal\", function (comm) {\n",
       "            comm.on_msg(function (msg) {\n",
       "                var val = msg.content.data.value;\n",
       "                $(\".signal-\" + comm.comm_id).each(function() {\n",
       "                var type = $(this).data(\"type\");\n",
       "                if (typeof(val[type]) !== \"undefined\" && val[type] !== null) {\n",
       "                    redrawValue(this, type, val[type], type);\n",
       "                }\n",
       "                });\n",
       "                delete val;\n",
       "                delete msg.content.data.value;\n",
       "            });\n",
       "\t    });\n",
       "\n",
       "\t    // coordingate with Comm and redraw Signals\n",
       "\t    // XXX: Test using Reactive here to improve performance\n",
       "\t    $([IPython.events]).on(\n",
       "\t\t'output_appended.OutputArea', function (event, type, value, md, toinsert) {\n",
       "\t\t    if (md && md.reactive) {\n",
       "                // console.log(md.comm_id);\n",
       "                toinsert.addClass(\"signal-\" + md.comm_id);\n",
       "                toinsert.data(\"type\", type);\n",
       "                // Signal back indicating the mimetype required\n",
       "                var comm_manager = IPython.notebook.kernel.comm_manager;\n",
       "                var comm = comm_manager.comms[md.comm_id];\n",
       "                comm.then(function (c) {\n",
       "                    c.send({action: \"subscribe_mime\",\n",
       "                       mime: type});\n",
       "                    toinsert.bind(\"destroyed\", function() {\n",
       "                        c.send({action: \"unsubscribe_mime\",\n",
       "                               mime: type});\n",
       "                    });\n",
       "                })\n",
       "\t\t    }\n",
       "\t    });\n",
       "\t}\n",
       "\n",
       "\ttry {\n",
       "\t    // try to initialize right away. otherwise, wait on the status_started event.\n",
       "\t    initComm(undefined, IPython.notebook);\n",
       "\t} catch (e) {\n",
       "\t    $([IPython.events]).on('kernel_created.Kernel kernel_created.Session', initComm);\n",
       "\t}\n",
       "    });\n",
       "})(IPython, jQuery, _, MathJax);\n",
       "</script>\n",
       "    <script>\n",
       "        window.interactLoadedFlag = true\n",
       "       $(\"#interact-js-shim\").bind(\"destroyed\", function () {\n",
       "           if (window.interactLoadedFlag) {\n",
       "               console.warn(\"JavaScript required by Interact will be removed if you remove this cell or run using Interact more than once.\")\n",
       "           }\n",
       "       })\n",
       "       $([IPython.events]).on(\"kernel_starting.Kernel kernel_restarting.Kernel\", function () { window.interactLoadedFlag = false })\n",
       "   </script>\n",
       "</div>"
      ]
     },
     "metadata": {},
     "output_type": "display_data"
    }
   ],
   "source": [
    "using PyPlot, Interact"
   ]
  },
  {
   "cell_type": "markdown",
   "metadata": {},
   "source": [
    "## Projection onto a line"
   ]
  },
  {
   "cell_type": "markdown",
   "metadata": {},
   "source": [
    "Suppose $b$ is a vector of data and we want to find $p$, a multiple of $a=(1,1,\\ldots,1)$, say, closest to $b$.\n",
    "Which vector is that?\n",
    "\n",
    "Let us call this vector $p=\\hat{x}a$.\n",
    "\n",
    "Here is an example in 2d:"
   ]
  },
  {
   "cell_type": "code",
   "execution_count": 2,
   "metadata": {
    "collapsed": false
   },
   "outputs": [
    {
     "data": {
      "text/plain": [
       "2-element Array{Float64,1}:\n",
       " 0.405977\n",
       " 0.752382"
      ]
     },
     "execution_count": 2,
     "metadata": {},
     "output_type": "execute_result"
    }
   ],
   "source": [
    "b = rand(2)"
   ]
  },
  {
   "cell_type": "code",
   "execution_count": 3,
   "metadata": {
    "collapsed": false
   },
   "outputs": [
    {
     "data": {
      "image/png": "[encoded data removed]",
      "text/plain": [
       "PyPlot.Figure(PyObject <matplotlib.figure.Figure object at 0x3294d8050>)"
      ]
     },
     "metadata": {},
     "output_type": "display_data"
    }
   ],
   "source": [
    "figure(figsize=(5,5))\n",
    "arrow(0,0,b[1],b[2],head_width=0.05, head_length=0.03,color=\"r\")\n",
    "plot([0,1.1],[0,1.1],\":\")\n",
    "text(b[1]+.03,b[2],\"b\",color=\"r\")\n",
    "text(1.03,1.06,\"a\")\n",
    "axis([0,1.1,0,1.1]);"
   ]
  },
  {
   "cell_type": "code",
   "execution_count": 4,
   "metadata": {
    "collapsed": false
   },
   "outputs": [
    {
     "data": {
      "image/png": "[encoded data removed]",
      "text/plain": [
       "PyPlot.Figure(PyObject <matplotlib.figure.Figure object at 0x329944310>)"
      ]
     },
     "metadata": {},
     "output_type": "display_data"
    },
    {
     "data": {
      "text/plain": [
       "PyObject <matplotlib.text.Text object at 0x329310c50>"
      ]
     },
     "execution_count": 4,
     "metadata": {},
     "output_type": "execute_result"
    }
   ],
   "source": [
    "b = rand(2)      # random red vector\n",
    "\n",
    "\n",
    "figure(figsize=(5,5))\n",
    "arrow(0,0,b[1],b[2],head_width=0.05, head_length=0.03,color=\"r\")\n",
    "text(b[1]+.03,b[2],\"b\",color=\"r\")\n",
    "plot([0,1.1],[0,1.1],\":\")\n",
    "axis([0,1.1,0,1.1]);\n",
    "\n",
    "a = ones(2)    # target direction\n",
    "x̂ = (a'b)/(a'a)\n",
    "p = a * x̂      # projection\n",
    "plot([b[1],p[1]],[b[2],p[2]],\":\")\n",
    "arrow(0,0,p[1],p[2],head_width=0.05, head_length=0.03)\n",
    "text(p[1]+.03,p[2],\"p=Pb=x̂a\")\n",
    "text(1.03,1.06,\"a\")"
   ]
  },
  {
   "cell_type": "markdown",
   "metadata": {},
   "source": [
    "Let us break this into steps\n",
    "\n",
    "1. Find $\\hat{x}$ \n",
    "2. Find $p$\n",
    "3. Find matrix $P$ such that $Pb=p$\n",
    "\n",
    "To do this form the \"error\" vector  $e = b - p = b - \\hat{x}a$ where $\\hat{x}$ is the unknown.  We choose $\\hat{x}$ specifically to make $e \\perp a$.\n",
    "\n",
    "We want $a \\cdot (b-\\hat{x}a) = 0$ (where $\\cdot$ denotes the dot product) so that \n",
    "\n",
    "1. $\\hat{x} = (a \\cdot b)/(a \\cdot a) = (a^Tb)/(a^Ta) $  we then have\n",
    "2. $p = \\hat{x}a = a\\hat{x} = a (a^Tb)/(a^Ta)$\n",
    "3. $Pb = a (a^Tb)/(a^Ta)$ gives $P = (aa^T)/(a^Ta)$\n",
    "\n",
    "Example:"
   ]
  },
  {
   "cell_type": "code",
   "execution_count": 5,
   "metadata": {
    "collapsed": false
   },
   "outputs": [
    {
     "data": {
      "text/plain": [
       "2×2 Array{Float64,2}:\n",
       " 0.5  0.5\n",
       " 0.5  0.5"
      ]
     },
     "execution_count": 5,
     "metadata": {},
     "output_type": "execute_result"
    }
   ],
   "source": [
    "P = (a*a')/(a'a)"
   ]
  },
  {
   "cell_type": "code",
   "execution_count": 6,
   "metadata": {
    "collapsed": false
   },
   "outputs": [
    {
     "data": {
      "text/html": [],
      "text/plain": [
       "Interact.Slider{Int64}(Signal{Int64}(2, nactions=1),\"\",2,1:15,\"horizontal\",true,\"d\",true)"
      ]
     },
     "metadata": {},
     "output_type": "display_data"
    },
    {
     "data": {
      "text/plain": [
       "2×2 Array{Rational{Int64},2}:\n",
       " 1//2  1//2\n",
       " 1//2  1//2"
      ]
     },
     "execution_count": 6,
     "metadata": {
      "comm_id": "f3733903-cde7-4d0b-ba65-93e75acac018",
      "reactive": true
     },
     "output_type": "execute_result"
    }
   ],
   "source": [
    "@manipulate for n=slider(1:15,value=2)\n",
    "    a = ones(Rational,n)\n",
    "    P = (a*a')/(a'a)\n",
    "end"
   ]
  },
  {
   "cell_type": "markdown",
   "metadata": {},
   "source": [
    "In the special case of a being the ones vector, $\\hat{x}$ is the mean of $b$.  If only one number is used to\n",
    "summarize a large data vector $b$, it is commonly the mean."
   ]
  },
  {
   "cell_type": "markdown",
   "metadata": {},
   "source": [
    "Now consider more general $a$."
   ]
  },
  {
   "cell_type": "code",
   "execution_count": 7,
   "metadata": {
    "collapsed": false
   },
   "outputs": [
    {
     "data": {
      "image/png": "[encoded data removed]",
      "text/plain": [
       "PyPlot.Figure(PyObject <matplotlib.figure.Figure object at 0x329310e90>)"
      ]
     },
     "metadata": {},
     "output_type": "display_data"
    },
    {
     "data": {
      "text/plain": [
       "PyObject <matplotlib.text.Text object at 0x3296e27d0>"
      ]
     },
     "execution_count": 7,
     "metadata": {},
     "output_type": "execute_result"
    }
   ],
   "source": [
    "b = rand(2)                       # random red vector\n",
    "a = rand(2); a *= 1.1/maximum(a)  # target direction\n",
    "P = (a*a')/a'a\n",
    "p = P*b\n",
    "\n",
    "figure(figsize=(5,5))\n",
    "arrow(0,0,b[1],b[2],head_width=0.05, head_length=0.03,color=\"r\")\n",
    "text(b[1]+.03,b[2],\"b\",color=\"r\")\n",
    "plot([0,a[1]],[0,a[2]],\":\")\n",
    "axis([0,1.1,0,1.1]);\n",
    "\n",
    "plot([b[1],p[1]],[b[2],p[2]],\":\")\n",
    "arrow(0,0,p[1],p[2],head_width=0.05, head_length=0.03)\n",
    "text(p[1]+.03,p[2],\"p=Pb=x̂a\")\n",
    "text(a[1]+.03,a[2],\"a\")"
   ]
  },
  {
   "cell_type": "code",
   "execution_count": 8,
   "metadata": {
    "collapsed": false
   },
   "outputs": [
    {
     "data": {
      "text/plain": [
       "2×2 Array{Float64,2}:\n",
       " 0.999947    0.00729359\n",
       " 0.00729359  5.31993e-5"
      ]
     },
     "metadata": {},
     "output_type": "display_data"
    },
    {
     "data": {
      "text/plain": [
       "2×2 Array{Float64,2}:\n",
       " 0.999947    0.00729359\n",
       " 0.00729359  5.31993e-5"
      ]
     },
     "metadata": {},
     "output_type": "display_data"
    },
    {
     "data": {
      "text/plain": [
       "2×2 Array{Float64,2}:\n",
       " 0.999947    0.00729359\n",
       " 0.00729359  5.31993e-5"
      ]
     },
     "metadata": {},
     "output_type": "display_data"
    }
   ],
   "source": [
    "# Powers of P remain equal.  Explain why geometrically?\n",
    "# Answer: once you project, projecting again keeps you where you were\n",
    "display(P)\n",
    "display(P^2)\n",
    "display(P^3)"
   ]
  },
  {
   "cell_type": "markdown",
   "metadata": {
    "collapsed": true
   },
   "source": [
    "Relationship to least squares:"
   ]
  },
  {
   "cell_type": "code",
   "execution_count": 9,
   "metadata": {
    "collapsed": false
   },
   "outputs": [
    {
     "data": {
      "text/plain": [
       "1×1 Array{Float64,2}:\n",
       " 0.770082"
      ]
     },
     "execution_count": 9,
     "metadata": {},
     "output_type": "execute_result"
    }
   ],
   "source": [
    " x̂= (a'b)/(a'a)"
   ]
  },
  {
   "cell_type": "code",
   "execution_count": 10,
   "metadata": {
    "collapsed": false
   },
   "outputs": [
    {
     "data": {
      "text/plain": [
       "1-element Array{Float64,1}:\n",
       " 0.770082"
      ]
     },
     "execution_count": 10,
     "metadata": {},
     "output_type": "execute_result"
    }
   ],
   "source": [
    "a\\b"
   ]
  },
  {
   "cell_type": "markdown",
   "metadata": {},
   "source": [
    "## Projection on a subspace"
   ]
  },
  {
   "cell_type": "code",
   "execution_count": 11,
   "metadata": {
    "collapsed": false
   },
   "outputs": [
    {
     "data": {
      "text/plain": [
       "5×3 Array{Float64,2}:\n",
       " 0.857652  0.517855   0.280477\n",
       " 0.418829  0.556069   0.964192\n",
       " 0.376845  0.64954    0.692936\n",
       " 0.839149  0.0958249  0.297049\n",
       " 0.533046  0.988303   0.900709"
      ]
     },
     "execution_count": 11,
     "metadata": {},
     "output_type": "execute_result"
    }
   ],
   "source": [
    "A = rand(5, 3) # consider the subspace spanned by the columns of A"
   ]
  },
  {
   "cell_type": "code",
   "execution_count": 12,
   "metadata": {
    "collapsed": false
   },
   "outputs": [
    {
     "data": {
      "text/plain": [
       "5-element Array{Float64,1}:\n",
       " 0.65487 \n",
       " 0.536363\n",
       " 0.847276\n",
       " 0.527487\n",
       " 0.667052"
      ]
     },
     "execution_count": 12,
     "metadata": {},
     "output_type": "execute_result"
    }
   ],
   "source": [
    "b = rand(5)"
   ]
  },
  {
   "cell_type": "markdown",
   "metadata": {},
   "source": [
    "Our problem\n",
    "1. Find the vector $p$ that is in the column space of $A$ that is closest to $b$\n",
    "2.  Project $b$ onto the column space of $A$"
   ]
  },
  {
   "cell_type": "markdown",
   "metadata": {},
   "source": [
    "\n",
    "Find the linear combination of the columns of ($m \\times n$) $A$ closest to $b$\n",
    "\n",
    "In other words, find an $\\hat{x}$ in $\\Re^n$ such that $A\\hat{x}$ is closest to $b$.\n",
    "\n",
    "How do we find $\\hat{x}$?  Idea is the same as the line. Make $e=b-A\\hat{x} \\perp $ to every column of $A$:\n",
    "\n",
    "$A^T(b-A\\hat{x})=0$ is equivalent to the first column of $A$ is orthogonal to $e$, and the second column is orthogonal to $e$, ..., and the last column of $A$ is orthogonal to $A$.\n",
    "\n",
    "$A^TA\\hat{x} = A^Tb$. (known as the **normal equations**)"
   ]
  },
  {
   "cell_type": "markdown",
   "metadata": {},
   "source": [
    "1. $\\hat{x} = (A^TA)^{-1}A^Tb$\n",
    "2. $p = A\\hat{x} = A(A^TA)^{-1}A^Tb$\n",
    "3. $P =A(A^TA)^{-1}A^T $ (is the projection matrix)\n"
   ]
  },
  {
   "cell_type": "markdown",
   "metadata": {},
   "source": [
    "Some examples"
   ]
  },
  {
   "cell_type": "code",
   "execution_count": 13,
   "metadata": {
    "collapsed": false
   },
   "outputs": [
    {
     "data": {
      "text/plain": [
       "5×3 Array{Float64,2}:\n",
       " 0.857652  0.517855   0.280477\n",
       " 0.418829  0.556069   0.964192\n",
       " 0.376845  0.64954    0.692936\n",
       " 0.839149  0.0958249  0.297049\n",
       " 0.533046  0.988303   0.900709"
      ]
     },
     "execution_count": 13,
     "metadata": {},
     "output_type": "execute_result"
    }
   ],
   "source": [
    "A"
   ]
  },
  {
   "cell_type": "code",
   "execution_count": 14,
   "metadata": {
    "collapsed": false
   },
   "outputs": [
    {
     "data": {
      "text/plain": [
       "5×5 Array{Float64,2}:\n",
       "  0.680624   -0.275029   0.0718287   0.273674    0.24835 \n",
       " -0.275029    0.726659   0.227343    0.235613    0.125645\n",
       "  0.0718287   0.227343   0.233565   -0.0612794   0.344112\n",
       "  0.273674    0.235613  -0.0612794   0.765488   -0.212956\n",
       "  0.24835     0.125645   0.344112   -0.212956    0.593663"
      ]
     },
     "execution_count": 14,
     "metadata": {},
     "output_type": "execute_result"
    }
   ],
   "source": [
    "P = A * inv(A'A) * A'"
   ]
  },
  {
   "cell_type": "code",
   "execution_count": 15,
   "metadata": {
    "collapsed": false
   },
   "outputs": [
    {
     "data": {
      "text/plain": [
       "5×5 Array{Float64,2}:\n",
       "  0.680624   -0.275029   0.0718287   0.273674    0.24835 \n",
       " -0.275029    0.726659   0.227343    0.235613    0.125645\n",
       "  0.0718287   0.227343   0.233565   -0.0612794   0.344112\n",
       "  0.273674    0.235613  -0.0612794   0.765488   -0.212956\n",
       "  0.24835     0.125645   0.344112   -0.212956    0.593663"
      ]
     },
     "execution_count": 15,
     "metadata": {},
     "output_type": "execute_result"
    }
   ],
   "source": [
    "P^10"
   ]
  },
  {
   "cell_type": "code",
   "execution_count": 16,
   "metadata": {
    "collapsed": false
   },
   "outputs": [
    {
     "data": {
      "text/plain": [
       "5-element Array{Float64,1}:\n",
       " 0.458361\n",
       " 0.601126\n",
       " 0.721415\n",
       " 0.940134\n",
       " 0.816022"
      ]
     },
     "execution_count": 16,
     "metadata": {},
     "output_type": "execute_result"
    }
   ],
   "source": [
    "b = rand(5)"
   ]
  },
  {
   "cell_type": "code",
   "execution_count": 17,
   "metadata": {
    "collapsed": false
   },
   "outputs": [
    {
     "data": {
      "text/plain": [
       "5-element Array{Float64,1}:\n",
       " 0.658412\n",
       " 0.798797\n",
       " 0.561274\n",
       " 0.768752\n",
       " 0.721845"
      ]
     },
     "execution_count": 17,
     "metadata": {},
     "output_type": "execute_result"
    }
   ],
   "source": [
    "p = P*b"
   ]
  },
  {
   "cell_type": "code",
   "execution_count": 18,
   "metadata": {
    "collapsed": false
   },
   "outputs": [
    {
     "data": {
      "text/plain": [
       "5-element Array{Float64,1}:\n",
       "  0.200051\n",
       "  0.197671\n",
       " -0.16014 \n",
       " -0.171382\n",
       " -0.094177"
      ]
     },
     "execution_count": 18,
     "metadata": {},
     "output_type": "execute_result"
    }
   ],
   "source": [
    "e = p - b"
   ]
  },
  {
   "cell_type": "code",
   "execution_count": 19,
   "metadata": {
    "collapsed": false
   },
   "outputs": [
    {
     "data": {
      "text/plain": [
       "3-element Array{Float64,1}:\n",
       " -1.49186e-15\n",
       " -1.22125e-15\n",
       " -1.67921e-15"
      ]
     },
     "execution_count": 19,
     "metadata": {},
     "output_type": "execute_result"
    }
   ],
   "source": [
    "A'e"
   ]
  },
  {
   "cell_type": "code",
   "execution_count": 20,
   "metadata": {
    "collapsed": false
   },
   "outputs": [
    {
     "data": {
      "text/plain": [
       "3-element Array{Float64,1}:\n",
       "  0.707741\n",
       " -0.265997\n",
       "  0.674437"
      ]
     },
     "execution_count": 20,
     "metadata": {},
     "output_type": "execute_result"
    }
   ],
   "source": [
    "x̂ =  inv(A'A)*A'b"
   ]
  },
  {
   "cell_type": "code",
   "execution_count": 21,
   "metadata": {
    "collapsed": false
   },
   "outputs": [
    {
     "data": {
      "text/plain": [
       "3-element Array{Float64,1}:\n",
       "  0.707741\n",
       " -0.265997\n",
       "  0.674437"
      ]
     },
     "execution_count": 21,
     "metadata": {},
     "output_type": "execute_result"
    }
   ],
   "source": [
    "A\\b # in matlab and in julia, to solve the least squares system\n",
    "# Ax=b for the best vector x̂, type A\\b"
   ]
  },
  {
   "cell_type": "markdown",
   "metadata": {},
   "source": [
    "## Math: $(A^TA)$ is invertible when $A$ has linearly independent columns"
   ]
  },
  {
   "cell_type": "markdown",
   "metadata": {},
   "source": [
    "Suppose that $A^TA$ is not invertible.  Then there is a nonzero x $x$ such that $A^TAx=0$.  Then\n",
    "$x^TA^TAx=0=\\|Ax\\|^2$.  Then $Ax=0$ meaning $A$ does not have linearly independent columns.\n",
    "Taking the contrapositive, if $A$ has linearly independent columns $A^TA$ is invertible.\n",
    "\n",
    "Note logically one should prove the converse too.  This is implied in the \"when.\" \n",
    "If $A$ does not have  linearly independent columns, there is a nonzero $x$ with $Ax=0$.\n",
    "Multiplying by $A^T$ we have $A^TAx$ is then $0$\n",
    "so $A^TA$ is not invertible.\n"
   ]
  },
  {
   "cell_type": "markdown",
   "metadata": {
    "collapsed": true
   },
   "source": [
    "## Briefly mentioned:\n",
    "\n",
    "* Chebychev Approximation = polynomial fitting = linear equations\n",
    "\n",
    "* Machine learning = nonlinear fitting = nonlinear equations\n",
    "\n",
    "* In high school stats classes , students are told to divide by $n-1$, not $n$, for sample variance.\n",
    "\n",
    "  - Some argument about degrees of freedom usually appeases the masses. In fact, the projection matrix `P = I - ones(n,n)/n` can be viewed as \"removing the mean\" or projection orthogonal to the \"ones\" vector. Removing the true mean creates a vector whose element squares have expectation $\\sigma^2$ and cross terms have expectation 0.\n",
    "\n",
    "  - You might check that the sample variance numerator is $\\|Pb\\|^2$. This is the same as $b^TPb$, which is readliy checked to have average\n",
    "$\\sigma^2$ times the sum of the diagonal elements of $P$, which is  $n \\times \\left( 1-\\frac{1}{n}\\right)=n-1$.\n",
    "    "
   ]
  }
 ],
 "metadata": {
  "kernelspec": {
   "display_name": "Julia 0.5.0",
   "language": "julia",
   "name": "julia-0.5"
  },
  "language_info": {
   "file_extension": ".jl",
   "mimetype": "application/julia",
   "name": "julia",
   "version": "0.5.0"
  },
  "widgets": {
   "state": {
    "fe29c940-49a2-4f03-9b57-b95c7d087987": {
     "views": [
      {
       "cell_index": 8
      }
     ]
    }
   },
   "version": "1.2.0"
  }
 },
 "nbformat": 4,
 "nbformat_minor": 2
}
